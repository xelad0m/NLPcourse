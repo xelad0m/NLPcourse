{
 "cells": [
  {
   "cell_type": "markdown",
   "metadata": {},
   "source": [
    "# Transformer, Self-Attention и моделирование языка\n",
    "\n",
    "Если все пересчитывать, это (2.5 + 12+) часов"
   ]
  },
  {
   "cell_type": "code",
   "execution_count": 1,
   "metadata": {},
   "outputs": [],
   "source": [
    "QUICK_RUN = True"
   ]
  },
  {
   "cell_type": "code",
   "execution_count": 2,
   "metadata": {
    "ExecuteTime": {
     "end_time": "2019-11-05T18:27:04.225361Z",
     "start_time": "2019-11-05T18:27:04.223470Z"
    }
   },
   "outputs": [],
   "source": [
    "# Если Вы запускаете ноутбук на colab или kaggle,\n",
    "# выполните следующие строчки, чтобы подгрузить библиотеку dlnlputils:\n",
    "\n",
    "# !git clone https://github.com/Samsung-IT-Academy/stepik-dl-nlp.git && pip install -r stepik-dl-nlp/requirements.txt\n",
    "# import sys; sys.path.append('./stepik-dl-nlp')"
   ]
  },
  {
   "cell_type": "code",
   "execution_count": 3,
   "metadata": {
    "ExecuteTime": {
     "end_time": "2019-11-05T18:27:53.780539Z",
     "start_time": "2019-11-05T18:27:52.444607Z"
    }
   },
   "outputs": [],
   "source": [
    "%load_ext autoreload\n",
    "%autoreload 2\n",
    "\n",
    "import warnings\n",
    "warnings.filterwarnings('ignore')\n",
    "\n",
    "import matplotlib.pyplot as plt\n",
    "%matplotlib inline\n",
    "\n",
    "import numpy as np\n",
    "\n",
    "import torch\n",
    "from torch import nn\n",
    "from torch.nn import functional as F\n",
    "\n",
    "import youtokentome as yttm\n",
    "\n",
    "import dlnlputils\n",
    "from dlnlputils.data import tokenize_corpus, build_vocabulary, \\\n",
    "    save_texts_to_file, LanguageModelDataset, load_war_and_piece_chunks, \\\n",
    "    GreedyGenerator, BeamGenerator\n",
    "from dlnlputils.pipeline import train_eval_loop, init_random_seed\n",
    "from dlnlputils.base import get_params_number\n",
    "\n",
    "init_random_seed()"
   ]
  },
  {
   "cell_type": "markdown",
   "metadata": {},
   "source": [
    "## Загрузка текстов и разбиение на обучающую и тестовую подвыборки\n",
    "\n",
    "При загрузке текста мы читаем весь его в память, а потом нарезаем на кусочки размером в 200 символов. Таким образом мы получим набор небольших фрагментов текста, но, при этом, длина каждого фрагмента будет больше, чем длина отдельного предложения. \n",
    "\n",
    "Современные языковые модели работают с более длинными последовательностями, поэтому общепринятая схема — это \"не выполнять разбиение текста на отдельные предложения перед подачей их в языковую модель\". "
   ]
  },
  {
   "cell_type": "code",
   "execution_count": 4,
   "metadata": {
    "ExecuteTime": {
     "end_time": "2019-11-05T18:27:55.233798Z",
     "start_time": "2019-11-05T18:27:55.197616Z"
    }
   },
   "outputs": [
    {
     "data": {
      "text/plain": [
       "7976"
      ]
     },
     "execution_count": 4,
     "metadata": {},
     "output_type": "execute_result"
    }
   ],
   "source": [
    "# Если Вы запускаете ноутбук на colab или kaggle, добавьте в начало пути ./stepik-dl-nlp\n",
    "all_chunks = load_war_and_piece_chunks('./datasets/war_and_peace.txt')\n",
    "len(all_chunks)"
   ]
  },
  {
   "cell_type": "markdown",
   "metadata": {},
   "source": [
    "- пример фрагмента"
   ]
  },
  {
   "cell_type": "code",
   "execution_count": 5,
   "metadata": {
    "ExecuteTime": {
     "end_time": "2019-11-05T18:27:55.402080Z",
     "start_time": "2019-11-05T18:27:55.379575Z"
    }
   },
   "outputs": [
    {
     "name": "stdout",
     "output_type": "stream",
     "text": [
      "у нее был грипп, как она говорила (грипп был тогда новое\n",
      "слово, употреблявшееся только редкими). В записочках, разосланных утром с\n",
      "красным лакеем, было написано без различия во всех:\n",
      "  \"Si vous n'avez\n"
     ]
    }
   ],
   "source": [
    "print(all_chunks[10])"
   ]
  },
  {
   "cell_type": "markdown",
   "metadata": {},
   "source": [
    "- обучающая и тестовая выборки 70/30"
   ]
  },
  {
   "cell_type": "code",
   "execution_count": 6,
   "metadata": {
    "ExecuteTime": {
     "end_time": "2019-11-05T18:27:55.954154Z",
     "start_time": "2019-11-05T18:27:55.919185Z"
    }
   },
   "outputs": [
    {
     "name": "stdout",
     "output_type": "stream",
     "text": [
      "Размер обучающей выборки 5583\n",
      "Размер валидационной выборки 2393\n"
     ]
    }
   ],
   "source": [
    "np.random.shuffle(all_chunks)\n",
    "\n",
    "TRAIN_SPLIT = int(len(all_chunks) * 0.7)\n",
    "train_texts = all_chunks[:TRAIN_SPLIT]\n",
    "test_texts = all_chunks[TRAIN_SPLIT:]\n",
    "\n",
    "print('Размер обучающей выборки', len(train_texts))\n",
    "print('Размер валидационной выборки', len(test_texts))"
   ]
  },
  {
   "cell_type": "markdown",
   "metadata": {},
   "source": [
    "## Токенизация корпуса с помощью BPE\n",
    "\n",
    "BPE - Byte Pair Encoding\n",
    "\n",
    "- Современные языковые модели работают, как правило, не с целыми токенами. Они работают с фрагментами слов, или, так называемыми \"sub-word units\" (по сути, это N-граммы символов). \n",
    "- Поэтому для токенизации мы используем не классический токенизатор с помощью регулярных выражений или каких-то других правил (например, как те которые мы использовали в предыдущих семинарах). Здесь мы используем алгоритм \"byte pair encoding\".\n",
    "- Такой алгоритм позволяет получить нечто среднее между алгоритмами, работающими на уровне отдельных токенов, и на уровне отдельных символов. \n",
    "- Когда мы работаем с отдельными символами, у нас алфавит маленький, то есть решать задачу классификации нам попроще, но длина последовательностей растёт и поэтому нам нужно строить модели, которые умеют запоминать далёкие зависимости. Это достаточно сложно. \n",
    "- Наоборот, если мы работаем с отдельными токенами, то последовательности у нас гораздо короче. Но, с другой стороны, словарь у нас разрастается очень быстро (нам нужно уметь предсказывать каждый отдельный токен, а токенов очень много — гораздо больше, чем символов). \n",
    "\n",
    "**YouTokenToMe - быстрая реализация BPE** \n",
    "- разработка ВКонтакте, \n",
    "- написана на плюсах с бустом\n",
    "- является **самой быстрой** реализацией byte pair encoding (в основном, за счет умной многопоточности, но и алгоритмическая ассимптотика тоже, извините, $O(N)$). **Короче, красаучики**! \n",
    "- к питону биндинги + cli\n",
    "  - поэтому работает через файлы, а не объекты питона"
   ]
  },
  {
   "cell_type": "code",
   "execution_count": 7,
   "metadata": {
    "ExecuteTime": {
     "end_time": "2019-11-05T18:27:56.412237Z",
     "start_time": "2019-11-05T18:27:56.386089Z"
    }
   },
   "outputs": [],
   "source": [
    "# Если Вы запускаете ноутбук на colab или kaggle, добавьте в начало пути ./stepik-dl-nlp\n",
    "BPE_MODEL_FILENAME = './models/war_and_peace_bpe.yttm'"
   ]
  },
  {
   "cell_type": "markdown",
   "metadata": {},
   "source": [
    "- `save_texts_to_file` просто собирает в один файл тренировочные нарезки исходного текста\n",
    "- `train` берет обучающий файл, считает счетчики, строит словарь замен, короче обучается, и складывает это все в файл `model`\n",
    "\n",
    "Ключевой параметр `vocab_size`:\n",
    "- определяет, что мы получим, более длинные последовательности, но меньший словарь, или более короткие последовательности, но более крупный словарь\n",
    "- чем больше словарь, тем больше будет редких классов — это будет создавать нам некоторые сложности при обучении"
   ]
  },
  {
   "cell_type": "code",
   "execution_count": 8,
   "metadata": {
    "ExecuteTime": {
     "end_time": "2019-11-05T18:27:56.928780Z",
     "start_time": "2019-11-05T18:27:56.696400Z"
    }
   },
   "outputs": [
    {
     "name": "stderr",
     "output_type": "stream",
     "text": [
      "Training parameters\n",
      "  input: ./datasets/war_and_peace_bpe_train.txt\n",
      "  model: ./models/war_and_peace_bpe.yttm\n",
      "  vocab_size: 1000\n",
      "  n_threads: 4\n",
      "  character_coverage: 1\n",
      "  pad: 0\n",
      "  unk: 1\n",
      "  bos: 2\n",
      "  eos: 3\n",
      "\n",
      "reading file...\n",
      "learning bpe...\n",
      "number of unique characters in the training data: 142\n",
      "number of deleted characters: 0\n",
      "number of unique characters left: 142\n",
      "model saved to: ./models/war_and_peace_bpe.yttm\n"
     ]
    }
   ],
   "source": [
    "# Если Вы запускаете ноутбук на colab или kaggle, добавьте в начало пути ./stepik-dl-nlp\n",
    "TRAIN_TEXTS_FILENAME = './datasets/war_and_peace_bpe_train.txt'\n",
    "save_texts_to_file(train_texts, TRAIN_TEXTS_FILENAME)\n",
    "yttm.BPE.train(data=TRAIN_TEXTS_FILENAME, vocab_size=1000, model=BPE_MODEL_FILENAME);"
   ]
  },
  {
   "cell_type": "markdown",
   "metadata": {},
   "source": [
    "Когда модель обучена, мы создаём экземпляр класса \"bpe\" и передаём туда путь к файлу с обученной моделью"
   ]
  },
  {
   "cell_type": "code",
   "execution_count": 9,
   "metadata": {
    "ExecuteTime": {
     "end_time": "2019-11-05T18:27:57.767294Z",
     "start_time": "2019-11-05T18:27:57.731252Z"
    }
   },
   "outputs": [],
   "source": [
    "tokenizer = yttm.BPE(BPE_MODEL_FILENAME)"
   ]
  },
  {
   "cell_type": "markdown",
   "metadata": {},
   "source": [
    "Фактически BPE решает задачу \"Пожалуйста, выдели нам 1000 наиболее характерных N-грамм через byte pair encoding\". Вот же они:\n",
    "- служебные токены  (заполнитель, начало/конец строки)\n",
    "- включает все символы\n",
    "- наиболее частые биграммы, триграммы\n",
    "- дальше в 1000 токенов попали также имена собственные (▁Пьера ▁Ростов и т.д.) - это скорее всего не есть хорошо, и явно слишком специфические последовательности:\n",
    "  - Скорее всего, это сигнал к тому, что можно сделать словарь поменьше для нашей модели. Но это не так очевидно, нужно смотреть на метрики на отложенной выборке, чтобы выбрать правильный размер словаря. "
   ]
  },
  {
   "cell_type": "code",
   "execution_count": 10,
   "metadata": {
    "ExecuteTime": {
     "end_time": "2019-11-05T18:27:57.897826Z",
     "start_time": "2019-11-05T18:27:57.874631Z"
    }
   },
   "outputs": [
    {
     "name": "stdout",
     "output_type": "stream",
     "text": [
      "<PAD> <UNK> <BOS> <EOS> ▁ о а е и н т с л р в к , д м у п я г ь ы з б . ч й - ж ш e х ю s ц a n r i u o t щ э П l Н ф А В m d c О ? ! К Д Б p М v Р \" ) С ( ' ; И Т ё 1 h : Я 2 q f Г ъ b g Ч Э 0 3 Е 5 ] [ j 4 I z Л З 6 8 M A 9 7 У Ж V L x X Ф Ш y C Х J B P D E N S k Ц R Q O T ` w Ю H U F G K Ь W Й * & # Щ Z / ▁с ▁п ▁в ▁н то ▁о ▁и ▁к го ал ра ст но ▁- ▁по ен ▁д ер ел ▁б ро ▁не ко во ка ▁ч ▁м ри ▁на ло ть на ли ла ▁з ▁е ▁у ▁т ре ва ни ся сь ак ▁что ру ет ▁ко ▁бы ми ны ня да ▁то ди хо ▁за ▁го ем ▁г ▁он ол ени ▁от ки ви ну каз е, ▁э та ▁П ти ши ▁при ▁вы ▁ра му ▁Н ▁ж ов ▁вс ле ▁А до ▁В ▁про ▁мо ля ▁как мо ▁во казал ры ▁его ма ▁об сто ▁это ль й, ▁сказал ере не ▁а ▁до ▁О ▁я ▁К ▁кото ▁сво ▁кня ▁Д м, у, ше ▁Б али по чи ▁но сти ▁ни си ча ста ель ▁из ве лу ала де ▁Ан вори ▁М ▁под ▁ка ▁d .. ша ... за ска жи ще es я, лся ▁со че лы зь сть ско ou ▁ли ▁хо ▁ви ▁ст ень ▁ру ря енно ▁Пь ▁так ме ты ▁p ▁Р ги га дел лю сно re же ▁раз ▁( со те ду ку ▁се ски ▁c ▁С ▁ва вши ▁все тель бе en вал ▁l ▁дру ▁было ▁И on ▁говори ▁пос гда ту ▁сто ели щи ать лько ▁бу вы ▁Пьер ▁пере ▁Ро дре ▁ему ▁Т дно ▁пре ▁Андре ▁a вер ю, би ство ез ▁са ▁ф вая ▁Росто ▁Он ▁зна ар сп ▁она ▁которы а, ▁сп ▁m ▁был ▁же ▁всё ▁гла чал сь, бо ды ▁ми ▁те ву й. ▁ду er жени ▁голо х, ▁ве ▁(сно ▁князь ▁(сноска шел фи ба ▁лю ▁ста мот бы ▁лиц ▁бол ▁вз ▁На е. жа кой ▁Бо ть, ело ▁та енны ▁de ▁Я в, et го, нц ми, ▁s -то елов ai ▁си ало ▁да ▁гра ▁только т, ела гля ▁свое ▁ш ▁1 ▁оп м. ться ходи ▁буд qu са ха ▁которо жно ▁v гу ▁\" лов ▁ты шь ous ера ▁улы тельно ▁Кня ▁ее ▁еще ▁рас ▁n рем ▁ро вно ▁ме ▁Г к, пи ный нно ▁ре ▁пол ▁обра ▁им ▁qu ▁свои я. дь елове ▁и, жал фиц ясь ным ерь ▁челове ▁глаза оло ▁оста ▁Дени сов дя an ▁По ▁себ ▁слу па ▁ле ▁жи ▁боль су ▁для ▁ц ▁чу ка, ▁сказала ять ался аль e, ет, вля ▁Не рел ▁ло на, нул ▁Ч ▁ма лась бу ▁Э ▁t ман ей ▁была роси ▁него ск нцу ▁после гра ▁были ▁Ростов мы ▁эти ▁мне ▁сол ▁Андрей ▁офиц ▁врем ща ех ▁княз ▁х ▁бо ▁пер ▁говорил и, ri ▁он, нима ств ▁Е ▁мог ранцу ▁ком те, сту вать ▁дол н, le ят лись ▁бе ▁граф ▁Князь чень ▁вер ▁Доло ные шо ▁мы ▁сло ▁лицо ▁исп ▁[ ▁Долохо ва, чно ему ▁улыб ▁сдел ▁му ▁ча вор ▁пред ▁одно te ▁f зи перь ▁моло ▁2 ▁солда ▁мен руг ▁комна ▁смот нулся ца eu жет ения ▁et вет нов ражени ▁когда oi чего ▁стра ▁чтобы ▁Денисов ▁Ни ю. казы ▁хот ▁pa ки, зы ▁уже ▁кра ▁они ▁ба ▁хоро ались ком ного ▁Ва ▁пи вше дин ав се вст ▁друго ▁очень спо ▁францу ков лен ▁будто ▁вас ▁су ал, ▁княж ▁Ми ▁Но зна х. ▁который om ▁ту ▁перед ▁отве том нт ▁пра об ne ▁Ку est ▁од ▁пу ▁Она ▁Анна нови ▁теперь ▁опять ▁сов ная говори ▁Л ▁этого ▁де ▁Ната ▁vous ▁поло ▁стоя арь зов ▁гу ▁que ▁j ющи вой ▁воз ▁себя ной вство ных ение ▁дел ▁жен ем, нь ▁Что ▁мину стви ▁спроси ▁З дет ▁офицер ent ский ▁этот ку, ▁то, ▁кри ▁Марь лыш ▁ар ▁вп ▁ожи ▁ку зо ния ▁Во дол ми. ▁la ▁ch ▁le ▁Нико ▁поч ную ▁двер ▁подо ▁обе ▁коман сили ▁или ке л, ▁Это me ▁неп жели ▁вой у. ▁чем сте му, ние ют мал ▁ла ▁нес ▁разго ▁Мо вали is ▁Вы енер ▁Миха ▁взгля ▁которые ▁зак ▁сы il дар ▁меня он стро ▁M ую кры ее ▁продол ▁мал сы ▁пла вший кон ▁ничего друг ва. ▁Ба ▁Михай ▁сле ром жен ▁огля ▁види ▁дело ▁Бори ▁ша стоя ров ▁быть но, ся, ▁зам воль ▁Со our ▁себе пра ского ▁Никола ▁Куту кая ▁без казать ▁время ными вала in ▁друг на. ▁обрати ▁Как ▁что-то ▁Ну, ▁чи кий лаго ▁князя вл ▁их ▁Пав ▁сер ▁своего ▁вес ▁вот ▁Михайлов соб рая ▁бра ▁че ▁всех ниц ▁нас ▁жиз ais ▁свою ехал ▁Ко ▁каз ▁само кра ▁он. д, про ▁тем ▁молодо сколько ▁u ▁b ▁A ere дер ▁пе ▁команди вшись ▁останови ▁лоша сты ▁взя ▁генер ра, стно да, ▁доро us жд ▁может ▁Да ▁сидел ▁сторо ▁надо юще ▁тре ть. чь ▁ну ▁чувство ▁госу ▁Пьера ▁мол ▁малень ▁Наташа кое им ▁вдруг it ▁l' ли, мер ▁Багра вого ▁л ним ▁непри ▁други ▁спросил ▁будет ▁пото и. ▁своей ▁княги кого ez ▁Баграти ▁доб ▁па ▁люб жала ▁Ж пу ▁расс ▁арми ▁рука лось ▁Павлов ▁Васили ▁ок ▁видел ▁У оль дом ▁впере ▁начал ▁особ ▁где кто тер ▁вст шь, ▁сча ▁бле дал ▁mon жду ▁сме ▁прои ливо ▁вам ерез 'est вя ▁мой ▁Ту ▁рус ▁день ▁ши ▁ди ственно ▁g дро ▁улыба ▁дума ку. ▁лу ▁3 ▁кре ▁его. ете виц каза стя шая ▁отвечал ▁всегда цо ▁com ch ▁Пьер, ▁ско res шла жу ▁более ▁выражени ▁есть ны, ской ▁благо гла тя ▁сам ▁того, ▁вели ▁спо елы та, ▁сла ы,\n"
     ]
    }
   ],
   "source": [
    "print(' '.join(tokenizer.vocab()))"
   ]
  },
  {
   "cell_type": "markdown",
   "metadata": {},
   "source": [
    "Токенизирует пакетами (спасибо кэп)"
   ]
  },
  {
   "cell_type": "code",
   "execution_count": 11,
   "metadata": {
    "ExecuteTime": {
     "end_time": "2019-11-05T18:27:58.100551Z",
     "start_time": "2019-11-05T18:27:58.075268Z"
    },
    "scrolled": false
   },
   "outputs": [
    {
     "name": "stdout",
     "output_type": "stream",
     "text": [
      "[[210, 238, 244, 13, 317, 16, 147, 200, 12, 265, 35, 161, 337, 490, 203, 269, 447, 4, 111, 111, 96, 27, 415, 148, 176, 551, 201, 726, 199, 161, 848, 889, 772, 23, 16, 690, 179, 585, 18, 154, 412, 19, 382, 157, 186, 635, 10, 518, 774, 363, 670, 157, 793, 37, 7, 426, 791, 186, 635, 10, 518, 774, 650, 25, 988, 206, 186, 13, 201, 8, 149, 474, 17, 275, 31, 23, 8, 34, 444], [623, 274, 337, 317, 177, 743, 251, 217, 169, 569, 905, 573, 165, 293, 267, 439, 149, 200, 260, 623, 274, 337, 317, 177, 871, 277, 263, 19, 15, 11, 22, 7, 14, 17, 162, 381, 662, 161, 669, 394, 409, 13, 220, 9, 158, 186, 570, 793, 195, 384, 801, 175, 220, 18, 934, 23, 187, 169, 447, 281, 24, 363, 11, 229, 327, 205, 216, 348, 512, 273, 147, 422, 418, 216, 9, 164, 316]]\n",
      "['от восторга, с толпою побежал за ним. XXI. На площади куда поехал государь, стояли лицом к лицу справа батальон преображенцев, слева батальон французской гвардии в медвежьих ш', 'чтобы избегать или атаковать неприятеля, но только в том, чтобы избегать генерала Буксгевдена, который по праву старшинства должен бы был быть нашим начальником. Мы преследуем эту цель с такой энерги']\n"
     ]
    }
   ],
   "source": [
    "enc = tokenizer.encode(train_texts[:2])\n",
    "print(enc)\n",
    "print(tokenizer.decode(enc))"
   ]
  },
  {
   "cell_type": "code",
   "execution_count": 12,
   "metadata": {
    "ExecuteTime": {
     "end_time": "2019-11-05T18:27:59.729717Z",
     "start_time": "2019-11-05T18:27:59.551045Z"
    }
   },
   "outputs": [],
   "source": [
    "train_token_ids = tokenizer.encode(train_texts, bos=True, eos=True)\n",
    "test_token_ids = tokenizer.encode(test_texts, bos=True, eos=True)"
   ]
  },
  {
   "cell_type": "markdown",
   "metadata": {},
   "source": [
    "Посмотрим как оно:\n",
    "- исходные тексты были ровно по 200 символов\n",
    "- закодированные причудливо распределились в [60, 140] токенов\n",
    "  - мода примерно 80 (последовательности ужались более чем в 2 раза)"
   ]
  },
  {
   "cell_type": "code",
   "execution_count": 13,
   "metadata": {
    "ExecuteTime": {
     "end_time": "2019-11-05T18:28:00.401753Z",
     "start_time": "2019-11-05T18:27:59.731680Z"
    }
   },
   "outputs": [
    {
     "data": {
      "image/png": "[encoded data removed]",
      "text/plain": [
       "<Figure size 432x288 with 1 Axes>"
      ]
     },
     "metadata": {
      "needs_background": "light"
     },
     "output_type": "display_data"
    }
   ],
   "source": [
    "plt.hist([len(sent) for sent in train_token_ids], bins=30)\n",
    "plt.title('Распределение длин фрагментов в токенах')\n",
    "plt.yscale('log');"
   ]
  },
  {
   "cell_type": "markdown",
   "metadata": {},
   "source": [
    "Частотность новых BPE-токенов - похожа на распределение Ципфа, значит все ОК"
   ]
  },
  {
   "cell_type": "code",
   "execution_count": 14,
   "metadata": {
    "ExecuteTime": {
     "end_time": "2019-11-05T18:28:01.153867Z",
     "start_time": "2019-11-05T18:28:00.404320Z"
    }
   },
   "outputs": [
    {
     "data": {
      "image/png": "[encoded data removed]",
      "text/plain": [
       "<Figure size 432x288 with 1 Axes>"
      ]
     },
     "metadata": {
      "needs_background": "light"
     },
     "output_type": "display_data"
    }
   ],
   "source": [
    "token_counts = np.bincount([token_id for text in train_token_ids for token_id in text])\n",
    "plt.hist(token_counts, bins=100)\n",
    "plt.title('Распределение количества упоминаний токенов')\n",
    "plt.yscale('log');"
   ]
  },
  {
   "cell_type": "markdown",
   "metadata": {},
   "source": [
    "А вдруг в тестовой выборке окажутся токены, которых нет в обучающей выборке?\n",
    "- нет, таких не оказалось\n",
    "- **может быть**, какие-то длинные N-граммы мы там не нашли\n",
    "- **зато** мы смогли эти длинные N-граммы разбить на более мелкие\n",
    "- **всё равно**, все символы у нас так или иначе нашлись в словаре\n",
    "\n",
    "Таким образом, когда у нас в новом тексте встречаются только неизвестные слова, то BPE просто деградирует до character-level, то есть наша модель просто становится моделью на уровне отдельных символов. Это, конечно, посложнее, но она не перестаёт работать.\n",
    "\n",
    "Т.е. даже если и на уровне символов появятся неизвестные токены, то токенизатор при декодировании их заменит на спецсимвол `<UNK>`, так что никакого криминала"
   ]
  },
  {
   "cell_type": "code",
   "execution_count": 15,
   "metadata": {
    "ExecuteTime": {
     "end_time": "2019-11-05T18:28:01.204527Z",
     "start_time": "2019-11-05T18:28:01.156884Z"
    }
   },
   "outputs": [
    {
     "name": "stdout",
     "output_type": "stream",
     "text": [
      "Количество случаев с неизвестными n-граммами символов в валидационной выборке 0\n"
     ]
    }
   ],
   "source": [
    "unknown_subwords_in_test = sum(1 for text in test_token_ids for token_id in text if token_id == 1)\n",
    "print('Количество случаев с неизвестными n-граммами символов в валидационной выборке',\n",
    "      unknown_subwords_in_test)"
   ]
  },
  {
   "cell_type": "markdown",
   "metadata": {},
   "source": [
    "## Подготовка датасетов для PyTorch\n",
    "\n",
    "- `LanguageModelDataset` принимает список токенизированных предложений, выдает данные по индексу\n",
    "  - выбирает случайный фрагмент заданной длины\n",
    "  - выдает двумя переменными: все кроме последнего токена (вход модели), все кроме первого токена (таргет)\n",
    "    - т.о. токен `target[i]` модель должна научиться предсказывать по фрагменту `chunk[:i-1]`\n",
    "    - *надо ли так размножать фрагменты, если это просто сдвиг на 1 токен?*"
   ]
  },
  {
   "cell_type": "code",
   "execution_count": 16,
   "metadata": {
    "ExecuteTime": {
     "end_time": "2019-11-05T18:28:02.980335Z",
     "start_time": "2019-11-05T18:28:02.938616Z"
    }
   },
   "outputs": [],
   "source": [
    "CHUNK_LENGTH = 80\n",
    "\n",
    "train_dataset = LanguageModelDataset(train_token_ids,\n",
    "                                     chunk_length=CHUNK_LENGTH)\n",
    "test_dataset = LanguageModelDataset(test_token_ids,\n",
    "                                    chunk_length=CHUNK_LENGTH)"
   ]
  },
  {
   "cell_type": "code",
   "execution_count": 17,
   "metadata": {
    "ExecuteTime": {
     "end_time": "2019-11-05T18:28:03.085890Z",
     "start_time": "2019-11-05T18:28:03.061652Z"
    },
    "scrolled": false
   },
   "outputs": [
    {
     "data": {
      "text/plain": [
       "(array([  2, 210, 238, 244,  13, 317,  16, 147, 200,  12, 265,  35, 161,\n",
       "        337, 490, 203, 269, 447,   4, 111, 111,  96,  27, 415, 148, 176,\n",
       "        551, 201, 726, 199, 161, 848, 889, 772,  23,  16, 690, 179, 585,\n",
       "         18, 154, 412,  19, 382, 157, 186, 635,  10, 518, 774, 363, 670,\n",
       "        157, 793,  37,   7, 426, 791, 186, 635,  10, 518, 774, 650,  25,\n",
       "        988, 206, 186,  13, 201,   8, 149, 474,  17, 275,  31,  23,   8,\n",
       "         34, 444]),\n",
       " array([210, 238, 244,  13, 317,  16, 147, 200,  12, 265,  35, 161, 337,\n",
       "        490, 203, 269, 447,   4, 111, 111,  96,  27, 415, 148, 176, 551,\n",
       "        201, 726, 199, 161, 848, 889, 772,  23,  16, 690, 179, 585,  18,\n",
       "        154, 412,  19, 382, 157, 186, 635,  10, 518, 774, 363, 670, 157,\n",
       "        793,  37,   7, 426, 791, 186, 635,  10, 518, 774, 650,  25, 988,\n",
       "        206, 186,  13, 201,   8, 149, 474,  17, 275,  31,  23,   8,  34,\n",
       "        444,   3]))"
      ]
     },
     "execution_count": 17,
     "metadata": {},
     "output_type": "execute_result"
    }
   ],
   "source": [
    "train_dataset[0]"
   ]
  },
  {
   "cell_type": "code",
   "execution_count": 18,
   "metadata": {
    "ExecuteTime": {
     "end_time": "2019-11-05T18:28:03.260915Z",
     "start_time": "2019-11-05T18:28:03.219571Z"
    }
   },
   "outputs": [
    {
     "data": {
      "text/plain": [
       "['<BOS> от восторга, с толпою побежал за ним. XXI. На площади куда поехал государь, стояли лицом к лицу справа батальон преображенцев, слева батальон французской гвардии в медвежьих ш',\n",
       " 'от восторга, с толпою побежал за ним. XXI. На площади куда поехал государь, стояли лицом к лицу справа батальон преображенцев, слева батальон французской гвардии в медвежьих ш<EOS>']"
      ]
     },
     "execution_count": 18,
     "metadata": {},
     "output_type": "execute_result"
    }
   ],
   "source": [
    "tokenizer.decode(list(train_dataset[0]))"
   ]
  },
  {
   "cell_type": "markdown",
   "metadata": {},
   "source": [
    "## Общие классы и функции"
   ]
  },
  {
   "cell_type": "markdown",
   "metadata": {},
   "source": [
    "### Маска зависимостей\n",
    "\n",
    "Казалось бы, если подать модели на вход такой фрагмент и целевым поставить его же, сдвинутый на 1 токен, то линейный классификатор это сразу \"заметит\" и просто так и будет по входу предсказывать сдвинутый на 1 выход.\n",
    "\n",
    "Нужно, что бы при получении такого входа модель \"не знала\" ничего, о том, что у целевого вектора правее i-й координаты. Для этого используется **маска зависимости позиции**:\n",
    "- строка - номер позиции в выходе\n",
    "- столбец - номер позиции во входе\n",
    "- 0, если токен можно использовать в прогнозировании\n",
    "- так в механизме внимания зануляются элементы, которые не должны учитываться в расчете релевантности"
   ]
  },
  {
   "cell_type": "code",
   "execution_count": 19,
   "metadata": {
    "ExecuteTime": {
     "end_time": "2019-11-05T18:28:04.302365Z",
     "start_time": "2019-11-05T18:28:04.244547Z"
    }
   },
   "outputs": [
    {
     "name": "stdout",
     "output_type": "stream",
     "text": [
      "tensor([[0., -inf, -inf, -inf, -inf, -inf, -inf, -inf, -inf, -inf],\n",
      "        [0., 0., -inf, -inf, -inf, -inf, -inf, -inf, -inf, -inf],\n",
      "        [0., 0., 0., -inf, -inf, -inf, -inf, -inf, -inf, -inf],\n",
      "        [0., 0., 0., 0., -inf, -inf, -inf, -inf, -inf, -inf],\n",
      "        [0., 0., 0., 0., 0., -inf, -inf, -inf, -inf, -inf],\n",
      "        [0., 0., 0., 0., 0., 0., -inf, -inf, -inf, -inf],\n",
      "        [0., 0., 0., 0., 0., 0., 0., -inf, -inf, -inf],\n",
      "        [0., 0., 0., 0., 0., 0., 0., 0., -inf, -inf],\n",
      "        [0., 0., 0., 0., 0., 0., 0., 0., 0., -inf],\n",
      "        [0., 0., 0., 0., 0., 0., 0., 0., 0., 0.]])\n"
     ]
    }
   ],
   "source": [
    "def make_target_dependency_mask(length):\n",
    "    full_mask = torch.ones(length, length)\n",
    "    ignore_mask = torch.tril(full_mask) < 1\n",
    "    full_mask.masked_fill_(ignore_mask, float('-inf'))\n",
    "    full_mask.masked_fill_(~ignore_mask, 0)\n",
    "    return full_mask\n",
    "\n",
    "print(make_target_dependency_mask(10))"
   ]
  },
  {
   "cell_type": "markdown",
   "metadata": {},
   "source": [
    "### Кодирование позиции\n",
    "\n",
    "Механизм self-attention — он, в некотором смысле, похож на механизм свёрток, тем, что он инвариантен к позиции элемента в последовательности (за одну операцию все элементы сравниваются со всеми).\n",
    "\n",
    "Даже если порядок слов и не фиксированный, то относительные позиции токенов уж точно полезны. При этом случай, когда связь между словами идёт через пол-текста, достаточно редкий (даже для человека такие связи бывают слишком сложными для улавливания смысла).\n",
    "\n",
    "Для того, чтобы закодировать позиции токенов, к эмбеддингу токена, который мы берём из таблички, будем прибавлять **эмбеддинг позиции** - вектор такой же длины, что и эмбеддинг токена, который имеет разное значение для разных позиций этого токена в последовательности (тексте).\n",
    "\n",
    "Авторы трансформера предлагают использовать набор синусоид и косинусоид разной частоты.\n",
    "- так обеспечивается равноудаленность друг от друга векторов позиции по метрике косинусного расстояния\n",
    "- при этом при увеличении количества таких векторов не потребуется увеличивать размерность кодирующего вектора или типа того, просто берутся более высокочастотные гармоники (из количество EmbSize // 2)"
   ]
  },
  {
   "cell_type": "code",
   "execution_count": 20,
   "metadata": {
    "ExecuteTime": {
     "end_time": "2019-11-05T18:28:05.590059Z",
     "start_time": "2019-11-05T18:28:05.567602Z"
    }
   },
   "outputs": [],
   "source": [
    "def make_positional_encoding(max_length, embedding_size):\n",
    "    time = np.pi * torch.arange(0, max_length).float()\n",
    "    freq_dividers = torch.arange(1, embedding_size // 2 + 1).float()\n",
    "    inputs = time[:, None] / freq_dividers[None, :]\n",
    "    \n",
    "    result = torch.zeros(max_length, embedding_size)\n",
    "    result[:, 0::2] = torch.sin(inputs)\n",
    "    result[:, 1::2] = torch.cos(inputs)\n",
    "    return result"
   ]
  },
  {
   "cell_type": "markdown",
   "metadata": {},
   "source": [
    "Один вертикальный срез графика описывает нам эмбеддинг одной позиции. Тут:\n",
    "- последовательность длины 30 (такая частота дискретизации (удвоенная, т.к. синусы и косинусы))\n",
    "- длина эмбеддинга 30 (такое количество гармоник)\n",
    "\n",
    "Выдает матрицу $Len \\times EmbSize$"
   ]
  },
  {
   "cell_type": "code",
   "execution_count": 21,
   "metadata": {
    "ExecuteTime": {
     "end_time": "2019-11-05T18:28:06.060293Z",
     "start_time": "2019-11-05T18:28:05.708626Z"
    }
   },
   "outputs": [
    {
     "data": {
      "image/png": "[encoded data removed]",
      "text/plain": [
       "<Figure size 1080x360 with 1 Axes>"
      ]
     },
     "metadata": {
      "needs_background": "light"
     },
     "output_type": "display_data"
    }
   ],
   "source": [
    "sample_pos_codes = make_positional_encoding(30, 30)     # не умеет с нечетной размерностью ебмеддинга (!)\n",
    "plt.plot(sample_pos_codes[:, ::3].numpy());             # нарисует только каждую 3ю гармонику\n",
    "plt.gcf().set_size_inches((15, 5))"
   ]
  },
  {
   "cell_type": "markdown",
   "metadata": {},
   "source": [
    "### Основной класс - языковая модель\n",
    "\n",
    "Определен базовый класс:\n",
    "- хранение векторов слов\n",
    "- получение кодов позиций\n",
    "- предсказание токенов для каждой позиции\n",
    "\n",
    "`forward`:\n",
    "- по длине последовательности мы можем сгенерировать маску зависимостей\n",
    "- еще одна маска для паддинга (отмечает токены за границей последовательности), если входящая последовательность короче максимальной длины\n",
    "- получаем эмбеддинги из встроенного модуля (по сути случайные из ст.норм.распределения)\n",
    "  - `padding_idx=0` говорит, что нулевой токен - фиктивный для паддинга\n",
    "- получаем позиционные эмбеддинги (они из синокосинусов, поэтому из [-1, 1], что хоть и не нормировано с основным эмбеддингом, но сопоставимо и проблем не доставит (?))\n",
    "- делаем дропаут, отбрасываем случаные токены из последовательности\n",
    "  - если не делать, модель будет переобучаться, просто запоминать входящий текст\n",
    "  - если слишком большой - ничему не научится\n",
    "  - какой дропаут важнее, этот или опционально используемый в основной нейросети?\n",
    "    - кажется этот для улавливания смысла важнее, тот для сходимости вроде большей частью?\n",
    "- подаем признаки токенов с масками зависимостей и паддинга в некоторую нейросеть, которая здесь у нас лежит в переменной `backbone`\n",
    "  - должна возвращать тензор той же размерности, что и получила\n",
    "  - нейросеть вообще говоря выдет значения $\\in \\R$), то что она выдала считаем признаками/предикторами/регрессорами соответствующих целевых токенов\n",
    "- чтобы эти признаки перевести в вероятности используется выходной полносвязный слой (простой линейный слой `nn.Linear`), который выдает то, что считаем [логитами](https://ru.wikipedia.org/wiki/%D0%9B%D0%BE%D0%B3%D0%B8%D1%81%D1%82%D0%B8%D1%87%D0%B5%D1%81%D0%BA%D0%B0%D1%8F_%D1%80%D0%B5%D0%B3%D1%80%D0%B5%D1%81%D1%81%D0%B8%D1%8F)\n",
    "  -  он так устроен, что если получает многомерный тензор, то линейная проекция применяется к последнему измерению"
   ]
  },
  {
   "cell_type": "code",
   "execution_count": 22,
   "metadata": {
    "ExecuteTime": {
     "end_time": "2019-11-05T18:28:07.079279Z",
     "start_time": "2019-11-05T18:28:07.031056Z"
    }
   },
   "outputs": [],
   "source": [
    "class LanguageModel(nn.Module):\n",
    "    def __init__(self, vocab_size, embedding_size, backbone, emb_dropout=0.0):\n",
    "        super().__init__()\n",
    "        self.embedding_size = embedding_size\n",
    "        self.embeddings = nn.Embedding(vocab_size, embedding_size, padding_idx=0)\n",
    "        self.emb_dropout = nn.Dropout(emb_dropout)\n",
    "        self.backbone = backbone\n",
    "        self.out = nn.Linear(embedding_size, vocab_size)\n",
    "    \n",
    "    def forward(self, seed_token_ids):\n",
    "        \"\"\"\n",
    "            seed_token_ids - BatchSize x MaxInLen\n",
    "        \"\"\"\n",
    "        batch_size, max_in_length = seed_token_ids.shape\n",
    "\n",
    "        seed_padding_mask = seed_token_ids == 0\n",
    "        dependency_mask = make_target_dependency_mask(max_in_length) \\\n",
    "            .to(seed_token_ids.device)\n",
    "        \n",
    "        seed_embs = self.embeddings(seed_token_ids)  # BatchSize x MaxInLen x EmbSize\n",
    "        pos_codes = make_positional_encoding(max_in_length,\n",
    "                                             self.embedding_size).unsqueeze(0).to(seed_embs.device)\n",
    "        seed_embs = seed_embs + pos_codes\n",
    "        seed_embs = self.emb_dropout(seed_embs)\n",
    "\n",
    "        # BatchSize x TargetLen x EmbSize\n",
    "        target_features = seed_embs\n",
    "        target_features = self.backbone(seed_embs,\n",
    "                                        mask=dependency_mask,\n",
    "                                        src_key_padding_mask=seed_padding_mask)\n",
    "        logits = self.out(target_features)  # BatchSize x TargetLen x VocabSize\n",
    "        return logits"
   ]
  },
  {
   "cell_type": "markdown",
   "metadata": {},
   "source": [
    "Чтобы получить распределение вероятностей из логитов, полученных на выходе модели, нам нужно применить к этому тензору softmax по последнему измерению ('мягко' нормировать к [0, 1]):\n",
    "- мы не будем это делать, потому что мы знаем, что после логитов сразу пойдёт [кросс-энтропия](https://ru.wikipedia.org/wiki/%D0%9F%D0%B5%D1%80%D0%B5%D0%BA%D1%80%D1%91%D1%81%D1%82%D0%BD%D0%B0%D1%8F_%D1%8D%D0%BD%D1%82%D1%80%D0%BE%D0%BF%D0%B8%D1%8F) как вычисление функции потерь\n",
    "- поэтому [софтмакс](https://ru.wikipedia.org/wiki/Softmax) на выходе можно не считать, т.к. лишние экспоненты и логарифмы сократятся, и получить большую вычислительную стабильность"
   ]
  },
  {
   "cell_type": "markdown",
   "metadata": {},
   "source": [
    "### Утилиты для обучения - функция потерь и расписание изменения длины градиентного шага\n",
    "\n",
    "Фунция потерь - кросс-энтропия:\n",
    "- тут нам уже не важны обучающие пакеты/батчи, по этим измерениям все вытягивается \n",
    "- `F.cross_entropy` умеет игнорировать паддинги (!) - это выровняет дисбаланс классов (токены) и улучшит сходимость\n",
    "\n",
    "Расписание изменения шага:\n",
    "- половинит шаг, если за 20 эпох функция потерь не уменьшилась"
   ]
  },
  {
   "cell_type": "code",
   "execution_count": 23,
   "metadata": {
    "ExecuteTime": {
     "end_time": "2019-11-05T18:28:07.797230Z",
     "start_time": "2019-11-05T18:28:07.774142Z"
    }
   },
   "outputs": [],
   "source": [
    "def lm_cross_entropy(pred, target):\n",
    "    \"\"\"\n",
    "    pred - BatchSize x TargetLen x VocabSize\n",
    "    target - BatchSize x TargetLen\n",
    "    \"\"\"\n",
    "    pred_flat = pred.view(-1, pred.shape[-1])  # BatchSize*TargetLen x VocabSize\n",
    "    target_flat = target.view(-1)  # BatchSize*TargetLen\n",
    "    return F.cross_entropy(pred_flat, target_flat, ignore_index=0)\n",
    "\n",
    "\n",
    "def lr_scheduler(optimizer):\n",
    "    return torch.optim.lr_scheduler.ReduceLROnPlateau(optimizer,\n",
    "                                                      patience=20,\n",
    "                                                      factor=0.5,\n",
    "                                                      verbose=True)"
   ]
  },
  {
   "cell_type": "markdown",
   "metadata": {},
   "source": [
    "### Еще полезные штуки\n",
    "\n",
    "- Таблица параметров модели. Типа подробный `get_parameters()` \n",
    "- Все тензоры ноутбука\n",
    "- Очистить память от ненужных тензоров/моделей"
   ]
  },
  {
   "cell_type": "code",
   "execution_count": null,
   "metadata": {},
   "outputs": [],
   "source": [
    "from helpers.summary import count_parameters, dump_tensors, free_mem"
   ]
  },
  {
   "cell_type": "markdown",
   "metadata": {},
   "source": [
    "## Реализация Transformer из PyTorch\n",
    "Появилась в версии торча 1.2\n",
    "\n",
    "Мы будем использовать не весь трансформер, а только его первую часть — трансформер \"encoder\". Этот вспомогательный класс нам нужен для двух задач. По какой-то причине, стандартная реализация трансформера умеет работать с тензорами, в которых первое измерение соответствует не размеру батча, а длине последовательности, а \"batch_size\" стоит на втором месте. \n",
    "\n",
    "Этот класс делает, по сути, всего лишь две вещи. \n",
    "\n",
    "1. Транспонирует тензор перед подачей в трансформер, транспонирует результаты работы трансформера обратно, и возвращает результат не изменённым **(возможно уже не актуально)**. \n",
    "2. Инициализирует параметры. По умолчанию, в трансформере используется равномерный шум с амплитудой, подбираемой исходя из количества входных признаков. Эта схема инициализации реализовывается в pytorch функцией `xavier_uniform`. Таким способом, мы инициализируем все веса, кроме bias, то есть все \"матричные\" веса. "
   ]
  },
  {
   "cell_type": "code",
   "execution_count": 27,
   "metadata": {
    "ExecuteTime": {
     "end_time": "2019-11-05T18:28:09.401017Z",
     "start_time": "2019-11-05T18:28:09.365637Z"
    }
   },
   "outputs": [],
   "source": [
    "class BatchFirstTransformerEncoder(nn.Module):\n",
    "    def __init__(self, *args, **kwargs):\n",
    "        super().__init__()\n",
    "        self.impl = nn.TransformerEncoder(*args, **kwargs)\n",
    "        self.initialize_weights()\n",
    "    \n",
    "    def forward(self, src, *args, **kwargs):\n",
    "        src = src.transpose(0, 1).contiguous()  # MaxInLen  x BatchSize x EmbSize\n",
    "        result = self.impl(src, *args, **kwargs)  # TargetLen x BatchSize x EmbSize\n",
    "        result = result.transpose(0, 1).contiguous()  # BatchSize x TargetLen x EmbSize\n",
    "        return result\n",
    "    \n",
    "    def initialize_weights(self):\n",
    "        for param in self.impl.parameters():\n",
    "            if param.dim() > 1:\n",
    "                nn.init.xavier_uniform_(param)"
   ]
  },
  {
   "cell_type": "markdown",
   "metadata": {},
   "source": [
    "В конструктор модели передается:\n",
    "- размер словаря, размер эмбеддинга\n",
    "- экземпляр backbone НС\n",
    "  - будет производить агрегацию контекстов, \n",
    "  - будет сравнивать слова с соседними словами \n",
    "  - на вход она будет получать эмбеддинги отдельных токенов, \n",
    "  - на выходе у неё уже будут эмбеддинги фраз, предложений\n",
    "- используется 3 слоя механизма внимания"
   ]
  },
  {
   "cell_type": "code",
   "execution_count": 28,
   "metadata": {
    "ExecuteTime": {
     "end_time": "2019-11-05T18:28:10.550078Z",
     "start_time": "2019-11-05T18:28:10.425261Z"
    }
   },
   "outputs": [
    {
     "name": "stdout",
     "output_type": "stream",
     "text": [
      "Total Trainable Params: 2094312\n",
      "Total memory: 175.76 Mb\n"
     ]
    },
    {
     "data": {
      "text/plain": [
       "2094312"
      ]
     },
     "execution_count": 28,
     "metadata": {},
     "output_type": "execute_result"
    }
   ],
   "source": [
    "torch_transf_model = LanguageModel(tokenizer.vocab_size(),\n",
    "                                   256,\n",
    "                                   BatchFirstTransformerEncoder(\n",
    "                                       nn.TransformerEncoderLayer(\n",
    "                                           d_model=256,\n",
    "                                           nhead=16,\n",
    "                                           dim_feedforward=512,\n",
    "                                           dropout=0.1),\n",
    "                                       num_layers=3),\n",
    "                                   emb_dropout=0.1)\n",
    "count_parameters(torch_transf_model, verbose=False)"
   ]
  },
  {
   "cell_type": "markdown",
   "metadata": {},
   "source": [
    "- размер батча 128, подбирается по объему памяти GPU\n",
    "- большое количество эпох\n",
    "  - количество пройденных эпох Х количество итераций в эпохе = количество градиентных шагов\n",
    "  - сходится медленно\n",
    "- 613 эпох Х 44 итерации Х ~11 сек. = 2,5 часа (GF760gtx):\n",
    "  - train loss = 1.210\n",
    "  - test loss = 2.638"
   ]
  },
  {
   "cell_type": "markdown",
   "metadata": {},
   "source": [
    "Сохранение:\n",
    "- часто бывает полезно сохранять промежуточные результаты\n",
    "  - чтобы можно было прервать/возобновить обучение\n",
    "  - чтобы можно было усреднить модели с различных шагов (градиент встанет в промежуточное положение и может дальше двинуться куда-то еще)"
   ]
  },
  {
   "cell_type": "code",
   "execution_count": 29,
   "metadata": {
    "ExecuteTime": {
     "end_time": "2019-11-05T18:28:58.797642Z",
     "start_time": "2019-11-05T18:28:34.626744Z"
    }
   },
   "outputs": [],
   "source": [
    "SKIP = QUICK_RUN # (!) обучалка на 2.5 часа\n",
    "\n",
    "if SKIP:\n",
    "    torch_transf_model.load_state_dict(torch.load('./models/war_and_peace_torch_transf_best.pth'))\n",
    "else:\n",
    "    (best_val_loss,\n",
    "    best_torch_transf_model) = train_eval_loop(torch_transf_model,\n",
    "                                                train_dataset,\n",
    "                                                test_dataset,\n",
    "                                                lm_cross_entropy,\n",
    "                                                lr=2e-3,\n",
    "                                                epoch_n=2000,\n",
    "                                                batch_size=128,\n",
    "                                                device='cuda',\n",
    "                                                early_stopping_patience=50,\n",
    "                                                max_batches_per_epoch_train=1000,\n",
    "                                                max_batches_per_epoch_val=1000,\n",
    "                                                lr_scheduler_ctor=lr_scheduler)\n",
    "    \n",
    "    torch.save(best_torch_transf_model.state_dict(), './models/war_and_peace_torch_transf_best.pth')"
   ]
  },
  {
   "cell_type": "markdown",
   "metadata": {},
   "source": [
    "## Генерация текста с помощью языковой модели"
   ]
  },
  {
   "cell_type": "markdown",
   "metadata": {},
   "source": [
    "### Жадная генерация\n",
    "\n",
    "Алгоритм жадной генерации - это когда мы на каждом шаге берём наиболее вероятный токен **без учёта совместного распределения** токенов (то есть — вот на этом шаге модель сказала, что токен \"А\" самый лучший — мы его и берём вне зависимости от того, какой следующий токен может быть, или предыдущий).\n",
    "\n",
    "Это полностью жадный алгоритм декодирования. Алгоритм:\n",
    "- в конструктор обученную модель и \"tokenizer\"\n",
    "- на вход затравку текста -> токенизация -> цикл:\n",
    "  - прогон вектора через модель\n",
    "  - выбор токена с максимальной оценкой\n",
    "  - если токен конца текста, то всё\n",
    "  - если нет, добавить к ранее срегенированному и опять на вход модели"
   ]
  },
  {
   "cell_type": "code",
   "execution_count": 30,
   "metadata": {
    "ExecuteTime": {
     "end_time": "2019-11-05T18:29:02.366423Z",
     "start_time": "2019-11-05T18:29:02.329495Z"
    }
   },
   "outputs": [],
   "source": [
    "greedy_generator = GreedyGenerator(torch_transf_model, tokenizer)"
   ]
  },
  {
   "cell_type": "markdown",
   "metadata": {},
   "source": [
    "Генерация занимает 360мс - это много (хотя у авторов получилось почему-то  и вовсе 1450мс)\n",
    "- где засада?\n",
    "  - мы много раз прогоняем увеличивающуюся последовательность через модель, но меняется только активация последнего слоя, остальные пересчитываются впустую\n",
    "  - надо кешировать (может тут автоматом уже кешируется, почему у меня в 5 раз быстрее чем у авторов?), звучит просто, но есть тонкости как это грамотно сделать, с учетом расчета на gpu, поэтому как нибудь в другой раз"
   ]
  },
  {
   "cell_type": "code",
   "execution_count": 31,
   "metadata": {
    "ExecuteTime": {
     "end_time": "2019-11-05T18:29:03.175509Z",
     "start_time": "2019-11-05T18:29:02.921960Z"
    }
   },
   "outputs": [
    {
     "name": "stdout",
     "output_type": "stream",
     "text": [
      "сказала княжна, оглядывая Бонапарте в Шенбруне, который наш прием кровативную, на дороге и я имение, - прибавил он с у\n",
      "CPU times: user 402 ms, sys: 29.5 ms, total: 431 ms\n",
      "Wall time: 362 ms\n"
     ]
    }
   ],
   "source": [
    "%%time\n",
    "\n",
    "print(greedy_generator('сказала княжна, оглядывая Бона'))"
   ]
  },
  {
   "cell_type": "code",
   "execution_count": 32,
   "metadata": {
    "ExecuteTime": {
     "end_time": "2019-11-05T18:29:03.497702Z",
     "start_time": "2019-11-05T18:29:03.177598Z"
    }
   },
   "outputs": [
    {
     "name": "stdout",
     "output_type": "stream",
     "text": [
      "смеялась княжна, оглядывая Наполеования. - Je suis bavau mon comment dans les femes comme il fautes du\n"
     ]
    }
   ],
   "source": [
    "print(greedy_generator('смеялась княжна, оглядывая Наполе'))"
   ]
  },
  {
   "cell_type": "code",
   "execution_count": 33,
   "metadata": {
    "ExecuteTime": {
     "end_time": "2019-11-05T18:29:03.770265Z",
     "start_time": "2019-11-05T18:29:03.500330Z"
    }
   },
   "outputs": [
    {
     "name": "stdout",
     "output_type": "stream",
     "text": [
      "сказала княжна, оглядывая Кутузя проводила его. Только глаза и с сильничами, чтобы не сдвиже, как вместе халатать. Также съезжающи\n"
     ]
    }
   ],
   "source": [
    "print(greedy_generator('сказала княжна, оглядывая Кутуз'))"
   ]
  },
  {
   "cell_type": "code",
   "execution_count": 34,
   "metadata": {
    "ExecuteTime": {
     "end_time": "2019-11-05T18:29:04.150676Z",
     "start_time": "2019-11-05T18:29:03.773669Z"
    }
   },
   "outputs": [
    {
     "name": "stdout",
     "output_type": "stream",
     "text": [
      "сказал Кутузов, оглядывая Наполеона с восторгом, с тем же толпой шутеля и набоном не будете. Большим тот сели в знакомые;\n"
     ]
    }
   ],
   "source": [
    "print(greedy_generator('сказал Кутузов, оглядывая Наполеона'))"
   ]
  },
  {
   "cell_type": "markdown",
   "metadata": {},
   "source": [
    "Жадный поиск не гарантирует обнаружения оптимального решения: возможно, выбрав менее вероятную букву сейчас, на следующем шаге мы сможем сделать выбор так, что результирующая вероятность нежадного варианта будет выше\n",
    "\n",
    "При жадном поиске мы можем сгенерировать токен конца предложения слишком рано, никак это исправить уже не получится"
   ]
  },
  {
   "cell_type": "markdown",
   "metadata": {},
   "source": [
    "### Генерация с помощью лучевого поиска - Beam Search\n",
    "\n",
    "Более практичный вариант генератора - [**лучевой поиск**](https://en.wikipedia.org/wiki/Beam_search)\n",
    "\n",
    "Параметры:\n",
    "- `max_steps_n` наибольшее количество токенов, которые мы можем добавить к исходной последовательности, \n",
    "- `return_hypotheses_n` количество лучших гипотез, лучших вариантов декодирования, которое нам нужно вернуть, \n",
    "- `beamsize` (ширина луча) количество наилучших промежуточных вариантов, которое мы будем хранить в процессе.\n",
    "\n",
    "Алгоритм:\n",
    "- токенизация затравки текста\n",
    "- `partial_hypotheses` промежуточные гипотезы - кортежи (оценка правдоподобия, гипотеза - последовательность токенов)\n",
    "  - поддерживается в виде **очереди с приоритетами (куча)** `heapq` (встроенная реализация мин-кучи), чтобы наверху была лучшая гипотеза\n",
    "  - инициализируется токенизированной затравкой текста\n",
    "\n",
    "- в цикле (пока минкуча не пуста):\n",
    "  - лучшая гипотеза извлекается из кучи и отправляется в модель\n",
    "  - модель дает логиты (некоторые вещественные признаки токенов гипотезы), берем последний прогнозный\n",
    "  - в логарифмический софтмакс - дает логарифмы вероятности (чтобы можно было складывать, вместо умножения)\n",
    "  - из них выбираем `beamsize` наиболее вероятных прогнозных токенов, по ним еще один цикл:\n",
    "    - во первых полученные лог-вероятности и токены копируются на хост (`float(),` `int()`)и этот цикл дальше считается на хосте, чтоб не утекала память gpu\n",
    "    - оценка правдоподобности полученной гипотезы оценивается по нормализованной форме: $\\log(t_1, ..., t_n) / \\sqrt {n}$, чтобы не завышать оценки для коротких гипотез (более короткие гипотезы более вероятны):\n",
    "      - $\\sqrt n$ получается по идее из предположения, что длинные гипотезы имеют дисперсию оценки пропорциональную $n$?\n",
    "    - формируется новая гипотеза: (пересчитанная с учетом удленнения последовательности оценка нормированной лог-вероятности, последовательность с новым токеном):\n",
    "      - тут фишка пересчета в том, что лог-вероятности - отрицательные, и чем меньше, тем меньше вероятность, поэтому они вычитаются из предыдущей оценки, т.е. получается прибавляются, чем больше по модулю прибавилось, тем меньше вероятность, и тем ниже гипотеза уйдет в мин-куче. Вроде как такого рода переменные принято обзывать наподобие `token_logproba`, а не как тут\n",
    "    - если заданная длина достигнута или токен конца предложения, то гипотеза идет в список финальных гипотез, иначе - добавляется в кучу\n",
    "  \n",
    "  - полученная куча обрезается по размеру `beamsize` (когда все гипотезы дойдут до заданной длины или конца предложения - куча опустеет)\n",
    "- финальные гипотезы декодируются и возвращается столько наилучших вариантов, сколько запросили\n",
    "\n",
    "\n",
    "Если `beamsize == 1` то лучевой поиск превращается в полностью жадный алгоритм.\n",
    "\n",
    "[1] Тема жадного декодирования и лучевого поиска также будет рассматриваться позднее в [лекции про seq2seq](https://stepik.org/lesson/247980/step/5?unit=220092)"
   ]
  },
  {
   "cell_type": "code",
   "execution_count": 35,
   "metadata": {
    "ExecuteTime": {
     "end_time": "2019-11-05T18:29:08.328662Z",
     "start_time": "2019-11-05T18:29:08.294006Z"
    }
   },
   "outputs": [],
   "source": [
    "beam_generator = BeamGenerator(torch_transf_model, tokenizer)"
   ]
  },
  {
   "cell_type": "markdown",
   "metadata": {},
   "source": [
    "Кхм, по времени 5 вариантов генерилось 1420мс, гдето 280мс на вариант, что быстрее жадного алгоритма (360мс). А у авторов наоборот, скорость лучевого поиска хуже оказалась, и в абсолютных значениях (8000мс). Также говорят, что не хватает кеширования...\n",
    "- варианты так себе, очень похожие, разнообразия никакого"
   ]
  },
  {
   "cell_type": "code",
   "execution_count": 36,
   "metadata": {
    "ExecuteTime": {
     "end_time": "2019-11-05T18:29:10.573399Z",
     "start_time": "2019-11-05T18:29:09.653198Z"
    }
   },
   "outputs": [
    {
     "name": "stdout",
     "output_type": "stream",
     "text": [
      "****\n",
      "2.7414446024838184\n",
      "сказала княжна, оглядывая Наполеона. - Ce nous savez, mon cher, Prince qu'il n'autre, 143 - проговорил\n",
      "\n",
      "****\n",
      "2.944877257567304\n",
      "сказала княжна, оглядывая Наполеона. - Ce nous savez, mon cher, Prince qu'il n'autre, 143 - проговорила\n",
      "\n",
      "****\n",
      "2.9729833270923742\n",
      "сказала княжна, оглядывая Наполеона. - Ce nous savez, mon cher, Prince qu'il n'autre, 14 - заговорила она\n",
      "\n",
      "****\n",
      "2.9998533507228093\n",
      "сказала княжна, оглядывая Наполеона. - Ce nous savez, mon cher, Prince qu'il n'autre, 14 - заговорил солда\n",
      "\n",
      "****\n",
      "3.0248982640840683\n",
      "сказала княжна, оглядывая Наполеона. - Ce nous savez, mon cher, Prince qu'il n'autre, 14 - заговорила княж\n",
      "\n",
      "CPU times: user 1.59 s, sys: 32.8 ms, total: 1.62 s\n",
      "Wall time: 1.25 s\n"
     ]
    }
   ],
   "source": [
    "%%time\n",
    "\n",
    "beam_gen_variants = beam_generator('сказала княжна, оглядывая Наполе',\n",
    "                                   beamsize=5,\n",
    "                                   return_hypotheses_n=5)\n",
    "\n",
    "for score, pred_txt in beam_gen_variants:\n",
    "    print('****')\n",
    "    print(score)\n",
    "    print(pred_txt)\n",
    "    print()"
   ]
  },
  {
   "cell_type": "code",
   "execution_count": 37,
   "metadata": {
    "ExecuteTime": {
     "end_time": "2019-11-05T18:27:05.050342Z",
     "start_time": "2019-11-05T18:27:05.005Z"
    },
    "scrolled": false
   },
   "outputs": [
    {
     "name": "stdout",
     "output_type": "stream",
     "text": [
      "****\n",
      "2.4604581527427896\n",
      "сказала княжна, оглядывая Наполеоном совершенно спрятала. - Mais, mon ami, mon ami.15 - C'est bien... 184 -\n",
      "\n",
      "****\n",
      "2.6130057235461708\n",
      "сказала княжна, оглядывая Наполеоном совершенно спрятала. - Mais, mon ami, mon ami.15 - C'est beautien 1\n",
      "\n",
      "****\n",
      "2.6375666559038007\n",
      "сказала княжна, оглядывая Наполеоном совершенно спрятала. - Ilsez, que je ne souverai pas voulu l'otrem\n",
      "\n",
      "****\n",
      "2.660364099154319\n",
      "сказала княжна, оглядывая Наполеоном совершенно спрятала. - Mais, mon ami, mon ami.15 - C'est bien, - сказал князь Васили\n",
      "\n",
      "****\n",
      "2.74636893293754\n",
      "сказала княжна, оглядывая Наполеоном совершенно спрятала. - Mais, mon ami, mon ami.15 - C'est bien, - сказала княжна\n",
      "\n",
      "CPU times: user 6.06 s, sys: 115 ms, total: 6.18 s\n",
      "Wall time: 4.84 s\n"
     ]
    }
   ],
   "source": [
    "%%time\n",
    "\n",
    "beam_gen_variants = beam_generator('сказала княжна, оглядывая Наполе',\n",
    "                                   beamsize=20,\n",
    "                                   return_hypotheses_n=5)\n",
    "\n",
    "for score, pred_txt in beam_gen_variants:\n",
    "    print('****')\n",
    "    print(score)\n",
    "    print(pred_txt)\n",
    "    print()"
   ]
  },
  {
   "cell_type": "markdown",
   "metadata": {},
   "source": [
    "Даже очень широкий луч не сильно добавляет разнообразования предсказаниям продолжения текста..."
   ]
  },
  {
   "cell_type": "code",
   "execution_count": 38,
   "metadata": {
    "ExecuteTime": {
     "end_time": "2019-11-05T18:27:05.051378Z",
     "start_time": "2019-11-05T18:27:05.008Z"
    }
   },
   "outputs": [
    {
     "name": "stdout",
     "output_type": "stream",
     "text": [
      "CPU times: user 4 µs, sys: 2 µs, total: 6 µs\n",
      "Wall time: 9.54 µs\n"
     ]
    }
   ],
   "source": [
    "%%time\n",
    "\n",
    "if not SKIP: # 1 мин.\n",
    "    beam_gen_variants = beam_generator('сказала княжна, оглядывая Наполе',\n",
    "                                    beamsize=100,\n",
    "                                    return_hypotheses_n=5)\n",
    "\n",
    "    for score, pred_txt in beam_gen_variants:\n",
    "        print('****')\n",
    "        print(score)\n",
    "        print(pred_txt)\n",
    "        print()"
   ]
  },
  {
   "cell_type": "markdown",
   "metadata": {},
   "source": [
    "Наиболее вероятная **причина низкого разнообразия** предсказаний — это **чрезмерная уверенность модели**. Если мы отклоняемся от единственного, наиболее вероятного варианта декодирования, хотя бы чуть-чуть, то score уже очень сильно ухудшается и у других вариантов нету шансов удержаться внутри луча. \n",
    "\n",
    "В качестве домашнего задания я предлагаю вам побороться с этой чрезмерной уверенностью и повысить разнообразие вариантов генерации. \n",
    "\n",
    "1. Один из возможных способов борьбы с чрезмерной уверенностью — это [**сглаживание меток**](https://towardsdatascience.com/what-is-label-smoothing-108debd7ef06), то есть можно перевесить метки так, чтобы они стали менее контрастными, чтобы кросс-энтропия не давала очень сильный штраф. \n",
    "\n",
    "2. Другая простая техника для повышения разнообразия предсказаний — это **добавление шума** в предсказания модели. Как это делать? Мы берём вектор логитов для очередного токена и добавляем туда, например гауссовский шум или, более правильно — шум из распределения [Гумбеля](https://en.wikipedia.org/wiki/Gumbel_distribution). Или как вариант - добавление [temperature scaling](https://arxiv.org/pdf/1706.04599.pdf)\n",
    "   \n",
    "   - Но эта техника немного не информированная, то есть силу этого шума нужно подбирать руками и мы рискуем получить ерунду. Кроме того, процесс декодирования может стать слишком стохастическим и это приведёт к тому, что запуская его его несколько раз, мы будем получать абсолютно не пересекающееся множество вариантов декодирования. Это сделает нашу модель банально непредсказуемой, её нельзя будет вообще никак использовать на практике. Так что с этим способом повышения разнообразия нужно быть аккуратней, хотя, на этапе обучения, его вполне можно использовать посмелее. "
   ]
  },
  {
   "cell_type": "code",
   "execution_count": 39,
   "metadata": {},
   "outputs": [
    {
     "name": "stdout",
     "output_type": "stream",
     "text": [
      "Free GPU mem before: 1464.50 Mb\n",
      "Free GPU mem after: 1471.38 Mb\n",
      "+------+-----+------+------------+------+--------+-----+\n",
      "| Kind | GPU | Dims | Parameters | Type | Memory | Var |\n",
      "+------+-----+------+------------+------+--------+-----+\n",
      "+------+-----+------+------------+------+--------+-----+\n",
      "Total 0 objects with 0 params\n",
      "Total GPU / CPU memory: 0.00 / 0.00 Mb\n"
     ]
    }
   ],
   "source": [
    "print(f\"Free GPU mem before: {torch.cuda.mem_get_info()[0]/1024/1024:.2f} Mb\")\n",
    "free_mem(sample_pos_codes, greedy_generator, beam_generator,  torch_transf_model)\n",
    "print(f\"Free GPU mem after: {torch.cuda.mem_get_info()[0]/1024/1024:.2f} Mb\")\n",
    "dump_tensors()"
   ]
  },
  {
   "cell_type": "markdown",
   "metadata": {},
   "source": [
    "Что мы сделали:\n",
    "- загрузили датасет, \n",
    "- обучили токенизатор, токенизировали датасет, \n",
    "- реализовали базовый класс языковой модели\n",
    "- реализовали обёртку для backbone-трансформера, которая транспонирует тензоры и инициализирует веса\n",
    "- обучили модель, используя, в качестве backbone реализацию трансформера из библиотеки pytorch\n",
    "- реализовали два алгоритма декодирования — это \"полностью жадный\" и \"beam search\""
   ]
  },
  {
   "cell_type": "markdown",
   "metadata": {},
   "source": [
    "# Собственная реализация трансформера\n",
    "\n",
    "Заменим реализацию трансформера из библиотеки pytorch на нашу реализацию."
   ]
  },
  {
   "cell_type": "markdown",
   "metadata": {},
   "source": [
    "### Собственная реализация MultiHeadAttention\n",
    "\n",
    "Базовый блок трансформера — это \"механизм внимания с несколькими головами\" (или \"multi-head attention\").\n",
    "\n",
    "**Вход** (см. лекции):\n",
    "- три главных последовательности \n",
    "  -  запросов, ключей и значений (4д-тензоры)\n",
    "- две маски\n",
    "  - паддинга (зануляет оценки релевантности токенов паддинга) и зависимостей (зануляет оценки релевантности токенов справа от предсказания)\n",
    "- сила дропаута (если в режиме обучения)\n",
    "\n",
    "**Выход**\n",
    "- основной результат - вектор признаков для каждой головы\n",
    "- карта внимания - для визуализации релевантности токенов\n",
    "\n",
    "**Алгоритм**\n",
    "- `relevances` оценки релевантности как скалярное произведение запросов и ключей (на самом деле тензорное) в [эйнштейновской записи](https://ru.wikipedia.org/wiki/%D0%A1%D0%BE%D0%B3%D0%BB%D0%B0%D1%88%D0%B5%D0%BD%D0%B8%D0%B5_%D0%AD%D0%B9%D0%BD%D1%88%D1%82%D0%B5%D0%B9%D0%BD%D0%B0):\n",
    "  - для того, чтобы описать тензорное произведение в эйнштейновской записи мы задаём обозначения для всех измерений входных тензоров (\"b\"- \"batch size\", \"v\" - \"количество запросов\" (длина последовательности запросов), \"h\" - \"количество голов\", \"s\" - размерность вектора признаков для каждой позиции, для каждой головы). \n",
    "  - то же самое для второго тензора (тензор ключей), кроме второго измерения, потому что, теоретически, количество запросов и количество ключей могут отличаться, хотя в данном семинаре это не так. \n",
    "  - после знака \"стрелки\" - измерения результирующего тензора:\n",
    "    - те индексы, которые были слева от стрелки, но их нету справа, соответствуют измерениям, по которым производится скалярное произведение (\"s\") - т.е. берется сумма попарных произведений координат. \n",
    "    - остальные индексы задают порядок перестановки измерений в итоговом тензоре\n",
    "  - получаем 4д-тензор. \n",
    "- Надо сказать, что запросы и ключи мы сравниваем только внутри одной \"головы\" и только внутри одного примера в батче.\n",
    "- применяем маски ($-\\inf$ под софтмакс)\n",
    "  - запись типа `[:, None, :, None]` означает добавление пустого измерения (тоже что метод `unsqueeze`)\n",
    "- применяем софт макс по 3 измерению (количество ключей):\n",
    "  - сумма весов в `normed_rels` для каждой выходной позиции, элемента батча и \"головы\" будет равна 1\n",
    "- применяем дропаут (не не на матрицу признаков, как это обычно, а поверх нормированных оценок сходства)\n",
    "  - т.е. исключаем зависимости каких-то выходных позиций от входных. Это достаточно хороший способ регуляризации в данном случае.\n",
    "- выравниваем измерения, чтобы они совпадали (используется **броадкастинг** - основное правило которого, если в измерении 1 значение, а в другом операнде их больше, то это значение используется для всего измерения сколько нужно раз)\n",
    "- поэлементно умножаем (5д-тензор)\n",
    "- суммируем по среднему измерению (4д-тензор)\n",
    "\n",
    "Это достаточно универсальная реализация механизма внимания, хотя и несколько упрощённая относительно той реализации, которая входит в библиотеку pytorch."
   ]
  },
  {
   "cell_type": "code",
   "execution_count": 40,
   "metadata": {
    "ExecuteTime": {
     "end_time": "2019-11-05T18:29:13.586871Z",
     "start_time": "2019-11-05T18:29:13.544216Z"
    }
   },
   "outputs": [],
   "source": [
    "def my_multihead_attention(queries, keys, values,\n",
    "                           keys_padding_mask, dependency_mask,\n",
    "                           is_training,\n",
    "                           weights_dropout):\n",
    "    \"\"\"\n",
    "    queries - BatchSize x ValuesLen x HeadN x KeySize\n",
    "    keys - BatchSize x KeysLen x HeadN x KeySize\n",
    "    values - BatchSize x KeysLen x HeadN x ValueSize\n",
    "    keys_padding_mask - BatchSize x KeysLen\n",
    "    dependency_mask - ValuesLen x KeysLen\n",
    "    is_training - bool\n",
    "    weights_dropout - float\n",
    "    \n",
    "    result - tuple of two:\n",
    "        - BatchSize x ValuesLen x HeadN x ValueSize - resulting features\n",
    "        - BatchSize x ValuesLen x KeysLen x HeadN - attention map\n",
    "    \"\"\"\n",
    "\n",
    "    # BatchSize x ValuesLen x KeysLen x HeadN\n",
    "    relevances = torch.einsum('bvhs,bkhs->bvkh', (queries, keys))\n",
    "    \n",
    "    # замаскировать элементы, выходящие за длины последовательностей ключей\n",
    "    padding_mask_expanded = keys_padding_mask[:, None, :, None].expand_as(relevances)\n",
    "    relevances.masked_fill_(padding_mask_expanded, float('-inf'))\n",
    "    \n",
    "    # замаскировать пары <выходная позиция, входная позиция>\n",
    "    relevances = relevances + dependency_mask[None, :, :, None].expand_as(relevances)\n",
    "    \n",
    "    normed_rels = F.softmax(relevances, dim=2)    \n",
    "    normed_rels = F.dropout(normed_rels, weights_dropout, is_training)\n",
    "    \n",
    "    # BatchSize x ValuesLen x KeysLen x HeadN x 1   (1-ки растягиваются броадкастингом)\n",
    "    normed_rels_expanded = normed_rels.unsqueeze(-1)\n",
    "    \n",
    "    # BatchSize x 1 x KeysLen x HeadN x ValueSize   (1-ки растягиваются броадкастингом)\n",
    "    values_expanded = values.unsqueeze(1)\n",
    "    \n",
    "    # BatchSize x ValuesLen x KeysLen x HeadN x ValueSize\n",
    "    weighted_values = normed_rels_expanded * values_expanded\n",
    "    result = weighted_values.sum(2)  # BatchSize x ValuesLen x HeadN x ValueSize\n",
    "    \n",
    "    return result, normed_rels"
   ]
  },
  {
   "cell_type": "markdown",
   "metadata": {},
   "source": [
    "### Self-Attention - это Attention, в котором ключи, значения и запросы вычисляются из элементов одной и той же последовательности\n",
    "\n",
    "Конструктор - количество \"голов\", размерность модели и три простых **линейных слоя** (независимых).\n",
    "- линейный (т.е.полносвязный) слой, с размерностью модели - количество выходов равно количеству входов\n",
    "- размерность модели должна делиться нацело на количество \"голов\"\n",
    "- *не обязательно брать именно линейный слой — можно навернуть сюда более сложную архитектуру, но... не нужно, чаще всего*\n",
    "- эти слои применяются к входу, т.е. по сути входы умножаются на матрицу (весов) поэлементно, т.е. с получением 3д-тензора\n",
    "\n",
    "`forward` принимает последовательность и маски паддинга/зависимостей\n",
    "- из последовательности каждый линейный слой делает выход (BatchSize x Len x ModelSize)\n",
    "- последнее измерение схлопывается к числу \"голов\"\n",
    "- т.е. запросы, ключи и значения получаются абсолютно одинаково, просто веса преобразований к ним независимы и будут сходиться к разным значениям\n",
    "- эти три тензора передаются с масками и флагом, что идет обучение в механизм внимания (унаследован от `nn.Module`), рассмотренный выше\n",
    "- важный момент, в атрибуте экземпляра сохраняется последнее состояние `att_map` (карта активаций/нормализованные релевантности токенов)\n",
    "  - у него надо вызвать `detach()`, т.к. каждый тензор с атрибутом `requires_grad=True` (это часть механизма \"автоградиента\" торча) хранит ссылки на тензоры из которых был получен, \"детач\" (возвращает копию тензора, а исходный тензор удаляет из графа автоградиента). Иначе будет утекать память на их хранение.\n",
    "\n"
   ]
  },
  {
   "cell_type": "code",
   "execution_count": 41,
   "metadata": {
    "ExecuteTime": {
     "end_time": "2019-11-05T18:29:14.090216Z",
     "start_time": "2019-11-05T18:29:14.064361Z"
    }
   },
   "outputs": [],
   "source": [
    "class MyMultiheadSelfAttention(nn.Module):\n",
    "    def __init__(self, model_size, n_heads, dropout=0):\n",
    "        super().__init__()\n",
    "        assert model_size % n_heads == 0, 'Размерность модели должна делиться нацело на количество голов'\n",
    "        self.n_heads = n_heads\n",
    "\n",
    "        self.queries_proj = nn.Linear(model_size, model_size)\n",
    "        self.keys_proj = nn.Linear(model_size, model_size)\n",
    "        self.values_proj = nn.Linear(model_size, model_size)\n",
    "        \n",
    "        self.dropout = dropout\n",
    "\n",
    "        self.last_attention_map = None\n",
    "    \n",
    "    def forward(self, sequence, padding_mask, dependency_mask):\n",
    "        \"\"\"\n",
    "        sequence - BatchSize x Len x ModelSize\n",
    "        padding_mask - BatchSize x Len\n",
    "        dependency_mask - Len x Len\n",
    "        \n",
    "        result - BatchSize x Len x ModelSize\n",
    "        \"\"\"\n",
    "        batch_size, max_len, model_size = sequence.shape\n",
    "        \n",
    "        queries_flat = self.queries_proj(sequence)  # BatchSize x Len x ModelSize\n",
    "        queries = queries_flat.view(batch_size, max_len, self.n_heads, -1)\n",
    "        \n",
    "        keys_flat = self.keys_proj(sequence)  # BatchSize x Len x ModelSize\n",
    "        keys = keys_flat.view(batch_size, max_len, self.n_heads, -1)\n",
    "        \n",
    "        values_flat = self.values_proj(sequence)  # BatchSize x Len x ModelSize\n",
    "        values = values_flat.view(batch_size, max_len, self.n_heads, -1)\n",
    "        \n",
    "        # BatchSize x Len x HeadsN x ValueSize\n",
    "        result, att_map = my_multihead_attention(queries, keys, values,\n",
    "                                                 padding_mask, dependency_mask,\n",
    "                                                 self.training, self.dropout)\n",
    "        result_flat = result.view(batch_size, max_len, model_size)\n",
    "        \n",
    "        self.last_attention_map = att_map.detach()\n",
    "\n",
    "        return result_flat"
   ]
  },
  {
   "cell_type": "markdown",
   "metadata": {},
   "source": [
    "### Один слой трансформера - Self-Attention, Feed-Forward, skip-connections, LayerNorm\n",
    "\n",
    "`forward` \n",
    "- выполняем агрегацию контекста механизмом Self-Attention (то есть мы хотим понять смысл каждого токена в контексте всей входнуой последовательности)\n",
    "- к признакам, которые получили, применяем дропаут и складываем с исходными признаками последовательности (это метод skip connection или \"вычисления без нелинейностей\", который хорошо себя показывает именно на глубоких многослойных сетях)\n",
    "- к полученным признакам мы применяем `LayerNorm`\n",
    "  -  вообще в обработке последовательностей, такие способы нормализации как \"Batch norm\" не очень удобно применять, потому что они накапливают статистики и непонятно, как вообще статистики считать, когда у нас количество элементов последовательности вообще отличается — может меняться от батча к батчу\n",
    "  -  теперь переменная \"sequence\" у нас содержит признаки с учётом контекста\n",
    "\n",
    "Механизм внимания хорошо учитывает контекст, но, как нелинейность, он не очень мощный, поэтому давайте применим некоторую нейросеть (независимо) к признакам каждого токена. В классическом трансформере для этого используется двухслойный перцептрон (с двумя линейными слоями, функцией активации ReLU и с dropout). Применять эту нелинейность мы также будем через ResNet-блок, то есть мы суммируем вход нелинейности и выход нелинейности.\n",
    "\n",
    "И, также, второй раз применяем \"Layer norm\"\n",
    "\n",
    "Таким образом, один слой трансформера состоит из двух residual слоёв (то есть двух блоков со skip connection) и первый блок содержит self attention (то есть, агрегирует контекст), а второй блок преобразовывает признаки каждого элемента последовательности независимо от других элементов последовательности. То есть, больше играет роль нелинейности и обогащает модель. "
   ]
  },
  {
   "cell_type": "code",
   "execution_count": 42,
   "metadata": {
    "ExecuteTime": {
     "end_time": "2019-11-05T18:29:15.069352Z",
     "start_time": "2019-11-05T18:29:15.028453Z"
    }
   },
   "outputs": [],
   "source": [
    "class MyTransformerEncoderLayer(nn.Module):\n",
    "    def __init__(self, model_size, n_heads, dim_feedforward, dropout):\n",
    "        super().__init__()\n",
    "        self.self_attention = MyMultiheadSelfAttention(model_size,\n",
    "                                                       n_heads,\n",
    "                                                       dropout=dropout)\n",
    "        self.first_dropout = nn.Dropout(dropout)\n",
    "        self.first_norm = nn.LayerNorm(model_size)\n",
    "        \n",
    "        self.feedforward = nn.Sequential(\n",
    "            nn.Linear(model_size, dim_feedforward),\n",
    "            nn.ReLU(),\n",
    "            nn.Dropout(dropout),\n",
    "            nn.Linear(dim_feedforward, model_size),\n",
    "            nn.Dropout(dropout)\n",
    "        )\n",
    "        self.second_norm = nn.LayerNorm(model_size)\n",
    "    \n",
    "    def forward(self, sequence, padding_mask, dependency_mask):\n",
    "        att_features = self.self_attention(sequence, padding_mask, dependency_mask)\n",
    "\n",
    "        sequence = sequence + self.first_dropout(att_features)\n",
    "        sequence = self.first_norm(sequence)\n",
    "        \n",
    "        sequence = sequence + self.feedforward(sequence)\n",
    "        sequence = self.second_norm(sequence)\n",
    "        return sequence"
   ]
  },
  {
   "cell_type": "markdown",
   "metadata": {},
   "source": [
    "### Энкодер Трансформера - стопка из нескольких слоёв\n",
    "\n",
    "Теперь мы можем собрать слой \"[трансформер](https://en.wikipedia.org/wiki/Transformer_(machine_learning_model))\". \n",
    "\n",
    "Энкодер для трансформера - это последовательное применение несколько экземпляров класса \"my transformer encoding layer\". Кроме того, мы должны здесь проинициализировать веса всех этих слоёв.\n",
    "\n",
    "В каждый слой одни и те же маски — это маска паддингов и маска зависимостей.\n",
    "\n",
    "Названия переменных здесь выбраны так, чтобы они соответствовали названиям параметров в реализации pytorch."
   ]
  },
  {
   "cell_type": "code",
   "execution_count": 43,
   "metadata": {
    "ExecuteTime": {
     "end_time": "2019-11-05T18:29:15.728916Z",
     "start_time": "2019-11-05T18:29:15.680640Z"
    }
   },
   "outputs": [],
   "source": [
    "class MyTransformerEncoder(nn.Module):\n",
    "    def __init__(self, n_layers, **layer_kwargs):\n",
    "        super().__init__()\n",
    "        self.layers = nn.ModuleList([\n",
    "            MyTransformerEncoderLayer(**layer_kwargs)\n",
    "            for _ in range(n_layers)\n",
    "        ])\n",
    "        self.initialize_weights()\n",
    "\n",
    "    def forward(self, sequence, mask, src_key_padding_mask):\n",
    "        for layer in self.layers:\n",
    "            sequence = layer(sequence, src_key_padding_mask, mask)\n",
    "        return sequence\n",
    "\n",
    "    def initialize_weights(self):\n",
    "        for param in self.parameters():\n",
    "            if param.dim() > 1:\n",
    "                nn.init.xavier_uniform_(param)"
   ]
  },
  {
   "cell_type": "markdown",
   "metadata": {},
   "source": [
    "## Попробуем обучить языковую модель с нашим Трансформером"
   ]
  },
  {
   "cell_type": "code",
   "execution_count": 44,
   "metadata": {
    "ExecuteTime": {
     "end_time": "2019-11-05T18:29:18.531896Z",
     "start_time": "2019-11-05T18:29:18.460196Z"
    }
   },
   "outputs": [
    {
     "name": "stdout",
     "output_type": "stream",
     "text": [
      "+------------------------------------------------------+-----+------------+------------+---------------+----------+\n",
      "|                   Modules/Tensors                    | GPU |   Shape    | Parameters |      Type     |  Memory  |\n",
      "+------------------------------------------------------+-----+------------+------------+---------------+----------+\n",
      "|                  embeddings.weight                   |     | 1000 x 256 |   256000   | torch.float32 | 22528000 |\n",
      "| backbone.layers.0.self_attention.queries_proj.weight |     | 256 x 256  |   65536    | torch.float32 | 5767168  |\n",
      "|  backbone.layers.0.self_attention.queries_proj.bias  |     |    256     |    256     | torch.float32 |  22528   |\n",
      "|  backbone.layers.0.self_attention.keys_proj.weight   |     | 256 x 256  |   65536    | torch.float32 | 5767168  |\n",
      "|   backbone.layers.0.self_attention.keys_proj.bias    |     |    256     |    256     | torch.float32 |  22528   |\n",
      "| backbone.layers.0.self_attention.values_proj.weight  |     | 256 x 256  |   65536    | torch.float32 | 5767168  |\n",
      "|  backbone.layers.0.self_attention.values_proj.bias   |     |    256     |    256     | torch.float32 |  22528   |\n",
      "|         backbone.layers.0.first_norm.weight          |     |    256     |    256     | torch.float32 |  22528   |\n",
      "|          backbone.layers.0.first_norm.bias           |     |    256     |    256     | torch.float32 |  22528   |\n",
      "|        backbone.layers.0.feedforward.0.weight        |     | 512 x 256  |   131072   | torch.float32 | 11534336 |\n",
      "|         backbone.layers.0.feedforward.0.bias         |     |    512     |    512     | torch.float32 |  45056   |\n",
      "|        backbone.layers.0.feedforward.3.weight        |     | 256 x 512  |   131072   | torch.float32 | 11534336 |\n",
      "|         backbone.layers.0.feedforward.3.bias         |     |    256     |    256     | torch.float32 |  22528   |\n",
      "|         backbone.layers.0.second_norm.weight         |     |    256     |    256     | torch.float32 |  22528   |\n",
      "|          backbone.layers.0.second_norm.bias          |     |    256     |    256     | torch.float32 |  22528   |\n",
      "| backbone.layers.1.self_attention.queries_proj.weight |     | 256 x 256  |   65536    | torch.float32 | 5767168  |\n",
      "|  backbone.layers.1.self_attention.queries_proj.bias  |     |    256     |    256     | torch.float32 |  22528   |\n",
      "|  backbone.layers.1.self_attention.keys_proj.weight   |     | 256 x 256  |   65536    | torch.float32 | 5767168  |\n",
      "|   backbone.layers.1.self_attention.keys_proj.bias    |     |    256     |    256     | torch.float32 |  22528   |\n",
      "| backbone.layers.1.self_attention.values_proj.weight  |     | 256 x 256  |   65536    | torch.float32 | 5767168  |\n",
      "|  backbone.layers.1.self_attention.values_proj.bias   |     |    256     |    256     | torch.float32 |  22528   |\n",
      "|         backbone.layers.1.first_norm.weight          |     |    256     |    256     | torch.float32 |  22528   |\n",
      "|          backbone.layers.1.first_norm.bias           |     |    256     |    256     | torch.float32 |  22528   |\n",
      "|        backbone.layers.1.feedforward.0.weight        |     | 512 x 256  |   131072   | torch.float32 | 11534336 |\n",
      "|         backbone.layers.1.feedforward.0.bias         |     |    512     |    512     | torch.float32 |  45056   |\n",
      "|        backbone.layers.1.feedforward.3.weight        |     | 256 x 512  |   131072   | torch.float32 | 11534336 |\n",
      "|         backbone.layers.1.feedforward.3.bias         |     |    256     |    256     | torch.float32 |  22528   |\n",
      "|         backbone.layers.1.second_norm.weight         |     |    256     |    256     | torch.float32 |  22528   |\n",
      "|          backbone.layers.1.second_norm.bias          |     |    256     |    256     | torch.float32 |  22528   |\n",
      "| backbone.layers.2.self_attention.queries_proj.weight |     | 256 x 256  |   65536    | torch.float32 | 5767168  |\n",
      "|  backbone.layers.2.self_attention.queries_proj.bias  |     |    256     |    256     | torch.float32 |  22528   |\n",
      "|  backbone.layers.2.self_attention.keys_proj.weight   |     | 256 x 256  |   65536    | torch.float32 | 5767168  |\n",
      "|   backbone.layers.2.self_attention.keys_proj.bias    |     |    256     |    256     | torch.float32 |  22528   |\n",
      "| backbone.layers.2.self_attention.values_proj.weight  |     | 256 x 256  |   65536    | torch.float32 | 5767168  |\n",
      "|  backbone.layers.2.self_attention.values_proj.bias   |     |    256     |    256     | torch.float32 |  22528   |\n",
      "|         backbone.layers.2.first_norm.weight          |     |    256     |    256     | torch.float32 |  22528   |\n",
      "|          backbone.layers.2.first_norm.bias           |     |    256     |    256     | torch.float32 |  22528   |\n",
      "|        backbone.layers.2.feedforward.0.weight        |     | 512 x 256  |   131072   | torch.float32 | 11534336 |\n",
      "|         backbone.layers.2.feedforward.0.bias         |     |    512     |    512     | torch.float32 |  45056   |\n",
      "|        backbone.layers.2.feedforward.3.weight        |     | 256 x 512  |   131072   | torch.float32 | 11534336 |\n",
      "|         backbone.layers.2.feedforward.3.bias         |     |    256     |    256     | torch.float32 |  22528   |\n",
      "|         backbone.layers.2.second_norm.weight         |     |    256     |    256     | torch.float32 |  22528   |\n",
      "|          backbone.layers.2.second_norm.bias          |     |    256     |    256     | torch.float32 |  22528   |\n",
      "|                      out.weight                      |     | 1000 x 256 |   256000   | torch.float32 | 22528000 |\n",
      "|                       out.bias                       |     |    1000    |    1000    | torch.float32 |  88000   |\n",
      "+------------------------------------------------------+-----+------------+------------+---------------+----------+\n",
      "Total Trainable Params: 1896936\n",
      "Total memory: 159.20 Mb\n",
      "Free GPU mem: 1468.25 Mb\n"
     ]
    }
   ],
   "source": [
    "SKIP = QUICK_RUN\n",
    "\n",
    "my_transf_model = LanguageModel(tokenizer.vocab_size(),\n",
    "                                256,\n",
    "                                MyTransformerEncoder(\n",
    "                                    n_layers=3,\n",
    "                                    model_size=256,\n",
    "                                    n_heads=16,\n",
    "                                    dim_feedforward=512,\n",
    "                                    dropout=0.1),\n",
    "                                emb_dropout=0.1)\n",
    "count_parameters(my_transf_model)\n",
    "print(f\"Free GPU mem: {torch.cuda.mem_get_info()[0]/1024/1024:.2f} Mb\")"
   ]
  },
  {
   "cell_type": "markdown",
   "metadata": {},
   "source": [
    "Получилось в 3 раз медленнее родного трансформера (30 сек./эпоха):\n",
    "- скорее всего из-за `torch.einsum` - удобная нотация, медленная реализация\n",
    "- 12 часов, дальше надоело - \n",
    "  - лосс на обучении 2,631, \n",
    "  - на тесте 3,19"
   ]
  },
  {
   "cell_type": "code",
   "execution_count": 45,
   "metadata": {
    "ExecuteTime": {
     "end_time": "2019-11-05T18:29:30.000482Z",
     "start_time": "2019-11-05T18:29:24.291741Z"
    },
    "scrolled": true
   },
   "outputs": [],
   "source": [
    "if SKIP:\n",
    "    my_transf_model.load_state_dict(torch.load('./models/war_and_peace_my_transf_best.pth'))\n",
    "else:\n",
    "    (best_val_loss,\n",
    "    best_my_transf_model) = train_eval_loop(my_transf_model,\n",
    "                                            train_dataset,\n",
    "                                            test_dataset,\n",
    "                                            lm_cross_entropy,\n",
    "                                            lr=2e-3,\n",
    "                                            epoch_n=2000,\n",
    "                                            batch_size=64,\n",
    "                                            device='cuda',\n",
    "                                            early_stopping_patience=50,\n",
    "                                            max_batches_per_epoch_train=1000,\n",
    "                                            max_batches_per_epoch_val=1000,\n",
    "                                            lr_scheduler_ctor=lr_scheduler)\n",
    "\n",
    "    torch.save(best_my_transf_model.state_dict(), './models/war_and_peace_my_transf_best.pth')"
   ]
  },
  {
   "cell_type": "markdown",
   "metadata": {},
   "source": [
    "## Наша реализация - жадная генерация\n",
    "\n",
    "- тоже чето более менее генрирует\n",
    "- **потом случайно удалил обучавшуюся 12 часов модель, и теперь фигня какая-то**"
   ]
  },
  {
   "cell_type": "code",
   "execution_count": 46,
   "metadata": {
    "ExecuteTime": {
     "end_time": "2019-11-05T18:29:31.862429Z",
     "start_time": "2019-11-05T18:29:31.841831Z"
    }
   },
   "outputs": [],
   "source": [
    "my_greedy_generator = GreedyGenerator(my_transf_model, tokenizer)"
   ]
  },
  {
   "cell_type": "code",
   "execution_count": 47,
   "metadata": {
    "ExecuteTime": {
     "end_time": "2019-11-05T18:29:32.263263Z",
     "start_time": "2019-11-05T18:29:31.988891Z"
    }
   },
   "outputs": [
    {
     "data": {
      "text/plain": [
       "'сказала княжна, оглядывая Андреиходя назадены. - Lisaraitiellezrevereraitre, Etre 9 - Le'"
      ]
     },
     "execution_count": 47,
     "metadata": {},
     "output_type": "execute_result"
    }
   ],
   "source": [
    "my_greedy_generator('сказала княжна, оглядывая Андре')"
   ]
  },
  {
   "cell_type": "markdown",
   "metadata": {},
   "source": [
    "## Визуализация карт внимания\n",
    "\n",
    "Здесь мы видим несколько графиков, каждая строка графиков соответствует слою трансформера, а каждый столбец графиков соответствует голове. У нас в модели всего 16 голов, мы нарисовали только две головы. Можно больше, но, просто — не влезло бы. "
   ]
  },
  {
   "cell_type": "code",
   "execution_count": 48,
   "metadata": {
    "ExecuteTime": {
     "end_time": "2019-11-05T18:29:33.644923Z",
     "start_time": "2019-11-05T18:29:33.614615Z"
    }
   },
   "outputs": [],
   "source": [
    "def plot_attention_maps(model, input_string, tokenizer, device='cuda', max_heads=2, figsize=(16, 10)):\n",
    "    device = torch.device(device)\n",
    "\n",
    "    token_ids = tokenizer.encode([input_string])[0]\n",
    "\n",
    "    token_strs = [tokenizer.id_to_subword(i) for i in token_ids]\n",
    "    in_len = len(token_ids)\n",
    "    ticks = np.arange(0, in_len)\n",
    "\n",
    "    model.to(device)\n",
    "    model.eval()\n",
    "\n",
    "    in_batch = torch.tensor(token_ids).unsqueeze(0).to(device)\n",
    "    model(in_batch)\n",
    "\n",
    "    for module in model.modules():\n",
    "        if isinstance(module, MyMultiheadSelfAttention):\n",
    "            cur_last_attention_map = module.last_attention_map[0].cpu().numpy()\n",
    "            n_heads = cur_last_attention_map.shape[-1]\n",
    "            n_heads_to_vis = min(n_heads, max_heads)\n",
    "\n",
    "            fig, axes = plt.subplots(1, n_heads_to_vis)\n",
    "            fig.set_size_inches(figsize)\n",
    "            for head_i in range(n_heads_to_vis):\n",
    "                ax = axes[head_i]\n",
    "                ax.imshow(cur_last_attention_map[..., head_i])\n",
    "\n",
    "                ax.set_yticks(ticks)\n",
    "                ax.set_ylim(bottom=in_len - 0.5, top=-0.5)\n",
    "                ax.set_yticklabels(token_strs)\n",
    "\n",
    "                ax.set_xticks(ticks)\n",
    "                ax.set_xticklabels(token_strs)"
   ]
  },
  {
   "cell_type": "code",
   "execution_count": 49,
   "metadata": {
    "ExecuteTime": {
     "end_time": "2019-11-05T18:29:34.935250Z",
     "start_time": "2019-11-05T18:29:33.745970Z"
    }
   },
   "outputs": [
    {
     "data": {
      "image/png": "[encoded data removed]",
      "text/plain": [
       "<Figure size 1152x720 with 2 Axes>"
      ]
     },
     "metadata": {
      "needs_background": "light"
     },
     "output_type": "display_data"
    },
    {
     "data": {
      "image/png": "[encoded data removed]",
      "text/plain": [
       "<Figure size 1152x720 with 2 Axes>"
      ]
     },
     "metadata": {
      "needs_background": "light"
     },
     "output_type": "display_data"
    },
    {
     "data": {
      "image/png": "[encoded data removed]",
      "text/plain": [
       "<Figure size 1152x720 with 2 Axes>"
      ]
     },
     "metadata": {
      "needs_background": "light"
     },
     "output_type": "display_data"
    }
   ],
   "source": [
    "plot_attention_maps(my_transf_model, 'сказал Кутузов, оглядывая Бонапарта', tokenizer)"
   ]
  },
  {
   "cell_type": "markdown",
   "metadata": {},
   "source": [
    "По строкам **каждого отдельного графика** здесь отложены **запросы**, и каждая позиция помечена токеном во входной последовательности, который стоял на этой позиции. \n",
    "\n",
    "По столбцам отложены **ключи**. Чем ярче клетка на пересечении строки и столбца, тем более значим этот ключ для этого запроса (по мнению этой головы этой модели). \n",
    "\n",
    "Мы видим, что на первом слое карты активации очень контрастные, очень разреженные. То есть, для каждой выходной позиции близок только один ключ. \n",
    "\n",
    "Интересно, что для почти всех N-грамм из имени \"Бонапарт\", наиболее значимым **ключом** является первая N-грамма этого имени (*четко было на обученной модели, которая самоликвидировалась, а заново 12 часов ждать - ну его. На недоучке похожим образом выделяется токен 'на'*). То есть для вычисления признаков очень важны признаки начала имени (\"_бо\"). Это и есть **учёт контекста**. \n",
    "\n",
    "У второй головы карта активации совершенно другая. Здесь, кажется, в вычислении признаков для всех токенов после запятой (с токена \"_огля\" и дальше) самый важный исходный токен — это сама \"запятая\", то есть мы, как бы, отделяем деепричастный оборот здесь. \n",
    "\n",
    "Конечно, это всего лишь — попытки натянуть какую-то рационализацию на эти карты активации, неочевидно, что вообще эти карты активации для человека будут понятны или полезны. Но иногда на них просто интересно посмотреть. \n",
    "\n",
    "**На втором слое** трансформера карты активации уже более сглаженные, уже нету каких-то отдельных, выделенных, наиболее значимых позиций, уже каждая позиция обращает внимание, в принципе, на все предыдущие позиции. И можно также заметить, что на втором слое верхнетреугольная часть этих карт — тёмная. Это именно то, чего мы хотели добиться, применяя **маску зависимостей**. То есть здесь в маске зависимости на этих позициях стоит $-\\infty$."
   ]
  },
  {
   "cell_type": "markdown",
   "metadata": {},
   "source": [
    "И никогда не забывать [1]\n",
    "\n",
    "[1] https://en.wikipedia.org/wiki/No_free_lunch_theorem\n",
    "\n",
    "Речь идет о теореме \"Бесплатного обеда не бывает\" -- No Free Lunch Theorem (NFL). Может быть, на русский это лучше перевести, как \"бесплатного сыра не бывает\". Смысл теоремы в том, что не существует алгоритма (поиска или оптимизации), который \"работает\" лучше других на всем множестве задач. И если некоторый алгоритм работает лучше (быстрее, точнее) на одних задачах, значит, на других задачах он будет хуже. Если взять весь класс задач, к которому хоть как-то применим конкретный алгоритм, то он в среднем будет не лучше, чем просто случайный поиск. А зачем тогда усложнять?\n",
    "\n",
    "Интересно, что NFL оказывается тесно связана с [Колмогоровской сложностью](https://ru.wikipedia.org/wiki/%D0%9A%D0%BE%D0%BB%D0%BC%D0%BE%D0%B3%D0%BE%D1%80%D0%BE%D0%B2%D1%81%D0%BA%D0%B0%D1%8F_%D1%81%D0%BB%D0%BE%D0%B6%D0%BD%D0%BE%D1%81%D1%82%D1%8C). В алгоритмической теории информации колмогоровская сложность объекта (такого, как текст) есть мера вычислительных ресурсов, необходимых для точного определения этого объекта. Также известна как описательная сложность, сложность Колмогорова — Хайтина, стохастическая сложность, алгоритмическая энтропия или алгоритмическая сложность"
   ]
  },
  {
   "cell_type": "markdown",
   "metadata": {},
   "source": [
    "Cеминар был посвящён сразу нескольким темам — \n",
    "\n",
    "- моделированиt языка, \n",
    "- byte pair encoding (то есть какая-то токенизация универсальная, современная, которая позволяет выбирать между длиной последовательностей и размером словаря)? использования библиотеки \"YouTokenToMe\". \n",
    "- собрали и обучили языковую модель, используя реализацию трансформера из стандартной библиотеки pytorch, \n",
    "- попробовали погенерировать тексты с помощью \"полностью жадного\" алгоритма и с помощью \"лучевого поиска\". \n",
    "- рассмотрели — как можно руками, самостоятельно, не используя готовой библиотеки, реализовать механизм внимания — используя только базовые операции из pytorch. \n",
    "- собрали свой энкодер для трансформера, реализовав механизм внимания с несколькими головами, реализовав \"self attention\", реализовав отдельный слой трансформера и собрав это всё в encoder. \n",
    "- нашу реализацию и увидели, что она, в принципе, работает примерно так же, как и стандартная реализация — значит, кажется, мы не ошиблись. \n",
    "- заглянули внутрь обученной модели и посмотрели, как между собой связываются входные и выходные позиции на разных уровнях и для разных голов"
   ]
  },
  {
   "cell_type": "markdown",
   "metadata": {},
   "source": [
    "# До.за.\n",
    "\n",
    "Что можно попробовать сделать:\n",
    "\n",
    "- поиграться с параметрами и архитектурой (количество self-attention модулей, количество голов в MultiHead attention и т.д.)\n",
    "- рассмотреть разные варианты формул для positional encoding\n",
    "- менять параметры beam search (beamsize, return_hypotheses_n)"
   ]
  }
 ],
 "metadata": {
  "kernelspec": {
   "display_name": "Python 3",
   "language": "python",
   "name": "python3"
  },
  "language_info": {
   "codemirror_mode": {
    "name": "ipython",
    "version": 3
   },
   "file_extension": ".py",
   "mimetype": "text/x-python",
   "name": "python",
   "nbconvert_exporter": "python",
   "pygments_lexer": "ipython3",
   "version": "3.9.11"
  },
  "latex_envs": {
   "LaTeX_envs_menu_present": true,
   "autoclose": false,
   "autocomplete": true,
   "bibliofile": "biblio.bib",
   "cite_by": "apalike",
   "current_citInitial": 1,
   "eqLabelWithNumbers": true,
   "eqNumInitial": 1,
   "hotkeys": {
    "equation": "Ctrl-E",
    "itemize": "Ctrl-I"
   },
   "labels_anchors": false,
   "latex_user_defs": false,
   "report_style_numbering": false,
   "user_envs_cfg": false
  },
  "toc": {
   "base_numbering": 1,
   "nav_menu": {},
   "number_sections": true,
   "sideBar": true,
   "skip_h1_title": false,
   "title_cell": "Table of Contents",
   "title_sidebar": "Contents",
   "toc_cell": false,
   "toc_position": {},
   "toc_section_display": true,
   "toc_window_display": true
  }
 },
 "nbformat": 4,
 "nbformat_minor": 2
}
