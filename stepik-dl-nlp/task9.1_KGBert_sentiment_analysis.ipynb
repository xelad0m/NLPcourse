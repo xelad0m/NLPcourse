{
 "cells": [
  {
   "cell_type": "markdown",
   "metadata": {
    "colab_type": "text",
    "id": "jNKaJz5j_ylj"
   },
   "source": [
    "# Определение эмоциональной окраски твитов с помощью BERT. Ужатая версия BERT\n",
    "\n",
    "Попробуем воспроизвести примерно то же, что и на семинаре, но с использованием **уменьшенной версии модели BERT** (ориг. [Маленький и быстрый BERT для русского языка](https://habr.com/ru/post/562064/))\n",
    "\n",
    "    \"В качестве основы для модели я взял классический bert-multilingual (веса), ибо хочу, чтобы модель понимала и русский, и английский, и его же использую на ранних стадиях дистилляции как учителя по распределению токенов. Словарь этой модели содержит 120К токенов, но я отобрал только те, которые часто встречаются в русском и английском языках, оставив 30К. Размер эмбеддинга я сократил с 768 до 312, число слоёв – с 12 до 3. Эмбеддинги я инициализировал из bert-multilingual, все остальные веса – случайным образом.\"\n",
    "\n",
    "И с учетом [туториала](https://huggingface.co/docs/transformers/training) (Fine-tune a pretrained model in native PyTorch)\n",
    "- вообще изменения минимальные, все и так подошло"
   ]
  },
  {
   "cell_type": "markdown",
   "metadata": {
    "colab_type": "text",
    "id": "RX_ZDhicpHkV"
   },
   "source": [
    "## Установка библиотек\n",
    "\n",
    "Понадобится `transformers`, `sentencepiece`"
   ]
  },
  {
   "cell_type": "code",
   "execution_count": 1,
   "metadata": {
    "colab": {
     "base_uri": "https://localhost:8080/",
     "height": 382
    },
    "colab_type": "code",
    "id": "0NmMdkZO8R6q",
    "outputId": "1cc59bfa-1dbb-4540-cb22-196f399f62af"
   },
   "outputs": [],
   "source": [
    "# !pip install transformers sentencepiece\n",
    "\n",
    "QUICK_RUN = True"
   ]
  },
  {
   "cell_type": "code",
   "execution_count": 2,
   "metadata": {
    "colab": {
     "base_uri": "https://localhost:8080/",
     "height": 34
    },
    "colab_type": "code",
    "id": "Ok002ceNB8E7",
    "outputId": "06ef90d2-7518-4209-da66-1dd45c357c78"
   },
   "outputs": [
    {
     "name": "stderr",
     "output_type": "stream",
     "text": [
      "2022-04-21 12:16:35.520406: W tensorflow/stream_executor/platform/default/dso_loader.cc:64] Could not load dynamic library 'libcudart.so.11.0'; dlerror: libcudart.so.11.0: cannot open shared object file: No such file or directory; LD_LIBRARY_PATH: /usr/local/lib:/usr/local/lib64:/usr/local/cuda/extras/CUPTI/lib64:/usr/local/cuda/lib64\n",
      "2022-04-21 12:16:35.520443: I tensorflow/stream_executor/cuda/cudart_stub.cc:29] Ignore above cudart dlerror if you do not have a GPU set up on your machine.\n"
     ]
    }
   ],
   "source": [
    "import torch\n",
    "from torch.utils.data import DataLoader\n",
    "from torch.optim import AdamW\n",
    "\n",
    "from transformers import AutoTokenizer\n",
    "from transformers import AutoModelForSequenceClassification\n",
    "from transformers import get_scheduler\n",
    "\n",
    "from sklearn.model_selection import train_test_split\n",
    "from sklearn.metrics import accuracy_score\n",
    "\n",
    "from tqdm.auto import tqdm\n",
    "import pandas as pd\n",
    "import numpy as np\n",
    "import matplotlib.pyplot as plt"
   ]
  },
  {
   "cell_type": "markdown",
   "metadata": {},
   "source": [
    "- Таблица параметров модели. Типа подробный `get_parameters()` \n",
    "- Все тензоры ноутбука\n",
    "- Очистить память от ненужных тензоров/моделей"
   ]
  },
  {
   "cell_type": "code",
   "execution_count": 3,
   "metadata": {},
   "outputs": [],
   "source": [
    "from helpers.summary import count_parameters, dump_tensors, free_mem"
   ]
  },
  {
   "cell_type": "code",
   "execution_count": 4,
   "metadata": {
    "colab": {
     "base_uri": "https://localhost:8080/",
     "height": 34
    },
    "colab_type": "code",
    "id": "oYsV4H8fCpZ-",
    "outputId": "b8812c8e-3149-475f-b4c0-262160485c39"
   },
   "outputs": [
    {
     "name": "stdout",
     "output_type": "stream",
     "text": [
      "NVIDIA GeForce GTX 760\n"
     ]
    }
   ],
   "source": [
    "device = torch.device(\"cuda\" if torch.cuda.is_available() else \"cpu\")\n",
    "if device == 'cpu':\n",
    "    print('cpu')\n",
    "else:\n",
    "    n_gpu = torch.cuda.device_count()\n",
    "    print(torch.cuda.get_device_name(0))"
   ]
  },
  {
   "cell_type": "markdown",
   "metadata": {
    "colab_type": "text",
    "id": "guw6ZNtaswKc"
   },
   "source": [
    "## Загрузка данных\n"
   ]
  },
  {
   "cell_type": "code",
   "execution_count": 5,
   "metadata": {},
   "outputs": [],
   "source": [
    "import pandas as pd\n",
    "\n",
    "pos_texts = pd.read_csv('datasets/bert_sentiment_analysis/positive.csv', encoding='utf8', sep=';', header=None)\n",
    "neg_texts = pd.read_csv('datasets/bert_sentiment_analysis/negative.csv', encoding='utf8', sep=';', header=None)"
   ]
  },
  {
   "cell_type": "code",
   "execution_count": 6,
   "metadata": {
    "scrolled": true
   },
   "outputs": [
    {
     "data": {
      "text/html": [
       "<div>\n",
       "<style scoped>\n",
       "    .dataframe tbody tr th:only-of-type {\n",
       "        vertical-align: middle;\n",
       "    }\n",
       "\n",
       "    .dataframe tbody tr th {\n",
       "        vertical-align: top;\n",
       "    }\n",
       "\n",
       "    .dataframe thead th {\n",
       "        text-align: right;\n",
       "    }\n",
       "</style>\n",
       "<table border=\"1\" class=\"dataframe\">\n",
       "  <thead>\n",
       "    <tr style=\"text-align: right;\">\n",
       "      <th></th>\n",
       "      <th>0</th>\n",
       "      <th>1</th>\n",
       "      <th>2</th>\n",
       "      <th>3</th>\n",
       "      <th>4</th>\n",
       "      <th>5</th>\n",
       "      <th>6</th>\n",
       "      <th>7</th>\n",
       "      <th>8</th>\n",
       "      <th>9</th>\n",
       "      <th>10</th>\n",
       "      <th>11</th>\n",
       "    </tr>\n",
       "  </thead>\n",
       "  <tbody>\n",
       "    <tr>\n",
       "      <th>81869</th>\n",
       "      <td>410760809166688256</td>\n",
       "      <td>1386767983</td>\n",
       "      <td>zmeevolk</td>\n",
       "      <td>@kakabadze сейчас сумму лимита стоимости 1000 ...</td>\n",
       "      <td>1</td>\n",
       "      <td>0</td>\n",
       "      <td>0</td>\n",
       "      <td>0</td>\n",
       "      <td>2696</td>\n",
       "      <td>60</td>\n",
       "      <td>77</td>\n",
       "      <td>0</td>\n",
       "    </tr>\n",
       "    <tr>\n",
       "      <th>50977</th>\n",
       "      <td>410042527689895936</td>\n",
       "      <td>1386596731</td>\n",
       "      <td>Shusharina96</td>\n",
       "      <td>Как я давно не ходила по магазинам. Скоро буде...</td>\n",
       "      <td>1</td>\n",
       "      <td>0</td>\n",
       "      <td>0</td>\n",
       "      <td>0</td>\n",
       "      <td>3974</td>\n",
       "      <td>85</td>\n",
       "      <td>57</td>\n",
       "      <td>0</td>\n",
       "    </tr>\n",
       "    <tr>\n",
       "      <th>19686</th>\n",
       "      <td>409406838992814080</td>\n",
       "      <td>1386445171</td>\n",
       "      <td>_Noisy_Killjoy_</td>\n",
       "      <td>\"гспд,он же вылитый Крейг :)\" Фото ridiculousg...</td>\n",
       "      <td>1</td>\n",
       "      <td>0</td>\n",
       "      <td>1</td>\n",
       "      <td>0</td>\n",
       "      <td>35140</td>\n",
       "      <td>1111</td>\n",
       "      <td>719</td>\n",
       "      <td>13</td>\n",
       "    </tr>\n",
       "    <tr>\n",
       "      <th>83272</th>\n",
       "      <td>410773983877791744</td>\n",
       "      <td>1386771124</td>\n",
       "      <td>Tor83V</td>\n",
       "      <td>@fantomrocker нетт конечно ) уважение надо зас...</td>\n",
       "      <td>1</td>\n",
       "      <td>0</td>\n",
       "      <td>0</td>\n",
       "      <td>0</td>\n",
       "      <td>58308</td>\n",
       "      <td>16740</td>\n",
       "      <td>12294</td>\n",
       "      <td>1507</td>\n",
       "    </tr>\n",
       "    <tr>\n",
       "      <th>86216</th>\n",
       "      <td>410802675115388928</td>\n",
       "      <td>1386777964</td>\n",
       "      <td>PashaSnowbell</td>\n",
       "      <td>чувствую,что зачеты я буду сдавать так же) htt...</td>\n",
       "      <td>1</td>\n",
       "      <td>0</td>\n",
       "      <td>0</td>\n",
       "      <td>0</td>\n",
       "      <td>1022</td>\n",
       "      <td>43</td>\n",
       "      <td>29</td>\n",
       "      <td>0</td>\n",
       "    </tr>\n",
       "  </tbody>\n",
       "</table>\n",
       "</div>"
      ],
      "text/plain": [
       "                       0           1                2   \\\n",
       "81869  410760809166688256  1386767983         zmeevolk   \n",
       "50977  410042527689895936  1386596731     Shusharina96   \n",
       "19686  409406838992814080  1386445171  _Noisy_Killjoy_   \n",
       "83272  410773983877791744  1386771124           Tor83V   \n",
       "86216  410802675115388928  1386777964    PashaSnowbell   \n",
       "\n",
       "                                                      3   4   5   6   7   \\\n",
       "81869  @kakabadze сейчас сумму лимита стоимости 1000 ...   1   0   0   0   \n",
       "50977  Как я давно не ходила по магазинам. Скоро буде...   1   0   0   0   \n",
       "19686  \"гспд,он же вылитый Крейг :)\" Фото ridiculousg...   1   0   1   0   \n",
       "83272  @fantomrocker нетт конечно ) уважение надо зас...   1   0   0   0   \n",
       "86216  чувствую,что зачеты я буду сдавать так же) htt...   1   0   0   0   \n",
       "\n",
       "          8      9      10    11  \n",
       "81869   2696     60     77     0  \n",
       "50977   3974     85     57     0  \n",
       "19686  35140   1111    719    13  \n",
       "83272  58308  16740  12294  1507  \n",
       "86216   1022     43     29     0  "
      ]
     },
     "execution_count": 6,
     "metadata": {},
     "output_type": "execute_result"
    }
   ],
   "source": [
    "pos_texts.sample(5)"
   ]
  },
  {
   "cell_type": "code",
   "execution_count": 7,
   "metadata": {},
   "outputs": [
    {
     "data": {
      "text/plain": [
       "mean     85.0\n",
       "std      27.0\n",
       "min      21.0\n",
       "max     179.0\n",
       "Name: 3, dtype: float64"
      ]
     },
     "execution_count": 7,
     "metadata": {},
     "output_type": "execute_result"
    }
   ],
   "source": [
    "pos_texts[3].apply(lambda x: len(x)).describe()[[\"mean\", \"std\", \"min\", \"max\"]].round()"
   ]
  },
  {
   "cell_type": "markdown",
   "metadata": {
    "colab_type": "text",
    "id": "guw6ZNtaswKc"
   },
   "source": [
    "## Подготовка датасета\n"
   ]
  },
  {
   "cell_type": "code",
   "execution_count": 9,
   "metadata": {},
   "outputs": [],
   "source": [
    "sentences = np.concatenate([pos_texts[3].values, neg_texts[3].values])\n",
    "labels = np.array([[1] for _ in range(pos_texts.shape[0])] + [[0] for _ in range(neg_texts.shape[0])])"
   ]
  },
  {
   "cell_type": "code",
   "execution_count": 10,
   "metadata": {},
   "outputs": [],
   "source": [
    "assert len(sentences) == len(labels) == pos_texts.shape[0] + neg_texts.shape[0]"
   ]
  },
  {
   "cell_type": "code",
   "execution_count": 11,
   "metadata": {},
   "outputs": [
    {
     "name": "stdout",
     "output_type": "stream",
     "text": [
      "Дим, ты помогаешь мне, я тебе, все взаимно, все правильно)\n"
     ]
    }
   ],
   "source": [
    "print(sentences[1000])"
   ]
  },
  {
   "cell_type": "code",
   "execution_count": 12,
   "metadata": {},
   "outputs": [],
   "source": [
    "N = 1000\n",
    "if QUICK_RUN:\n",
    "    idx = np.random.choice(np.arange(len(sentences)), size = N)\n",
    "    sentences = sentences[idx]\n",
    "    labels = labels[idx]"
   ]
  },
  {
   "cell_type": "markdown",
   "metadata": {},
   "source": [
    "Тренировочная и тестовая выборки"
   ]
  },
  {
   "cell_type": "code",
   "execution_count": 13,
   "metadata": {},
   "outputs": [],
   "source": [
    "train_sentences, test_sentences, train_gt, test_gt = train_test_split(list(sentences), labels, test_size=0.3)\n",
    "train_sentences, val_sentences, train_gt, val_gt = train_test_split(train_sentences, train_gt, test_size=0.1)"
   ]
  },
  {
   "cell_type": "code",
   "execution_count": 14,
   "metadata": {},
   "outputs": [
    {
     "name": "stdout",
     "output_type": "stream",
     "text": [
      "630 300\n"
     ]
    }
   ],
   "source": [
    "print(len(train_gt), len(test_gt))"
   ]
  },
  {
   "cell_type": "code",
   "execution_count": 15,
   "metadata": {},
   "outputs": [],
   "source": [
    "tokenizer = AutoTokenizer.from_pretrained(\"cointegrated/rubert-tiny\")"
   ]
  },
  {
   "cell_type": "code",
   "execution_count": 16,
   "metadata": {},
   "outputs": [],
   "source": [
    "train_encodings = tokenizer(train_sentences, truncation=True, padding=True)\n",
    "val_encodings = tokenizer(val_sentences, truncation=True, padding=True)\n",
    "test_encodings = tokenizer(test_sentences, truncation=True, padding=True)"
   ]
  },
  {
   "cell_type": "markdown",
   "metadata": {},
   "source": [
    "В PyTorch принято оборачивать обучающие данные в класс. Он является наследником класса Dataset и переопределяет метод __len__ числа примеров и метод __getitem__ получения примера по индексу idx\n",
    "\n",
    "Создав датасет, его можно передать объекту DataLoader, который будет выдавать батчи, перемешивать, разбивать на обучение и тест, нормализовать данные и т.п."
   ]
  },
  {
   "cell_type": "code",
   "execution_count": 17,
   "metadata": {},
   "outputs": [],
   "source": [
    "class RuTwitterDataset(torch.utils.data.Dataset):\n",
    "    def __init__(self, encodings, labels):\n",
    "        self.encodings = encodings\n",
    "        self.labels = labels\n",
    "\n",
    "    def __getitem__(self, idx):\n",
    "        item = {key: torch.tensor(val[idx]) for key, val in self.encodings.items()}\n",
    "        item['labels'] = torch.tensor(self.labels[idx])\n",
    "        return item\n",
    "\n",
    "    def __len__(self):\n",
    "        return len(self.labels)"
   ]
  },
  {
   "cell_type": "code",
   "execution_count": 18,
   "metadata": {},
   "outputs": [],
   "source": [
    "train_dataset = RuTwitterDataset(train_encodings, train_gt)\n",
    "val_dataset = RuTwitterDataset(val_encodings, val_gt)\n",
    "test_dataset = RuTwitterDataset(test_encodings, test_gt)    "
   ]
  },
  {
   "cell_type": "code",
   "execution_count": 19,
   "metadata": {},
   "outputs": [],
   "source": [
    "train_dataloader = DataLoader(train_dataset, shuffle=True, batch_size=32)\n",
    "eval_dataloader = DataLoader(test_dataset, batch_size=32)"
   ]
  },
  {
   "cell_type": "markdown",
   "metadata": {},
   "source": [
    "### Модель"
   ]
  },
  {
   "cell_type": "code",
   "execution_count": 20,
   "metadata": {},
   "outputs": [
    {
     "name": "stderr",
     "output_type": "stream",
     "text": [
      "Some weights of the model checkpoint at cointegrated/rubert-tiny were not used when initializing BertForSequenceClassification: ['cls.predictions.transform.LayerNorm.bias', 'cls.predictions.transform.LayerNorm.weight', 'cls.seq_relationship.weight', 'cls.predictions.transform.dense.bias', 'cls.predictions.decoder.bias', 'cls.predictions.transform.dense.weight', 'cls.seq_relationship.bias', 'cls.predictions.decoder.weight', 'cls.predictions.bias']\n",
      "- This IS expected if you are initializing BertForSequenceClassification from the checkpoint of a model trained on another task or with another architecture (e.g. initializing a BertForSequenceClassification model from a BertForPreTraining model).\n",
      "- This IS NOT expected if you are initializing BertForSequenceClassification from the checkpoint of a model that you expect to be exactly identical (initializing a BertForSequenceClassification model from a BertForSequenceClassification model).\n",
      "Some weights of BertForSequenceClassification were not initialized from the model checkpoint at cointegrated/rubert-tiny and are newly initialized: ['classifier.weight', 'classifier.bias']\n",
      "You should probably TRAIN this model on a down-stream task to be able to use it for predictions and inference.\n"
     ]
    }
   ],
   "source": [
    "model = AutoModelForSequenceClassification.from_pretrained(\"cointegrated/rubert-tiny\", num_labels=2)"
   ]
  },
  {
   "cell_type": "code",
   "execution_count": 21,
   "metadata": {},
   "outputs": [],
   "source": [
    "optimizer = AdamW(model.parameters(), lr=5e-5)"
   ]
  },
  {
   "cell_type": "code",
   "execution_count": 22,
   "metadata": {},
   "outputs": [],
   "source": [
    "num_epochs = 2\n",
    "num_training_steps = num_epochs * len(train_dataloader)\n",
    "\n",
    "lr_scheduler = get_scheduler(name=\"linear\", \n",
    "                             optimizer=optimizer, \n",
    "                             num_warmup_steps=0, \n",
    "                             num_training_steps=num_training_steps\n",
    ")"
   ]
  },
  {
   "cell_type": "code",
   "execution_count": 23,
   "metadata": {},
   "outputs": [
    {
     "name": "stdout",
     "output_type": "stream",
     "text": [
      "+--------------------------------------------------------+-----+-------------+------------+---------------+----------+\n",
      "|                    Modules/Tensors                     | GPU |    Shape    | Parameters |      Type     | DataMem  |\n",
      "+--------------------------------------------------------+-----+-------------+------------+---------------+----------+\n",
      "|         bert.embeddings.word_embeddings.weight         |  +  | 29564 x 312 |  9223968   | torch.float32 | 36895872 |\n",
      "|       bert.embeddings.position_embeddings.weight       |  +  |  512 x 312  |   159744   | torch.float32 |  638976  |\n",
      "|      bert.embeddings.token_type_embeddings.weight      |  +  |   2 x 312   |    624     | torch.float32 |   2496   |\n",
      "|            bert.embeddings.LayerNorm.weight            |  +  |     312     |    312     | torch.float32 |   1248   |\n",
      "|             bert.embeddings.LayerNorm.bias             |  +  |     312     |    312     | torch.float32 |   1248   |\n",
      "|    bert.encoder.layer.0.attention.self.query.weight    |  +  |  312 x 312  |   97344    | torch.float32 |  389376  |\n",
      "|     bert.encoder.layer.0.attention.self.query.bias     |  +  |     312     |    312     | torch.float32 |   1248   |\n",
      "|     bert.encoder.layer.0.attention.self.key.weight     |  +  |  312 x 312  |   97344    | torch.float32 |  389376  |\n",
      "|      bert.encoder.layer.0.attention.self.key.bias      |  +  |     312     |    312     | torch.float32 |   1248   |\n",
      "|    bert.encoder.layer.0.attention.self.value.weight    |  +  |  312 x 312  |   97344    | torch.float32 |  389376  |\n",
      "|     bert.encoder.layer.0.attention.self.value.bias     |  +  |     312     |    312     | torch.float32 |   1248   |\n",
      "|   bert.encoder.layer.0.attention.output.dense.weight   |  +  |  312 x 312  |   97344    | torch.float32 |  389376  |\n",
      "|    bert.encoder.layer.0.attention.output.dense.bias    |  +  |     312     |    312     | torch.float32 |   1248   |\n",
      "| bert.encoder.layer.0.attention.output.LayerNorm.weight |  +  |     312     |    312     | torch.float32 |   1248   |\n",
      "|  bert.encoder.layer.0.attention.output.LayerNorm.bias  |  +  |     312     |    312     | torch.float32 |   1248   |\n",
      "|     bert.encoder.layer.0.intermediate.dense.weight     |  +  |  600 x 312  |   187200   | torch.float32 |  748800  |\n",
      "|      bert.encoder.layer.0.intermediate.dense.bias      |  +  |     600     |    600     | torch.float32 |   2400   |\n",
      "|        bert.encoder.layer.0.output.dense.weight        |  +  |  312 x 600  |   187200   | torch.float32 |  748800  |\n",
      "|         bert.encoder.layer.0.output.dense.bias         |  +  |     312     |    312     | torch.float32 |   1248   |\n",
      "|      bert.encoder.layer.0.output.LayerNorm.weight      |  +  |     312     |    312     | torch.float32 |   1248   |\n",
      "|       bert.encoder.layer.0.output.LayerNorm.bias       |  +  |     312     |    312     | torch.float32 |   1248   |\n",
      "|    bert.encoder.layer.1.attention.self.query.weight    |  +  |  312 x 312  |   97344    | torch.float32 |  389376  |\n",
      "|     bert.encoder.layer.1.attention.self.query.bias     |  +  |     312     |    312     | torch.float32 |   1248   |\n",
      "|     bert.encoder.layer.1.attention.self.key.weight     |  +  |  312 x 312  |   97344    | torch.float32 |  389376  |\n",
      "|      bert.encoder.layer.1.attention.self.key.bias      |  +  |     312     |    312     | torch.float32 |   1248   |\n",
      "|    bert.encoder.layer.1.attention.self.value.weight    |  +  |  312 x 312  |   97344    | torch.float32 |  389376  |\n",
      "|     bert.encoder.layer.1.attention.self.value.bias     |  +  |     312     |    312     | torch.float32 |   1248   |\n",
      "|   bert.encoder.layer.1.attention.output.dense.weight   |  +  |  312 x 312  |   97344    | torch.float32 |  389376  |\n",
      "|    bert.encoder.layer.1.attention.output.dense.bias    |  +  |     312     |    312     | torch.float32 |   1248   |\n",
      "| bert.encoder.layer.1.attention.output.LayerNorm.weight |  +  |     312     |    312     | torch.float32 |   1248   |\n",
      "|  bert.encoder.layer.1.attention.output.LayerNorm.bias  |  +  |     312     |    312     | torch.float32 |   1248   |\n",
      "|     bert.encoder.layer.1.intermediate.dense.weight     |  +  |  600 x 312  |   187200   | torch.float32 |  748800  |\n",
      "|      bert.encoder.layer.1.intermediate.dense.bias      |  +  |     600     |    600     | torch.float32 |   2400   |\n",
      "|        bert.encoder.layer.1.output.dense.weight        |  +  |  312 x 600  |   187200   | torch.float32 |  748800  |\n",
      "|         bert.encoder.layer.1.output.dense.bias         |  +  |     312     |    312     | torch.float32 |   1248   |\n",
      "|      bert.encoder.layer.1.output.LayerNorm.weight      |  +  |     312     |    312     | torch.float32 |   1248   |\n",
      "|       bert.encoder.layer.1.output.LayerNorm.bias       |  +  |     312     |    312     | torch.float32 |   1248   |\n",
      "|    bert.encoder.layer.2.attention.self.query.weight    |  +  |  312 x 312  |   97344    | torch.float32 |  389376  |\n",
      "|     bert.encoder.layer.2.attention.self.query.bias     |  +  |     312     |    312     | torch.float32 |   1248   |\n",
      "|     bert.encoder.layer.2.attention.self.key.weight     |  +  |  312 x 312  |   97344    | torch.float32 |  389376  |\n",
      "|      bert.encoder.layer.2.attention.self.key.bias      |  +  |     312     |    312     | torch.float32 |   1248   |\n",
      "|    bert.encoder.layer.2.attention.self.value.weight    |  +  |  312 x 312  |   97344    | torch.float32 |  389376  |\n",
      "|     bert.encoder.layer.2.attention.self.value.bias     |  +  |     312     |    312     | torch.float32 |   1248   |\n",
      "|   bert.encoder.layer.2.attention.output.dense.weight   |  +  |  312 x 312  |   97344    | torch.float32 |  389376  |\n",
      "|    bert.encoder.layer.2.attention.output.dense.bias    |  +  |     312     |    312     | torch.float32 |   1248   |\n",
      "| bert.encoder.layer.2.attention.output.LayerNorm.weight |  +  |     312     |    312     | torch.float32 |   1248   |\n",
      "|  bert.encoder.layer.2.attention.output.LayerNorm.bias  |  +  |     312     |    312     | torch.float32 |   1248   |\n",
      "|     bert.encoder.layer.2.intermediate.dense.weight     |  +  |  600 x 312  |   187200   | torch.float32 |  748800  |\n",
      "|      bert.encoder.layer.2.intermediate.dense.bias      |  +  |     600     |    600     | torch.float32 |   2400   |\n",
      "|        bert.encoder.layer.2.output.dense.weight        |  +  |  312 x 600  |   187200   | torch.float32 |  748800  |\n",
      "|         bert.encoder.layer.2.output.dense.bias         |  +  |     312     |    312     | torch.float32 |   1248   |\n",
      "|      bert.encoder.layer.2.output.LayerNorm.weight      |  +  |     312     |    312     | torch.float32 |   1248   |\n",
      "|       bert.encoder.layer.2.output.LayerNorm.bias       |  +  |     312     |    312     | torch.float32 |   1248   |\n",
      "|                bert.pooler.dense.weight                |  +  |  312 x 312  |   97344    | torch.float32 |  389376  |\n",
      "|                 bert.pooler.dense.bias                 |  +  |     312     |    312     | torch.float32 |   1248   |\n",
      "|                   classifier.weight                    |  +  |   2 x 312   |    624     | torch.float32 |   2496   |\n",
      "|                    classifier.bias                     |  +  |      2      |     2      | torch.float32 |    8     |\n",
      "+--------------------------------------------------------+-----+-------------+------------+---------------+----------+\n",
      "Total Trainable Params: 11784794\n",
      "Total memory (min): 46,034.35 KB\n"
     ]
    },
    {
     "data": {
      "text/plain": [
       "11784794"
      ]
     },
     "execution_count": 23,
     "metadata": {},
     "output_type": "execute_result"
    }
   ],
   "source": [
    "model.to(device)\n",
    "count_parameters(model)"
   ]
  },
  {
   "cell_type": "markdown",
   "metadata": {
    "colab_type": "text",
    "id": "pNl8khAhPYju"
   },
   "source": [
    "## Обучение модели"
   ]
  },
  {
   "cell_type": "markdown",
   "metadata": {},
   "source": [
    "Авторы статьи про BERT советуют выбирать: \n",
    "- learning rate из следующего списка: $5 \\cdot 10^{-5}, 3 \\cdot 10^{-5}, 2 \\cdot 10^{-5}$, \n",
    "- количество эпох дообучения: 2, 3, 4.\n",
    "- размер батча: 16, 32\n",
    "\n",
    "### Оптимизатор с \"регуляризацией\"\n",
    "\n",
    "`AdamW` - это реализация `Adam` с применением **Weight Decay**. \n",
    "\n",
    "Что такое Weight Decay? При каждом обновлении веса давайте кроме движения в сторону антиградиента еще и будем вычитать маленький кусочек веса, умноженный на некоторый гиперпараметр. Например, формула стохастического градиентного спуска с применением Weight Decay будет выглядеть так:\n",
    "\n",
    "$w = w - lr * \\dfrac{\\partial L}{\\partial w} - lr * wd * w$ \n",
    "\n",
    "Здесь lr - learning rate, wd - weight decay, гиперпараметр.\n",
    "\n",
    "Если Вы внимательно посмотрите на эту формулу, то заметите, что в случае стохастического градиентного спуска Weight Decay эквивалентен применению L2-регуляризации к loss-функции:\n",
    "\n",
    "$$L_{new} = L + \\dfrac{wd}{2} ||w||^2 \\\\\n",
    " \n",
    "\\dfrac{\\partial (L_{new})}{\\partial w} = \\dfrac{\\partial L}{\\partial w} + wd \\cdot w \\\\\n",
    "\n",
    "w = w - lr \\cdot \\dfrac{\\partial L_{new}}{\\partial w} = w - lr * \\dfrac{\\partial L}{\\partial w} - lr * wd * w $$\n",
    "\n",
    "Однако, L2-регуляризация (**меняем loss-функцию**) и Weight Decay (**не меняем loss-функцию**, меняем только способ обновления весов) работают одинаково только в простом случае стохастического градиентного спуска, в случае адаптивных оптимизаторов, например, Адама, эти два подхода различаются (причем эмпирически было показано, что часто Weight Decay работает лучше). Вся эта история породила некоторую путаницу в терминилогии, и во многих библиотеках Адам реализовали именно с применением L2-регуляризации, ошибочно называя такой подход Weight Decay.  Авторы статьи [Decoupled Weight Decay Regularization](https://arxiv.org/abs/1711.05101) решили разграничить Adam+L2 и Adam+Weight Decay, назвав последнее AdamW."
   ]
  },
  {
   "cell_type": "code",
   "execution_count": 24,
   "metadata": {
    "colab": {},
    "colab_type": "code",
    "id": "QxSMw0FrptiL"
   },
   "outputs": [
    {
     "data": {
      "image/png": "[encoded data removed]",
      "text/plain": [
       "<Figure size 432x288 with 1 Axes>"
      ]
     },
     "metadata": {
      "needs_background": "light"
     },
     "output_type": "display_data"
    },
    {
     "name": "stderr",
     "output_type": "stream",
     "text": [
      "100%|██████████| 40/40 [00:11<00:00,  3.65it/s]"
     ]
    }
   ],
   "source": [
    "from IPython.display import clear_output\n",
    "\n",
    "progress_bar = tqdm(range(num_training_steps))\n",
    "loss_set = []\n",
    "\n",
    "model.train()\n",
    "for epoch in range(num_epochs):\n",
    "    for batch in train_dataloader:\n",
    "        batch = {k: v.to(device) for k, v in batch.items()}\n",
    "        outputs = model(**batch)\n",
    "        loss = outputs.loss\n",
    "        loss.backward()\n",
    "\n",
    "        optimizer.step()\n",
    "        lr_scheduler.step()\n",
    "        optimizer.zero_grad()\n",
    "\n",
    "        loss_set.append(loss.detach().cpu())  \n",
    "        # Рисуем график\n",
    "        clear_output(True)\n",
    "        plt.plot(loss_set)\n",
    "        plt.title(\"Training loss\")\n",
    "        plt.xlabel(\"Batch\")\n",
    "        plt.ylabel(\"Loss\")\n",
    "        plt.show()\n",
    "        # break\n",
    "        progress_bar.update(1)"
   ]
  },
  {
   "cell_type": "markdown",
   "metadata": {},
   "source": [
    "### Цикл обучения\n",
    "\n",
    "На самом деле это 1 итерация цикла (1 эпоха), если надо, можно еще раз тыкнуть ичейку.\n",
    "\n",
    "- переводим модель в train mode, \n",
    "- распаковываем входные данные (вектор с индексами токенов и метки классов)\n",
    "- помещаем наши данные на GPU с помощью \n",
    "- не забываем очистить градиенты с прошлого шага с помощью `zero_grad()` \n",
    "- делаем forward pass, считаем loss, затем делаем backward pass, считаем градиенты, \n",
    "- дальше — стандартно — делаем optimizer.step(). \n",
    " \n",
    "Кроме того, в процессе обучения мы будем рисовать график и считать лосс. В конце каждой эпохи (в нашем случае — в конце единственной эпохи) посчитаем лосс на нашей обучающей выборке.\n",
    "\n",
    "- нет никакой необходимости проходить по всему тренировочному датасету (делать всю эпоху)\n",
    "  - где-то после третери лосс не отлипает от 0\n",
    "  - точность на валидации при этом получилась 99.96%\n",
    "  - на GPU на старой видеокарте: ~5 мин."
   ]
  },
  {
   "cell_type": "markdown",
   "metadata": {
    "colab_type": "text",
    "id": "mkyubuJSOzg3"
   },
   "source": [
    "# Оценка качества на отложенной выборке"
   ]
  },
  {
   "cell_type": "markdown",
   "metadata": {},
   "source": [
    "По идее должно быть\n",
    "\n",
    "    from datasets import load_metric\n",
    "    metric = load_metric(\"accuracy\")\n",
    "\n",
    "Но такого чет нету"
   ]
  },
  {
   "cell_type": "code",
   "execution_count": 25,
   "metadata": {
    "colab": {},
    "colab_type": "code",
    "id": "mAN0LZBOOPVh"
   },
   "outputs": [
    {
     "name": "stdout",
     "output_type": "stream",
     "text": [
      "Процент правильных предсказаний на отложенной выборке: 90.33%\n"
     ]
    }
   ],
   "source": [
    "model.eval()\n",
    "\n",
    "valid_preds, valid_labels = [], []\n",
    "\n",
    "for batch in eval_dataloader:\n",
    "    batch = {k: v.to(device) for k, v in batch.items()}\n",
    "    with torch.no_grad():\n",
    "        outputs = model(**batch)\n",
    "\n",
    "    logits = outputs.logits\n",
    "    predictions = torch.argmax(logits, dim=-1)\n",
    "\n",
    "    valid_preds.extend(predictions.detach().cpu().tolist())\n",
    "    valid_labels.extend(batch[\"labels\"].detach().cpu().tolist())\n",
    "\n",
    "\n",
    "print(\"Процент правильных предсказаний на отложенной выборке: {0:.2f}%\".format(\n",
    "    accuracy_score(valid_labels, valid_preds) * 100\n",
    "))"
   ]
  },
  {
   "cell_type": "code",
   "execution_count": 26,
   "metadata": {},
   "outputs": [
    {
     "name": "stdout",
     "output_type": "stream",
     "text": [
      "Неправильных предсказаний: 29/300\n"
     ]
    }
   ],
   "source": [
    "print('Неправильных предсказаний: {0}/{1}'.format(\n",
    "    sum([z[0][0] != z[1] for z in zip(valid_labels,  valid_preds)]),    # (!)\n",
    "    len(valid_labels)\n",
    "))"
   ]
  },
  {
   "cell_type": "markdown",
   "metadata": {},
   "source": [
    "Если пройти всю эпоху, то точность 99,98% (11 ошибок на 68051).\n",
    "- на самом деле это с такой точностью сеть уловила алгоритм, которым делалась авторазметка текста по смайликам. \n",
    "- там была некоторая функция, она без всякого шума, отсюда такая точность \n",
    "- поэтому вот пожалуйста, копия этой \"неизвестной\" функции в виде нейросети"
   ]
  }
 ],
 "metadata": {
  "accelerator": "GPU",
  "colab": {
   "collapsed_sections": [],
   "name": "BERT Fine-Tuning Sentence Classification.ipynb",
   "provenance": [],
   "toc_visible": true
  },
  "kernelspec": {
   "display_name": "Python 3",
   "language": "python",
   "name": "python3"
  },
  "language_info": {
   "codemirror_mode": {
    "name": "ipython",
    "version": 3
   },
   "file_extension": ".py",
   "mimetype": "text/x-python",
   "name": "python",
   "nbconvert_exporter": "python",
   "pygments_lexer": "ipython3",
   "version": "3.9.11"
  }
 },
 "nbformat": 4,
 "nbformat_minor": 1
}
