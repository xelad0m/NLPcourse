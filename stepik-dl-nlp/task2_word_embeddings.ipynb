{
 "cells": [
  {
   "cell_type": "markdown",
   "metadata": {},
   "source": [
    "# Word2Vec"
   ]
  },
  {
   "cell_type": "code",
   "execution_count": 1,
   "metadata": {},
   "outputs": [],
   "source": [
    "# Если Вы запускаете ноутбук на colab или kaggle,\n",
    "# выполните следующие строчки, чтобы подгрузить библиотеку dlnlputils:\n",
    "\n",
    "# !git clone https://github.com/Samsung-IT-Academy/stepik-dl-nlp.git && pip install -r stepik-dl-nlp/requirements.txt\n",
    "# import sys; sys.path.append('./stepik-dl-nlp')"
   ]
  },
  {
   "cell_type": "code",
   "execution_count": 2,
   "metadata": {
    "ExecuteTime": {
     "end_time": "2019-10-29T19:19:30.785285Z",
     "start_time": "2019-10-29T19:19:29.542846Z"
    }
   },
   "outputs": [],
   "source": [
    "%load_ext autoreload\n",
    "%autoreload 2\n",
    "\n",
    "import random\n",
    "import pandas as pd\n",
    "import numpy as np\n",
    "\n",
    "import matplotlib.pyplot as plt\n",
    "%matplotlib inline\n",
    "\n",
    "import torch\n",
    "from torch import nn\n",
    "from torch.nn import functional as F\n",
    "\n",
    "import dlnlputils\n",
    "from dlnlputils.data import tokenize_corpus, build_vocabulary, texts_to_token_ids, \\\n",
    "    PaddedSequenceDataset, Embeddings\n",
    "from dlnlputils.pipeline import train_eval_loop, predict_with_model, init_random_seed\n",
    "from dlnlputils.visualization import plot_vectors\n",
    "\n",
    "init_random_seed()"
   ]
  },
  {
   "cell_type": "markdown",
   "metadata": {},
   "source": [
    "## Загрузка данных и подготовка корпуса\n",
    "\n",
    "Датасет из рецептов: \n",
    "- берем только тексты, разметка не нужна\n",
    "- разбиваем на обучающую и тестовую часть (70/30)\n",
    "- выводим примеры текстов"
   ]
  },
  {
   "cell_type": "code",
   "execution_count": 3,
   "metadata": {
    "ExecuteTime": {
     "end_time": "2019-10-29T19:19:31.270503Z",
     "start_time": "2019-10-29T19:19:30.787789Z"
    }
   },
   "outputs": [
    {
     "name": "stdout",
     "output_type": "stream",
     "text": [
      "Обучающая выборка 125344\n",
      "Тестовая выборка 53719\n",
      "\n",
      "1/4 cup sour cream\n",
      "10 ounces swordfish, red snapper or other firm-fleshed fish\n",
      "1 tablespoon minced basil leaves\n",
      "Handful fresh parsley, finely minced\n",
      "4 ounces lard or butter, plus more for brushing tops\n",
      "4 to 5 green cardamom pods\n",
      "1 stick ( 1/4 pound) unsalted butter, softened\n",
      "1/4 teaspoon red pepper flakes, preferably Turkish or Aleppo (see note), more to taste\n",
      "1 tablespoon fresh lemon juice\n",
      "1/4 cup scallions, thinly sliced\n"
     ]
    }
   ],
   "source": [
    "# Если Вы запускаете ноутбук на colab или kaggle, добавьте в начало пути ./stepik-dl-nlp\n",
    "full_dataset = list(pd.read_csv('./datasets/nyt-ingredients-snapshot-2015.csv')['input'].dropna())\n",
    "random.shuffle(full_dataset)\n",
    "\n",
    "TRAIN_VAL_SPLIT = int(len(full_dataset) * 0.7)\n",
    "train_source = full_dataset[:TRAIN_VAL_SPLIT]\n",
    "test_source = full_dataset[TRAIN_VAL_SPLIT:]\n",
    "print(\"Обучающая выборка\", len(train_source))\n",
    "print(\"Тестовая выборка\", len(test_source))\n",
    "print()\n",
    "print('\\n'.join(train_source[:10]))"
   ]
  },
  {
   "cell_type": "markdown",
   "metadata": {},
   "source": [
    "**Токенизация**\n",
    "\n",
    "- на регулярках\n",
    "- отбросили очень короткие токены (cup не прошел например)\n",
    "- вывели примеры токенизированных текстов"
   ]
  },
  {
   "cell_type": "code",
   "execution_count": 4,
   "metadata": {
    "ExecuteTime": {
     "end_time": "2019-10-29T19:19:32.137838Z",
     "start_time": "2019-10-29T19:19:31.272363Z"
    }
   },
   "outputs": [
    {
     "name": "stdout",
     "output_type": "stream",
     "text": [
      "sour cream\n",
      "ounces swordfish snapper other firm fleshed fish\n",
      "tablespoon minced basil leaves\n",
      "handful fresh parsley finely minced\n",
      "ounces lard butter plus more brushing tops\n",
      "green cardamom pods\n",
      "stick pound unsalted butter softened\n",
      "teaspoon pepper flakes preferably turkish aleppo note more taste\n",
      "tablespoon fresh lemon juice\n",
      "scallions thinly sliced\n"
     ]
    }
   ],
   "source": [
    "# токенизируем\n",
    "train_tokenized = tokenize_corpus(train_source)\n",
    "test_tokenized = tokenize_corpus(test_source)\n",
    "print('\\n'.join(' '.join(sent) for sent in train_tokenized[:10]))"
   ]
  },
  {
   "cell_type": "markdown",
   "metadata": {},
   "source": [
    "- убираем редкие слова (<=5), по ним не будет статистики и векторное представление будет \"пальцем в небо\"\n",
    "- убираем частные слова (есть в >90% документов), они практически не несут информацию о смысле (союзы и т.п.)\n",
    "\n",
    "Добавляем в словарь **фиктивный токен** (с индексом 0). Нужен для выравнивания, им дополняются предложения разной длины, чтобы вписать в прямоуголный тензор.\n",
    "\n",
    "Словарь получился лаконичный: 2,3 тыс. слов"
   ]
  },
  {
   "cell_type": "code",
   "execution_count": 5,
   "metadata": {
    "ExecuteTime": {
     "end_time": "2019-10-29T19:19:32.325205Z",
     "start_time": "2019-10-29T19:19:32.140837Z"
    }
   },
   "outputs": [
    {
     "name": "stdout",
     "output_type": "stream",
     "text": [
      "Размер словаря 2267\n",
      "[('<PAD>', 0), ('tablespoons', 1), ('teaspoon', 2), ('chopped', 3), ('salt', 4), ('pepper', 5), ('cups', 6), ('ground', 7), ('fresh', 8), ('tablespoon', 9)]\n"
     ]
    }
   ],
   "source": [
    "# строим словарь\n",
    "vocabulary, word_doc_freq = build_vocabulary(train_tokenized, max_doc_freq=0.9, min_count=5, pad_word='<PAD>')\n",
    "print(\"Размер словаря\", len(vocabulary))\n",
    "print(list(vocabulary.items())[:10])"
   ]
  },
  {
   "cell_type": "markdown",
   "metadata": {},
   "source": [
    "- токены заменяются индексами"
   ]
  },
  {
   "cell_type": "code",
   "execution_count": 6,
   "metadata": {
    "ExecuteTime": {
     "end_time": "2019-10-29T19:19:32.686258Z",
     "start_time": "2019-10-29T19:19:32.327711Z"
    }
   },
   "outputs": [
    {
     "name": "stdout",
     "output_type": "stream",
     "text": [
      "222 52\n",
      "22 878 574 127 246 707 181\n",
      "9 19 88 33\n",
      "517 8 43 15 19\n",
      "22 586 20 45 47 648 649\n",
      "59 329 535\n",
      "200 12 50 20 266\n",
      "2 5 140 78 1208 735 153 47 10\n",
      "9 8 31 25\n",
      "98 65 27\n"
     ]
    }
   ],
   "source": [
    "# отображаем в номера токенов\n",
    "train_token_ids = texts_to_token_ids(train_tokenized, vocabulary)\n",
    "test_token_ids = texts_to_token_ids(test_tokenized, vocabulary)\n",
    "\n",
    "print('\\n'.join(' '.join(str(t) for t in sent)\n",
    "                for sent in train_token_ids[:10]))"
   ]
  },
  {
   "cell_type": "markdown",
   "metadata": {},
   "source": [
    "- большая часть предложений укладывается в 15 токенов, средняя длина предложения (в рецептах на ангийском) - 3 токена."
   ]
  },
  {
   "cell_type": "code",
   "execution_count": 7,
   "metadata": {
    "ExecuteTime": {
     "end_time": "2019-10-29T19:19:32.967989Z",
     "start_time": "2019-10-29T19:19:32.688319Z"
    }
   },
   "outputs": [
    {
     "data": {
      "image/png": "[encoded data removed]",
      "text/plain": [
       "<Figure size 432x288 with 1 Axes>"
      ]
     },
     "metadata": {
      "needs_background": "light"
     },
     "output_type": "display_data"
    }
   ],
   "source": [
    "plt.hist([len(s) for s in train_token_ids], bins=20);\n",
    "plt.title('Гистограмма длин предложений');"
   ]
  },
  {
   "cell_type": "markdown",
   "metadata": {},
   "source": [
    "- создаем объекты датасетов `PaddedSequenceDataset`:\n",
    "    - выдают объекты-тензоры для заданного текста, которые подаются в нейросеть\n",
    "    - нужны для эффективной пакетной обработки, чтобы можно было параллельно обрабатывать на GPU\n",
    "    - модели могут работать только с тензорами, а тензор — это такая \"прямоугольная\" конструкция, она не может иметь \"неровный край\"\n",
    "    - в этой \"подавалке\" добавляются 0\n",
    "\n",
    "`PaddedSequenceDataset`:\n",
    "- может говорить свою длину (то есть, сколько предложений в нём есть, сколько текстов), \n",
    "- умеет возвращать предложение по номеру\n",
    "    - если предложение короче некоторой заданной длины, то он добавляет нули в конец этого предложения\n",
    "    - если предложение длиннее установленного порога, то он его обрезает, то есть берёт только префикс предложения\n",
    "\n",
    "Эта функция возвращает пары — а именно \"текст\" и \"какая-то метка\", которую по этому тексту нужно предсказывать. Но в данной задаче мы метку не будем использовать.\n",
    "\n",
    "\\*) тут кстати было бы полезно использовать механизм протоколов, введенный в питоне 3.10 и поддержка которого появилась в торче 0.11.2, но на моем старичке GF760 ограничение sm_30 и торч 11 ему недоступен, именно поэтому пришлось компилировать питон 3.9 и торч с поддержкой sm_30."
   ]
  },
  {
   "cell_type": "code",
   "execution_count": 8,
   "metadata": {
    "ExecuteTime": {
     "end_time": "2019-10-29T19:19:33.001487Z",
     "start_time": "2019-10-29T19:19:32.970153Z"
    }
   },
   "outputs": [
    {
     "name": "stdout",
     "output_type": "stream",
     "text": [
      "(tensor([222,  52,   0,   0,   0,   0,   0,   0,   0,   0,   0,   0,   0,   0,\n",
      "          0,   0,   0,   0,   0,   0]), tensor(0))\n"
     ]
    }
   ],
   "source": [
    "# из гистограммы - это более менее норм порог, отбросится не много, нулей будет не много\n",
    "MAX_SENTENCE_LEN = 20   \n",
    "\n",
    "train_dataset = PaddedSequenceDataset(train_token_ids,\n",
    "                                      np.zeros(len(train_token_ids)),\n",
    "                                      out_len=MAX_SENTENCE_LEN)\n",
    "test_dataset = PaddedSequenceDataset(test_token_ids,\n",
    "                                     np.zeros(len(test_token_ids)),\n",
    "                                     out_len=MAX_SENTENCE_LEN)\n",
    "print(train_dataset[0])"
   ]
  },
  {
   "cell_type": "markdown",
   "metadata": {},
   "source": [
    "### Видеокарты в вычислении\n",
    "\n",
    "Видеокарты (это основные вычислители, которые сейчас используются для обучения нейросетей) умеют делать хорошо только достаточно простые операции, и, при этом, они умеют делать эти простые операции параллельно. \n",
    "\n",
    "Допустим, если нам нужно перемножить две матрицы, то в видеокарте запускается несколько тысяч потоков, каждый поток из этих тысяч, по сути, делает только 1-2 перемножения, и всё — и возвращает результат. При этом мы получаем очень большое ускорение. \n",
    "\n",
    "Но проблема в том, что данные исходные у нас не лежат на видеокарте, они лежат у нас во внешней памяти на жёстком диске. \n",
    "\n",
    "Сначала мы их загружаем с жёсткого диска в оперативную память, как-то предобрабатываем (например — так, как мы это сейчас обсудили), и только потом копируем в память видеокарты. Эта процедура копирования занимает значительное время. Это гораздо дороже, чем скопировать память внутри видеокарты или внутри оперативной памяти. \n",
    "\n",
    "И поэтому мы хотим минимизировать количество переносов данных из оперативной памяти в память видеокарты, и наоборот. Для этого нам нужно объединять наши обучающие примеры в батчи (в группы), и мы описываем нашу модель, наш процесс обучения, таким образом, чтобы он поддерживал обработку нескольких обучающих примеров за раз. \n",
    "\n",
    "Естественно, чем больше данных за раз мы загрузили в видеокарту, тем более эффективно мы можем использовать возможности параллельных вычислений. Все потоки будут хорошо загружены."
   ]
  },
  {
   "cell_type": "markdown",
   "metadata": {},
   "source": [
    "## Алгоритм обучения - Skip Gram Negative Sampling\n",
    "\n",
    "**Skip Gram** - предсказываем соседние слова по центральному слову.\n",
    "\n",
    "Каждому слову сопоставлены 2 вектора (когда оно - центральное и когда оно - контекст). Для этого создает две матрицы W, D\n",
    "\n",
    "\n",
    "$$ W, D \\in \\mathbb{R}^{Vocab \\times EmbSize} $$\n",
    "\n",
    "Условное распределение слов в окне (контекста), когда известно центральное слово (размер окна порядка 5 слов):\n",
    "\n",
    "$$ \\sum_{CenterW_i} P(CtxW_{-2}, CtxW_{-1}, CtxW_{+1}, CtxW_{+2} | CenterW_i; W, D) \\rightarrow \\max_{W,D} $$\n",
    "\n",
    "В общем виде почти не решается, берется предположение о независимости слов в контексте (для каждого слова смотрится отдельно встречаемость вместе с центральным словом, частоты (оценки вероятности) перемножаются): \n",
    "\n",
    "$$ P(CtxW_{-2}, CtxW_{-1}, CtxW_{+1}, CtxW_{+2} | CenterW_i; W, D) = \\prod_j P(CtxW_j | CenterW_i; W, D) $$\n",
    "\n",
    "**Negative Sampling** - аппроксимация softmax случайным подмножеством словаря\n",
    "\n",
    "Софтмакс переводит вещественный вектор произвольного диапазона в [0,1] по типу сигмоиды (как бы у нас внутре нормальное распределение):\n",
    "$$ P(CtxW_j | CenterW_i; W, D) = \\frac{e^{w_i \\cdot d_j}} { \\sum_{j=1}^{|V|} e^{w_i \\cdot d_j}} = softmax \\simeq \\frac{e^{w_i \\cdot d_j^+}} { \\sum_{j=1}^{k} e^{w_i \\cdot d_j^-}}, \\quad k \\ll |V| $$\n",
    "\n",
    "В софтмакс подаются оценки сходства слов, под которым понимаем скалярное произведение векторов этих слов ($w_i \\cdot d_j$). \n",
    "Для центрального словая вектор берется из W, для контекстного - из D.\n",
    "\n",
    "Проблема, в том, что сумма должна братся по очень большому числу слагаемых (по всему словарю). Вместо этого мы берем сумму по случайному подмножеству словаря - оцена остается несмещенной состоятельной, просто растет дисперсия оценки."
   ]
  },
  {
   "cell_type": "markdown",
   "metadata": {},
   "source": [
    "**Вспомогательная функция для создания матрицы маски окна**:\n",
    "- модель принимает на вход целое предложение и должна оценивать вероятности встречаемости двух слов внутри небольшого окна\n",
    "- нужно игнорировать факты совместной встречаемости слов в одном предложении, но — далеко друг от друга, за пределами окна\n",
    "- сторона матрицы равна длине предложения, с которым мы работаем, все элементы в этой матрице — нулевые, за исключением двух полосок вдоль главной диагонали\n",
    "- каждая строка маски - сдвиг окна и учет только тех слов, где стоит 1\n",
    "- позволяет реализовать эффективную пакетную обработку на видеокарте"
   ]
  },
  {
   "cell_type": "code",
   "execution_count": 9,
   "metadata": {
    "ExecuteTime": {
     "end_time": "2019-10-29T19:19:33.065376Z",
     "start_time": "2019-10-29T19:19:33.003081Z"
    }
   },
   "outputs": [
    {
     "data": {
      "text/plain": [
       "tensor([[0., 1., 1., 1., 0., 0., 0., 0., 0., 0.],\n",
       "        [1., 0., 1., 1., 1., 0., 0., 0., 0., 0.],\n",
       "        [1., 1., 0., 1., 1., 1., 0., 0., 0., 0.],\n",
       "        [1., 1., 1., 0., 1., 1., 1., 0., 0., 0.],\n",
       "        [0., 1., 1., 1., 0., 1., 1., 1., 0., 0.],\n",
       "        [0., 0., 1., 1., 1., 0., 1., 1., 1., 0.],\n",
       "        [0., 0., 0., 1., 1., 1., 0., 1., 1., 1.],\n",
       "        [0., 0., 0., 0., 1., 1., 1., 0., 1., 1.],\n",
       "        [0., 0., 0., 0., 0., 1., 1., 1., 0., 1.],\n",
       "        [0., 0., 0., 0., 0., 0., 1., 1., 1., 0.]])"
      ]
     },
     "execution_count": 9,
     "metadata": {},
     "output_type": "execute_result"
    }
   ],
   "source": [
    "def make_diag_mask(size, radius):\n",
    "    \"\"\"Квадратная матрица размера Size x Size с двумя полосами ширины radius вдоль главной диагонали\"\"\"\n",
    "    idxs = torch.arange(size)\n",
    "    abs_idx_diff = (idxs.unsqueeze(0) - idxs.unsqueeze(1)).abs()\n",
    "    mask = ((abs_idx_diff <= radius) & (abs_idx_diff > 0)).float()\n",
    "    return mask\n",
    "\n",
    "make_diag_mask(10, 3)"
   ]
  },
  {
   "cell_type": "markdown",
   "metadata": {},
   "source": [
    "Короче говоря, **задача обучения word2vec** сводится к обучению классификатора, который, имея два идентификатора слова (два номера токена) предсказывает — могут они встретиться вместе, или не могут."
   ]
  },
  {
   "cell_type": "markdown",
   "metadata": {},
   "source": [
    "**Negative Sampling** работает следующим образом - мы **максимизируем сумму вероятностей двух событий**: \n",
    "\n",
    "* \"этот пример центрального слова вместе с контекстными словами взят **из тренировочной выборки**\": $$ P(y=1 | CenterW_i; CtxW_j) = sigmoid(w_i \\cdot d_j) = \\frac{1}{1+e^{-w_i \\cdot d_j}} $$\n",
    "\n",
    "$$ \\\\ $$\n",
    "\n",
    "* \"этот пример центрального слова вместе со случайми контекстными словами **выдуман** \": $$ P(y=0 | CenterW_i; CtxW_{noise}) = 1 - P(y=1 | CenterW_i;  CtxW_{noise}) = \\frac{1}{1+e^{w_i \\cdot d_{noise}}} $$\n",
    "\n",
    "$$ \\\\ $$\n",
    "\n",
    "$$ NEG(CtxW_j, CenterW_i) = log(\\frac{1}{1+e^{-w_i \\cdot d_j}}) + \\sum_{l=1}^{k}log(\\frac{1}{1+e^{w_i \\cdot d_{noise_l}}})  \\rightarrow \\max_{W,D} $$"
   ]
  },
  {
   "cell_type": "code",
   "execution_count": 32,
   "metadata": {
    "ExecuteTime": {
     "end_time": "2019-10-29T19:19:33.101379Z",
     "start_time": "2019-10-29T19:19:33.068154Z"
    }
   },
   "outputs": [],
   "source": [
    "class SkipGramNegativeSamplingTrainer(nn.Module):\n",
    "    def __init__(self, vocab_size, emb_size, sentence_len, radius=5, negative_samples_n=5):\n",
    "        super().__init__()\n",
    "        self.vocab_size = vocab_size\n",
    "        self.negative_samples_n = negative_samples_n\n",
    "\n",
    "        # хранение таблицы центральных векторов\n",
    "        self.center_emb = nn.Embedding(self.vocab_size, emb_size, padding_idx=0)\n",
    "        self.center_emb.weight.data.uniform_(-1.0 / emb_size, 1.0 / emb_size)\n",
    "        self.center_emb.weight.data[0] = 0  # для фиктивного слова вес 0, т.е. он не будет меняться при обучении\n",
    "\n",
    "        # хранение таблицы контекстных векторов\n",
    "        self.context_emb = nn.Embedding(self.vocab_size, emb_size, padding_idx=0)        \n",
    "        self.context_emb.weight.data.uniform_(-1.0 / emb_size, 1.0 / emb_size)\n",
    "        self.context_emb.weight.data[0] = 0 # для фиктивного слова вес 0, т.е. он не будет меняться при обучении\n",
    "        \n",
    "        # хранение маски\n",
    "        self.positive_sim_mask = make_diag_mask(sentence_len, radius)\n",
    "    \n",
    "    def forward(self, sentences):   \n",
    "        \"\"\"sentences - Batch x MaxSentLength - идентификаторы токенов\"\"\"\n",
    "\n",
    "        # для кажого слова из пачки получаем центральные вектора\n",
    "        batch_size = sentences.shape[0]\n",
    "        center_embeddings = self.center_emb(sentences)  # Batch x MaxSentLength x EmbSize\n",
    "\n",
    "        # оценить сходство с настоящими соседними словами\n",
    "        #   - для кажого слова из пачки получаем контекстные вектора, транспонируем (переставляем последние 2 измерения)\n",
    "        #   - torch.bmm делает матричное умножение для каждой пары векторов слов в пачке -> 3d tensor\n",
    "        #   - каждая матрица этого тензора - это оценка семантической близости этого слова с остальными в предложении\n",
    "        #   - элементы матриц - скалярные произвидения центрального слова с остальными\n",
    "        #       - на позиции ijk стоит оценка вероятности встретить k-е слово в контексте j-го слова в предложении i\n",
    "        #   - torch.sigmoid - переводит эти матрицы в вероятности (по всем парам слов в данном предложении)\n",
    "        positive_context_embs = self.context_emb(sentences).permute(0, 2, 1)  # Batch x EmbSize x MaxSentLength\n",
    "        positive_sims = torch.bmm(center_embeddings, positive_context_embs)  # Batch x MaxSentLength x MaxSentLength\n",
    "        positive_probs = torch.sigmoid(positive_sims)\n",
    "\n",
    "        # увеличить оценку вероятности встретить эти пары слов вместе\n",
    "        #   - с помощью маски отфильтровываем только те пары слов, которые встечаются в окнах\n",
    "        #       - отправляем маску на устройство, и там множим поэлементно на матрицу вероятностей\n",
    "        #   - считаем для полученных вероятностей функцию потерь, считая, что все ненулевые вероятности должны быть ==1\n",
    "        #       - ...expand_as(positive_probs) - это как бы истинные метки классов (слова по факту встретились вместе)\n",
    "        positive_mask = self.positive_sim_mask.to(positive_sims.device)\n",
    "        positive_loss = F.binary_cross_entropy(positive_probs * positive_mask,\n",
    "                                               positive_mask.expand_as(positive_probs))\n",
    "\n",
    "        # выбрать случайные \"отрицательные\" слова (считаются отдельно, т.к. отрицательные слова - это то, чего в пачке нету)\n",
    "        #   - torch.randint - случайные целые числа в заданном диапазоне (номера `отрицательных` токенов)\n",
    "        #   - берем контекстные вектора этих токенов, аналогично транспонируем\n",
    "        #   - аналогично перемножаем (получили семантическую близость случайных слов с центральными словами)\n",
    "        negative_words = torch.randint(1, self.vocab_size,\n",
    "                                       size=(batch_size, self.negative_samples_n),\n",
    "                                       device=sentences.device)  # Batch x NegSamplesN\n",
    "        negative_context_embs = self.context_emb(negative_words).permute(0, 2, 1)  # Batch x EmbSize x NegSamplesN\n",
    "        negative_sims = torch.bmm(center_embeddings, negative_context_embs)  # Batch x MaxSentLength x NegSamplesN\n",
    "        \n",
    "        # уменьшить оценку вероятность встретить эти пары слов вместе\n",
    "        #   - считаем функцию потерь полагая, что истинная вероятность случайных слов ==0 (new_zeros)\n",
    "        #   - _with_logits - позволяет не нормализовать оценки сходства (через сигмоиду, заменяющую софтмакс) \n",
    "        #       - результат примерно такой же, приводится как возможный вариант реализации\n",
    "        negative_loss = F.binary_cross_entropy_with_logits(negative_sims,\n",
    "                                                           negative_sims.new_zeros(negative_sims.shape))\n",
    "\n",
    "        return positive_loss + negative_loss\n",
    "\n",
    "\n",
    "def no_loss(pred, target):\n",
    "    \"\"\"Фиктивная функция потерь - когда модель сама считает функцию потерь\"\"\"\n",
    "    return pred"
   ]
  },
  {
   "cell_type": "markdown",
   "metadata": {},
   "source": [
    "Некоторые особенности инициализации:\n",
    "- по умолчанию `torch.nn.Embedding` заполняется нормальным шумом, для `word2vec` нужен равномерный шум:\n",
    "    - почему? точно не понятно, скорее всего отголоски \"проклятия размерности\" - нормальный шум будет локализован в совсем маленьком гипершарике (тем меньше, чем больше размерность), а равномерный позволит охватить большее пространство, следовательно больший шанс что вектора в итоге скатяться по градиенту в больее глобальный минимум, но это только догадки...\n",
    "    - диапазон шума - обратно пропорционально величине эмбеддинга (размерности вектора), просто эмпирически, чтобы не было больших значений и было мало нулей, которые при градиентном спуске часто дают небольшие локальные минимумы с маленьким градиентом, откуда долго выбираться\n",
    "\n",
    "`forward` - традиционное название для метода получения предсказания от нейросетевой модели, но в данном случае он дает значение функции потерь, поэтому получается, что это у нас не модель, а просто алгоритм обучения (`...Trainer`)\n",
    "\n",
    "В названии алгоритма есть слова \"negative sampling\", то есть сэмплирование отрицательных слов. Это достаточно буквальное название, то есть в качестве отрицательных слов мы выбираем случайные слова. В данном примере мы выбираем слова равномерно. В более продвинутых реализациях в качестве отрицательных слов используются более редкие слова, то есть сэмплирование уже идёт не равномерно, а с учётом частоты встречаемости каждого слова в обучающей выборке. Но, для простоты, мы опустим эти детали здесь. \n",
    "    "
   ]
  },
  {
   "cell_type": "markdown",
   "metadata": {},
   "source": [
    "## Обучение\n",
    "\n",
    "В экземпляр обучалки передаем\n",
    "- длину словаря\n",
    "- размер эмбеддингов, который мы строим\n",
    "- максимальную длину предложний\n",
    "- ширину окна\n",
    "- количество негативных примеров для оценки отрицательных слов\n",
    "\n",
    "Как мы выбираем размер эмбеддинга?\n",
    "\n",
    "Можно лишь сказать, что это эвристический выбор. Лучше всего – по аналогии с другими работами... Ведь это как количество нейронов в сети: если взять недостаточно – потеряете в выразительности, если взять слишком много – будет очень долгий процесс обучения и, может быть, сеть станет словно база данных по обучающим примерами (переобучение)."
   ]
  },
  {
   "cell_type": "code",
   "execution_count": 11,
   "metadata": {
    "ExecuteTime": {
     "end_time": "2019-10-29T19:19:33.130307Z",
     "start_time": "2019-10-29T19:19:33.103036Z"
    }
   },
   "outputs": [],
   "source": [
    "trainer = SkipGramNegativeSamplingTrainer(len(vocabulary), 100, MAX_SENTENCE_LEN,\n",
    "                                          radius=5, negative_samples_n=25)"
   ]
  },
  {
   "cell_type": "markdown",
   "metadata": {},
   "source": [
    "Фиктивная функция потерь `no_loss` - модель сама считает функцию потерь\n",
    "\n",
    "`ReduceLROnPlateau` - встроенный в торч метод изменения градиентного шага, заточен под залезание в минимумы типа \"оврага\"\n",
    "\n",
    "\\*) тут cuda всего лишь в 3 раза быстрее cpu"
   ]
  },
  {
   "cell_type": "code",
   "execution_count": 34,
   "metadata": {
    "ExecuteTime": {
     "end_time": "2019-10-29T19:20:12.830221Z",
     "start_time": "2019-10-29T19:19:33.132062Z"
    },
    "scrolled": false
   },
   "outputs": [
    {
     "name": "stdout",
     "output_type": "stream",
     "text": [
      "Эпоха 0\n",
      "Эпоха: 2001 итераций, 6.25 сек\n",
      "Среднее значение функции потерь на обучении 0.8767410578696744\n",
      "Среднее значение функции потерь на валидации 0.8786774248483904\n",
      "Новая лучшая модель!\n",
      "\n",
      "Эпоха 1\n",
      "Эпоха: 2001 итераций, 6.05 сек\n",
      "Среднее значение функции потерь на обучении 0.8775815696551882\n",
      "Среднее значение функции потерь на валидации 0.8783538046117514\n",
      "Новая лучшая модель!\n",
      "\n",
      "Эпоха 2\n",
      "Эпоха: 2001 итераций, 6.06 сек\n",
      "Среднее значение функции потерь на обучении 0.8784560564158858\n",
      "Среднее значение функции потерь на валидации 0.8776506648876733\n",
      "Новая лучшая модель!\n",
      "\n",
      "Эпоха 3\n",
      "Эпоха: 2001 итераций, 7.18 сек\n",
      "Среднее значение функции потерь на обучении 0.8771037552906\n",
      "Среднее значение функции потерь на валидации 0.8776329918308926\n",
      "Новая лучшая модель!\n",
      "\n",
      "Эпоха 4\n",
      "Эпоха: 2001 итераций, 6.74 сек\n",
      "Среднее значение функции потерь на обучении 0.8767598694053547\n",
      "Среднее значение функции потерь на валидации 0.8781076600191225\n",
      "Epoch     5: reducing learning rate of group 0 to 1.0000e-03.\n",
      "\n",
      "Эпоха 5\n",
      "Эпоха: 2001 итераций, 6.43 сек\n",
      "Среднее значение функции потерь на обучении 0.8736509329256328\n",
      "Среднее значение функции потерь на валидации 0.8734322957822128\n",
      "Новая лучшая модель!\n",
      "\n",
      "Эпоха 6\n",
      "Эпоха: 2001 итераций, 6.23 сек\n",
      "Среднее значение функции потерь на обучении 0.8710952859887595\n",
      "Среднее значение функции потерь на валидации 0.8718727912196275\n",
      "Новая лучшая модель!\n",
      "\n",
      "Эпоха 7\n",
      "Эпоха: 2001 итераций, 7.95 сек\n",
      "Среднее значение функции потерь на обучении 0.8699393337336497\n",
      "Среднее значение функции потерь на валидации 0.8708791521264827\n",
      "Новая лучшая модель!\n",
      "\n",
      "Эпоха 8\n",
      "Эпоха: 2001 итераций, 6.34 сек\n",
      "Среднее значение функции потерь на обучении 0.8678608030036115\n",
      "Среднее значение функции потерь на валидации 0.8703678508703157\n",
      "Новая лучшая модель!\n",
      "\n",
      "Эпоха 9\n",
      "Эпоха: 2001 итераций, 6.10 сек\n",
      "Среднее значение функции потерь на обучении 0.8679512303987186\n",
      "Среднее значение функции потерь на валидации 0.8699542941571348\n",
      "Новая лучшая модель!\n",
      "\n"
     ]
    }
   ],
   "source": [
    "best_val_loss, best_model = train_eval_loop(trainer,\n",
    "                                            train_dataset,\n",
    "                                            test_dataset,\n",
    "                                            no_loss,\n",
    "                                            lr=1e-2,\n",
    "                                            epoch_n=10, \n",
    "                                            batch_size=8,\n",
    "                                            device='cuda',\n",
    "                                            early_stopping_patience=10,\n",
    "                                            max_batches_per_epoch_train=2000,\n",
    "                                            max_batches_per_epoch_val=len(test_dataset),\n",
    "                                            lr_scheduler_ctor=lambda optim: torch.optim.lr_scheduler.ReduceLROnPlateau(optim, patience=1, verbose=True))"
   ]
  },
  {
   "cell_type": "markdown",
   "metadata": {},
   "source": [
    "все атрибуты объектов класса nn.Module, являющиеся наследниками Parameter доступны в методе nn.Module#parameters(). Более того, в этом методе доступны все parameters() других атрибутов-модулей. Достигается это посредством магического метода __setattr__. Звучит немного запутано, но на самом деле все просто. Ниже приведу код с примером.\n",
    "\n",
    "    class ModuleA(nn.Module):\n",
    "        def __init__(self):\n",
    "            super().__init__()\n",
    "            self.parameter_a = nn.Parameter(torch.tensor([5.0]))\n",
    "\n",
    "    class ModuleB(nn.Module):\n",
    "        def __init__(self):\n",
    "            super().__init__()\n",
    "            self.module_a = ModuleA()\n",
    "            self.parameter_b = nn.Parameter(torch.tensor([5.0]))\n",
    "            \n",
    "    module_b = ModuleB()\n",
    "\n",
    "    for name, param in module_b.named_parameters(recurse=True):\n",
    "        print(name, param.size())\n",
    "\n",
    "**Вывод программы:**\n",
    "\n",
    "    >> parameter_b torch.Size([1])\n",
    "    >> module_a.parameter_a torch.Size([1])\n",
    "\n",
    "А в библиотеке nlpdlutils есть функция train_eval_loop. Так вот, эта функция использует тот самый метод parameters() для инициализации оптимизатора:\n",
    "\n",
    "    optimizer = torch.optim.Adam(model.parameters(), lr=lr, weight_decay=l2_reg_alpha)\n",
    "\n",
    "Ну а дальше все очень просто. Вызывается метод, считающий градиенты для функции потерь по всем тензорам, в нее входящим:\n",
    "    \n",
    "    loss.backward()\n",
    "\n",
    "И вызов \n",
    "\n",
    "    optimizer.step()\n",
    "\n",
    "модифицирует model.parameters()."
   ]
  },
  {
   "cell_type": "code",
   "execution_count": 35,
   "metadata": {
    "ExecuteTime": {
     "end_time": "2019-10-29T19:20:12.862018Z",
     "start_time": "2019-10-29T19:20:12.832046Z"
    }
   },
   "outputs": [],
   "source": [
    "# Если Вы запускаете ноутбук на colab или kaggle, добавьте в начало пути ./stepik-dl-nlp\n",
    "torch.save(trainer.state_dict(), 'models/sgns.pth')"
   ]
  },
  {
   "cell_type": "code",
   "execution_count": 36,
   "metadata": {
    "ExecuteTime": {
     "end_time": "2019-10-29T19:20:12.888270Z",
     "start_time": "2019-10-29T19:20:12.864706Z"
    }
   },
   "outputs": [
    {
     "data": {
      "text/plain": [
       "<All keys matched successfully>"
      ]
     },
     "execution_count": 36,
     "metadata": {},
     "output_type": "execute_result"
    }
   ],
   "source": [
    "# Если Вы запускаете ноутбук на colab или kaggle, добавьте в начало пути ./stepik-dl-nlp\n",
    "trainer.load_state_dict(torch.load('models/sgns.pth'))"
   ]
  },
  {
   "cell_type": "markdown",
   "metadata": {},
   "source": [
    "## Исследуем характеристики полученных векторов"
   ]
  },
  {
   "cell_type": "markdown",
   "metadata": {},
   "source": [
    "Это самописный класс `Embeddings` - набор методов для работы с эмбеддингами:\n",
    "- главное - это вычисление близости векторов, но также есть:\n",
    "    - получение списка векторов для слов \n",
    "    - поиск ближайшего по расстоянию на эмбеддингах слова\n",
    "    - получение слов по семантическим переходам (сложение/вычитание эмбеддингов)"
   ]
  },
  {
   "cell_type": "code",
   "execution_count": 38,
   "metadata": {
    "ExecuteTime": {
     "end_time": "2019-10-29T19:20:12.919904Z",
     "start_time": "2019-10-29T19:20:12.890671Z"
    }
   },
   "outputs": [],
   "source": [
    "embeddings = Embeddings(trainer.center_emb.weight.detach().cpu().numpy(), vocabulary)"
   ]
  },
  {
   "cell_type": "markdown",
   "metadata": {},
   "source": [
    "- слова близкие по смыслу слову \"сыр\""
   ]
  },
  {
   "cell_type": "code",
   "execution_count": 39,
   "metadata": {
    "ExecuteTime": {
     "end_time": "2019-10-29T19:20:12.942708Z",
     "start_time": "2019-10-29T19:20:12.921619Z"
    }
   },
   "outputs": [
    {
     "data": {
      "text/plain": [
       "[('chicken', 0.99992704),\n",
       " ('stock', 0.60771614),\n",
       " ('beef', 0.57378614),\n",
       " ('turkey', 0.5708989),\n",
       " ('broth', 0.56518495),\n",
       " ('breasts', 0.52021),\n",
       " ('wings', 0.4902645),\n",
       " ('breast', 0.48436588),\n",
       " ('duck', 0.4801854),\n",
       " ('boneless', 0.4709255)]"
      ]
     },
     "execution_count": 39,
     "metadata": {},
     "output_type": "execute_result"
    }
   ],
   "source": [
    "embeddings.most_similar('chicken')"
   ]
  },
  {
   "cell_type": "markdown",
   "metadata": {},
   "source": [
    "- аналогии (семантические пропорции): какие слова относятся к слову \"сыр\" также как \"какао\" относится к \"пирожное\"\n",
    "    - получилось плохо, потому что наверно рецептов сыра не было в обучающей выборке\n",
    "\n",
    "- попробуем 'cake', 'milk', 'salad':\n",
    "    - ну вот, уже проскакивают ингридиенты (оливки), хотя все равно ерунда\n",
    "\n",
    "Говорят, обучающий корпус маловат..."
   ]
  },
  {
   "cell_type": "code",
   "execution_count": 40,
   "metadata": {
    "ExecuteTime": {
     "end_time": "2019-10-29T19:20:12.965936Z",
     "start_time": "2019-10-29T19:20:12.944423Z"
    }
   },
   "outputs": [
    {
     "data": {
      "text/plain": [
       "[('cacao', 0.97277063),\n",
       " ('cheese', 0.88818884),\n",
       " ('wafer', 0.6442452),\n",
       " ('shaved', 0.6350295),\n",
       " ('ricotta', 0.62190574),\n",
       " ('pecorino', 0.611588),\n",
       " ('gruyère', 0.6079014),\n",
       " ('grated', 0.59480953),\n",
       " ('goat', 0.5875807),\n",
       " ('grating', 0.5755977)]"
      ]
     },
     "execution_count": 40,
     "metadata": {},
     "output_type": "execute_result"
    }
   ],
   "source": [
    "embeddings.analogy('cake', 'cacao', 'cheese')"
   ]
  },
  {
   "cell_type": "code",
   "execution_count": 70,
   "metadata": {},
   "outputs": [
    {
     "data": {
      "text/plain": [
       "[('salad', 1.1103659),\n",
       " ('dough', 0.8153187),\n",
       " ('mesclun', 0.5383432),\n",
       " ('mache', 0.53411186),\n",
       " ('fluffy', 0.532677),\n",
       " ('dessert', 0.50992554),\n",
       " ('galette', 0.50342476),\n",
       " ('above', 0.4866662),\n",
       " ('southern', 0.48505527),\n",
       " ('manila', 0.47857425)]"
      ]
     },
     "execution_count": 70,
     "metadata": {},
     "output_type": "execute_result"
    }
   ],
   "source": [
    "embeddings.analogy('cake', 'dough', 'salad')"
   ]
  },
  {
   "cell_type": "markdown",
   "metadata": {},
   "source": [
    "- вектора нескольких слов \n",
    "- вектора размерности 100 переводятся в 2d TSNE из sklearn (T-distributed Stochastic Neighbor Embedding)\n",
    "    - отражает похожесть между объектами пространства высокой размерности\n",
    "    - близкие многомерные объекты казываются близкими на плоскости"
   ]
  },
  {
   "cell_type": "code",
   "execution_count": 41,
   "metadata": {
    "ExecuteTime": {
     "end_time": "2019-10-29T19:20:12.991060Z",
     "start_time": "2019-10-29T19:20:12.967532Z"
    }
   },
   "outputs": [
    {
     "name": "stdout",
     "output_type": "stream",
     "text": [
      "(18, 100)\n"
     ]
    }
   ],
   "source": [
    "test_words = ['salad', 'fish', 'salmon', 'sauvignon', 'beef', 'pork', 'steak', 'beer', 'cake', 'coffee', 'sausage', 'wine', 'merlot', 'zinfandel', 'trout', 'chardonnay', 'champagne', 'cacao']\n",
    "test_vectors = embeddings.get_vectors(*test_words)\n",
    "print(test_vectors.shape)"
   ]
  },
  {
   "cell_type": "code",
   "execution_count": 42,
   "metadata": {
    "ExecuteTime": {
     "end_time": "2019-10-29T19:20:13.318676Z",
     "start_time": "2019-10-29T19:20:12.996595Z"
    }
   },
   "outputs": [
    {
     "data": {
      "image/png": "[encoded data removed]",
      "text/plain": [
       "<Figure size 720x720 with 1 Axes>"
      ]
     },
     "metadata": {
      "needs_background": "light"
     },
     "output_type": "display_data"
    }
   ],
   "source": [
    "fig, ax = plt.subplots()\n",
    "fig.set_size_inches((10, 10))\n",
    "plot_vectors(test_vectors, test_words, how='svd', ax=ax)"
   ]
  },
  {
   "cell_type": "markdown",
   "metadata": {},
   "source": [
    "Аглоритм word2vec не детерминирован (случайные негитивные примеры, случайный шум при инициализации), картинки будет разными, но должна сохраняться общая картина (по идее).\n",
    "\n",
    "Это была собственная реализации word2vec."
   ]
  },
  {
   "cell_type": "markdown",
   "metadata": {},
   "source": [
    "## Обучение Word2Vec с помощью Gensim\n",
    "\n",
    "Одна из лучших библиотек для word2vec моделей."
   ]
  },
  {
   "cell_type": "code",
   "execution_count": 43,
   "metadata": {
    "ExecuteTime": {
     "end_time": "2019-10-29T19:20:13.613797Z",
     "start_time": "2019-10-29T19:20:13.321353Z"
    }
   },
   "outputs": [],
   "source": [
    "import gensim"
   ]
  },
  {
   "cell_type": "code",
   "execution_count": 44,
   "metadata": {
    "ExecuteTime": {
     "end_time": "2019-10-29T19:20:17.075005Z",
     "start_time": "2019-10-29T19:20:13.615729Z"
    }
   },
   "outputs": [],
   "source": [
    "word2vec = gensim.models.Word2Vec(sentences=train_tokenized, size=100,\n",
    "                                  window=5, min_count=5, workers=4,\n",
    "                                  sg=1, iter=10)"
   ]
  },
  {
   "cell_type": "markdown",
   "metadata": {},
   "source": [
    "- Оценки сходства и набор ближайщих слов отличается, но не кардинально."
   ]
  },
  {
   "cell_type": "code",
   "execution_count": 71,
   "metadata": {
    "ExecuteTime": {
     "end_time": "2019-10-29T19:20:17.109583Z",
     "start_time": "2019-10-29T19:20:17.076599Z"
    }
   },
   "outputs": [
    {
     "data": {
      "text/plain": [
       "[('salata', 0.8112857937812805),\n",
       " ('pecorino', 0.7634388208389282),\n",
       " ('queso', 0.7589499950408936),\n",
       " ('gruyere', 0.755763053894043),\n",
       " ('fontina', 0.7476573586463928),\n",
       " ('monterey', 0.7470556497573853),\n",
       " ('feta', 0.7411114573478699),\n",
       " ('cheddar', 0.7345227003097534),\n",
       " ('fresco', 0.7320069670677185),\n",
       " ('jack', 0.7278673648834229)]"
      ]
     },
     "execution_count": 71,
     "metadata": {},
     "output_type": "execute_result"
    }
   ],
   "source": [
    "word2vec.wv.most_similar('cheese')"
   ]
  },
  {
   "cell_type": "code",
   "execution_count": 46,
   "metadata": {
    "ExecuteTime": {
     "end_time": "2019-10-29T19:20:17.176357Z",
     "start_time": "2019-10-29T19:20:17.112948Z"
    }
   },
   "outputs": [],
   "source": [
    "gensim_words = [w for w in test_words if w in word2vec.wv.vocab]\n",
    "gensim_vectors = np.stack([word2vec.wv[w] for w in gensim_words])"
   ]
  },
  {
   "cell_type": "markdown",
   "metadata": {},
   "source": [
    "- На плоскости все вообще по-другому, кластеры выделяются более четко и осмысленно."
   ]
  },
  {
   "cell_type": "code",
   "execution_count": 47,
   "metadata": {
    "ExecuteTime": {
     "end_time": "2019-10-29T19:20:17.428874Z",
     "start_time": "2019-10-29T19:20:17.179311Z"
    }
   },
   "outputs": [
    {
     "data": {
      "image/png": "[encoded data removed]",
      "text/plain": [
       "<Figure size 720x720 with 1 Axes>"
      ]
     },
     "metadata": {
      "needs_background": "light"
     },
     "output_type": "display_data"
    }
   ],
   "source": [
    "fig, ax = plt.subplots()\n",
    "fig.set_size_inches((10, 10))\n",
    "plot_vectors(gensim_vectors, test_words, how='svd', ax=ax)"
   ]
  },
  {
   "cell_type": "markdown",
   "metadata": {},
   "source": [
    "## Загрузка предобученного Word2Vec\n",
    "\n",
    "Подготовка текстов - сложная задача, обычно используются хорошо подготовленные языковые наборы данных, или уже обученные модели.\n",
    "\n",
    "Источники готовых векторов:\n",
    "\n",
    "https://rusvectores.org/ru/ - для русского языка\n",
    "\n",
    "https://wikipedia2vec.github.io/wikipedia2vec/pretrained/ - много разных языков"
   ]
  },
  {
   "cell_type": "code",
   "execution_count": 48,
   "metadata": {
    "ExecuteTime": {
     "end_time": "2019-10-29T19:20:17.460133Z",
     "start_time": "2019-10-29T19:20:17.430563Z"
    }
   },
   "outputs": [
    {
     "data": {
      "text/plain": [
       "'/home/user1/gensim-data'"
      ]
     },
     "execution_count": 48,
     "metadata": {},
     "output_type": "execute_result"
    }
   ],
   "source": [
    "import gensim.downloader as api\n",
    "\n",
    "api.BASE_DIR"
   ]
  },
  {
   "cell_type": "markdown",
   "metadata": {},
   "source": [
    "В gensim есть несколько предобученных эмбеддингов, которые можно просто скачать."
   ]
  },
  {
   "cell_type": "code",
   "execution_count": 49,
   "metadata": {
    "ExecuteTime": {
     "end_time": "2019-10-29T19:20:17.980509Z",
     "start_time": "2019-10-29T19:20:17.462239Z"
    }
   },
   "outputs": [
    {
     "name": "stdout",
     "output_type": "stream",
     "text": [
      "fasttext-wiki-news-subwords-300\n",
      "conceptnet-numberbatch-17-06-300\n",
      "word2vec-ruscorpora-300\n",
      "word2vec-google-news-300\n",
      "glove-wiki-gigaword-50\n",
      "glove-wiki-gigaword-100\n",
      "glove-wiki-gigaword-200\n",
      "glove-wiki-gigaword-300\n",
      "glove-twitter-25\n",
      "glove-twitter-50\n",
      "glove-twitter-100\n",
      "glove-twitter-200\n",
      "__testing_word2vec-matrix-synopsis\n"
     ]
    }
   ],
   "source": [
    "available_models = api.info()['models'].keys()\n",
    "print('\\n'.join(available_models))"
   ]
  },
  {
   "cell_type": "markdown",
   "metadata": {},
   "source": [
    "Правда уже после скачивания он опять чето очень долго возится (почти 3 минуты, а качал минут 10 если не больше)"
   ]
  },
  {
   "cell_type": "code",
   "execution_count": 50,
   "metadata": {
    "ExecuteTime": {
     "end_time": "2019-10-29T19:22:12.649035Z",
     "start_time": "2019-10-29T19:20:17.984118Z"
    },
    "scrolled": false
   },
   "outputs": [],
   "source": [
    "pretrained = api.load('word2vec-google-news-300')  # > 1.5 GB! архив, 3.5 Gb в памяти\n",
    "# чего он так долго не понятно, все же загруженов BASE_DIR"
   ]
  },
  {
   "cell_type": "markdown",
   "metadata": {},
   "source": [
    "- совсем другая история с похожими словами\n",
    "    - модель обучалась не на рецептах, а на новостях\n",
    "    - при обучении использовались не только слова, но и биграммы слов (вектора строились и для пар тоже)\n",
    "        - наверно это было долгое обучение"
   ]
  },
  {
   "cell_type": "code",
   "execution_count": 51,
   "metadata": {
    "ExecuteTime": {
     "end_time": "2019-10-29T19:22:12.651388Z",
     "start_time": "2019-10-29T19:19:29.817Z"
    }
   },
   "outputs": [
    {
     "data": {
      "text/plain": [
       "[('cheeses', 0.7789000272750854),\n",
       " ('cheddar', 0.7627596855163574),\n",
       " ('goat_cheese', 0.7297402620315552),\n",
       " ('Cheese', 0.7286962866783142),\n",
       " ('cheddar_cheese', 0.7255136966705322),\n",
       " ('Cheddar_cheese', 0.6943708658218384),\n",
       " ('mozzarella', 0.6805709600448608),\n",
       " ('cheddar_cheeses', 0.6694672703742981),\n",
       " ('Camembert', 0.6623163223266602),\n",
       " ('gruyere', 0.6615148186683655)]"
      ]
     },
     "execution_count": 51,
     "metadata": {},
     "output_type": "execute_result"
    }
   ],
   "source": [
    "pretrained.most_similar('cheese')"
   ]
  },
  {
   "cell_type": "markdown",
   "metadata": {},
   "source": [
    "- Какое слово относится к слову `queen` также, как `man` к `king`\n",
    "    - получилось"
   ]
  },
  {
   "cell_type": "code",
   "execution_count": 52,
   "metadata": {
    "ExecuteTime": {
     "end_time": "2019-10-29T19:22:12.652649Z",
     "start_time": "2019-10-29T19:19:29.820Z"
    }
   },
   "outputs": [
    {
     "data": {
      "text/plain": [
       "[('woman', 0.7609435319900513),\n",
       " ('girl', 0.6139994263648987),\n",
       " ('teenage_girl', 0.6040961742401123),\n",
       " ('teenager', 0.5825759172439575),\n",
       " ('lady', 0.5752554535865784),\n",
       " ('boy', 0.5077576637268066),\n",
       " ('policewoman', 0.5066847801208496),\n",
       " ('schoolgirl', 0.5052095651626587),\n",
       " ('blonde', 0.48696184158325195),\n",
       " ('person', 0.48637545108795166)]"
      ]
     },
     "execution_count": 52,
     "metadata": {},
     "output_type": "execute_result"
    }
   ],
   "source": [
    "pretrained.most_similar(positive=['man', 'queen'], negative=['king'])"
   ]
  },
  {
   "cell_type": "markdown",
   "metadata": {},
   "source": [
    "#### Визуализируем эмбеддинги из этой гигантской модели"
   ]
  },
  {
   "cell_type": "code",
   "execution_count": 53,
   "metadata": {
    "ExecuteTime": {
     "end_time": "2019-10-29T19:22:12.653584Z",
     "start_time": "2019-10-29T19:19:29.823Z"
    }
   },
   "outputs": [],
   "source": [
    "pretrained_words = [w for w in test_words if w in pretrained.vocab]\n",
    "pretrained_vectors = np.stack([pretrained[w] for w in pretrained_words])"
   ]
  },
  {
   "cell_type": "code",
   "execution_count": 54,
   "metadata": {
    "ExecuteTime": {
     "end_time": "2019-10-29T19:22:12.654594Z",
     "start_time": "2019-10-29T19:19:29.828Z"
    }
   },
   "outputs": [
    {
     "data": {
      "image/png": "[encoded data removed]",
      "text/plain": [
       "<Figure size 720x720 with 1 Axes>"
      ]
     },
     "metadata": {
      "needs_background": "light"
     },
     "output_type": "display_data"
    }
   ],
   "source": [
    "fig, ax = plt.subplots()\n",
    "fig.set_size_inches((10, 10))\n",
    "plot_vectors(pretrained_vectors, test_words, how='svd', ax=ax)"
   ]
  },
  {
   "cell_type": "markdown",
   "metadata": {},
   "source": [
    "## Заключение\n",
    "\n",
    "Часто для обучения больших моделей тексты не разбивают на предложения, а рассматривают весь текст как единую последовательность токенов.\n",
    "\n",
    "* Реализовали Skip Gram Negative Sampling на PyTorch\n",
    "* Обучили на корпусе рецептов\n",
    "    * Сходство слов модель выучила неплохо\n",
    "    * Для аналогий мало данных\n",
    "* Обучили SGNS с помощью библиотеки Gensim\n",
    "* Загрузили веса Word2Vec, полученные с помощью большого корпуса (GoogleNews)\n",
    "    * Списки похожих слов отличаются!\n",
    "    * Аналогии работают\n",
    "\n",
    "Большая модель неплохо аппроксимирует не только близость слов, но и какие-то семантические отношения, то есть уже как-то решает смысловые пропорции.\n",
    "\n",
    "\n",
    "Норм, было интересно!"
   ]
  },
  {
   "cell_type": "markdown",
   "metadata": {},
   "source": [
    "# До.за.\n",
    "\n",
    "В качестве домашнего задания мы предлагаем Вам поэкспериментировать с кодом этого семинара, чтобы лучше понять свойства эмбеддингов и попробовать улучшить их качество. Что можно попробовать сделать:\n",
    "\n",
    "- поиграться с параметрами - количеством отрицательных слов, размером батча, скоростью обучения, размером окна\n",
    "- убрать разбиение текстов на предложения и увеличить окно\n",
    "- изменить токенизацию, например, разобравшись с библиотекой SpaCy и подключив лемматизацию и POS-теггинг, чтобы строить эмбеддинги не для словоформ, а для лемм (например, chicked_NOUN)\n",
    "- реализовать FastText и сравнить, как отличаются списки похожих документов, получаемых с помощью Word2Vec и FastText\n",
    "- усложнить алгоритм оценки вероятности совместной встречаемости слов, например, заменив скалярное произведение на нейросеть с парой слоёв\n",
    "\n",
    "Также мы предлагаем Вам не ограничиваться этим списком, а придумать свои способы заставить Word2Vec выучить что-то интересное и полезное."
   ]
  },
  {
   "cell_type": "markdown",
   "metadata": {},
   "source": [
    "**Может быть, будет интересно попробовать побить нашу функцию потерь на валидации, там она равнялась $\\sim 0,87$**\n",
    "\n",
    "Потому, что эмбеддинги - это обучение без учителя (вернее, **self-supervised learning**). Когда мы строим какие-то эмбеддинги, мы можем не думать ни о какой одной конкретной задаче, на которой они будут использоваться - в этом случае мы можем использовать датасет сильно большего размера, чем существует для каждой конкретной задачи.\n",
    "\n",
    "Часто всё-таки качество эмбеддингов оценивают опосредовано, подкладывая эти эмбеддинги в некоторую зафиксированную архитектуру, и меряя качество решения другой задачи (например, классификации или извлечения сущностей). При этом архитектура этой \"прикладной\" нейросети зафиксирована, но веса переобучаются заново для каждых каждых эмбеддингов. Такая идея реализована в библиотеке для сравнения эмбеддингов [Vecto](https://github.com/vecto-ai/vecto)."
   ]
  },
  {
   "cell_type": "markdown",
   "metadata": {},
   "source": [
    "План self-supervised learning студента:\n",
    "\n",
    "- трогать словарь (проги редких/частных) интуитивно кажется смысла особого нет\n",
    "    - словарь и так небольшой\n",
    "\n",
    "- чисто интуитивно:\n",
    "    - размер эмбеддинга x1.5 (вместит больше информации, но и шума)\n",
    "    - окно +2 (ловим смысловую связь более разнесенных слов)\n",
    "    - отрицательные слова x2 (вычислительно хуже, до дисперсия бустинга меньше)\n",
    "    - размер батча x1.5 (вычислительно хуже, но градиент точнее)\n",
    "\n",
    "- в результате: \n",
    "    - функция потерь хуже (мы добавили много шума)\n",
    "    - близкие слова очень похожи, просто в другом порядке (на примере chicken)\n",
    "    - семантические связи выглядят похуже (cake - dough = salad - X)\n",
    "    - время эпохи на GPU увеличилось на 10-15%"
   ]
  },
  {
   "cell_type": "code",
   "execution_count": 87,
   "metadata": {},
   "outputs": [
    {
     "name": "stdout",
     "output_type": "stream",
     "text": [
      "Эпоха 0\n",
      "Эпоха: 2001 итераций, 6.74 сек\n",
      "Среднее значение функции потерь на обучении 0.9804894695396366\n",
      "Среднее значение функции потерь на валидации 0.9731077978939571\n",
      "Новая лучшая модель!\n",
      "\n",
      "Эпоха 1\n",
      "Эпоха: 2001 итераций, 6.93 сек\n",
      "Среднее значение функции потерь на обучении 0.9715297589714321\n",
      "Среднее значение функции потерь на валидации 0.9694536443610848\n",
      "Новая лучшая модель!\n",
      "\n",
      "Эпоха 2\n",
      "Эпоха: 2001 итераций, 6.42 сек\n",
      "Среднее значение функции потерь на обучении 0.9691138848074075\n",
      "Среднее значение функции потерь на валидации 0.9689396586246674\n",
      "Новая лучшая модель!\n",
      "\n",
      "Эпоха 3\n",
      "Эпоха: 2001 итераций, 6.41 сек\n",
      "Среднее значение функции потерь на обучении 0.9679077305178949\n",
      "Среднее значение функции потерь на валидации 0.969269894118391\n",
      "\n",
      "Эпоха 4\n",
      "Эпоха: 2001 итераций, 6.13 сек\n",
      "Среднее значение функции потерь на обучении 0.9679128329257022\n",
      "Среднее значение функции потерь на валидации 0.9694769287018843\n",
      "Epoch     5: reducing learning rate of group 0 to 1.0000e-03.\n",
      "\n",
      "Эпоха 5\n",
      "Эпоха: 2001 итераций, 6.24 сек\n",
      "Среднее значение функции потерь на обучении 0.9638534184696077\n",
      "Среднее значение функции потерь на валидации 0.9648637848425476\n",
      "Новая лучшая модель!\n",
      "\n",
      "Эпоха 6\n",
      "Эпоха: 2001 итераций, 6.21 сек\n",
      "Среднее значение функции потерь на обучении 0.9619091654467261\n",
      "Среднее значение функции потерь на валидации 0.9635359043517975\n",
      "Новая лучшая модель!\n",
      "\n",
      "Эпоха 7\n",
      "Эпоха: 2001 итераций, 5.95 сек\n",
      "Среднее значение функции потерь на обучении 0.9604520163555136\n",
      "Среднее значение функции потерь на валидации 0.9628399805296258\n",
      "Новая лучшая модель!\n",
      "\n",
      "Эпоха 8\n",
      "Эпоха: 2001 итераций, 6.22 сек\n",
      "Среднее значение функции потерь на обучении 0.9599664969065379\n",
      "Среднее значение функции потерь на валидации 0.9624316260328457\n",
      "Новая лучшая модель!\n",
      "\n",
      "Эпоха 9\n",
      "Эпоха: 2001 итераций, 6.35 сек\n",
      "Среднее значение функции потерь на обучении 0.9595035466475823\n",
      "Среднее значение функции потерь на валидации 0.9621415902973419\n",
      "Новая лучшая модель!\n",
      "\n"
     ]
    }
   ],
   "source": [
    "trainer1 = SkipGramNegativeSamplingTrainer(len(vocabulary), 150, MAX_SENTENCE_LEN,\n",
    "                                           radius=7, negative_samples_n=50)\n",
    "\n",
    "best_val_loss, best_model = train_eval_loop(trainer1,\n",
    "                                            train_dataset,\n",
    "                                            test_dataset,\n",
    "                                            no_loss,\n",
    "                                            lr=1e-2,\n",
    "                                            epoch_n=10,\n",
    "                                            batch_size=12,\n",
    "                                            device='cuda',\n",
    "                                            early_stopping_patience=10,\n",
    "                                            max_batches_per_epoch_train=2000,\n",
    "                                            max_batches_per_epoch_val=len(test_dataset),\n",
    "                                            lr_scheduler_ctor=lambda optim: torch.optim.lr_scheduler.ReduceLROnPlateau(optim, patience=1, verbose=True))"
   ]
  },
  {
   "cell_type": "code",
   "execution_count": 88,
   "metadata": {},
   "outputs": [
    {
     "name": "stdout",
     "output_type": "stream",
     "text": [
      "chicken stock beef turkey broth breasts wings breast duck boneless\n",
      "chicken stock thighs duck beef broth turkey breasts veal boneless\n"
     ]
    }
   ],
   "source": [
    "embeddings1 = Embeddings(trainer1.center_emb.weight.detach().cpu().numpy(), vocabulary)\n",
    "\n",
    "\n",
    "print(*[word for (word, _) in embeddings.most_similar('chicken')])\n",
    "print(*[word for (word, _) in embeddings1.most_similar('chicken')])"
   ]
  },
  {
   "cell_type": "code",
   "execution_count": 89,
   "metadata": {},
   "outputs": [
    {
     "name": "stdout",
     "output_type": "stream",
     "text": [
      "salad dough mesclun mache fluffy dessert galette above southern manila\n",
      "salad dough lettuce vinaigrette tendrils mache mesclun dressing ingredients refrigerator\n"
     ]
    }
   ],
   "source": [
    "print(*[word for (word, _) in embeddings.analogy('cake', 'dough', 'salad')])\n",
    "print(*[word for (word, _) in embeddings1.analogy('cake', 'dough', 'salad')])"
   ]
  },
  {
   "cell_type": "markdown",
   "metadata": {},
   "source": [
    "- в обратную сторону:\n",
    "    - размер эмбеддинга x0.7 (вместит меньше информации, но и меньше шума)\n",
    "    - окно -2 (интересуют только совсем близкие слова)\n",
    "    - отрицательные слова x2 (вычислительно хуже, до дисперсия бустинга меньше)\n",
    "    - размер батча x0.7 (больше случайности в поиске минимума)\n",
    "\n",
    "- в результате: \n",
    "    - функция потерь лучше (мы убрали много шума)\n",
    "    - близкие слова стали менее осмысленными (на примере chicken)\n",
    "    - семантические связи выглядят похуже (cake - dough = salad - X)"
   ]
  },
  {
   "cell_type": "code",
   "execution_count": 90,
   "metadata": {},
   "outputs": [
    {
     "name": "stdout",
     "output_type": "stream",
     "text": [
      "Эпоха 0\n",
      "Эпоха: 2001 итераций, 6.14 сек\n",
      "Среднее значение функции потерь на обучении 0.7752328028326211\n",
      "Среднее значение функции потерь на валидации 0.7673968376659618\n",
      "Новая лучшая модель!\n",
      "\n",
      "Эпоха 1\n",
      "Эпоха: 2001 итераций, 6.11 сек\n",
      "Среднее значение функции потерь на обучении 0.7660037739046927\n",
      "Среднее значение функции потерь на валидации 0.764593088136924\n",
      "Новая лучшая модель!\n",
      "\n",
      "Эпоха 2\n",
      "Эпоха: 2001 итераций, 6.17 сек\n",
      "Среднее значение функции потерь на обучении 0.7636679580722792\n",
      "Среднее значение функции потерь на валидации 0.7638303677045742\n",
      "Новая лучшая модель!\n",
      "\n",
      "Эпоха 3\n",
      "Эпоха: 2001 итераций, 6.50 сек\n",
      "Среднее значение функции потерь на обучении 0.7634968111242192\n",
      "Среднее значение функции потерь на валидации 0.7637243535680006\n",
      "Новая лучшая модель!\n",
      "\n",
      "Эпоха 4\n",
      "Эпоха: 2001 итераций, 6.35 сек\n",
      "Среднее значение функции потерь на обучении 0.7624708095352272\n",
      "Среднее значение функции потерь на валидации 0.7635274325227641\n",
      "Новая лучшая модель!\n",
      "\n",
      "Эпоха 5\n",
      "Эпоха: 2001 итераций, 6.01 сек\n",
      "Среднее значение функции потерь на обучении 0.7627369584231779\n",
      "Среднее значение функции потерь на валидации 0.7635689316542521\n",
      "\n",
      "Эпоха 6\n",
      "Эпоха: 2001 итераций, 6.29 сек\n",
      "Среднее значение функции потерь на обучении 0.7621706557655143\n",
      "Среднее значение функции потерь на валидации 0.7634883207723129\n",
      "Новая лучшая модель!\n",
      "Epoch     7: reducing learning rate of group 0 to 1.0000e-03.\n",
      "\n",
      "Эпоха 7\n",
      "Эпоха: 2001 итераций, 6.29 сек\n",
      "Среднее значение функции потерь на обучении 0.7593853232980906\n",
      "Среднее значение функции потерь на валидации 0.7606560489229787\n",
      "Новая лучшая модель!\n",
      "\n",
      "Эпоха 8\n",
      "Эпоха: 2001 итераций, 6.47 сек\n",
      "Среднее значение функции потерь на обучении 0.7581399185904141\n",
      "Среднее значение функции потерь на валидации 0.7598644821724243\n",
      "Новая лучшая модель!\n",
      "\n",
      "Эпоха 9\n",
      "Эпоха: 2001 итераций, 6.74 сек\n",
      "Среднее значение функции потерь на обучении 0.7575172343473325\n",
      "Среднее значение функции потерь на валидации 0.7594687205381311\n",
      "Новая лучшая модель!\n",
      "\n"
     ]
    }
   ],
   "source": [
    "trainer2 = SkipGramNegativeSamplingTrainer(len(vocabulary), 70, MAX_SENTENCE_LEN,\n",
    "                                           radius=3, negative_samples_n=50)\n",
    "\n",
    "best_val_loss, best_model = train_eval_loop(trainer2,\n",
    "                                            train_dataset,\n",
    "                                            test_dataset,\n",
    "                                            no_loss,\n",
    "                                            lr=1e-2,\n",
    "                                            epoch_n=10,\n",
    "                                            batch_size=12,\n",
    "                                            device='cuda',\n",
    "                                            early_stopping_patience=10,\n",
    "                                            max_batches_per_epoch_train=2000,\n",
    "                                            max_batches_per_epoch_val=len(test_dataset),\n",
    "                                            lr_scheduler_ctor=lambda optim: torch.optim.lr_scheduler.ReduceLROnPlateau(optim, patience=1, verbose=True))"
   ]
  },
  {
   "cell_type": "code",
   "execution_count": 91,
   "metadata": {},
   "outputs": [
    {
     "name": "stdout",
     "output_type": "stream",
     "text": [
      "chicken stock beef turkey broth breasts wings breast duck boneless\n",
      "chicken thighs stock turkey breasts duck broth beef breast boneless\n"
     ]
    }
   ],
   "source": [
    "embeddings2 = Embeddings(trainer2.center_emb.weight.detach().cpu().numpy(), vocabulary)\n",
    "\n",
    "\n",
    "print(*[word for (word, _) in embeddings.most_similar('chicken')])\n",
    "print(*[word for (word, _) in embeddings2.most_similar('chicken')])"
   ]
  },
  {
   "cell_type": "code",
   "execution_count": 92,
   "metadata": {},
   "outputs": [
    {
     "name": "stdout",
     "output_type": "stream",
     "text": [
      "salad dough mesclun mache fluffy dessert galette above southern manila\n",
      "salad dough above southern various basic california frisée mache greens\n"
     ]
    }
   ],
   "source": [
    "print(*[word for (word, _) in embeddings.analogy('cake', 'dough', 'salad')])\n",
    "print(*[word for (word, _) in embeddings2.analogy('cake', 'dough', 'salad')])"
   ]
  },
  {
   "cell_type": "markdown",
   "metadata": {},
   "source": [
    "#### FastText\n",
    "\n",
    "- реализовывать пока не будем\n",
    "\n",
    "- считает быстро\n",
    "- близкие слова и семантика сильно хуже, но они все равно заметны"
   ]
  },
  {
   "cell_type": "code",
   "execution_count": 93,
   "metadata": {},
   "outputs": [],
   "source": [
    "fastText = gensim.models.FastText(sentences=train_tokenized, size=100,\n",
    "                                  window=5, min_count=5, workers=4,\n",
    "                                  sg=1, iter=10)"
   ]
  },
  {
   "cell_type": "code",
   "execution_count": 99,
   "metadata": {},
   "outputs": [
    {
     "name": "stdout",
     "output_type": "stream",
     "text": [
      "chicken stock beef turkey broth breasts wings breast duck boneless\n",
      "chickens chick duck drumstick thighs thigh drumsticks rabbit turkey legs\n"
     ]
    }
   ],
   "source": [
    "print(*[word for (word, _) in embeddings.most_similar('chicken')])\n",
    "print(*[word for (word, _) in fastText.wv.most_similar('chicken')])"
   ]
  },
  {
   "cell_type": "code",
   "execution_count": 100,
   "metadata": {},
   "outputs": [
    {
     "name": "stdout",
     "output_type": "stream",
     "text": [
      "salad dough mesclun mache fluffy dessert galette above southern manila\n",
      "mesclun arugula frisée various frisee purslane mizuna wildflower dandelion treviso\n"
     ]
    }
   ],
   "source": [
    "print(*[word for (word, _) in embeddings.analogy('cake', 'dough', 'salad')])\n",
    "print(*[word for (word, _) in fastText.wv.most_similar(positive=['cake', 'salad'], negative=['dough'])])"
   ]
  },
  {
   "cell_type": "markdown",
   "metadata": {},
   "source": []
  }
 ],
 "metadata": {
  "kernelspec": {
   "display_name": "Python 3",
   "language": "python",
   "name": "python3"
  },
  "language_info": {
   "codemirror_mode": {
    "name": "ipython",
    "version": 3
   },
   "file_extension": ".py",
   "mimetype": "text/x-python",
   "name": "python",
   "nbconvert_exporter": "python",
   "pygments_lexer": "ipython3",
   "version": "3.9.11"
  },
  "latex_envs": {
   "LaTeX_envs_menu_present": true,
   "autoclose": false,
   "autocomplete": true,
   "bibliofile": "biblio.bib",
   "cite_by": "apalike",
   "current_citInitial": 1,
   "eqLabelWithNumbers": true,
   "eqNumInitial": 1,
   "hotkeys": {
    "equation": "Ctrl-E",
    "itemize": "Ctrl-I"
   },
   "labels_anchors": false,
   "latex_user_defs": false,
   "report_style_numbering": false,
   "user_envs_cfg": false
  },
  "toc": {
   "base_numbering": 1,
   "nav_menu": {},
   "number_sections": true,
   "sideBar": true,
   "skip_h1_title": false,
   "title_cell": "Table of Contents",
   "title_sidebar": "Contents",
   "toc_cell": false,
   "toc_position": {},
   "toc_section_display": true,
   "toc_window_display": false
  }
 },
 "nbformat": 4,
 "nbformat_minor": 2
}
