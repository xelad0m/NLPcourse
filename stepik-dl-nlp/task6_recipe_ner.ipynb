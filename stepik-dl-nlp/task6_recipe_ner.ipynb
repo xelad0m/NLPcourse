{
 "cells": [
  {
   "cell_type": "markdown",
   "metadata": {},
   "source": [
    "# Определение именованных сущностей в рецептах\n",
    "\n",
    "Рассмотрим задачу поиска именованных сущностей в тексте на примере рецептов еды, а также обучим нейросеть LSTM, которая будет автоматически решать эту задачу"
   ]
  },
  {
   "cell_type": "markdown",
   "metadata": {},
   "source": [
    "* [1] https://open.blogs.nytimes.com/2015/04/09/extracting-structured-data-from-recipes-using-conditional-random-fields\n",
    "* [2] https://open.blogs.nytimes.com/2016/04/27/structured-ingredients-data-tagging\n",
    "* [3] https://pytorch.org/tutorials/beginner/nlp/sequence_models_tutorial.html#sphx-glr-beginner-nlp-sequence-models-tutorial-py\n",
    "* [4] https://pytorch.org/tutorials/beginner/saving_loading_models.html\n",
    "* [5] https://en.wikipedia.org/wiki/Inside%E2%80%93outside%E2%80%93beginning_(tagging)\n",
    "* [6] https://en.wikipedia.org/wiki/Named-entity_recognition"
   ]
  },
  {
   "cell_type": "code",
   "execution_count": 1,
   "metadata": {},
   "outputs": [],
   "source": [
    "# Если Вы запускаете ноутбук на colab или kaggle,\n",
    "# выполните следующие строчки, чтобы подгрузить библиотеку dlnlputils:\n",
    "\n",
    "# !git clone https://github.com/Samsung-IT-Academy/stepik-dl-nlp.git && pip install -r stepik-dl-nlp/requirements.txt\n",
    "# import sys; sys.path.append('./stepik-dl-nlp')"
   ]
  },
  {
   "cell_type": "code",
   "execution_count": 2,
   "metadata": {},
   "outputs": [],
   "source": [
    "# Для выполнения этого задания не забудьте установить:\n",
    "# !pip3 install spacy_udpipe\n",
    "# !pip3 install ipymarkup\n",
    "# !pip3 install livelossplot\n",
    "\n",
    "QUICK_RUN = True"
   ]
  },
  {
   "cell_type": "code",
   "execution_count": 3,
   "metadata": {},
   "outputs": [],
   "source": [
    "%load_ext autoreload\n",
    "%autoreload 2\n",
    "\n",
    "import warnings\n",
    "warnings.filterwarnings('ignore')"
   ]
  },
  {
   "cell_type": "code",
   "execution_count": 4,
   "metadata": {},
   "outputs": [],
   "source": [
    "import pandas as pd"
   ]
  },
  {
   "cell_type": "code",
   "execution_count": 5,
   "metadata": {},
   "outputs": [],
   "source": [
    "# Если Вы запускаете ноутбук на colab или kaggle, добавьте в начало пути ./stepik-dl-nlp\n",
    "df = pd.read_csv('datasets/nyt-ingredients-head.csv')"
   ]
  },
  {
   "cell_type": "markdown",
   "metadata": {},
   "source": [
    "- input - строка с рецептом блюда\n",
    "- name - основной продукт блюда\n",
    "- quantity и range_end - количество основного продукта\n",
    "- unit - ед.изм.\n",
    "- comment - доп. сведения"
   ]
  },
  {
   "cell_type": "code",
   "execution_count": 6,
   "metadata": {},
   "outputs": [
    {
     "data": {
      "text/html": [
       "<div>\n",
       "<style scoped>\n",
       "    .dataframe tbody tr th:only-of-type {\n",
       "        vertical-align: middle;\n",
       "    }\n",
       "\n",
       "    .dataframe tbody tr th {\n",
       "        vertical-align: top;\n",
       "    }\n",
       "\n",
       "    .dataframe thead th {\n",
       "        text-align: right;\n",
       "    }\n",
       "</style>\n",
       "<table border=\"1\" class=\"dataframe\">\n",
       "  <thead>\n",
       "    <tr style=\"text-align: right;\">\n",
       "      <th></th>\n",
       "      <th>index</th>\n",
       "      <th>input</th>\n",
       "      <th>name</th>\n",
       "      <th>qty</th>\n",
       "      <th>range_end</th>\n",
       "      <th>unit</th>\n",
       "      <th>comment</th>\n",
       "    </tr>\n",
       "  </thead>\n",
       "  <tbody>\n",
       "    <tr>\n",
       "      <th>0</th>\n",
       "      <td>0</td>\n",
       "      <td>1 1/4 cups cooked and pureed fresh butternut s...</td>\n",
       "      <td>butternut squash</td>\n",
       "      <td>1.25</td>\n",
       "      <td>0.0</td>\n",
       "      <td>cup</td>\n",
       "      <td>cooked and pureed fresh, or 1 10-ounce package...</td>\n",
       "    </tr>\n",
       "    <tr>\n",
       "      <th>1</th>\n",
       "      <td>1</td>\n",
       "      <td>1 cup peeled and cooked fresh chestnuts (about...</td>\n",
       "      <td>chestnuts</td>\n",
       "      <td>1.00</td>\n",
       "      <td>0.0</td>\n",
       "      <td>cup</td>\n",
       "      <td>peeled and cooked fresh (about 20), or 1 cup c...</td>\n",
       "    </tr>\n",
       "    <tr>\n",
       "      <th>2</th>\n",
       "      <td>2</td>\n",
       "      <td>1 medium-size onion, peeled and chopped</td>\n",
       "      <td>onion</td>\n",
       "      <td>1.00</td>\n",
       "      <td>0.0</td>\n",
       "      <td>NaN</td>\n",
       "      <td>medium-size, peeled and chopped</td>\n",
       "    </tr>\n",
       "    <tr>\n",
       "      <th>3</th>\n",
       "      <td>3</td>\n",
       "      <td>2 stalks celery, chopped coarse</td>\n",
       "      <td>celery</td>\n",
       "      <td>2.00</td>\n",
       "      <td>0.0</td>\n",
       "      <td>stalk</td>\n",
       "      <td>chopped coarse</td>\n",
       "    </tr>\n",
       "    <tr>\n",
       "      <th>4</th>\n",
       "      <td>4</td>\n",
       "      <td>1 1/2 tablespoons vegetable oil</td>\n",
       "      <td>vegetable oil</td>\n",
       "      <td>1.50</td>\n",
       "      <td>0.0</td>\n",
       "      <td>tablespoon</td>\n",
       "      <td>NaN</td>\n",
       "    </tr>\n",
       "  </tbody>\n",
       "</table>\n",
       "</div>"
      ],
      "text/plain": [
       "   index                                              input              name  \\\n",
       "0      0  1 1/4 cups cooked and pureed fresh butternut s...  butternut squash   \n",
       "1      1  1 cup peeled and cooked fresh chestnuts (about...         chestnuts   \n",
       "2      2            1 medium-size onion, peeled and chopped             onion   \n",
       "3      3                    2 stalks celery, chopped coarse            celery   \n",
       "4      4                    1 1/2 tablespoons vegetable oil     vegetable oil   \n",
       "\n",
       "    qty  range_end        unit  \\\n",
       "0  1.25        0.0         cup   \n",
       "1  1.00        0.0         cup   \n",
       "2  1.00        0.0         NaN   \n",
       "3  2.00        0.0       stalk   \n",
       "4  1.50        0.0  tablespoon   \n",
       "\n",
       "                                             comment  \n",
       "0  cooked and pureed fresh, or 1 10-ounce package...  \n",
       "1  peeled and cooked fresh (about 20), or 1 cup c...  \n",
       "2                    medium-size, peeled and chopped  \n",
       "3                                     chopped coarse  \n",
       "4                                                NaN  "
      ]
     },
     "execution_count": 6,
     "metadata": {},
     "output_type": "execute_result"
    }
   ],
   "source": [
    "df[0:5]"
   ]
  },
  {
   "cell_type": "markdown",
   "metadata": {},
   "source": [
    "## Аннотированные (BIO) рецепты"
   ]
  },
  {
   "cell_type": "code",
   "execution_count": 7,
   "metadata": {},
   "outputs": [
    {
     "data": {
      "text/plain": [
       "<torch._C.Generator at 0x7f48fd374930>"
      ]
     },
     "execution_count": 7,
     "metadata": {},
     "output_type": "execute_result"
    }
   ],
   "source": [
    "import numpy as np\n",
    "import torch\n",
    "import torch.nn as nn\n",
    "import torch.nn.functional as F\n",
    "import torch.optim as optim\n",
    "\n",
    "import numpy as np\n",
    "import matplotlib.pyplot as plt\n",
    "%matplotlib inline\n",
    "\n",
    "torch.manual_seed(1)"
   ]
  },
  {
   "cell_type": "code",
   "execution_count": 8,
   "metadata": {},
   "outputs": [],
   "source": [
    "# на темном фоне выбранная в пакете dlnlputils палитра нечитаемая, подкрутим\n",
    "from ipymarkup.palette import material, BLUE, RED, GREEN, PURPLE, BROWN, ORANGE\n",
    "\n",
    "colors = BLUE, RED, GREEN, PURPLE, BROWN, ORANGE\n",
    "\n",
    "for c in colors:\n",
    "    color_name = c.name[0].capitalize() + c.name[1:]\n",
    "    c.background = material(color_name, '900')"
   ]
  },
  {
   "cell_type": "code",
   "execution_count": 9,
   "metadata": {},
   "outputs": [],
   "source": [
    "# Если Вы запускаете ноутбук на colab или kaggle, добавьте в начало пути ./stepik-dl-nlp\n",
    "datafile = 'datasets/BIO_recipe_dataset.txt'\n",
    "lines    = open(datafile, encoding='utf-8').read().strip().split('\\n')"
   ]
  },
  {
   "cell_type": "markdown",
   "metadata": {},
   "source": [
    "#### словарь и тэги:"
   ]
  },
  {
   "cell_type": "code",
   "execution_count": 10,
   "metadata": {},
   "outputs": [],
   "source": [
    "from dlnlputils.recipe_utils import form_vocabulary_and_tagset, prepare_data, show_markup, Converter, tag_statistics, plot_confusion_matrix, recipe_statistics, plot_recipe_statistics"
   ]
  },
  {
   "cell_type": "markdown",
   "metadata": {},
   "source": [
    "- Перевели наш файл с рецептами в формат BIO, когда каждому слову соответствует тэг"
   ]
  },
  {
   "cell_type": "code",
   "execution_count": 11,
   "metadata": {},
   "outputs": [],
   "source": [
    "vocabulary, labels = form_vocabulary_and_tagset(lines)"
   ]
  },
  {
   "cell_type": "markdown",
   "metadata": {},
   "source": [
    "#### рецепты:\n",
    "\n",
    "\n",
    "- Взяли из него первые 50 тысяч рецептов"
   ]
  },
  {
   "cell_type": "code",
   "execution_count": 12,
   "metadata": {},
   "outputs": [
    {
     "data": {
      "text/plain": [
       "49847"
      ]
     },
     "execution_count": 12,
     "metadata": {},
     "output_type": "execute_result"
    }
   ],
   "source": [
    "recipes_w_tags = prepare_data(lines)\n",
    "\n",
    "len(recipes_w_tags)"
   ]
  },
  {
   "cell_type": "code",
   "execution_count": 13,
   "metadata": {},
   "outputs": [
    {
     "data": {
      "text/html": [
       "<div class=\"tex2jax_ignore\" style=\"white-space: pre-wrap\"><span style=\"padding: 2px; border-radius: 4px; border: 1px solid #c8e6c9; background: #1b5e20\">1$1/4<span style=\"vertical-align: middle; margin-left: 2px; font-size: 0.7em; color: #66bb6a;\">QTY</span></span> <span style=\"padding: 2px; border-radius: 4px; border: 1px solid #ffcdd2; background: #b71c1c\">cups<span style=\"vertical-align: middle; margin-left: 2px; font-size: 0.7em; color: #e57373;\">UNIT</span></span> <span style=\"padding: 2px; border-radius: 4px; border: 1px solid #ffe0b2; background: #e65100\">cooked and pureed fresh<span style=\"vertical-align: middle; margin-left: 2px; font-size: 0.7em; color: #ffb74d;\">COMMENT</span></span> <span style=\"padding: 2px; border-radius: 4px; border: 1px solid #bbdefb; background: #0d47a1\">butternut squash<span style=\"vertical-align: middle; margin-left: 2px; font-size: 0.7em; color: #64b5f6;\">NAME</span></span> <span style=\"padding: 2px; border-radius: 4px; border: 1px solid #d7ccc8; background: #3e2723\">,<span style=\"vertical-align: middle; margin-left: 2px; font-size: 0.7em; color: #a1887f;\">OTHER</span></span> <span style=\"padding: 2px; border-radius: 4px; border: 1px solid #ffe0b2; background: #e65100\">or 1 10-ounce package frozen<span style=\"vertical-align: middle; margin-left: 2px; font-size: 0.7em; color: #ffb74d;\">COMMENT</span></span> <span style=\"padding: 2px; border-radius: 4px; border: 1px solid #bbdefb; background: #0d47a1\">squash<span style=\"vertical-align: middle; margin-left: 2px; font-size: 0.7em; color: #64b5f6;\">NAME</span></span> <span style=\"padding: 2px; border-radius: 4px; border: 1px solid #d7ccc8; background: #3e2723\">,<span style=\"vertical-align: middle; margin-left: 2px; font-size: 0.7em; color: #a1887f;\">OTHER</span></span> <span style=\"padding: 2px; border-radius: 4px; border: 1px solid #ffe0b2; background: #e65100\">defrosted<span style=\"vertical-align: middle; margin-left: 2px; font-size: 0.7em; color: #ffb74d;\">COMMENT</span></span></div>"
      ],
      "text/plain": [
       "<IPython.core.display.HTML object>"
      ]
     },
     "metadata": {},
     "output_type": "display_data"
    }
   ],
   "source": [
    "test_recipe, test_tags = recipes_w_tags[0]\n",
    "\n",
    "show_markup(test_recipe, test_tags)"
   ]
  },
  {
   "cell_type": "markdown",
   "metadata": {},
   "source": [
    "#### перевод слов и тэгов в индексы - и обратно:\n",
    "\n",
    "Формат BIO подразумевает, что каждая именованная сущность может состоять из нескольких слов: \"b\" — beginning, \"inter\" — это продолжение.\n",
    "\n",
    "Построим два индексных словаря — для слов, которые содержатся в рецептах, и для их тэгов. Для этого мы определим объект `Converter`\n"
   ]
  },
  {
   "cell_type": "code",
   "execution_count": 14,
   "metadata": {},
   "outputs": [],
   "source": [
    "converter = Converter(vocabulary,labels)"
   ]
  },
  {
   "cell_type": "markdown",
   "metadata": {},
   "source": [
    "Исходный рецепт выглядит следующим образом — \n",
    "- в сконвертированном виде каждому слову будут соответствовать индексы в словаре токенов, \n",
    "- каждому тэгу будет соответствовать индекс в словаре тэгов.\n",
    "\n",
    "Декодирование - ОК\n"
   ]
  },
  {
   "cell_type": "code",
   "execution_count": 15,
   "metadata": {},
   "outputs": [
    {
     "name": "stdout",
     "output_type": "stream",
     "text": [
      "tensor([  57, 2245, 2133, 1520, 4060, 2650, 1846, 4624,   25, 3729,   42,  125,\n",
      "        3771, 2668, 4624,   25, 2303])\n",
      "tensor([3, 5, 0, 6, 6, 6, 2, 7, 9, 6, 6, 6, 6, 6, 2, 9, 6])\n",
      "\n"
     ]
    },
    {
     "data": {
      "text/html": [
       "<div class=\"tex2jax_ignore\" style=\"white-space: pre-wrap\"><span style=\"padding: 2px; border-radius: 4px; border: 1px solid #c8e6c9; background: #1b5e20\">1$1/4<span style=\"vertical-align: middle; margin-left: 2px; font-size: 0.7em; color: #66bb6a;\">QTY</span></span> <span style=\"padding: 2px; border-radius: 4px; border: 1px solid #ffcdd2; background: #b71c1c\">cups<span style=\"vertical-align: middle; margin-left: 2px; font-size: 0.7em; color: #e57373;\">UNIT</span></span> <span style=\"padding: 2px; border-radius: 4px; border: 1px solid #ffe0b2; background: #e65100\">cooked and pureed fresh<span style=\"vertical-align: middle; margin-left: 2px; font-size: 0.7em; color: #ffb74d;\">COMMENT</span></span> <span style=\"padding: 2px; border-radius: 4px; border: 1px solid #bbdefb; background: #0d47a1\">butternut squash<span style=\"vertical-align: middle; margin-left: 2px; font-size: 0.7em; color: #64b5f6;\">NAME</span></span> <span style=\"padding: 2px; border-radius: 4px; border: 1px solid #d7ccc8; background: #3e2723\">,<span style=\"vertical-align: middle; margin-left: 2px; font-size: 0.7em; color: #a1887f;\">OTHER</span></span> <span style=\"padding: 2px; border-radius: 4px; border: 1px solid #ffe0b2; background: #e65100\">or 1 10-ounce package frozen<span style=\"vertical-align: middle; margin-left: 2px; font-size: 0.7em; color: #ffb74d;\">COMMENT</span></span> <span style=\"padding: 2px; border-radius: 4px; border: 1px solid #bbdefb; background: #0d47a1\">squash<span style=\"vertical-align: middle; margin-left: 2px; font-size: 0.7em; color: #64b5f6;\">NAME</span></span> <span style=\"padding: 2px; border-radius: 4px; border: 1px solid #d7ccc8; background: #3e2723\">,<span style=\"vertical-align: middle; margin-left: 2px; font-size: 0.7em; color: #a1887f;\">OTHER</span></span> <span style=\"padding: 2px; border-radius: 4px; border: 1px solid #ffe0b2; background: #e65100\">defrosted<span style=\"vertical-align: middle; margin-left: 2px; font-size: 0.7em; color: #ffb74d;\">COMMENT</span></span></div>"
      ],
      "text/plain": [
       "<IPython.core.display.HTML object>"
      ]
     },
     "metadata": {},
     "output_type": "display_data"
    }
   ],
   "source": [
    "test_recipe, test_tags = recipes_w_tags[0]\n",
    "\n",
    "encoded_recipe = converter.words_to_index(test_recipe)\n",
    "encoded_tags   = converter.tags_to_index(test_tags)\n",
    "\n",
    "print(encoded_recipe)\n",
    "print(encoded_tags)\n",
    "print()\n",
    "\n",
    "decoded_recipe = converter.indices_to_words(encoded_recipe)\n",
    "decoded_tags   = converter.indices_to_tags(encoded_tags)\n",
    "\n",
    "show_markup(decoded_recipe, decoded_tags)"
   ]
  },
  {
   "cell_type": "markdown",
   "metadata": {},
   "source": [
    "Тренировочная и тестовая выборки (80/20)"
   ]
  },
  {
   "cell_type": "code",
   "execution_count": 16,
   "metadata": {},
   "outputs": [],
   "source": [
    "training_data = recipes_w_tags[     :40000]\n",
    "test_data     = recipes_w_tags[40000:]"
   ]
  },
  {
   "cell_type": "markdown",
   "metadata": {},
   "source": [
    "Алгоритмы NER можно использовать при решении таких задач, как:\n",
    "\n",
    "1. Анализ мнений: определить не только тональность высказывания но и предмет, о котором сделано высказывание.\n",
    "2. Семантическая аннотация: автоматически определить объекты, о которых идет речь в статье на Википедии, чтобы прикрепить к ним ссылки на статьи о них Википедии.\n",
    "3. Вопросно ответные системы: программа получает на вход текст и вопросы о его содержании, например, \"кто главный герой текста?\", \"в каком городе он живет?\". Вопросно ответная система должна научиться отвечать на такие вопросы. Помните школьные тесты на уроках иностранного языка?\n",
    "\n",
    "В нашем случае именованные сущности - это Продукт, его Количество, Мера Измерения и Комментарий (о продукте и о том, как его приготовить). Если мы научимся извлекать эти знания из рецепта, мы сможем построить рекомендательную систему, которая будет способна, например, предлагать вегетарианские рецепты или рецепты с вашими любимыми продуктами.\n",
    "\n",
    "То есть,  BIO разметка выглядит следующим образом (данные поменялисть, на примере другого рецепта):\n",
    "\n",
    "    1\t        B-QTY\n",
    "    medium-size\tB-COMMENT\n",
    "    onion\t        B-NAME\n",
    "    ,\t        B-COMMENT\n",
    "    peeled\t        I-COMMENT\n",
    "    and\t        I-COMMENT\n",
    "    chopped\t        I-COMMENT\n",
    "\n",
    "    2\t        B-QTY\n",
    "    stalks\t        B-UNIT\n",
    "    celery\t        B-NAME\n",
    "    ,\t        OTHER\n",
    "    chopped\t        B-COMMENT\n",
    "    coarse\t        I-COMMENT\n",
    "\n",
    "    1$1/2\t        B-QTY\n",
    "    tablespoons\tB-UNIT\n",
    "    vegetable\tB-NAME\n",
    "    oil\t        I-NAME"
   ]
  },
  {
   "cell_type": "markdown",
   "metadata": {},
   "source": [
    "## LSTM\n",
    "\n",
    "1. Для входящих слов - найдём их индексы в словаре, \n",
    "2. Найдем соответствующие им векторы в эмбеддинг-матрице. \n",
    "3. Далее, каждый из этих векторов попадёт в нашу нейросеть LSTM следующим образом: \n",
    "   - сначала попадает первый вектор, \n",
    "   - нейросеть генерирует некий промежуточный результат и получает его же себе на вход одновременно с вектором следующего слова, \n",
    "   - производит ещё один промежуточный результат, получит его на вход с вектором уже следующего слова, \n",
    "   - и для каждого такого промежуточного состояния мы применяем модуль, связанный с предсказанием тэга. \n",
    "     - Например, для вектора \"cup\" это будет тэг \"quantity\", для \"of\" это будет \"comment\", для \"tea\" наш модуль предскажет \"name\".\n",
    "\n",
    "В функции `predict_tags()` для деактивации autograd (без вычисления градиентов будет использоваться меньше памяти и скорость работы увеличится) мы делаем вызов `torch.no_grad()`.\n",
    "\n",
    "**Косячная разметка**\n",
    "\n",
    "Изучая .csv файл с оригинальной разметкой рецептов можно наткнуться в частности на такие примеры:  \n",
    "\n",
    "      1QTY teaspoonUNIT baking powderNAME\n",
    "      1QTY cupUNIT plain lowfatCOMMENT yogurtNAME\n",
    "\n",
    "В первом примере baking powderNAME (мука для выпекания) выделена в отдельную сущность (ОК), тогда как plain lowfatCOMMENT yogurtNAME (обезжиренный йогурт без добавок) поделен на раздельные сущности.\n",
    "\n",
    "Для принятия решения об объединении нескольких слов в именованную сущность можно использовать критерии: \n",
    "\n",
    "- Частоту n-граммы\n",
    "- $pmi(l, w) = log \\frac{p(w, l)} {p(w) p(l)}$\n",
    "- Языковую модель (например, skip-gram)\n",
    "​\n"
   ]
  },
  {
   "cell_type": "code",
   "execution_count": 17,
   "metadata": {},
   "outputs": [],
   "source": [
    "EMBEDDING_DIM = 32\n",
    "HIDDEN_DIM    = 32\n",
    "VOCAB_SIZE    = len(converter.word_to_idx)\n",
    "TAGSET_SIZE   = len(converter.tag_to_idx)"
   ]
  },
  {
   "cell_type": "code",
   "execution_count": 18,
   "metadata": {},
   "outputs": [],
   "source": [
    "class LSTMTagger(nn.Module):\n",
    "\n",
    "    def __init__(self, embedding_dim, hidden_dim, vocab_size, tagset_size):\n",
    "        \n",
    "        super(LSTMTagger, self).__init__()\n",
    "        \n",
    "        self.hidden_dim      = hidden_dim\n",
    "        self.word_embeddings = nn.Embedding(vocab_size, embedding_dim)\n",
    "        self.lstm            = nn.LSTM(embedding_dim, hidden_dim)\n",
    "        self.hidden2tag      = nn.Linear(hidden_dim, tagset_size)\n",
    "\n",
    "    def forward(self, words):\n",
    "        embeds      = self.word_embeddings(words)\n",
    "        lstm_out, _ = self.lstm(embeds.view(len(words), 1, -1))\n",
    "        tag_space   = self.hidden2tag(lstm_out.view(len(words), -1))\n",
    "        tag_scores  = F.log_softmax(tag_space, dim=1)\n",
    "        \n",
    "        return tag_scores\n",
    "    \n",
    "    def predict_tags(self, words):\n",
    "        with torch.no_grad():\n",
    "            tags_pred = model(words).numpy()\n",
    "            tags_pred = np.argmax(tags_pred, axis=1)\n",
    "            \n",
    "        return tags_pred"
   ]
  },
  {
   "cell_type": "code",
   "execution_count": 19,
   "metadata": {},
   "outputs": [],
   "source": [
    "model         = LSTMTagger(EMBEDDING_DIM, HIDDEN_DIM, VOCAB_SIZE, TAGSET_SIZE)\n",
    "loss_function = nn.NLLLoss() \n",
    "optimizer     = optim.SGD(model.parameters(), lr=0.1)"
   ]
  },
  {
   "cell_type": "markdown",
   "metadata": {},
   "source": [
    "Нейросеть обучается довольно быстро, потому что наш датасет сравнительно мал. \n",
    "- минут 10 на 5 эпох на хосте\n",
    "- большая дисперсия ошибок, т.к. тут щитай размер батча 1 и это типа щитай покоординатный спуск, а не пакетный (?)"
   ]
  },
  {
   "cell_type": "code",
   "execution_count": 20,
   "metadata": {},
   "outputs": [],
   "source": [
    "from livelossplot import PlotLosses\n",
    "\n",
    "liveplot = PlotLosses()\n",
    "\n",
    "if not QUICK_RUN:\n",
    "    # почему эпоха это 500 примеров? эпоха же это все примеры...\n",
    "    for epoch in range(5): \n",
    "        for i, (recipe, tags) in enumerate(training_data):\n",
    "            \n",
    "            model.zero_grad()\n",
    "            \n",
    "            encoded_recipe = converter.words_to_index(recipe) # слово -> его номер в словаре \n",
    "            encoded_tags   = converter.tags_to_index(tags)    # тэг   -> его номер в списке тэгов\n",
    "            \n",
    "            tag_scores     = model(encoded_recipe)\n",
    "\n",
    "            loss = loss_function(tag_scores, encoded_tags)\n",
    "            loss.backward()\n",
    "            optimizer.step()\n",
    "            \n",
    "            if i % 500 == 0:\n",
    "                liveplot.update({'negative log likelihood loss': loss.detach().numpy()})\n",
    "                liveplot.draw()\n",
    "                \n",
    "            if i == len(training_data):  # типа по всем примерам\n",
    "                break"
   ]
  },
  {
   "cell_type": "markdown",
   "metadata": {},
   "source": [
    "Определим функцию `predict_tags`: \n",
    "- нейросеть (уже обученная) получает на вход слова, находятся их индексы в словаре, \n",
    "- они попадают в нейросеть, и мы предсказываем тэги для слов. "
   ]
  },
  {
   "cell_type": "code",
   "execution_count": 21,
   "metadata": {},
   "outputs": [],
   "source": [
    "def predict_tags(model, converter, recipe):\n",
    "    \n",
    "    encoded_recipe = converter.words_to_index(recipe)        # слово -> его номер в словаре\n",
    "    \n",
    "    encoded_tags   = model.predict_tags(encoded_recipe)      # предсказанные тэги (номера)\n",
    "\n",
    "    decoded_tags   = converter.indices_to_tags(encoded_tags) # номер тэга -> тэг\n",
    "    \n",
    "    return decoded_tags"
   ]
  },
  {
   "cell_type": "markdown",
   "metadata": {},
   "source": [
    "\n",
    "Рассмотрим 10 реальных примеров предсказания тэгов рецептов. \n",
    "\n",
    "Ошибок довольно много"
   ]
  },
  {
   "cell_type": "code",
   "execution_count": 22,
   "metadata": {},
   "outputs": [
    {
     "name": "stdout",
     "output_type": "stream",
     "text": [
      "истинные тэги:\n"
     ]
    },
    {
     "data": {
      "text/html": [
       "<div class=\"tex2jax_ignore\" style=\"white-space: pre-wrap\"><span style=\"padding: 2px; border-radius: 4px; border: 1px solid #d7ccc8; background: #3e2723\">1/8<span style=\"vertical-align: middle; margin-left: 2px; font-size: 0.7em; color: #a1887f;\">OTHER</span></span> <span style=\"padding: 2px; border-radius: 4px; border: 1px solid #ffcdd2; background: #b71c1c\">teaspoon<span style=\"vertical-align: middle; margin-left: 2px; font-size: 0.7em; color: #e57373;\">UNIT</span></span> <span style=\"padding: 2px; border-radius: 4px; border: 1px solid #bbdefb; background: #0d47a1\">salt<span style=\"vertical-align: middle; margin-left: 2px; font-size: 0.7em; color: #64b5f6;\">NAME</span></span></div>"
      ],
      "text/plain": [
       "<IPython.core.display.HTML object>"
      ]
     },
     "metadata": {},
     "output_type": "display_data"
    },
    {
     "name": "stdout",
     "output_type": "stream",
     "text": [
      "предсказанные тэги:\n"
     ]
    },
    {
     "data": {
      "text/html": [
       "<div class=\"tex2jax_ignore\" style=\"white-space: pre-wrap\"><span style=\"padding: 2px; border-radius: 4px; border: 1px solid #c8e6c9; background: #1b5e20\">1/8 teaspoon<span style=\"vertical-align: middle; margin-left: 2px; font-size: 0.7em; color: #66bb6a;\">QTY</span></span> <span style=\"padding: 2px; border-radius: 4px; border: 1px solid #bbdefb; background: #0d47a1\">salt<span style=\"vertical-align: middle; margin-left: 2px; font-size: 0.7em; color: #64b5f6;\">NAME</span></span></div>"
      ],
      "text/plain": [
       "<IPython.core.display.HTML object>"
      ]
     },
     "metadata": {},
     "output_type": "display_data"
    },
    {
     "name": "stdout",
     "output_type": "stream",
     "text": [
      "\n",
      "истинные тэги:\n"
     ]
    },
    {
     "data": {
      "text/html": [
       "<div class=\"tex2jax_ignore\" style=\"white-space: pre-wrap\"><span style=\"padding: 2px; border-radius: 4px; border: 1px solid #ffe0b2; background: #e65100\">Maldon<span style=\"vertical-align: middle; margin-left: 2px; font-size: 0.7em; color: #ffb74d;\">COMMENT</span></span> <span style=\"padding: 2px; border-radius: 4px; border: 1px solid #d7ccc8; background: #3e2723\">sea<span style=\"vertical-align: middle; margin-left: 2px; font-size: 0.7em; color: #a1887f;\">OTHER</span></span> <span style=\"padding: 2px; border-radius: 4px; border: 1px solid #bbdefb; background: #0d47a1\">salt<span style=\"vertical-align: middle; margin-left: 2px; font-size: 0.7em; color: #64b5f6;\">NAME</span></span> <span style=\"padding: 2px; border-radius: 4px; border: 1px solid #ffe0b2; background: #e65100\">or another flaky<span style=\"vertical-align: middle; margin-left: 2px; font-size: 0.7em; color: #ffb74d;\">COMMENT</span></span> <span style=\"padding: 2px; border-radius: 4px; border: 1px solid #d7ccc8; background: #3e2723\">sea<span style=\"vertical-align: middle; margin-left: 2px; font-size: 0.7em; color: #a1887f;\">OTHER</span></span> <span style=\"padding: 2px; border-radius: 4px; border: 1px solid #bbdefb; background: #0d47a1\">salt<span style=\"vertical-align: middle; margin-left: 2px; font-size: 0.7em; color: #64b5f6;\">NAME</span></span></div>"
      ],
      "text/plain": [
       "<IPython.core.display.HTML object>"
      ]
     },
     "metadata": {},
     "output_type": "display_data"
    },
    {
     "name": "stdout",
     "output_type": "stream",
     "text": [
      "предсказанные тэги:\n"
     ]
    },
    {
     "data": {
      "text/html": [
       "<div class=\"tex2jax_ignore\" style=\"white-space: pre-wrap\"><span style=\"padding: 2px; border-radius: 4px; border: 1px solid #bbdefb; background: #0d47a1\">Maldon<span style=\"vertical-align: middle; margin-left: 2px; font-size: 0.7em; color: #64b5f6;\">NAME</span></span> <span style=\"padding: 2px; border-radius: 4px; border: 1px solid #d7ccc8; background: #3e2723\">sea<span style=\"vertical-align: middle; margin-left: 2px; font-size: 0.7em; color: #a1887f;\">OTHER</span></span> <span style=\"padding: 2px; border-radius: 4px; border: 1px solid #ffe0b2; background: #e65100\">salt or<span style=\"vertical-align: middle; margin-left: 2px; font-size: 0.7em; color: #ffb74d;\">COMMENT</span></span> <span style=\"padding: 2px; border-radius: 4px; border: 1px solid #c8e6c9; background: #1b5e20\">another flaky sea<span style=\"vertical-align: middle; margin-left: 2px; font-size: 0.7em; color: #66bb6a;\">QTY</span></span> <span style=\"padding: 2px; border-radius: 4px; border: 1px solid #ffe0b2; background: #e65100\">salt<span style=\"vertical-align: middle; margin-left: 2px; font-size: 0.7em; color: #ffb74d;\">COMMENT</span></span></div>"
      ],
      "text/plain": [
       "<IPython.core.display.HTML object>"
      ]
     },
     "metadata": {},
     "output_type": "display_data"
    },
    {
     "name": "stdout",
     "output_type": "stream",
     "text": [
      "\n",
      "истинные тэги:\n"
     ]
    },
    {
     "data": {
      "text/html": [
       "<div class=\"tex2jax_ignore\" style=\"white-space: pre-wrap\"><span style=\"padding: 2px; border-radius: 4px; border: 1px solid #c8e6c9; background: #1b5e20\">4<span style=\"vertical-align: middle; margin-left: 2px; font-size: 0.7em; color: #66bb6a;\">QTY</span></span> <span style=\"padding: 2px; border-radius: 4px; border: 1px solid #ffcdd2; background: #b71c1c\">sprigs<span style=\"vertical-align: middle; margin-left: 2px; font-size: 0.7em; color: #e57373;\">UNIT</span></span> <span style=\"padding: 2px; border-radius: 4px; border: 1px solid #ffe0b2; background: #e65100\">fresh<span style=\"vertical-align: middle; margin-left: 2px; font-size: 0.7em; color: #ffb74d;\">COMMENT</span></span> <span style=\"padding: 2px; border-radius: 4px; border: 1px solid #bbdefb; background: #0d47a1\">thyme<span style=\"vertical-align: middle; margin-left: 2px; font-size: 0.7em; color: #64b5f6;\">NAME</span></span> <span style=\"padding: 2px; border-radius: 4px; border: 1px solid #ffe0b2; background: #e65100\">or 1 teaspoon dried<span style=\"vertical-align: middle; margin-left: 2px; font-size: 0.7em; color: #ffb74d;\">COMMENT</span></span></div>"
      ],
      "text/plain": [
       "<IPython.core.display.HTML object>"
      ]
     },
     "metadata": {},
     "output_type": "display_data"
    },
    {
     "name": "stdout",
     "output_type": "stream",
     "text": [
      "предсказанные тэги:\n"
     ]
    },
    {
     "data": {
      "text/html": [
       "<div class=\"tex2jax_ignore\" style=\"white-space: pre-wrap\"><span style=\"padding: 2px; border-radius: 4px; border: 1px solid #bbdefb; background: #0d47a1\">4<span style=\"vertical-align: middle; margin-left: 2px; font-size: 0.7em; color: #64b5f6;\">NAME</span></span> <span style=\"padding: 2px; border-radius: 4px; border: 1px solid #c8e6c9; background: #1b5e20\">sprigs<span style=\"vertical-align: middle; margin-left: 2px; font-size: 0.7em; color: #66bb6a;\">QTY</span></span> <span style=\"padding: 2px; border-radius: 4px; border: 1px solid #ffe0b2; background: #e65100\">fresh<span style=\"vertical-align: middle; margin-left: 2px; font-size: 0.7em; color: #ffb74d;\">COMMENT</span></span> <span style=\"padding: 2px; border-radius: 4px; border: 1px solid #c8e6c9; background: #1b5e20\">thyme or 1 teaspoon dried<span style=\"vertical-align: middle; margin-left: 2px; font-size: 0.7em; color: #66bb6a;\">QTY</span></span></div>"
      ],
      "text/plain": [
       "<IPython.core.display.HTML object>"
      ]
     },
     "metadata": {},
     "output_type": "display_data"
    },
    {
     "name": "stdout",
     "output_type": "stream",
     "text": [
      "\n",
      "истинные тэги:\n"
     ]
    },
    {
     "data": {
      "text/html": [
       "<div class=\"tex2jax_ignore\" style=\"white-space: pre-wrap\"><span style=\"padding: 2px; border-radius: 4px; border: 1px solid #c8e6c9; background: #1b5e20\">1<span style=\"vertical-align: middle; margin-left: 2px; font-size: 0.7em; color: #66bb6a;\">QTY</span></span> <span style=\"padding: 2px; border-radius: 4px; border: 1px solid #ffe0b2; background: #e65100\">medium<span style=\"vertical-align: middle; margin-left: 2px; font-size: 0.7em; color: #ffb74d;\">COMMENT</span></span> <span style=\"padding: 2px; border-radius: 4px; border: 1px solid #bbdefb; background: #0d47a1\">kabocha<span style=\"vertical-align: middle; margin-left: 2px; font-size: 0.7em; color: #64b5f6;\">NAME</span></span> <span style=\"padding: 2px; border-radius: 4px; border: 1px solid #ffe0b2; background: #e65100\">squash , about 3 pounds<span style=\"vertical-align: middle; margin-left: 2px; font-size: 0.7em; color: #ffb74d;\">COMMENT</span></span></div>"
      ],
      "text/plain": [
       "<IPython.core.display.HTML object>"
      ]
     },
     "metadata": {},
     "output_type": "display_data"
    },
    {
     "name": "stdout",
     "output_type": "stream",
     "text": [
      "предсказанные тэги:\n"
     ]
    },
    {
     "data": {
      "text/html": [
       "<div class=\"tex2jax_ignore\" style=\"white-space: pre-wrap\"><span style=\"padding: 2px; border-radius: 4px; border: 1px solid #c8e6c9; background: #1b5e20\">1 medium kabocha<span style=\"vertical-align: middle; margin-left: 2px; font-size: 0.7em; color: #66bb6a;\">QTY</span></span> <span style=\"padding: 2px; border-radius: 4px; border: 1px solid #ffe0b2; background: #e65100\">squash<span style=\"vertical-align: middle; margin-left: 2px; font-size: 0.7em; color: #ffb74d;\">COMMENT</span></span> <span style=\"padding: 2px; border-radius: 4px; border: 1px solid #c8e6c9; background: #1b5e20\">, about<span style=\"vertical-align: middle; margin-left: 2px; font-size: 0.7em; color: #66bb6a;\">QTY</span></span> <span style=\"padding: 2px; border-radius: 4px; border: 1px solid #bbdefb; background: #0d47a1\">3<span style=\"vertical-align: middle; margin-left: 2px; font-size: 0.7em; color: #64b5f6;\">NAME</span></span> <span style=\"padding: 2px; border-radius: 4px; border: 1px solid #ffe0b2; background: #e65100\">pounds<span style=\"vertical-align: middle; margin-left: 2px; font-size: 0.7em; color: #ffb74d;\">COMMENT</span></span></div>"
      ],
      "text/plain": [
       "<IPython.core.display.HTML object>"
      ]
     },
     "metadata": {},
     "output_type": "display_data"
    },
    {
     "name": "stdout",
     "output_type": "stream",
     "text": [
      "\n",
      "истинные тэги:\n"
     ]
    },
    {
     "data": {
      "text/html": [
       "<div class=\"tex2jax_ignore\" style=\"white-space: pre-wrap\"><span style=\"padding: 2px; border-radius: 4px; border: 1px solid #c8e6c9; background: #1b5e20\">2<span style=\"vertical-align: middle; margin-left: 2px; font-size: 0.7em; color: #66bb6a;\">QTY</span></span> <span style=\"padding: 2px; border-radius: 4px; border: 1px solid #bbdefb; background: #0d47a1\">bay leaves<span style=\"vertical-align: middle; margin-left: 2px; font-size: 0.7em; color: #64b5f6;\">NAME</span></span></div>"
      ],
      "text/plain": [
       "<IPython.core.display.HTML object>"
      ]
     },
     "metadata": {},
     "output_type": "display_data"
    },
    {
     "name": "stdout",
     "output_type": "stream",
     "text": [
      "предсказанные тэги:\n"
     ]
    },
    {
     "data": {
      "text/html": [
       "<div class=\"tex2jax_ignore\" style=\"white-space: pre-wrap\"><span style=\"padding: 2px; border-radius: 4px; border: 1px solid #ffe0b2; background: #e65100\">2 bay<span style=\"vertical-align: middle; margin-left: 2px; font-size: 0.7em; color: #ffb74d;\">COMMENT</span></span> <span style=\"padding: 2px; border-radius: 4px; border: 1px solid #c8e6c9; background: #1b5e20\">leaves<span style=\"vertical-align: middle; margin-left: 2px; font-size: 0.7em; color: #66bb6a;\">QTY</span></span></div>"
      ],
      "text/plain": [
       "<IPython.core.display.HTML object>"
      ]
     },
     "metadata": {},
     "output_type": "display_data"
    },
    {
     "name": "stdout",
     "output_type": "stream",
     "text": [
      "\n",
      "истинные тэги:\n"
     ]
    },
    {
     "data": {
      "text/html": [
       "<div class=\"tex2jax_ignore\" style=\"white-space: pre-wrap\"><span style=\"padding: 2px; border-radius: 4px; border: 1px solid #c8e6c9; background: #1b5e20\">2<span style=\"vertical-align: middle; margin-left: 2px; font-size: 0.7em; color: #66bb6a;\">QTY</span></span> <span style=\"padding: 2px; border-radius: 4px; border: 1px solid #ffcdd2; background: #b71c1c\">tablespoons<span style=\"vertical-align: middle; margin-left: 2px; font-size: 0.7em; color: #e57373;\">UNIT</span></span> <span style=\"padding: 2px; border-radius: 4px; border: 1px solid #bbdefb; background: #0d47a1\">butter<span style=\"vertical-align: middle; margin-left: 2px; font-size: 0.7em; color: #64b5f6;\">NAME</span></span></div>"
      ],
      "text/plain": [
       "<IPython.core.display.HTML object>"
      ]
     },
     "metadata": {},
     "output_type": "display_data"
    },
    {
     "name": "stdout",
     "output_type": "stream",
     "text": [
      "предсказанные тэги:\n"
     ]
    },
    {
     "data": {
      "text/html": [
       "<div class=\"tex2jax_ignore\" style=\"white-space: pre-wrap\"><span style=\"padding: 2px; border-radius: 4px; border: 1px solid #ffe0b2; background: #e65100\">2 tablespoons<span style=\"vertical-align: middle; margin-left: 2px; font-size: 0.7em; color: #ffb74d;\">COMMENT</span></span> <span style=\"padding: 2px; border-radius: 4px; border: 1px solid #bbdefb; background: #0d47a1\">butter<span style=\"vertical-align: middle; margin-left: 2px; font-size: 0.7em; color: #64b5f6;\">NAME</span></span></div>"
      ],
      "text/plain": [
       "<IPython.core.display.HTML object>"
      ]
     },
     "metadata": {},
     "output_type": "display_data"
    },
    {
     "name": "stdout",
     "output_type": "stream",
     "text": [
      "\n",
      "истинные тэги:\n"
     ]
    },
    {
     "data": {
      "text/html": [
       "<div class=\"tex2jax_ignore\" style=\"white-space: pre-wrap\"><span style=\"padding: 2px; border-radius: 4px; border: 1px solid #c8e6c9; background: #1b5e20\">1/2<span style=\"vertical-align: middle; margin-left: 2px; font-size: 0.7em; color: #66bb6a;\">QTY</span></span> <span style=\"padding: 2px; border-radius: 4px; border: 1px solid #ffcdd2; background: #b71c1c\">cup<span style=\"vertical-align: middle; margin-left: 2px; font-size: 0.7em; color: #e57373;\">UNIT</span></span> <span style=\"padding: 2px; border-radius: 4px; border: 1px solid #bbdefb; background: #0d47a1\">heavy cream<span style=\"vertical-align: middle; margin-left: 2px; font-size: 0.7em; color: #64b5f6;\">NAME</span></span></div>"
      ],
      "text/plain": [
       "<IPython.core.display.HTML object>"
      ]
     },
     "metadata": {},
     "output_type": "display_data"
    },
    {
     "name": "stdout",
     "output_type": "stream",
     "text": [
      "предсказанные тэги:\n"
     ]
    },
    {
     "data": {
      "text/html": [
       "<div class=\"tex2jax_ignore\" style=\"white-space: pre-wrap\"><span style=\"padding: 2px; border-radius: 4px; border: 1px solid #ffe0b2; background: #e65100\">1/2<span style=\"vertical-align: middle; margin-left: 2px; font-size: 0.7em; color: #ffb74d;\">COMMENT</span></span> <span style=\"padding: 2px; border-radius: 4px; border: 1px solid #c8e6c9; background: #1b5e20\">cup heavy cream<span style=\"vertical-align: middle; margin-left: 2px; font-size: 0.7em; color: #66bb6a;\">QTY</span></span></div>"
      ],
      "text/plain": [
       "<IPython.core.display.HTML object>"
      ]
     },
     "metadata": {},
     "output_type": "display_data"
    },
    {
     "name": "stdout",
     "output_type": "stream",
     "text": [
      "\n",
      "истинные тэги:\n"
     ]
    },
    {
     "data": {
      "text/html": [
       "<div class=\"tex2jax_ignore\" style=\"white-space: pre-wrap\"><span style=\"padding: 2px; border-radius: 4px; border: 1px solid #c8e6c9; background: #1b5e20\">1<span style=\"vertical-align: middle; margin-left: 2px; font-size: 0.7em; color: #66bb6a;\">QTY</span></span> <span style=\"padding: 2px; border-radius: 4px; border: 1px solid #ffcdd2; background: #b71c1c\">pound<span style=\"vertical-align: middle; margin-left: 2px; font-size: 0.7em; color: #e57373;\">UNIT</span></span> <span style=\"padding: 2px; border-radius: 4px; border: 1px solid #bbdefb; background: #0d47a1\">scallions<span style=\"vertical-align: middle; margin-left: 2px; font-size: 0.7em; color: #64b5f6;\">NAME</span></span> <span style=\"padding: 2px; border-radius: 4px; border: 1px solid #ffe0b2; background: #e65100\">( about 4 bunches or 24<span style=\"vertical-align: middle; margin-left: 2px; font-size: 0.7em; color: #ffb74d;\">COMMENT</span></span> <span style=\"padding: 2px; border-radius: 4px; border: 1px solid #bbdefb; background: #0d47a1\">scallions<span style=\"vertical-align: middle; margin-left: 2px; font-size: 0.7em; color: #64b5f6;\">NAME</span></span> <span style=\"padding: 2px; border-radius: 4px; border: 1px solid #ffe0b2; background: #e65100\">) , trimmed and cut across into 1-inch lengths<span style=\"vertical-align: middle; margin-left: 2px; font-size: 0.7em; color: #ffb74d;\">COMMENT</span></span></div>"
      ],
      "text/plain": [
       "<IPython.core.display.HTML object>"
      ]
     },
     "metadata": {},
     "output_type": "display_data"
    },
    {
     "name": "stdout",
     "output_type": "stream",
     "text": [
      "предсказанные тэги:\n"
     ]
    },
    {
     "data": {
      "text/html": [
       "<div class=\"tex2jax_ignore\" style=\"white-space: pre-wrap\"><span style=\"padding: 2px; border-radius: 4px; border: 1px solid #c8e6c9; background: #1b5e20\">1 pound scallions ( about<span style=\"vertical-align: middle; margin-left: 2px; font-size: 0.7em; color: #66bb6a;\">QTY</span></span> <span style=\"padding: 2px; border-radius: 4px; border: 1px solid #bbdefb; background: #0d47a1\">4<span style=\"vertical-align: middle; margin-left: 2px; font-size: 0.7em; color: #64b5f6;\">NAME</span></span> <span style=\"padding: 2px; border-radius: 4px; border: 1px solid #ffe0b2; background: #e65100\">bunches<span style=\"vertical-align: middle; margin-left: 2px; font-size: 0.7em; color: #ffb74d;\">COMMENT</span></span> <span style=\"padding: 2px; border-radius: 4px; border: 1px solid #c8e6c9; background: #1b5e20\">or 24 scallions<span style=\"vertical-align: middle; margin-left: 2px; font-size: 0.7em; color: #66bb6a;\">QTY</span></span> <span style=\"padding: 2px; border-radius: 4px; border: 1px solid #bbdefb; background: #0d47a1\">)<span style=\"vertical-align: middle; margin-left: 2px; font-size: 0.7em; color: #64b5f6;\">NAME</span></span> <span style=\"padding: 2px; border-radius: 4px; border: 1px solid #c8e6c9; background: #1b5e20\">, trimmed<span style=\"vertical-align: middle; margin-left: 2px; font-size: 0.7em; color: #66bb6a;\">QTY</span></span> <span style=\"padding: 2px; border-radius: 4px; border: 1px solid #ffe0b2; background: #e65100\">and<span style=\"vertical-align: middle; margin-left: 2px; font-size: 0.7em; color: #ffb74d;\">COMMENT</span></span> <span style=\"padding: 2px; border-radius: 4px; border: 1px solid #bbdefb; background: #0d47a1\">cut<span style=\"vertical-align: middle; margin-left: 2px; font-size: 0.7em; color: #64b5f6;\">NAME</span></span> <span style=\"padding: 2px; border-radius: 4px; border: 1px solid #c8e6c9; background: #1b5e20\">across<span style=\"vertical-align: middle; margin-left: 2px; font-size: 0.7em; color: #66bb6a;\">QTY</span></span> <span style=\"padding: 2px; border-radius: 4px; border: 1px solid #ffe0b2; background: #e65100\">into<span style=\"vertical-align: middle; margin-left: 2px; font-size: 0.7em; color: #ffb74d;\">COMMENT</span></span> <span style=\"padding: 2px; border-radius: 4px; border: 1px solid #c8e6c9; background: #1b5e20\">1-inch lengths<span style=\"vertical-align: middle; margin-left: 2px; font-size: 0.7em; color: #66bb6a;\">QTY</span></span></div>"
      ],
      "text/plain": [
       "<IPython.core.display.HTML object>"
      ]
     },
     "metadata": {},
     "output_type": "display_data"
    },
    {
     "name": "stdout",
     "output_type": "stream",
     "text": [
      "\n",
      "истинные тэги:\n"
     ]
    },
    {
     "data": {
      "text/html": [
       "<div class=\"tex2jax_ignore\" style=\"white-space: pre-wrap\"><span style=\"padding: 2px; border-radius: 4px; border: 1px solid #d7ccc8; background: #3e2723\">Sprig of<span style=\"vertical-align: middle; margin-left: 2px; font-size: 0.7em; color: #a1887f;\">OTHER</span></span> <span style=\"padding: 2px; border-radius: 4px; border: 1px solid #bbdefb; background: #0d47a1\">parsley<span style=\"vertical-align: middle; margin-left: 2px; font-size: 0.7em; color: #64b5f6;\">NAME</span></span></div>"
      ],
      "text/plain": [
       "<IPython.core.display.HTML object>"
      ]
     },
     "metadata": {},
     "output_type": "display_data"
    },
    {
     "name": "stdout",
     "output_type": "stream",
     "text": [
      "предсказанные тэги:\n"
     ]
    },
    {
     "data": {
      "text/html": [
       "<div class=\"tex2jax_ignore\" style=\"white-space: pre-wrap\"><span style=\"padding: 2px; border-radius: 4px; border: 1px solid #ffe0b2; background: #e65100\">Sprig<span style=\"vertical-align: middle; margin-left: 2px; font-size: 0.7em; color: #ffb74d;\">COMMENT</span></span> <span style=\"padding: 2px; border-radius: 4px; border: 1px solid #c8e6c9; background: #1b5e20\">of parsley<span style=\"vertical-align: middle; margin-left: 2px; font-size: 0.7em; color: #66bb6a;\">QTY</span></span></div>"
      ],
      "text/plain": [
       "<IPython.core.display.HTML object>"
      ]
     },
     "metadata": {},
     "output_type": "display_data"
    },
    {
     "name": "stdout",
     "output_type": "stream",
     "text": [
      "\n",
      "истинные тэги:\n"
     ]
    },
    {
     "data": {
      "text/html": [
       "<div class=\"tex2jax_ignore\" style=\"white-space: pre-wrap\"><span style=\"padding: 2px; border-radius: 4px; border: 1px solid #c8e6c9; background: #1b5e20\">1/2<span style=\"vertical-align: middle; margin-left: 2px; font-size: 0.7em; color: #66bb6a;\">QTY</span></span> <span style=\"padding: 2px; border-radius: 4px; border: 1px solid #ffcdd2; background: #b71c1c\">teaspoon<span style=\"vertical-align: middle; margin-left: 2px; font-size: 0.7em; color: #e57373;\">UNIT</span></span> <span style=\"padding: 2px; border-radius: 4px; border: 1px solid #ffe0b2; background: #e65100\">ground<span style=\"vertical-align: middle; margin-left: 2px; font-size: 0.7em; color: #ffb74d;\">COMMENT</span></span> <span style=\"padding: 2px; border-radius: 4px; border: 1px solid #bbdefb; background: #0d47a1\">cumin seed<span style=\"vertical-align: middle; margin-left: 2px; font-size: 0.7em; color: #64b5f6;\">NAME</span></span></div>"
      ],
      "text/plain": [
       "<IPython.core.display.HTML object>"
      ]
     },
     "metadata": {},
     "output_type": "display_data"
    },
    {
     "name": "stdout",
     "output_type": "stream",
     "text": [
      "предсказанные тэги:\n"
     ]
    },
    {
     "data": {
      "text/html": [
       "<div class=\"tex2jax_ignore\" style=\"white-space: pre-wrap\"><span style=\"padding: 2px; border-radius: 4px; border: 1px solid #ffe0b2; background: #e65100\">1/2<span style=\"vertical-align: middle; margin-left: 2px; font-size: 0.7em; color: #ffb74d;\">COMMENT</span></span> <span style=\"padding: 2px; border-radius: 4px; border: 1px solid #bbdefb; background: #0d47a1\">teaspoon<span style=\"vertical-align: middle; margin-left: 2px; font-size: 0.7em; color: #64b5f6;\">NAME</span></span> <span style=\"padding: 2px; border-radius: 4px; border: 1px solid #c8e6c9; background: #1b5e20\">ground<span style=\"vertical-align: middle; margin-left: 2px; font-size: 0.7em; color: #66bb6a;\">QTY</span></span> <span style=\"padding: 2px; border-radius: 4px; border: 1px solid #bbdefb; background: #0d47a1\">cumin<span style=\"vertical-align: middle; margin-left: 2px; font-size: 0.7em; color: #64b5f6;\">NAME</span></span> <span style=\"padding: 2px; border-radius: 4px; border: 1px solid #c8e6c9; background: #1b5e20\">seed<span style=\"vertical-align: middle; margin-left: 2px; font-size: 0.7em; color: #66bb6a;\">QTY</span></span></div>"
      ],
      "text/plain": [
       "<IPython.core.display.HTML object>"
      ]
     },
     "metadata": {},
     "output_type": "display_data"
    },
    {
     "name": "stdout",
     "output_type": "stream",
     "text": [
      "\n"
     ]
    }
   ],
   "source": [
    "for i in range(0,10):\n",
    "\n",
    "    recipe, tags = test_data[np.random.randint(0,7000)]\n",
    "    \n",
    "    tags_pred    = predict_tags(model, converter, recipe)\n",
    "\n",
    "    print('истинные тэги:')\n",
    "    show_markup(recipe, tags)\n",
    "\n",
    "    print('предсказанные тэги:')\n",
    "    show_markup(recipe, tags_pred)\n",
    "    print()"
   ]
  },
  {
   "cell_type": "markdown",
   "metadata": {},
   "source": [
    "### Save & Load model"
   ]
  },
  {
   "cell_type": "code",
   "execution_count": 23,
   "metadata": {},
   "outputs": [],
   "source": [
    "if QUICK_RUN:\n",
    "    model = LSTMTagger(EMBEDDING_DIM, HIDDEN_DIM, VOCAB_SIZE, TAGSET_SIZE)\n",
    "    model.load_state_dict(torch.load('models/recipe.pt'))\n",
    "else:\n",
    "    torch.save(model.state_dict(), 'models/recipe.pt')"
   ]
  },
  {
   "cell_type": "code",
   "execution_count": 24,
   "metadata": {},
   "outputs": [
    {
     "name": "stdout",
     "output_type": "stream",
     "text": [
      "ground truth:\n",
      "[('1', 'B-QTY'), ('tablespoon', 'B-UNIT'), ('cornstarch', 'B-NAME')]\n",
      "\n",
      "prediction:\n",
      "[('1', 'B-QTY'), ('tablespoon', 'B-UNIT'), ('cornstarch', 'B-NAME')]\n",
      "ground truth:\n"
     ]
    },
    {
     "data": {
      "text/html": [
       "<div class=\"tex2jax_ignore\" style=\"white-space: pre-wrap\"><span style=\"padding: 2px; border-radius: 4px; border: 1px solid #c8e6c9; background: #1b5e20\">1<span style=\"vertical-align: middle; margin-left: 2px; font-size: 0.7em; color: #66bb6a;\">QTY</span></span> <span style=\"padding: 2px; border-radius: 4px; border: 1px solid #ffcdd2; background: #b71c1c\">tablespoon<span style=\"vertical-align: middle; margin-left: 2px; font-size: 0.7em; color: #e57373;\">UNIT</span></span> <span style=\"padding: 2px; border-radius: 4px; border: 1px solid #bbdefb; background: #0d47a1\">cornstarch<span style=\"vertical-align: middle; margin-left: 2px; font-size: 0.7em; color: #64b5f6;\">NAME</span></span></div>"
      ],
      "text/plain": [
       "<IPython.core.display.HTML object>"
      ]
     },
     "metadata": {},
     "output_type": "display_data"
    },
    {
     "name": "stdout",
     "output_type": "stream",
     "text": [
      "prediction:\n"
     ]
    },
    {
     "data": {
      "text/html": [
       "<div class=\"tex2jax_ignore\" style=\"white-space: pre-wrap\"><span style=\"padding: 2px; border-radius: 4px; border: 1px solid #c8e6c9; background: #1b5e20\">1<span style=\"vertical-align: middle; margin-left: 2px; font-size: 0.7em; color: #66bb6a;\">QTY</span></span> <span style=\"padding: 2px; border-radius: 4px; border: 1px solid #ffcdd2; background: #b71c1c\">tablespoon<span style=\"vertical-align: middle; margin-left: 2px; font-size: 0.7em; color: #e57373;\">UNIT</span></span> <span style=\"padding: 2px; border-radius: 4px; border: 1px solid #bbdefb; background: #0d47a1\">cornstarch<span style=\"vertical-align: middle; margin-left: 2px; font-size: 0.7em; color: #64b5f6;\">NAME</span></span></div>"
      ],
      "text/plain": [
       "<IPython.core.display.HTML object>"
      ]
     },
     "metadata": {},
     "output_type": "display_data"
    },
    {
     "name": "stdout",
     "output_type": "stream",
     "text": [
      "\n"
     ]
    }
   ],
   "source": [
    "model.eval()\n",
    "\n",
    "recipe, tags = test_data[4444]\n",
    "\n",
    "tags_pred = predict_tags(model, converter, recipe)\n",
    "\n",
    "print('ground truth:')\n",
    "print(list(zip(recipe, tags)))\n",
    "print()\n",
    "\n",
    "print('prediction:')\n",
    "print(list(zip(recipe, tags_pred)))   \n",
    "\n",
    "\n",
    "print('ground truth:')\n",
    "show_markup(recipe, tags)\n",
    "\n",
    "print('prediction:')\n",
    "show_markup(recipe, tags_pred)\n",
    "\n",
    "print()"
   ]
  },
  {
   "cell_type": "markdown",
   "metadata": {},
   "source": [
    "## Проверка возможностей нейросети на тестовых данных:"
   ]
  },
  {
   "cell_type": "markdown",
   "metadata": {},
   "source": [
    "### Количество верно предсказанных тэгов:"
   ]
  },
  {
   "cell_type": "code",
   "execution_count": 25,
   "metadata": {},
   "outputs": [
    {
     "name": "stdout",
     "output_type": "stream",
     "text": [
      "Статистика верно предсказанных тэгов:\n",
      "\n",
      "для B-QTY:\n",
      "  корректно:\t 8303\n",
      "      всего:\t 8420\n",
      "% корректно:\t 98.61045130641331\n",
      "\n",
      "для B-COMMENT:\n",
      "  корректно:\t 6464\n",
      "      всего:\t 7823\n",
      "% корректно:\t 82.62814776939793\n",
      "\n",
      "для B-RANGE_END:\n",
      "  корректно:\t 138\n",
      "      всего:\t 156\n",
      "% корректно:\t 88.46153846153845\n",
      "\n",
      "для B-UNIT:\n",
      "  корректно:\t 6969\n",
      "      всего:\t 7074\n",
      "% корректно:\t 98.51569126378287\n",
      "\n",
      "для B-NAME:\n",
      "  корректно:\t 9161\n",
      "      всего:\t 10278\n",
      "% корректно:\t 89.13212687293249\n",
      "\n",
      "для I-NAME:\n",
      "  корректно:\t 4401\n",
      "      всего:\t 5528\n",
      "% корректно:\t 79.61287988422576\n",
      "\n",
      "для I-COMMENT:\n",
      "  корректно:\t 13599\n",
      "      всего:\t 14984\n",
      "% корректно:\t 90.75680726107849\n",
      "\n",
      "для OTHER:\n",
      "  корректно:\t 2160\n",
      "      всего:\t 4101\n",
      "% корректно:\t 52.67008046817849\n",
      "\n",
      "----------\n",
      "в итоге:\n",
      "  корректно:\t 51195\n",
      "      всего:\t 58364\n",
      "% корректно:\t 87.71674319786169\n"
     ]
    }
   ],
   "source": [
    "total_correct, total_tags = tag_statistics(model, converter, test_data)\n",
    "\n",
    "\n",
    "print('Статистика верно предсказанных тэгов:\\n')\n",
    "\n",
    "for tag in total_tags.keys():\n",
    "    print('для {}:'.format(tag))\n",
    "    print('  корректно:\\t', total_correct[tag])\n",
    "    print('      всего:\\t',   total_tags[tag])\n",
    "    print('% корректно:\\t', 100 * (total_correct[tag] / float(total_tags[tag])))\n",
    "    print()\n",
    "\n",
    "print('----------')\n",
    "print('в итоге:')\n",
    "print('  корректно:\\t', sum(total_correct.values()))\n",
    "print('      всего:\\t', sum(total_tags.values()))\n",
    "print('% корректно:\\t', 100 * (sum(total_correct.values()) / sum(total_tags.values())))"
   ]
  },
  {
   "cell_type": "markdown",
   "metadata": {},
   "source": [
    "### Матрица Ошибок (Confusion Matrix)"
   ]
  },
  {
   "cell_type": "code",
   "execution_count": 26,
   "metadata": {},
   "outputs": [],
   "source": [
    "y_pred = []\n",
    "y_true = []\n",
    "\n",
    "for recipe, tags in test_data:\n",
    "    y_pred += predict_tags(model,converter, recipe)\n",
    "    y_true += tags"
   ]
  },
  {
   "cell_type": "code",
   "execution_count": 27,
   "metadata": {},
   "outputs": [
    {
     "data": {
      "image/png": "[encoded data removed]",
      "text/plain": [
       "<Figure size 720x720 with 2 Axes>"
      ]
     },
     "metadata": {
      "needs_background": "light"
     },
     "output_type": "display_data"
    }
   ],
   "source": [
    "plot_confusion_matrix(y_true, y_pred, classes=list(total_tags.keys()), title='Матрица ошибок')\n",
    "\n",
    "plt.show()"
   ]
  },
  {
   "cell_type": "code",
   "execution_count": 28,
   "metadata": {},
   "outputs": [
    {
     "data": {
      "image/png": "[encoded data removed]",
      "text/plain": [
       "<Figure size 720x720 with 2 Axes>"
      ]
     },
     "metadata": {
      "needs_background": "light"
     },
     "output_type": "display_data"
    }
   ],
   "source": [
    "plot_confusion_matrix(y_true, y_pred, classes=list(total_tags.keys()), normalize=True, \n",
    "                      title='Нормализованная матрица ошибок')\n",
    "\n",
    "plt.show()"
   ]
  },
  {
   "cell_type": "markdown",
   "metadata": {},
   "source": [
    "### Количество верно размеченных рецептов:"
   ]
  },
  {
   "cell_type": "code",
   "execution_count": 29,
   "metadata": {},
   "outputs": [],
   "source": [
    "correct_recipes, total_recipes = recipe_statistics(model, converter, test_data, 4)"
   ]
  },
  {
   "cell_type": "code",
   "execution_count": 30,
   "metadata": {},
   "outputs": [
    {
     "data": {
      "image/png": "[encoded data removed]",
      "text/plain": [
       "<Figure size 640x480 with 1 Axes>"
      ]
     },
     "metadata": {},
     "output_type": "display_data"
    },
    {
     "data": {
      "image/png": "[encoded data removed]",
      "text/plain": [
       "<Figure size 640x480 with 1 Axes>"
      ]
     },
     "metadata": {},
     "output_type": "display_data"
    }
   ],
   "source": [
    "plot_recipe_statistics(correct_recipes)\n",
    "plot_recipe_statistics(correct_recipes, total_recipes)"
   ]
  }
 ],
 "metadata": {
  "kernelspec": {
   "display_name": "Python 3",
   "language": "python",
   "name": "python3"
  },
  "language_info": {
   "codemirror_mode": {
    "name": "ipython",
    "version": 3
   },
   "file_extension": ".py",
   "mimetype": "text/x-python",
   "name": "python",
   "nbconvert_exporter": "python",
   "pygments_lexer": "ipython3",
   "version": "3.9.11"
  },
  "latex_envs": {
   "LaTeX_envs_menu_present": true,
   "autoclose": false,
   "autocomplete": true,
   "bibliofile": "biblio.bib",
   "cite_by": "apalike",
   "current_citInitial": 1,
   "eqLabelWithNumbers": true,
   "eqNumInitial": 1,
   "hotkeys": {
    "equation": "Ctrl-E",
    "itemize": "Ctrl-I"
   },
   "labels_anchors": false,
   "latex_user_defs": false,
   "report_style_numbering": false,
   "user_envs_cfg": false
  },
  "toc": {
   "base_numbering": 1,
   "nav_menu": {},
   "number_sections": true,
   "sideBar": true,
   "skip_h1_title": false,
   "title_cell": "Table of Contents",
   "title_sidebar": "Contents",
   "toc_cell": false,
   "toc_position": {},
   "toc_section_display": true,
   "toc_window_display": false
  }
 },
 "nbformat": 4,
 "nbformat_minor": 2
}
