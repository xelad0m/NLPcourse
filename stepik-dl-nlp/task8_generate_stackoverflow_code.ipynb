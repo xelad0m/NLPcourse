{
 "cells": [
  {
   "cell_type": "markdown",
   "metadata": {},
   "source": [
    "# Генерация кода по вопросам со StackOverflow\n",
    "\n",
    "[Оригинал](https://github.com/bentrevett/pytorch-seq2seq/blob/master/1%20-%20Sequence%20to%20Sequence%20Learning%20with%20Neural%20Networks.ipynb)\n",
    "\n",
    "Обучим seq2seq модель, которая, по последовательности токенов одного вида (а именно — последовательности слов естественного языка, из которых состоит вопрос), генерирует последовательность токенов другого вида — а именно, команды, операторы, имена переменных, пунктуация... которую мы используем при написании кода. Для простоты ограничимся примерами из одного языка — python.\n",
    "\n",
    "Самые популярные sequence to sequence модели — это модели вида \"**encoder-decorder**\", которые разбирались в лекции:\n",
    "- они используют RNN для того, чтобы закодировать входную последовательность в некоторый вектор (представление входного предложения в некоторым заранее зафиксированном формате)\n",
    "- этот вектор декодируется второй RNN (декодером), который учится предсказывать выходную последовательность, генерируя последовательно токен за токеном"
   ]
  },
  {
   "cell_type": "code",
   "execution_count": 1,
   "metadata": {},
   "outputs": [],
   "source": [
    "QUICK_RUN = True    # использовать уже готовую модель"
   ]
  },
  {
   "cell_type": "markdown",
   "metadata": {},
   "source": [
    "## Еще раз теория\n",
    "\n",
    "<img src=\"./img/seq2seq.png\" width=\"500\">\n",
    "\n",
    "**RNN энкодер**\n",
    "- на вход мы подаём токенизированную фразу последовательно по 1 токену\n",
    "  - в каждый момент времени, входом энкодера является текущей токен — назовём его \"x\", а также некоторое скрытое состояние — назовём его \"h\" (от слова \"hidden\")\n",
    "- на каждый следующий скрытый слой подается скрытое состояние предыдущего шага\n",
    "  - на выходе новое скрытое состояние\n",
    "  - скрытое состояние содержит в себе информацию обо всём предложении, которую сеть видела к текущему моменту\n",
    "- нулевое скрытое состояние можно инициализировать нулями или использовать, например, равномерное распределение\n",
    "- как только последнее слово было передано в RNN, будем использовать последнее скрытое состояние как вектор, содержащий в себе информацию обо всём предложении\n",
    "\n",
    "**RNN декодер**\n",
    "- имея выход энкодера, можно начинать декодировать его — генерировать выходную последовательность\n",
    "- нулевое скрытое состояние декодера - это последнее скрытое состояние энкодера\n",
    "- на каждом шаге нам нужно предсказывать следующее слово\n",
    "  - для этого будем на каждом шаге пропускать текущее скрытое состояние через линейный слой и предсказывать следующее слово\n",
    "- после того как мы сгенерировали всю выходную последовательность, мы можем сравнить её с переводом из нашей обучающей выборки\n",
    "\n",
    "**Обновление весов**\n",
    "- считаем функцию потерь\n",
    "- делаем backward-шаг, посчитав градиент функции потерь\n",
    "- обновляем веса сети, в направлении минимизации функции потерь\n",
    "\n",
    "**Дополнительные фишки**\n",
    "\n",
    "- \"**teacher forcing**\"[1,2] - метод для обучения RNN, который в некотором (заранее зафиксированном) проценте случаев использует в качестве входа \"[ground truth](https://en.wikipedia.org/wiki/Ground_truth#Statistics_and_machine_learning)\" (короче, таргет) с предыдущего шага, а не предсказанное сетью значение\n",
    "- подход, который касается **длины генерируемой последовательности**:\n",
    "  - не обязательно ждать, пока модель сгенерирует end-of-sequence токен\n",
    "  - вместо этого, прекратить генерацию, когда мы выдали достаточное количество слов\n",
    "    - например, когда длина выходной последовательности стала примерно равна длине и входной последовательности\n",
    "  - это позволит нам избежать слишком долгого обучения, либо генерирования излишнего количества символов в конце последовательности (которые скорее всего будут = `<PAD>`)\n",
    "\n",
    "[1] Williams R. J., Zipser D. A learning algorithm for continually running fully recurrent neural networks //Neural computation. – 1989. – Т. 1. – №. 2. – С. 270-280.  \n",
    "[2] Lamb A. M. et al. Professor forcing: A new algorithm for training recurrent networks //Advances In Neural Information Processing Systems. – 2016. – С. 4601-4609."
   ]
  },
  {
   "cell_type": "code",
   "execution_count": 2,
   "metadata": {},
   "outputs": [],
   "source": [
    "# Если Вы запускаете ноутбук на colab или kaggle,\n",
    "# выполните следующие строчки, чтобы подгрузить библиотеку dlnlputils:\n",
    "\n",
    "# !git clone https://github.com/Samsung-IT-Academy/stepik-dl-nlp.git && pip install -r stepik-dl-nlp/requirements.txt\n",
    "# import sys; sys.path.append('./stepik-dl-nlp')"
   ]
  },
  {
   "cell_type": "code",
   "execution_count": 3,
   "metadata": {},
   "outputs": [],
   "source": [
    "import torch\n",
    "import torch.nn as nn\n",
    "import torch.optim as optim\n",
    "import torch.nn.functional as F\n",
    "\n",
    "import matplotlib.pyplot as plt\n",
    "\n",
    "import random\n",
    "import math\n",
    "import time"
   ]
  },
  {
   "cell_type": "code",
   "execution_count": 4,
   "metadata": {},
   "outputs": [],
   "source": [
    "SEED = 1234\n",
    "\n",
    "random.seed(SEED)\n",
    "torch.manual_seed(SEED)\n",
    "torch.backends.cudnn.deterministic = True"
   ]
  },
  {
   "cell_type": "code",
   "execution_count": 5,
   "metadata": {},
   "outputs": [
    {
     "data": {
      "text/plain": [
       "device(type='cuda')"
      ]
     },
     "execution_count": 5,
     "metadata": {},
     "output_type": "execute_result"
    }
   ],
   "source": [
    "device = torch.device('cuda' if torch.cuda.is_available() else 'cpu')\n",
    "torch.cuda.set_device(0)\n",
    "device"
   ]
  },
  {
   "cell_type": "markdown",
   "metadata": {},
   "source": [
    "### Еще полезные штуки\n",
    "\n",
    "- Таблица параметров модели. Типа подробный `get_parameters()` \n",
    "- Все тензоры ноутбука\n",
    "- Очистить память от ненужных тензоров/моделей"
   ]
  },
  {
   "cell_type": "code",
   "execution_count": null,
   "metadata": {},
   "outputs": [],
   "source": [
    "from helpers.summary import count_parameters, dump_tensors, free_mem"
   ]
  },
  {
   "cell_type": "markdown",
   "metadata": {},
   "source": [
    "### Посмотрим, что представляют собой данные\n",
    "- intent - вопрос, заданные стаковерфлоу\n",
    "- snippet - кусок кода в самом популярном ответе на вопрос"
   ]
  },
  {
   "cell_type": "code",
   "execution_count": 9,
   "metadata": {},
   "outputs": [
    {
     "data": {
      "text/html": [
       "<div>\n",
       "<style scoped>\n",
       "    .dataframe tbody tr th:only-of-type {\n",
       "        vertical-align: middle;\n",
       "    }\n",
       "\n",
       "    .dataframe tbody tr th {\n",
       "        vertical-align: top;\n",
       "    }\n",
       "\n",
       "    .dataframe thead th {\n",
       "        text-align: right;\n",
       "    }\n",
       "</style>\n",
       "<table border=\"1\" class=\"dataframe\">\n",
       "  <thead>\n",
       "    <tr style=\"text-align: right;\">\n",
       "      <th></th>\n",
       "      <th>intent</th>\n",
       "      <th>snippet</th>\n",
       "    </tr>\n",
       "  </thead>\n",
       "  <tbody>\n",
       "    <tr>\n",
       "      <th>0</th>\n",
       "      <td>How to convert a list of multiple integers int...</td>\n",
       "      <td>sum(d * 10 ** i for i, d in enumerate(x[::-1]))</td>\n",
       "    </tr>\n",
       "    <tr>\n",
       "      <th>1</th>\n",
       "      <td>How to convert a list of multiple integers int...</td>\n",
       "      <td>r = int(''.join(map(str, x)))</td>\n",
       "    </tr>\n",
       "    <tr>\n",
       "      <th>2</th>\n",
       "      <td>how to convert a datetime string back to datet...</td>\n",
       "      <td>datetime.strptime('2010-11-13 10:33:54.227806'...</td>\n",
       "    </tr>\n",
       "    <tr>\n",
       "      <th>3</th>\n",
       "      <td>Averaging the values in a dictionary based on ...</td>\n",
       "      <td>[(i, sum(j) / len(j)) for i, j in list(d.items...</td>\n",
       "    </tr>\n",
       "    <tr>\n",
       "      <th>4</th>\n",
       "      <td>zip lists in python</td>\n",
       "      <td>zip([1, 2], [3, 4])</td>\n",
       "    </tr>\n",
       "  </tbody>\n",
       "</table>\n",
       "</div>"
      ],
      "text/plain": [
       "                                              intent  \\\n",
       "0  How to convert a list of multiple integers int...   \n",
       "1  How to convert a list of multiple integers int...   \n",
       "2  how to convert a datetime string back to datet...   \n",
       "3  Averaging the values in a dictionary based on ...   \n",
       "4                                zip lists in python   \n",
       "\n",
       "                                             snippet  \n",
       "0    sum(d * 10 ** i for i, d in enumerate(x[::-1]))  \n",
       "1                      r = int(''.join(map(str, x)))  \n",
       "2  datetime.strptime('2010-11-13 10:33:54.227806'...  \n",
       "3  [(i, sum(j) / len(j)) for i, j in list(d.items...  \n",
       "4                                zip([1, 2], [3, 4])  "
      ]
     },
     "execution_count": 9,
     "metadata": {},
     "output_type": "execute_result"
    }
   ],
   "source": [
    "import pandas as pd\n",
    "\n",
    "df = pd.read_csv(\"./datasets/stackoverflow_code_generation/conala/conala-train.csv\")\n",
    "df.head()"
   ]
  },
  {
   "cell_type": "markdown",
   "metadata": {},
   "source": [
    "Нам нужно написать токенизаторы, которые помогут нам поделить на токены вопросы со StackOverflow и кусочек кода\n",
    "\n",
    "- `tokenize_question` токенизирует наш вопрос — делает это с помощью простой регулярки, убирает слишком длинные слова, которые, скорее всего, являются названиями веб-сайтов, либо слишком длинными названиями каких-то текстовых полей и т.п. Возвращает токены в обратном порядке: `[::-1]`. Зачем в обратном порядке:\n",
    "  - значительно (?) улучшает работу LSTM и подобных сетей, причем точно не ясно почему (работает только в однонаправленном варианте, тут конкретно это ничего не даст, но и не поломает ничего, т.к. RNN инвариантна к развороту последовательности (но не к порядку как CNN)). Тут это просто чтоб показать, как обычно делают:\n",
    "    - предполагается, что когда сеть обучается и сравнивают данные и таргет, то их \"как бы конкатенируют последовательно друг за другом\", т.е. развернутые первые токены входа оказываются рядом с первыми токенами выхода и сеть лучше улавливает их корреляцию (звучит как-то неубедительно, но объясняют [так](https://arxiv.org/abs/1409.3215))\n",
    "\n",
    "- `tokenize_snippet` токенизирует кусок кода похожим образом"
   ]
  },
  {
   "cell_type": "code",
   "execution_count": 10,
   "metadata": {},
   "outputs": [],
   "source": [
    "import re\n",
    "\n",
    "def tokenize_question(text):\n",
    "    \"\"\"\n",
    "    Tokenizes question from a string into a list of strings (tokens) and reverses it\n",
    "    \"\"\"\n",
    "    return list(filter(lambda x: len(x) < 16, re.findall(r\"[\\w']+\", text)[::-1]))\n",
    "\n",
    "def tokenize_snippet(text):\n",
    "    \"\"\"\n",
    "    Tokenizes code snippet into a list of operands\n",
    "    \"\"\"\n",
    "    return list(filter(lambda x: len(x) < 10, re.findall(r\"[\\w']+|[.,!?;:@~(){}\\[\\]+-/=\\\\\\'\\\"\\`]\", text)))"
   ]
  },
  {
   "cell_type": "markdown",
   "metadata": {},
   "source": [
    "### Обработчик входныx данных на `torchtext`\n",
    "\n",
    "- `Field` позволяет нам определить, как должны обрабатываться данные (т.е. переводится текст в тензоры)\n",
    "  - создаем поля SRC и TRG, они будут образованы функциями токенизации с добавлением токенов начала/конца последовательности и переводом всего текста в нижний регистр\n",
    "  - для вопросов будет также учитываться их длина (пригодится для обучения модели)\n",
    "- `TabularDataset` класс для создания объекта датасета из файлам с данным (cvs, tsv, json)\n",
    "  - проходит по 3 файлам, где выборка уже поделена авторами курса на обучающую (2000 вопросов), валидационную (379) и тестовую (500)\n",
    "  - если надо, может сам делить на трейн/тест (т.к. потомок `Dataset`)\n",
    "- `BucketIterator` итератор для получения пакетов (батчей) из датасета (далее)"
   ]
  },
  {
   "cell_type": "code",
   "execution_count": 11,
   "metadata": {},
   "outputs": [],
   "source": [
    "from torchtext.legacy.data import Field, TabularDataset, BucketIterator\n",
    "\n",
    "SRC = Field(\n",
    "    tokenize = tokenize_question, \n",
    "    init_token = '<sos>', \n",
    "    eos_token = '<eos>', \n",
    "    lower = True,\n",
    "    include_lengths = True\n",
    ")\n",
    "\n",
    "TRG = Field(\n",
    "    tokenize = tokenize_snippet, \n",
    "    init_token = '<sos>', \n",
    "    eos_token = '<eos>', \n",
    "    lower = True\n",
    ")\n",
    "\n",
    "fields = {\n",
    "    'intent': ('src', SRC),\n",
    "    'snippet': ('trg', TRG)\n",
    "}\n",
    "\n",
    "# Если Вы запускаете ноутбук на colab или kaggle, добавьте в начало пути ./stepik-dl-nlp\n",
    "train_data, valid_data, test_data = TabularDataset.splits(\n",
    "                            path = 'datasets/stackoverflow_code_generation/conala/',\n",
    "                            train = 'conala-train.csv',\n",
    "                            validation = 'conala-valid.csv',\n",
    "                            test = 'conala-test.csv',\n",
    "                            format = 'csv',\n",
    "                            fields = fields\n",
    ")"
   ]
  },
  {
   "cell_type": "markdown",
   "metadata": {},
   "source": [
    "Кроме того, данные с похожей тематикой можно найти, загуглив следующее сочетание слов: \"StackOverflow question code dataset\". Это датасет, намайненный автоматически со StackOverflow, с помощью \"Bi-View Hierarchical Neural Network\". Там порядка 150 тыс. вопросов. Cтатья про \"bi view hierarchical neural network\" была представлена в 2018 году[1].\n",
    "\n",
    "[1] Yao Z. et al. Staqc: A systematically mined question-code dataset from stack overflow //Proceedings of the 2018 World Wide Web Conference. – 2018. – С. 1693-1703."
   ]
  },
  {
   "cell_type": "markdown",
   "metadata": {},
   "source": [
    "### Cформируем словарь\n",
    "\n",
    "Задаём максимально возможный размер слоя и минимальную встречаемость слова для того, чтобы попасть в словарь (3 для вопросов, 5 для кода).\n",
    "\n",
    "Чтобы использовать паддинг, `torchtext` требует, чтобы все элементы в батче были отсортированы по их длине до применения паддинга, в убывающем порядке. То есть, первая последовательность должна быть самой длинной"
   ]
  },
  {
   "cell_type": "code",
   "execution_count": 12,
   "metadata": {},
   "outputs": [
    {
     "name": "stdout",
     "output_type": "stream",
     "text": [
      "[('a', 1285), ('in', 949), ('python', 922), ('to', 851), ('how', 633), ('of', 602), ('list', 558), ('string', 397), ('the', 328), ('from', 275), ('with', 228), ('pandas', 192), ('i', 191), ('dictionary', 162), ('get', 151), ('convert', 134), ('values', 131), ('do', 125), ('dataframe', 111), ('into', 110)]\n",
      "[(')', 3480), ('(', 3475), ('.', 2595), (',', 1899), ('[', 1122), (']', 1121), ('=', 927), (\"'\", 885), ('\\\\', 697), (':', 587), ('in', 504), ('x', 498), ('\"', 496), ('for', 450), ('1', 377), ('-', 279), ('a', 265), ('0', 259), ('/', 257), ('df', 234)]\n",
      "Уникальные токены в словаре интентов: 612\n",
      "Уникальные токены в словаре сниппетов: 395\n"
     ]
    }
   ],
   "source": [
    "SRC.build_vocab([train_data.src], max_size=25000, min_freq=3)\n",
    "print(SRC.vocab.freqs.most_common(20))\n",
    "\n",
    "\n",
    "TRG.build_vocab([train_data.trg], min_freq=5)\n",
    "print(TRG.vocab.freqs.most_common(20))\n",
    "\n",
    "print(f\"Уникальные токены в словаре интентов: {len(SRC.vocab)}\")\n",
    "print(f\"Уникальные токены в словаре сниппетов: {len(TRG.vocab)}\")"
   ]
  },
  {
   "cell_type": "code",
   "execution_count": 13,
   "metadata": {},
   "outputs": [
    {
     "name": "stdout",
     "output_type": "stream",
     "text": [
      "Размер обучающей выборки: 2000\n",
      "Размер валидационной выборки: 379\n",
      "Размер тестовой выборки: 500\n"
     ]
    }
   ],
   "source": [
    "print(f\"Размер обучающей выборки: {len(train_data.examples)}\")\n",
    "print(f\"Размер валидационной выборки: {len(valid_data.examples)}\")\n",
    "print(f\"Размер тестовой выборки: {len(test_data.examples)}\")"
   ]
  },
  {
   "cell_type": "markdown",
   "metadata": {},
   "source": [
    "### Итератор для батчей\n",
    "\n",
    "Экземпляр `BucketIterator` возвращает батчи с данными, у которых есть атрибут \n",
    "- \"src\" — это тензоры, кодирующие входные вопросы\n",
    "- \"trg\" (target) — это тензоры, кодирующие сниппеты с кодом. \n",
    "\n",
    "Удобно, что torchtext-итераторы умеют \n",
    "- автоматически добавлять паддинг\n",
    "-  `BucketIterator` умеет минимизировать количество паддинга для входов и выходов"
   ]
  },
  {
   "cell_type": "code",
   "execution_count": 14,
   "metadata": {},
   "outputs": [],
   "source": [
    "BATCH_SIZE = 64\n",
    "\n",
    "train_iterator, valid_iterator, test_iterator = BucketIterator.splits(\n",
    "    (train_data, valid_data, test_data), \n",
    "     batch_size = BATCH_SIZE,\n",
    "     sort_within_batch = True,\n",
    "     sort_key = lambda x : len(x.src),\n",
    "     device = device)"
   ]
  },
  {
   "cell_type": "markdown",
   "metadata": {},
   "source": [
    "### Класс энкодера\n",
    "\n",
    "Двухслойный LSTM. *И мы используем модификацию **GRU** (Управляемые рекуррентные нейроны, Gated recurrent units), что почти тоже самое, но чуть меньше параметров, чуть меньше операций обновления весов, чуть меньше переобучается, при этом на практике показатели качества практически от LSTM не отличаются* \n",
    "\n",
    "Для многослойной LSTM/GRU входная последовательность идёт в первый слой сети, а скрытое состояние первого слоя используется как входная последовательность следующего слоя. Скрытое состояние первого слоя можно представить формулой, зависящей от входных токенов и от предыдущего скрытого состояния. Напомню что, в отличие от RNN, LSTM, кроме того, что берёт на вход предыдущее скрытые состояние и возвращает следующее, ещё и принимает на вход так называемое \"cell state\". Его обычно обозначают буквой \"c\". Можно воспринимать его как другой вид скрытого состояния. В итоге, конечное представление входной последовательности в виде вектора будет конкатенацией скрытого состояния и нашего cell state, которое будем обозначать буквой \"с\".\n",
    "\n",
    "`__init__` \n",
    "- входная размерность данных — это размерности наших \"one-hot\" векторов\n",
    "- размерность эмбеддингов, размерность слоя с эмбеддингами — например, можно сделать его равным 100 или 200, любому другому числу, которое кажется вам наиболее подходящим (зашибись теория)\n",
    "-  \"encoding hidden dimension\" (вот он) — это размерность скрытого состояния (количество ячеек памяти, максимальная длина взаимосвязанной последовательности)\n",
    "-  \"dec_hid_dim\" - размерность, которую нужно выдавать на декодер\n",
    "-   \"dropout\" — это количество дропаута. Он будет включаться между ембеддингом и рекурренткой. Дропаут в рекуррентных сетях - это отдельная тема, мы не можем нарушать рекуррентные связи внутри RNN, иначе мы фактически лишаем сеть памяти\n",
    "\n",
    "`forward`\n",
    "- ембеддинг -> дропаут -> упаковка -> RNN -> распаковка -> tanh -> скрытое состояние\n",
    "- все размерности подписаны, можно поразбираться\n"
   ]
  },
  {
   "cell_type": "code",
   "execution_count": 15,
   "metadata": {},
   "outputs": [],
   "source": [
    "class Encoder(nn.Module):\n",
    "    def __init__(self, input_dim, emb_dim, enc_hid_dim, dec_hid_dim, dropout):\n",
    "        super().__init__()\n",
    "        \n",
    "        self.input_dim = input_dim\n",
    "        self.emb_dim = emb_dim\n",
    "        self.enc_hid_dim = enc_hid_dim\n",
    "        self.dec_hid_dim = dec_hid_dim\n",
    "        self.dropout = dropout\n",
    "        \n",
    "        self.embedding = nn.Embedding(input_dim, emb_dim)\n",
    "        \n",
    "        self.rnn = nn.GRU(emb_dim, enc_hid_dim, bidirectional = True)\n",
    "        \n",
    "        self.fc = nn.Linear(enc_hid_dim * 2, dec_hid_dim)\n",
    "        \n",
    "        self.dropout = nn.Dropout(dropout)\n",
    "        \n",
    "    def forward(self, src, src_len):\n",
    "        \n",
    "        #src = [src sent len, batch size]\n",
    "        #src_len = [src sent len]\n",
    "        \n",
    "        embedded = self.dropout(self.embedding(src))    # dropout(!)\n",
    "        \n",
    "        #embedded = [src sent len, batch size, emb dim]\n",
    "        \n",
    "        packed_embedded = nn.utils.rnn.pack_padded_sequence(embedded, src_len.detach().cpu())   # тензор длины д.б. на хосте\n",
    "        packed_outputs, hidden = self.rnn(packed_embedded)\n",
    "                     \n",
    "        #packed_outputs is a packed sequence containing all hidden states\n",
    "        #hidden is now from the final non-padded element in the batch\n",
    "            \n",
    "        outputs, _ = nn.utils.rnn.pad_packed_sequence(packed_outputs) \n",
    "\n",
    "        #outputs is now a non-packed sequence, all hidden states obtained\n",
    "        #  when the input is a pad token are all zeros\n",
    "            \n",
    "        #outputs = [sent len, batch size, hid dim * num directions]\n",
    "        #hidden = [n layers * num directions, batch size, hid dim]\n",
    "        \n",
    "        #hidden is stacked [forward_1, backward_1, forward_2, backward_2, ...]\n",
    "        #outputs are always from the last layer\n",
    "        \n",
    "        #hidden [-2, :, : ] is the last of the forwards RNN \n",
    "        #hidden [-1, :, : ] is the last of the backwards RNN\n",
    "        \n",
    "        #initial decoder hidden is final hidden state of the forwards and backwards \n",
    "        #  encoder RNNs fed through a linear layer\n",
    "        hidden = torch.tanh(self.fc(torch.cat((hidden[-2,:,:], hidden[-1,:,:]), dim = 1)))\n",
    "        \n",
    "        #outputs = [sent len, batch size, enc hid dim * 2]\n",
    "        #hidden = [batch size, dec hid dim]\n",
    "        \n",
    "        return outputs, hidden"
   ]
  },
  {
   "cell_type": "markdown",
   "metadata": {},
   "source": [
    "**Упаковка, распаковка** выровненных паддингом последовательностей\n",
    "- все RNN классы умеют принимать данные в таком виде\n",
    "- длины последовательностей must be on the CPU if provided as a tensor\n",
    "- справка ни о чем, походу, это просто `vstack` всех последовательностей в одну"
   ]
  },
  {
   "cell_type": "code",
   "execution_count": 16,
   "metadata": {},
   "outputs": [
    {
     "data": {
      "text/plain": [
       "PackedSequence(data=tensor([[-1.0115,  0.2167],\n",
       "        [-0.6123,  0.5036],\n",
       "        [ 0.0461,  0.4024],\n",
       "        [ 0.0461,  0.4024],\n",
       "        [-1.0115,  0.2167],\n",
       "        [-0.6123,  0.5036],\n",
       "        [ 0.2310,  0.6931],\n",
       "        [-0.2669,  2.1785]], grad_fn=<PackPaddedSequenceBackward0>), batch_sizes=tensor([4, 4, 4, 4]), sorted_indices=None, unsorted_indices=None)"
      ]
     },
     "execution_count": 16,
     "metadata": {},
     "output_type": "execute_result"
    }
   ],
   "source": [
    "x = torch.tensor([[1, 2, 0, 0], \n",
    "                  [1, 2, 3, 4]])                # Batch X MaxIn\n",
    "emb = nn.Embedding(x.shape[-1] + 1, 2)(x)       # Batch X MaxIn X Emb\n",
    "packed = nn.utils.rnn.pack_padded_sequence(emb, [4, 4, 4, 4])\n",
    "packed"
   ]
  },
  {
   "cell_type": "markdown",
   "metadata": {},
   "source": [
    "### Механизм внутреннего внимания\n",
    "\n",
    "Будем использовать стандартный attention, который посчитает нам веса по нашей входной последовательности"
   ]
  },
  {
   "cell_type": "code",
   "execution_count": 17,
   "metadata": {},
   "outputs": [],
   "source": [
    "class Attention(nn.Module):\n",
    "    def __init__(self, enc_hid_dim, dec_hid_dim):\n",
    "        super().__init__()\n",
    "        \n",
    "        self.enc_hid_dim = enc_hid_dim\n",
    "        self.dec_hid_dim = dec_hid_dim\n",
    "        \n",
    "        self.attn = nn.Linear((enc_hid_dim * 2) + dec_hid_dim, dec_hid_dim)\n",
    "        self.v = nn.Parameter(torch.rand(dec_hid_dim))\n",
    "        \n",
    "    def forward(self, hidden, encoder_outputs, mask):\n",
    "        \n",
    "        #hidden = [batch size, dec hid dim]\n",
    "        #encoder_outputs = [src sent len, batch size, enc hid dim * 2]\n",
    "        #mask = [batch size, src sent len]\n",
    "        \n",
    "        batch_size = encoder_outputs.shape[1]\n",
    "        src_len = encoder_outputs.shape[0]\n",
    "        \n",
    "        #repeat encoder hidden state src_len times\n",
    "        hidden = hidden.unsqueeze(1).repeat(1, src_len, 1)\n",
    "        \n",
    "        encoder_outputs = encoder_outputs.permute(1, 0, 2)\n",
    "        \n",
    "        #hidden = [batch size, src sent len, dec hid dim]\n",
    "        #encoder_outputs = [batch size, src sent len, enc hid dim * 2]\n",
    "        \n",
    "        energy = torch.tanh(self.attn(torch.cat((hidden, encoder_outputs), dim = 2))) \n",
    "        \n",
    "        #energy = [batch size, src sent len, dec hid dim]\n",
    "                \n",
    "        energy = energy.permute(0, 2, 1)\n",
    "        \n",
    "        #energy = [batch size, dec hid dim, src sent len]\n",
    "        \n",
    "        #v = [dec hid dim]\n",
    "        \n",
    "        v = self.v.repeat(batch_size, 1).unsqueeze(1)\n",
    "        \n",
    "        #v = [batch size, 1, dec hid dim]\n",
    "            \n",
    "        attention = torch.bmm(v, energy).squeeze(1)\n",
    "        \n",
    "        #attention = [batch size, src sent len]\n",
    "        \n",
    "        attention = attention.masked_fill(mask == 0, -1e10)\n",
    "        \n",
    "        return F.softmax(attention, dim = 1)"
   ]
  },
  {
   "cell_type": "markdown",
   "metadata": {},
   "source": [
    "### Класс декодера\n",
    "\n",
    "Ахритерктура аналогичная энкодеру.\n",
    "\n",
    "- первый слой получает пару с прошлого шага и прогоняет её через нашу сеть вместе с текущим токеном, чтобы предсказать новую пару\n",
    "- прогоняем наше скрытое состояние с верхнего слоя через линейный слой, чтобы сделать предсказание следующего токена в выходном генерируемом предложении\n",
    "\n",
    "Параметры:\n",
    "- \"output_dimension\" (это размер one-hot векторов, которые подаются на вход декодеру). Это число должно быть равно размеру словаря таргета.\n",
    "\n",
    "Форвард:\n",
    "- unsqueeze к входным токенам, чтобы добавить ещё одну размерность\n",
    "- аналогично энкодеру, применяем эмбеддинг-слой и дропаут.\n",
    "- применяем attention\n",
    "- батч с токенами передаём в RNN вместе с \"h\" и \"c\" векторами с предыдущего шага\n",
    "- получаем на выходе output (это скрытое состояние с верхнего слоя нашей сети), новое скрытое состояние и новое cell состояние, то есть новые вектора \"h\" и \"c\"\n",
    "- прогоняем output (после того, как избавились от лишней размерности) через линейный слой, чтобы получить предсказание следующего слова в нашей последовательности\n",
    "- возвращать здесь мы будем, собственно — output, скрытое состояние и вектор \"а\""
   ]
  },
  {
   "cell_type": "code",
   "execution_count": 18,
   "metadata": {},
   "outputs": [],
   "source": [
    "class Decoder(nn.Module):\n",
    "    def __init__(self, output_dim, emb_dim, enc_hid_dim, dec_hid_dim, dropout, attention):\n",
    "        super().__init__()\n",
    "\n",
    "        self.emb_dim = emb_dim\n",
    "        self.enc_hid_dim = enc_hid_dim\n",
    "        self.dec_hid_dim = dec_hid_dim\n",
    "        self.output_dim = output_dim\n",
    "        self.dropout = dropout\n",
    "        self.attention = attention\n",
    "        \n",
    "        self.embedding = nn.Embedding(output_dim, emb_dim)\n",
    "        \n",
    "        self.rnn = nn.GRU((enc_hid_dim * 2) + emb_dim, dec_hid_dim)\n",
    "        \n",
    "        self.out = nn.Linear((enc_hid_dim * 2) + dec_hid_dim + emb_dim, output_dim)\n",
    "        \n",
    "        self.dropout = nn.Dropout(dropout)\n",
    "        \n",
    "    def forward(self, input, hidden, encoder_outputs, mask):\n",
    "             \n",
    "        #input = [batch size]\n",
    "        #hidden = [batch size, dec hid dim]\n",
    "        #encoder_outputs = [src sent len, batch size, enc hid dim * 2]\n",
    "        #mask = [batch size, src sent len]\n",
    "        \n",
    "        input = input.unsqueeze(0)\n",
    "        \n",
    "        #input = [1, batch size]\n",
    "        \n",
    "        embedded = self.dropout(self.embedding(input))\n",
    "        \n",
    "        #embedded = [1, batch size, emb dim]\n",
    "        \n",
    "        a = self.attention(hidden, encoder_outputs, mask)\n",
    "                \n",
    "        #a = [batch size, src sent len]\n",
    "        \n",
    "        a = a.unsqueeze(1)\n",
    "        \n",
    "        #a = [batch size, 1, src sent len]\n",
    "        \n",
    "        encoder_outputs = encoder_outputs.permute(1, 0, 2)\n",
    "        \n",
    "        #encoder_outputs = [batch size, src sent len, enc hid dim * 2]\n",
    "        \n",
    "        weighted = torch.bmm(a, encoder_outputs)\n",
    "        \n",
    "        #weighted = [batch size, 1, enc hid dim * 2]\n",
    "        \n",
    "        weighted = weighted.permute(1, 0, 2)\n",
    "        \n",
    "        #weighted = [1, batch size, enc hid dim * 2]\n",
    "        \n",
    "        rnn_input = torch.cat((embedded, weighted), dim = 2)\n",
    "        \n",
    "        #rnn_input = [1, batch size, (enc hid dim * 2) + emb dim]\n",
    "            \n",
    "        output, hidden = self.rnn(rnn_input, hidden.unsqueeze(0))\n",
    "        \n",
    "        #output = [sent len, batch size, dec hid dim * n directions]\n",
    "        #hidden = [n layers * n directions, batch size, dec hid dim]\n",
    "        \n",
    "        #sent len, n layers and n directions will always be 1 in this decoder, therefore:\n",
    "        #output = [1, batch size, dec hid dim]\n",
    "        #hidden = [1, batch size, dec hid dim]\n",
    "        #this also means that output == hidden\n",
    "        assert (output == hidden).all()\n",
    "        \n",
    "        embedded = embedded.squeeze(0)\n",
    "        output = output.squeeze(0)\n",
    "        weighted = weighted.squeeze(0)\n",
    "        \n",
    "        output = self.out(torch.cat((output, weighted, embedded), dim = 1))\n",
    "        \n",
    "        #output = [bsz, output dim]\n",
    "        \n",
    "        return output, hidden.squeeze(0), a.squeeze(1)"
   ]
  },
  {
   "cell_type": "markdown",
   "metadata": {},
   "source": [
    "### Seq2seq модель\n",
    "\n",
    "Объединяет все это в кучу.\n",
    "\n",
    "Входные параметры seq2seq модели —это энкодер, декодер, device, а также токены, с помощью которых мы кодируем паддинг, начало последовательности и конец последовательности.\n",
    "\n",
    "Нужно убедиться, что количество слоёв и размерность скрытых состояний — одинакова для энкодера и декодера. Это не обязательное условие, но в противном случае (в случае разного количества слоёв) нам придётся придумывать некоторые способы это обойти\n",
    "- Например, если в энкодере два слоя, а в декоре один, то можно использовать оба вектора, либо можно их усреднить.\n",
    "\n",
    "\"forward\"-метод в классе seq2seq берёт на вход вопрос, сниппет с кодом и \"teacher forcing ratio\".  На выход он отдаёт нам output, а также веса attention, которые мы посчитали в модуле attention"
   ]
  },
  {
   "cell_type": "code",
   "execution_count": 19,
   "metadata": {},
   "outputs": [],
   "source": [
    "class Seq2Seq(nn.Module):\n",
    "    def __init__(self, encoder, decoder, pad_idx, sos_idx, eos_idx, device):\n",
    "        super().__init__()\n",
    "        \n",
    "        self.encoder = encoder\n",
    "        self.decoder = decoder\n",
    "        self.pad_idx = pad_idx\n",
    "        self.sos_idx = sos_idx\n",
    "        self.eos_idx = eos_idx\n",
    "        self.device = device\n",
    "        \n",
    "    def create_mask(self, src):\n",
    "        mask = (src != self.pad_idx).permute(1, 0)\n",
    "        return mask\n",
    "        \n",
    "    def forward(self, src, src_len, trg, teacher_forcing_ratio = 0.5):\n",
    "        \n",
    "        #src = [src sent len, batch size]\n",
    "        #src_len = [batch size]\n",
    "        #trg = [trg sent len, batch size]\n",
    "        #teacher_forcing_ratio is probability to use teacher forcing\n",
    "        #e.g. if teacher_forcing_ratio is 0.75 we use teacher forcing 75% of the time\n",
    "        \n",
    "        if trg is None:\n",
    "            assert teacher_forcing_ratio == 0, \"Must be zero during inference\"\n",
    "            inference = True\n",
    "            trg = torch.zeros((100, src.shape[1])).long().fill_(self.sos_idx).to(src.device)\n",
    "        else:\n",
    "            inference = False\n",
    "            \n",
    "        batch_size = src.shape[1]\n",
    "        max_len = trg.shape[0]\n",
    "        trg_vocab_size = self.decoder.output_dim\n",
    "        \n",
    "        #tensor to store decoder outputs\n",
    "        outputs = torch.zeros(max_len, batch_size, trg_vocab_size).to(self.device)\n",
    "        \n",
    "        #tensor to store attention\n",
    "        attentions = torch.zeros(max_len, batch_size, src.shape[0]).to(self.device)\n",
    "        \n",
    "        #encoder_outputs is all hidden states of the input sequence, back and forwards\n",
    "        #hidden is the final forward and backward hidden states, passed through a linear layer\n",
    "        encoder_outputs, hidden = self.encoder(src, src_len)\n",
    "                \n",
    "        #first input to the decoder is the <sos> tokens\n",
    "        output = trg[0,:]\n",
    "        \n",
    "        mask = self.create_mask(src)\n",
    "                \n",
    "        #mask = [batch size, src sent len]\n",
    "                \n",
    "        for t in range(1, max_len):\n",
    "            output, hidden, attention = self.decoder(output, hidden, encoder_outputs, mask)\n",
    "            outputs[t] = output\n",
    "            attentions[t] = attention\n",
    "            teacher_force = random.random() < teacher_forcing_ratio\n",
    "            top1 = output.max(1)[1]\n",
    "            output = (trg[t] if teacher_force else top1)\n",
    "            if inference and output.item() == self.eos_idx:\n",
    "                return outputs[:t], attentions[:t]\n",
    "            \n",
    "        return outputs, attentions"
   ]
  },
  {
   "cell_type": "markdown",
   "metadata": {},
   "source": [
    "# Инициализация модели\n",
    "\n",
    "Сделаем так, чтобы количество слоёв у энкодера и декодера, а также размерности векторов скрытых состояний были одинаковыми. \n",
    "\n",
    "dropout будет достаточно большим (\"0.8\"). Если меньше, то плохо учится"
   ]
  },
  {
   "cell_type": "code",
   "execution_count": 20,
   "metadata": {},
   "outputs": [],
   "source": [
    "INPUT_DIM = len(SRC.vocab)\n",
    "OUTPUT_DIM = len(TRG.vocab)\n",
    "ENC_EMB_DIM = 128\n",
    "DEC_EMB_DIM = 128\n",
    "ENC_HID_DIM = 100\n",
    "DEC_HID_DIM = 100\n",
    "ENC_DROPOUT = 0.8\n",
    "DEC_DROPOUT = 0.8\n",
    "PAD_IDX = SRC.vocab.stoi['<pad>']\n",
    "SOS_IDX = TRG.vocab.stoi['<sos>']\n",
    "EOS_IDX = TRG.vocab.stoi['<eos>']\n",
    "\n",
    "attn = Attention(ENC_HID_DIM, DEC_HID_DIM)\n",
    "enc = Encoder(INPUT_DIM, ENC_EMB_DIM, ENC_HID_DIM, DEC_HID_DIM, ENC_DROPOUT)\n",
    "dec = Decoder(OUTPUT_DIM, DEC_EMB_DIM, ENC_HID_DIM, DEC_HID_DIM, DEC_DROPOUT, attn)\n",
    "\n",
    "model = Seq2Seq(enc, dec, PAD_IDX, SOS_IDX, EOS_IDX, device).to(device)"
   ]
  },
  {
   "cell_type": "markdown",
   "metadata": {},
   "source": [
    "Так задаются в торче пользовательские функции иницализации:\n",
    "- параметры веса - нормальный шум\n",
    "- остальные параметры - 0"
   ]
  },
  {
   "cell_type": "code",
   "execution_count": 21,
   "metadata": {},
   "outputs": [
    {
     "data": {
      "text/plain": [
       "Seq2Seq(\n",
       "  (encoder): Encoder(\n",
       "    (embedding): Embedding(612, 128)\n",
       "    (rnn): GRU(128, 100, bidirectional=True)\n",
       "    (fc): Linear(in_features=200, out_features=100, bias=True)\n",
       "    (dropout): Dropout(p=0.8, inplace=False)\n",
       "  )\n",
       "  (decoder): Decoder(\n",
       "    (attention): Attention(\n",
       "      (attn): Linear(in_features=300, out_features=100, bias=True)\n",
       "    )\n",
       "    (embedding): Embedding(395, 128)\n",
       "    (rnn): GRU(328, 100)\n",
       "    (out): Linear(in_features=428, out_features=395, bias=True)\n",
       "    (dropout): Dropout(p=0.8, inplace=False)\n",
       "  )\n",
       ")"
      ]
     },
     "execution_count": 21,
     "metadata": {},
     "output_type": "execute_result"
    }
   ],
   "source": [
    "def init_weights(m):\n",
    "    for name, param in m.named_parameters():\n",
    "        if 'weight' in name:\n",
    "            nn.init.normal_(param.data, mean=0, std=0.01)\n",
    "        else:\n",
    "            nn.init.constant_(param.data, 0)\n",
    "            \n",
    "model.apply(init_weights)"
   ]
  },
  {
   "cell_type": "code",
   "execution_count": 22,
   "metadata": {},
   "outputs": [
    {
     "name": "stdout",
     "output_type": "stream",
     "text": [
      "Модель содержит 615,651 параметров\n"
     ]
    }
   ],
   "source": [
    "def cnt_parameters(model):\n",
    "    return sum(p.numel() for p in model.parameters() if p.requires_grad)\n",
    "\n",
    "print(f'Модель содержит {cnt_parameters(model):,} параметров')"
   ]
  },
  {
   "cell_type": "code",
   "execution_count": 23,
   "metadata": {},
   "outputs": [
    {
     "name": "stdout",
     "output_type": "stream",
     "text": [
      "+----------------------------------+-----+-----------+------------+---------------+----------+\n",
      "|         Modules/Tensors          | GPU |   Shape   | Parameters |      Type     |  Memory  |\n",
      "+----------------------------------+-----+-----------+------------+---------------+----------+\n",
      "|     encoder.embedding.weight     |  +  | 612 x 128 |   78336    | torch.float32 | 6893568  |\n",
      "|     encoder.rnn.weight_ih_l0     |  +  | 300 x 128 |   38400    | torch.float32 | 3379200  |\n",
      "|     encoder.rnn.weight_hh_l0     |  +  | 300 x 100 |   30000    | torch.float32 | 2640000  |\n",
      "|      encoder.rnn.bias_ih_l0      |  +  |    300    |    300     | torch.float32 |  26400   |\n",
      "|      encoder.rnn.bias_hh_l0      |  +  |    300    |    300     | torch.float32 |  26400   |\n",
      "| encoder.rnn.weight_ih_l0_reverse |  +  | 300 x 128 |   38400    | torch.float32 | 3379200  |\n",
      "| encoder.rnn.weight_hh_l0_reverse |  +  | 300 x 100 |   30000    | torch.float32 | 2640000  |\n",
      "|  encoder.rnn.bias_ih_l0_reverse  |  +  |    300    |    300     | torch.float32 |  26400   |\n",
      "|  encoder.rnn.bias_hh_l0_reverse  |  +  |    300    |    300     | torch.float32 |  26400   |\n",
      "|        encoder.fc.weight         |  +  | 100 x 200 |   20000    | torch.float32 | 1760000  |\n",
      "|         encoder.fc.bias          |  +  |    100    |    100     | torch.float32 |   8800   |\n",
      "|       decoder.attention.v        |  +  |    100    |    100     | torch.float32 |   8800   |\n",
      "|  decoder.attention.attn.weight   |  +  | 100 x 300 |   30000    | torch.float32 | 2640000  |\n",
      "|   decoder.attention.attn.bias    |  +  |    100    |    100     | torch.float32 |   8800   |\n",
      "|     decoder.embedding.weight     |  +  | 395 x 128 |   50560    | torch.float32 | 4449280  |\n",
      "|     decoder.rnn.weight_ih_l0     |  +  | 300 x 328 |   98400    | torch.float32 | 8659200  |\n",
      "|     decoder.rnn.weight_hh_l0     |  +  | 300 x 100 |   30000    | torch.float32 | 2640000  |\n",
      "|      decoder.rnn.bias_ih_l0      |  +  |    300    |    300     | torch.float32 |  26400   |\n",
      "|      decoder.rnn.bias_hh_l0      |  +  |    300    |    300     | torch.float32 |  26400   |\n",
      "|        decoder.out.weight        |  +  | 395 x 428 |   169060   | torch.float32 | 14877280 |\n",
      "|         decoder.out.bias         |  +  |    395    |    395     | torch.float32 |  34760   |\n",
      "+----------------------------------+-----+-----------+------------+---------------+----------+\n",
      "Total Trainable Params: 615651\n",
      "Total memory: 51.67 Mb\n"
     ]
    },
    {
     "data": {
      "text/plain": [
       "615651"
      ]
     },
     "execution_count": 23,
     "metadata": {},
     "output_type": "execute_result"
    }
   ],
   "source": [
    "count_parameters(model)"
   ]
  },
  {
   "cell_type": "markdown",
   "metadata": {},
   "source": [
    "Then we define our optimizer and criterion. We have already initialized `PAD_IDX` when initializing the model, so we don't need to do it again."
   ]
  },
  {
   "cell_type": "code",
   "execution_count": 24,
   "metadata": {},
   "outputs": [],
   "source": [
    "optimizer = optim.Adam(model.parameters())"
   ]
  },
  {
   "cell_type": "code",
   "execution_count": 25,
   "metadata": {},
   "outputs": [],
   "source": [
    "criterion = nn.CrossEntropyLoss(ignore_index = PAD_IDX)"
   ]
  },
  {
   "cell_type": "markdown",
   "metadata": {},
   "source": [
    "- переводим модель в training mode (с помощью model.train). \n",
    "  - Это включит dropout и батч-нормализацию (если бы она была, но, в нашем случае, мы её не используем). \n",
    "- итерируемся через батч-итератор. Что мы делаем на каждой итерации? \n",
    "  - берём входное и выходное предложение из батча, вместо входного предложения мы получаем пару — \"входное предложение и его длина\" (как мы уже обсуждали ранее). \n",
    "  - делаем zero_grad — обнуляем градиенты, посчитанные на предыдущем шаге, \n",
    "  - передаём source и target в нашу модель и получаем некоторый выход и веса attention, \n",
    "  - считаем градиенты с помощью \"loss backward\", предварительно посчитав функцию потерь, \n",
    "  - клипаем (clip) градиенты (это популярный паттерн, и недопускает \"взрыва градиента\")\n",
    "  - делаем шаг нашим оптимизатором и считаем лосс. \n",
    "\n",
    "Замечательно, на выход наша функция будет возвращать нормализованный (по выборке) лосс по нашей эпохе."
   ]
  },
  {
   "cell_type": "markdown",
   "metadata": {},
   "source": [
    "## Обучение модели"
   ]
  },
  {
   "cell_type": "code",
   "execution_count": 26,
   "metadata": {},
   "outputs": [],
   "source": [
    "def train(model, iterator, optimizer, criterion, clip):\n",
    "    \n",
    "    model.train()\n",
    "    \n",
    "    epoch_loss = 0\n",
    "    \n",
    "    for i, batch in enumerate(iterator):\n",
    "        \n",
    "        src, src_len = batch.src\n",
    "        trg = batch.trg\n",
    "        \n",
    "        optimizer.zero_grad()\n",
    "        \n",
    "        output, attetion = model(src, src_len, trg, 0.4)    #turn ON teacher forcing\n",
    "        \n",
    "        #trg = [trg sent len, batch size]\n",
    "        #output = [trg sent len, batch size, output dim]\n",
    "        \n",
    "        output = output[1:].view(-1, output.shape[-1])\n",
    "        trg = trg[1:].view(-1)\n",
    "        \n",
    "        #trg = [(trg sent len - 1) * batch size]\n",
    "        #output = [(trg sent len - 1) * batch size, output dim]\n",
    "        \n",
    "        loss = criterion(output, trg)\n",
    "        \n",
    "        loss.backward()\n",
    "        \n",
    "        torch.nn.utils.clip_grad_norm_(model.parameters(), clip)\n",
    "        \n",
    "        optimizer.step()\n",
    "        \n",
    "        epoch_loss += loss.item()\n",
    "        \n",
    "    return epoch_loss / len(iterator)"
   ]
  },
  {
   "cell_type": "markdown",
   "metadata": {},
   "source": [
    "Также у нас есть функция, которую мы будем использовать для оценивания качества модели (для evaluate). Здесь, вначале, мы переводим нашу модель в состояние оценивания качества (это означает \"выключить dropout\", \"выключить батч-нормализацию\") и дальше проделываем примерно такие же шаги, как и в функции \"train\"."
   ]
  },
  {
   "cell_type": "code",
   "execution_count": 27,
   "metadata": {},
   "outputs": [],
   "source": [
    "def evaluate(model, iterator, criterion):\n",
    "    \n",
    "    model.eval()\n",
    "    \n",
    "    epoch_loss = 0\n",
    "    \n",
    "    with torch.no_grad():\n",
    "    \n",
    "        for i, batch in enumerate(iterator):\n",
    "\n",
    "            src, src_len = batch.src\n",
    "            trg = batch.trg\n",
    "\n",
    "            output, attention = model(src, src_len, trg, 0.0)   #turn OFF teacher forcing\n",
    "\n",
    "            #trg = [trg sent len, batch size]\n",
    "            #output = [trg sent len, batch size, output dim]\n",
    "\n",
    "            output = output[1:].view(-1, output.shape[-1])\n",
    "            trg = trg[1:].view(-1)\n",
    "\n",
    "            #trg = [(trg sent len - 1) * batch size]\n",
    "            #output = [(trg sent len - 1) * batch size, output dim]\n",
    "\n",
    "            loss = criterion(output, trg)\n",
    "\n",
    "            epoch_loss += loss.item()\n",
    "        \n",
    "    return epoch_loss / len(iterator)"
   ]
  },
  {
   "cell_type": "markdown",
   "metadata": {},
   "source": [
    " Кроме того, давайте напишем функцию, которая будет замерять время, потраченное на каждую эпоху, и назовём её \"epoch_time\"."
   ]
  },
  {
   "cell_type": "code",
   "execution_count": 28,
   "metadata": {},
   "outputs": [],
   "source": [
    "def epoch_time(start_time, end_time):\n",
    "    elapsed_time = end_time - start_time\n",
    "    elapsed_mins = int(elapsed_time / 60)\n",
    "    elapsed_secs = int(elapsed_time - (elapsed_mins * 60))\n",
    "    return elapsed_mins, elapsed_secs"
   ]
  },
  {
   "cell_type": "markdown",
   "metadata": {},
   "source": [
    "**Перплексия** в теории информации — безразмерная величина, мера того, насколько хорошо распределение вероятностей предсказывает выборку. Низкий показатель перплексии указывает на то, что распределение вероятности хорошо предсказывает выборку.\n",
    "\n",
    "Формула перплексии:\n",
    "\n",
    "$$PP(W) = P(w_1, w_2, .., w_N)^{-\\frac{1}{N}} = \\sqrt[N]{\\dfrac{1}{P(w_1, w_2, .., w_N)}} = \\sqrt[N]{\\dfrac{1}{\\prod_{i=1}^N P(w_i | w_1, .., w_{i-1})}}$$\n",
    "​\n",
    "- Можно использовать перплексию для сравнения двух нейросетей с разными архитектурами на одной и той же задачи (обе нейросети обучены переводить текст с языка А на язык Б)\n",
    "- Перплексия связного текста ниже, чем перплексия произвольного набора слов"
   ]
  },
  {
   "cell_type": "markdown",
   "metadata": {},
   "source": [
    "Минимум 100 эпох, чтоб не совсем мусор генерился, хоть и по памяти из трейна (датасет совсем небольшой)\n",
    "- около 10 мин."
   ]
  },
  {
   "cell_type": "code",
   "execution_count": 29,
   "metadata": {
    "scrolled": true
   },
   "outputs": [],
   "source": [
    "N_EPOCHS = 100\n",
    "CLIP = 1        # более высокие градиенты обрезаются до этого значения\n",
    "\n",
    "best_valid_loss = float('inf')\n",
    "\n",
    "if not QUICK_RUN:  \n",
    "    for epoch in range(N_EPOCHS):\n",
    "        \n",
    "        start_time = time.time()\n",
    "        \n",
    "        train_loss = train(model, train_iterator, optimizer, criterion, CLIP)\n",
    "        valid_loss = evaluate(model, valid_iterator, criterion)\n",
    "        \n",
    "        end_time = time.time()\n",
    "        \n",
    "        epoch_mins, epoch_secs = epoch_time(start_time, end_time)\n",
    "        \n",
    "        if valid_loss < best_valid_loss:\n",
    "            best_valid_loss = valid_loss\n",
    "            torch.save(model.state_dict(), './models/conala_model_attention_test.pt')\n",
    "        \n",
    "        print(f'Эпоха: {epoch+1:02} | Время: {epoch_mins}m {epoch_secs}s')\n",
    "        print(f'Перплексия (обучение): {math.exp(train_loss):7.3f}')\n",
    "        print(f'Перплексия (валидация): {math.exp(valid_loss):7.3f}')"
   ]
  },
  {
   "cell_type": "code",
   "execution_count": 30,
   "metadata": {},
   "outputs": [
    {
     "name": "stdout",
     "output_type": "stream",
     "text": [
      "Перплексия (валидация):  31.944\n"
     ]
    }
   ],
   "source": [
    "if QUICK_RUN:\n",
    "    model.load_state_dict(torch.load('./models/conala_model_attention_test.pt'))\n",
    "\n",
    "test_loss = evaluate(model, test_iterator, criterion)\n",
    "print(f'Перплексия (валидация): {math.exp(test_loss):7.3f}')"
   ]
  },
  {
   "cell_type": "markdown",
   "metadata": {},
   "source": [
    "## Предсказание кода по вопросу"
   ]
  },
  {
   "cell_type": "code",
   "execution_count": 31,
   "metadata": {},
   "outputs": [],
   "source": [
    "def translate_sentence(model, sentence):\n",
    "    model.eval()\n",
    "    tokenized = tokenize_question(sentence) \n",
    "    tokenized = ['<sos>'] + [t.lower() for t in tokenized] + ['<eos>']\n",
    "    numericalized = [SRC.vocab.stoi[t] for t in tokenized] \n",
    "    sentence_length = torch.LongTensor([len(numericalized)])\n",
    "    tensor = torch.LongTensor(numericalized).unsqueeze(1).to(device) \n",
    "    translation_tensor_logits, attention = model(tensor, sentence_length, None, 0) \n",
    "    translation_tensor = torch.argmax(translation_tensor_logits.squeeze(1), 1)\n",
    "    translation = [TRG.vocab.itos[t] for t in translation_tensor]\n",
    "    translation, attention = translation[1:], attention[1:]\n",
    "    return translation, attention"
   ]
  },
  {
   "cell_type": "code",
   "execution_count": 32,
   "metadata": {},
   "outputs": [],
   "source": [
    "import numpy as np\n",
    "\n",
    "def display_attention(candidate, translation, attention):\n",
    "    \n",
    "    fig = plt.figure(figsize=(10,10))\n",
    "    ax = fig.add_subplot(111)\n",
    "    \n",
    "    attention = attention.squeeze(1).cpu().detach().numpy()\n",
    "    ax.matshow(attention, cmap='bone')    # 2д матрица -> тепловая карта\n",
    "        \n",
    "    question = ['<sos>'] + [t.lower() for t in tokenize_question(candidate)] + ['<eos>']\n",
    "    answer = translation\n",
    "    \n",
    "    ax.set(xticks=np.arange(attention.shape[-1]),\n",
    "           yticks=np.arange(attention.shape[0]),\n",
    "           xticklabels=question, \n",
    "           yticklabels=answer,\n",
    "           title=\"Карта внимания\",\n",
    "           xlabel='Запрос',\n",
    "           ylabel='Ответ')\n",
    "    \n",
    "    plt.setp(ax.get_xticklabels(), rotation=90, ha=\"right\",rotation_mode=\"default\")\n",
    "    plt.show()\n",
    "    plt.close()"
   ]
  },
  {
   "cell_type": "code",
   "execution_count": 33,
   "metadata": {},
   "outputs": [
    {
     "name": "stdout",
     "output_type": "stream",
     "text": [
      "src = object datetime to back string datetime a convert to how\n",
      "trg = datetime . strptime ( '2010 - 11 - 13 10 : 33 : 54 . 227806' , ' y - m - d h : m : s . f' )\n"
     ]
    }
   ],
   "source": [
    "example_idx = 2\n",
    "\n",
    "src = ' '.join(vars(train_data.examples[example_idx])['src'])\n",
    "trg = ' '.join(vars(train_data.examples[example_idx])['trg'])\n",
    "\n",
    "print(f'src = {src}')\n",
    "print(f'trg = {trg}')"
   ]
  },
  {
   "cell_type": "code",
   "execution_count": 34,
   "metadata": {},
   "outputs": [
    {
     "name": "stdout",
     "output_type": "stream",
     "text": [
      "predicted trg =  datetime . datetime . now ( ) )\n"
     ]
    },
    {
     "data": {
      "image/png": "[encoded data removed]",
      "text/plain": [
       "<Figure size 720x720 with 1 Axes>"
      ]
     },
     "metadata": {
      "needs_background": "light"
     },
     "output_type": "display_data"
    },
    {
     "data": {
      "text/plain": [
       "torch.Size([8, 1, 12])"
      ]
     },
     "execution_count": 34,
     "metadata": {},
     "output_type": "execute_result"
    }
   ],
   "source": [
    "translation, attention = translate_sentence(model, src)\n",
    "\n",
    "print('predicted trg = ', ' '.join(translation))\n",
    "\n",
    "display_attention(src, translation, attention)"
   ]
  },
  {
   "cell_type": "code",
   "execution_count": 35,
   "metadata": {},
   "outputs": [
    {
     "name": "stdout",
     "output_type": "stream",
     "text": [
      "src = string to tuple convert python\n",
      "trg = \" \" \" \" \" \" . join ( ( 'a' , 'b' , 'c' , 'd' , 'g' , 'x' , 'r' , 'e' ) )\n"
     ]
    }
   ],
   "source": [
    "example_idx = 8\n",
    "\n",
    "src = ' '.join(vars(valid_data.examples[example_idx])['src'])\n",
    "trg = ' '.join(vars(valid_data.examples[example_idx])['trg'])\n",
    "\n",
    "print(f'src = {src}')\n",
    "print(f'trg = {trg}')"
   ]
  },
  {
   "cell_type": "code",
   "execution_count": 36,
   "metadata": {},
   "outputs": [
    {
     "name": "stdout",
     "output_type": "stream",
     "text": [
      "predicted trg =  <unk> ( ' ( ' , <unk> )\n"
     ]
    },
    {
     "data": {
      "image/png": "[encoded data removed]",
      "text/plain": [
       "<Figure size 720x720 with 1 Axes>"
      ]
     },
     "metadata": {
      "needs_background": "light"
     },
     "output_type": "display_data"
    }
   ],
   "source": [
    "translation, attention = translate_sentence(model, src)\n",
    "\n",
    "print('predicted trg = ', ' '.join(translation))\n",
    "\n",
    "display_attention(src, translation, attention)"
   ]
  },
  {
   "cell_type": "code",
   "execution_count": 37,
   "metadata": {},
   "outputs": [
    {
     "name": "stdout",
     "output_type": "stream",
     "text": [
      "src = 8 utf to 1251 cp from string a convert to how\n",
      "trg = d . decode ( 'cp1251' ) . encode ( 'utf8' )\n"
     ]
    }
   ],
   "source": [
    "example_idx = 4\n",
    "\n",
    "src = ' '.join(vars(test_data.examples[example_idx])['src'])\n",
    "trg = ' '.join(vars(test_data.examples[example_idx])['trg'])\n",
    "\n",
    "print(f'src = {src}')\n",
    "print(f'trg = {trg}')"
   ]
  },
  {
   "cell_type": "code",
   "execution_count": 38,
   "metadata": {},
   "outputs": [
    {
     "name": "stdout",
     "output_type": "stream",
     "text": [
      "predicted trg =  print(<unk>.<unk>(<unk>)\n"
     ]
    },
    {
     "data": {
      "image/png": "[encoded data removed]",
      "text/plain": [
       "<Figure size 720x720 with 1 Axes>"
      ]
     },
     "metadata": {
      "needs_background": "light"
     },
     "output_type": "display_data"
    }
   ],
   "source": [
    "translation, attention = translate_sentence(model, src)\n",
    "\n",
    "print('predicted trg = ', ''.join(translation))\n",
    "\n",
    "display_attention(src, translation, attention)"
   ]
  },
  {
   "cell_type": "markdown",
   "metadata": {},
   "source": [
    "# До.за.\n",
    "\n",
    "При обучении seq2seq модели из семинара качество работы модели оказалось не слишком хорошим. У этого есть несколько причин:\n",
    "\n",
    "- Слишком маленький датасет. На 2000 пар сложно обучить хорошую модель для решения такой сложной задачи.\n",
    "- Модель очень простая (чиво?:)), есть смысл попробовать усложнить ее (использовать другие архитектуры, например, Трансформер, разобранный в предыдущих лекциях и семинарах).\n",
    "- Стоит более аккуратно подбирать параметры модели. Обратите внимание на:\n",
    "  - Процесс построения словаря. Может быть, нужно поварьировать параметры min_freq, max_freq.\n",
    "  - Dropout. Есть ли смысл добавлять еще больше dropout в модель?\n",
    "  - Стратегия изменения learning rate в процессе обучения.\n",
    "  - \n",
    "В качестве домашнего задания мы предлагаем Вам поэкспериментировать с кодом этого семинара и улучшить качество работы модели."
   ]
  }
 ],
 "metadata": {
  "kernelspec": {
   "display_name": "Python 3",
   "language": "python",
   "name": "python3"
  },
  "language_info": {
   "codemirror_mode": {
    "name": "ipython",
    "version": 3
   },
   "file_extension": ".py",
   "mimetype": "text/x-python",
   "name": "python",
   "nbconvert_exporter": "python",
   "pygments_lexer": "ipython3",
   "version": "3.9.11"
  }
 },
 "nbformat": 4,
 "nbformat_minor": 2
}
