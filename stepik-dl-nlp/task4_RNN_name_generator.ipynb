{
 "cells": [
  {
   "cell_type": "markdown",
   "metadata": {},
   "source": [
    "# Генерация текста с помощью RNN\n",
    "\n",
    "- на примере генерации имен\n",
    "- напишем с нуля"
   ]
  },
  {
   "cell_type": "markdown",
   "metadata": {},
   "source": [
    "(по мотивам [семинара](https://github.com/neychev/harbour_dlia2019/blob/master/day02_Simple_RNN/Day_2_Simple_RNN_pytorch.ipynb)\n",
    " [курса \"Deep Learning in Applications\"](https://in.harbour.space/data-science/deep-learning-in-applications-radoslav-neychev-anastasia-ianina/))"
   ]
  },
  {
   "cell_type": "code",
   "execution_count": 1,
   "metadata": {},
   "outputs": [],
   "source": [
    "# Если Вы запускаете ноутбук на colab или kaggle,\n",
    "# выполните следующие строчки, чтобы подгрузить библиотеку dlnlputils:\n",
    "\n",
    "# !git clone https://github.com/Samsung-IT-Academy/stepik-dl-nlp.git && pip install -r stepik-dl-nlp/requirements.txt\n",
    "# import sys; sys.path.append('./stepik-dl-nlp')"
   ]
  },
  {
   "cell_type": "code",
   "execution_count": 2,
   "metadata": {
    "ExecuteTime": {
     "end_time": "2019-11-05T18:20:34.854793Z",
     "start_time": "2019-11-05T18:20:34.372865Z"
    }
   },
   "outputs": [],
   "source": [
    "import os\n",
    "\n",
    "import numpy as np\n",
    "import matplotlib.pyplot as plt\n",
    "\n",
    "import torch \n",
    "import torch.nn as nn\n",
    "import torch.nn.functional as F\n",
    "\n",
    "from torch.autograd import Variable     # 2022 deprecated\n",
    "\n",
    "from IPython.display import clear_output\n",
    "from random import sample\n",
    "\n",
    "%matplotlib inline"
   ]
  },
  {
   "cell_type": "markdown",
   "metadata": {},
   "source": [
    "# Данные\n",
    "Датасет содержит ~9k имен, все написаны латиницей.\n",
    "\n",
    "- содержал мусорные строки \"To The Next Page\"\n",
    "\n",
    "При загрузке перед каждым именем добавляем пробел:\n",
    "- если не будет специального символа, с которого начинается генерация, то мы лишим нашу модель способности выбирать первый символ последовательности\n",
    "  - имеется в виду, что RNN сможет генерировать только только по какому-то образцу (ей нужно хоть что-то подать на вход), например, образец это \"A\", т.е. сгенерировать имена начинающиеся на А. Поэтому образец \" \" будет для RNN означать сгенерировать любое имя, т.к. за пробелом в обучающей выборке всегда следует какая-нибудь буква"
   ]
  },
  {
   "cell_type": "code",
   "execution_count": 3,
   "metadata": {
    "ExecuteTime": {
     "end_time": "2019-11-05T18:21:03.509714Z",
     "start_time": "2019-11-05T18:21:03.491489Z"
    }
   },
   "outputs": [],
   "source": [
    "with open('./datasets/russian_names.txt') as input_file:\n",
    "    names = input_file.read()[:-1].split('\\n')\n",
    "    names = [' ' + line for line in names]"
   ]
  },
  {
   "cell_type": "code",
   "execution_count": 4,
   "metadata": {
    "ExecuteTime": {
     "end_time": "2019-11-05T18:21:03.946758Z",
     "start_time": "2019-11-05T18:21:03.938432Z"
    }
   },
   "outputs": [
    {
     "data": {
      "text/plain": [
       "[' Ababko', ' Abaev', ' Abagyan', ' Abaidulin', ' Abaidullin']"
      ]
     },
     "execution_count": 4,
     "metadata": {},
     "output_type": "execute_result"
    }
   ],
   "source": [
    "MAX_NAME_LENGTH = max(map(len, names))\n",
    "\n",
    "names[:5]"
   ]
  },
  {
   "cell_type": "markdown",
   "metadata": {},
   "source": [
    "Посмотрим на распределение длин имен:\n",
    "- нормальное распределение (ага, если bins побольше указать, а так нет)"
   ]
  },
  {
   "cell_type": "code",
   "execution_count": 5,
   "metadata": {
    "ExecuteTime": {
     "end_time": "2019-11-05T18:21:05.420060Z",
     "start_time": "2019-11-05T18:21:05.179513Z"
    }
   },
   "outputs": [
    {
     "data": {
      "text/plain": [
       "(array([5.400e+01, 7.700e+02, 2.943e+03, 3.461e+03, 1.142e+03, 8.570e+02,\n",
       "        1.410e+02, 1.300e+01, 1.000e+00, 2.000e+00]),\n",
       " array([ 3. ,  4.8,  6.6,  8.4, 10.2, 12. , 13.8, 15.6, 17.4, 19.2, 21. ]),\n",
       " <BarContainer object of 10 artists>)"
      ]
     },
     "execution_count": 5,
     "metadata": {},
     "output_type": "execute_result"
    },
    {
     "data": {
      "image/png": "[encoded data removed]",
      "text/plain": [
       "<Figure size 432x288 with 1 Axes>"
      ]
     },
     "metadata": {
      "needs_background": "light"
     },
     "output_type": "display_data"
    }
   ],
   "source": [
    "plt.title('Name length distribution')\n",
    "plt.hist(list(map(len, names)))"
   ]
  },
  {
   "cell_type": "code",
   "execution_count": 6,
   "metadata": {},
   "outputs": [
    {
     "data": {
      "text/plain": [
       "KstestResult(statistic=0.11361144422982572, pvalue=5.743811551488995e-106)"
      ]
     },
     "execution_count": 6,
     "metadata": {},
     "output_type": "execute_result"
    }
   ],
   "source": [
    "from scipy import stats\n",
    "\n",
    "lnm = np.array(list(map(len, names)))\n",
    "lnm = (lnm - lnm.mean()) / lnm.std()\n",
    "stats.kstest(lnm, 'norm')"
   ]
  },
  {
   "cell_type": "markdown",
   "metadata": {},
   "source": [
    "# Препроцессинг\n",
    "\n",
    "- составляем список уникальных символов"
   ]
  },
  {
   "cell_type": "code",
   "execution_count": 7,
   "metadata": {
    "ExecuteTime": {
     "end_time": "2019-11-05T18:21:07.335188Z",
     "start_time": "2019-11-05T18:21:07.320148Z"
    }
   },
   "outputs": [
    {
     "name": "stdout",
     "output_type": "stream",
     "text": [
      "num_tokens =  51\n"
     ]
    }
   ],
   "source": [
    "#all unique characters go here\n",
    "tokens = list(set(''.join(names)))  # все имена в строку -> множество set()\n",
    "\n",
    "num_tokens = len(tokens)\n",
    "print ('num_tokens = ', num_tokens)"
   ]
  },
  {
   "cell_type": "markdown",
   "metadata": {},
   "source": [
    "### Символы -> id\n",
    "\n",
    "Создадим словарь < символ > -> < id >"
   ]
  },
  {
   "cell_type": "code",
   "execution_count": 8,
   "metadata": {
    "ExecuteTime": {
     "end_time": "2019-11-05T18:21:07.674548Z",
     "start_time": "2019-11-05T18:21:07.671129Z"
    }
   },
   "outputs": [],
   "source": [
    "token_to_id = {token: idx for idx, token in enumerate(tokens)}"
   ]
  },
  {
   "cell_type": "code",
   "execution_count": 9,
   "metadata": {
    "ExecuteTime": {
     "end_time": "2019-11-05T18:21:07.838814Z",
     "start_time": "2019-11-05T18:21:07.833611Z"
    }
   },
   "outputs": [
    {
     "name": "stdout",
     "output_type": "stream",
     "text": [
      "Seems alright!\n"
     ]
    }
   ],
   "source": [
    "assert len(tokens) == len(token_to_id), \"dictionaries must have same size\"\n",
    "\n",
    "for i in range(num_tokens):\n",
    "    assert token_to_id[tokens[i]] == i, \"token identifier must be it's position in tokens list\"\n",
    "\n",
    "print(\"Seems alright!\")"
   ]
  },
  {
   "cell_type": "markdown",
   "metadata": {},
   "source": [
    "- переводим имена в векторное представление\n",
    "- вектора дополняются кодом пробела до максимальной длины (паддинг)"
   ]
  },
  {
   "cell_type": "code",
   "execution_count": 10,
   "metadata": {
    "ExecuteTime": {
     "end_time": "2019-11-05T18:21:07.988093Z",
     "start_time": "2019-11-05T18:21:07.977722Z"
    }
   },
   "outputs": [],
   "source": [
    "def to_matrix(data, token_to_id, max_len=None, dtype='int32', batch_first = True):\n",
    "    \"\"\"Casts a list of names into rnn-digestable matrix\"\"\"\n",
    "    \n",
    "    max_len = max_len or max(map(len, data))\n",
    "    data_ix = np.zeros([len(data), max_len], dtype) + token_to_id[' ']\n",
    "\n",
    "    for i in range(len(data)):\n",
    "        line_ix = [token_to_id[c] for c in data[i]]\n",
    "        data_ix[i, :len(line_ix)] = line_ix\n",
    "        \n",
    "    if not batch_first: # convert [batch, time] into [time, batch]\n",
    "        data_ix = np.transpose(data_ix)\n",
    "\n",
    "    return data_ix"
   ]
  },
  {
   "cell_type": "code",
   "execution_count": 11,
   "metadata": {
    "ExecuteTime": {
     "end_time": "2019-11-05T18:21:08.136936Z",
     "start_time": "2019-11-05T18:21:08.131609Z"
    }
   },
   "outputs": [
    {
     "name": "stdout",
     "output_type": "stream",
     "text": [
      " Ababko\n",
      " Chihachev\n",
      " Isaikov\n",
      " Nakhamkin\n",
      " Utropov\n",
      "[[29 24 11  2 11 46  0 29 29 29]\n",
      " [29  4 37  3 37  2 17 37 12 44]\n",
      " [29 41 35  2  3 46  0 44 29 29]\n",
      " [29  7  2 46 37  2 21 46  3 33]\n",
      " [29  8 28 49  0 27  0 44 29 29]]\n"
     ]
    }
   ],
   "source": [
    "#Example: cast 4 names to matrices, pad with zeros\n",
    "print('\\n'.join(names[::2000]))\n",
    "print(to_matrix(names[::2000], token_to_id))"
   ]
  },
  {
   "cell_type": "markdown",
   "metadata": {},
   "source": [
    "# Рекуррентные нейронные сети\n",
    "\n",
    "<img src=\"img/rnn.png\" width=480>"
   ]
  },
  {
   "cell_type": "markdown",
   "metadata": {},
   "source": [
    "`initial_state`\n",
    "- заполняет нулями вектора (просто нулевой 2d тензор)\n",
    "- соответствует нулевому скрытому состоянию ($h_0$)\n",
    "\n",
    "`forward`\n",
    "- преобразовываем наши входные векторы в эмбеддинги с помощью слоя, который мы берём из библиотеки `pytorch`, а именно `nn.Embedding`\n",
    "- конкатенируем текущий входной вектор из переменной `x_embedding` и скрытое состояние из предыдущего шага\n",
    "  - конкатенация является простым способом объединить результаты\n",
    "  - параметр `rnn_num_units` - это размерность промежуточных преобразований\n",
    "  - это еще один параметр, которым можно играться при обучении модели (кажись, он просто должен быть равен размеру словаря и с ним можно не играться)\n",
    "- с помощью `rnn_update` (`nn.Linear`), мы делаем следующий шаг — предсказываем следующее скрытое состояние\n",
    "- к полученному состоянию применяем `torch.tanh` (добавляется нелинейность, к сути RNN не имеет никакого отношения, да и на результат генерации влияет никак, только сходится немного дольше. Вопрос поркуа?)\n",
    "- и опять его в `nn.Linear`\n",
    "  - в лекции и в названии переменной сказано \"логит\", но тут линеар, где y = ln(x/(1-x)) ?\n",
    "  - In Math, Logit is a function that maps probabilities ([0, 1]) to R ((-inf, inf))\n",
    "  - Probability of 0.5 corresponds to a logit of 0. Negative logit correspond to probabilities less than 0.5, positive to > 0.5.\n",
    "  - шо здесь происходит-то???\n",
    "\n",
    "На выходе:\n",
    "- новое состояние и `F.log_softmax` от логитов (?)\n",
    "  - логарифм софтмакса, т.к. логарифмы вероятностей (чтобы численно стабильно считались произведения вероятнотей как сумма логарифмов вероятностей)\n",
    "- А именно, мы получим 52 (логарифма)вероятности по каждому символу из нашего словаря."
   ]
  },
  {
   "cell_type": "markdown",
   "metadata": {},
   "source": [
    "Дополнительные соображения:\n",
    "- это не логиты, но нечно на них похожее, т.к. это отображение [-1, 1] на (-inf, inf)\n",
    "- а софтмакс уже отображает (-inf, inf) на [0,1]"
   ]
  },
  {
   "cell_type": "code",
   "execution_count": 12,
   "metadata": {
    "ExecuteTime": {
     "end_time": "2019-11-05T18:21:10.751862Z",
     "start_time": "2019-11-05T18:21:10.741772Z"
    }
   },
   "outputs": [],
   "source": [
    "class CharRNNCell(nn.Module):\n",
    "    \"\"\"\n",
    "    Implement the scheme above as torch module\n",
    "    \"\"\"\n",
    "    def __init__(self, num_tokens=len(tokens), embedding_size=16, rnn_num_units=64):\n",
    "        super(self.__class__,self).__init__()\n",
    "        self.num_units = rnn_num_units\n",
    "        \n",
    "        self.embedding = nn.Embedding(num_tokens, embedding_size)\n",
    "        self.rnn_update = nn.Linear(embedding_size + rnn_num_units, rnn_num_units)\n",
    "        self.rnn_to_logits = nn.Linear(rnn_num_units, num_tokens)\n",
    "        \n",
    "    def forward(self, x, h_prev):\n",
    "        \"\"\"\n",
    "        This method computes h_next(x, h_prev) and log P(x_next | h_next)\n",
    "        We'll call it repeatedly to produce the whole sequence.\n",
    "        \n",
    "        :param x: batch of character ids, variable containing vector of int64\n",
    "        :param h_prev: previous rnn hidden states, variable containing matrix [batch, rnn_num_units] of float32\n",
    "        \"\"\"\n",
    "        # get vector embedding of x\n",
    "        x_emb = self.embedding(x)\n",
    "        \n",
    "        # compute next hidden state using self.rnn_update\n",
    "        x_and_h = torch.cat([x_emb, h_prev], dim=1) #YOUR CODE HERE\n",
    "        h_next = self.rnn_update(x_and_h) #YOUR CODE HERE\n",
    "        \n",
    "        h_next = torch.tanh(h_next)\n",
    "        \n",
    "        assert h_next.size() == h_prev.size()\n",
    "        \n",
    "        #compute logits for next character probs\n",
    "        logits = self.rnn_to_logits(h_next)\n",
    "        \n",
    "        return h_next, F.log_softmax(logits, -1)\n",
    "    \n",
    "    def initial_state(self, batch_size):\n",
    "        \"\"\" return rnn state before it processes first input (aka h0) \"\"\"\n",
    "        return Variable(torch.zeros(batch_size, self.num_units))"
   ]
  },
  {
   "cell_type": "code",
   "execution_count": 13,
   "metadata": {
    "ExecuteTime": {
     "end_time": "2019-11-05T18:21:11.071002Z",
     "start_time": "2019-11-05T18:21:11.052377Z"
    }
   },
   "outputs": [],
   "source": [
    "char_rnn = CharRNNCell()"
   ]
  },
  {
   "cell_type": "markdown",
   "metadata": {},
   "source": [
    "### Тренировка сети, RNN loop\n",
    "\n",
    "Теперь мы можем начинать тренировку нашей сети, т.е. минимизируя кросс-энтропию, либо максимизируя логарифм правдоподобия нашей модели (что — то же самое) — обучать нашу сеть.\n",
    "\n",
    "\n",
    "- Берём матрицу ID токенов, сдвинутую на \"i\" символов влево, так, чтобы именно \"i\"-ый символ был следующем символом для предсказания на \"i\"-ом шаге. \n",
    "- Такая матрица хранится в переменной \"batch index\" и, дальше, мы можем переходить к обучению сети.\n",
    "\n",
    "Короче:\n",
    "- на последовательность токенов/символов выдает последовательность (логарифмов)вероятностей, что в ГС они бы находились в таком вот порядке"
   ]
  },
  {
   "cell_type": "code",
   "execution_count": 14,
   "metadata": {
    "ExecuteTime": {
     "end_time": "2019-11-05T18:21:11.521078Z",
     "start_time": "2019-11-05T18:21:11.510175Z"
    }
   },
   "outputs": [],
   "source": [
    "def rnn_loop(rnn, batch_index):\n",
    "    \"\"\"\n",
    "    Computes log P(next_character) for all time-steps in names_ix\n",
    "    :param names_ix: an int32 matrix of shape [batch, time], output of to_matrix(names)\n",
    "    \"\"\"\n",
    "    batch_size, max_length = batch_index.size()\n",
    "    hid_state = rnn.initial_state(batch_size)\n",
    "    logprobs = []\n",
    "\n",
    "    for x_t in batch_index.transpose(0,1):\n",
    "        hid_state, logp_next = rnn(x_t, hid_state)  \n",
    "        logprobs.append(logp_next)\n",
    "        \n",
    "    return torch.stack(logprobs, dim=1)"
   ]
  },
  {
   "cell_type": "markdown",
   "metadata": {},
   "source": [
    "### Тренировка сети"
   ]
  },
  {
   "cell_type": "code",
   "execution_count": 15,
   "metadata": {
    "ExecuteTime": {
     "end_time": "2019-11-05T18:21:12.120106Z",
     "start_time": "2019-11-05T18:21:12.109585Z"
    }
   },
   "outputs": [],
   "source": [
    "char_rnn = CharRNNCell()\n",
    "opt = torch.optim.Adam(char_rnn.parameters())       # Adaptive Moment Estimation (расширение стох.град.спуска)\n",
    "history = []"
   ]
  },
  {
   "cell_type": "markdown",
   "metadata": {},
   "source": [
    "тест работоспособности"
   ]
  },
  {
   "cell_type": "code",
   "execution_count": 16,
   "metadata": {},
   "outputs": [],
   "source": [
    "batch_ix = to_matrix(sample(names, 16), token_to_id, max_len=MAX_NAME_LENGTH)    # для примера размер 16\n",
    "batch_ix = torch.tensor(batch_ix, dtype=torch.int64)\n",
    "\n",
    "logp_seq = rnn_loop(char_rnn, batch_ix)\n",
    "\n",
    "predictions_logp = logp_seq[:, :-1]\n",
    "actual_next_tokens = batch_ix[:, 1:]"
   ]
  },
  {
   "cell_type": "markdown",
   "metadata": {},
   "source": [
    "- Мы делаем \"backward pass\" — именно здесь мы вычисляем градиенты нашей лосс-функции по параметрам, делаем шаг с помощью \"opt.step\" и не забываем сделать \"zero_grad\":\n",
    "  - если мы не обнулим градиенты, то градиенты из предыдущих шагов будут накапливаться, аккумулироваться, и это приведёт к неправильному обучению сети, т.к.\n",
    "  - по умолчанию градиенты при каждом вызове loss.backward() аккумулируются, с помощью zero_grad() мы обнуляем градиенты перед новым вызовом backward()\n",
    "  - такая штука по умолчанию сделана, т.к. в рекуррентных нейронных сетях бывает удобно, ради оптимизации, при вызове backward(), просто прибавлять новый градиент к прежнему значению\n",
    "\n",
    "Функция потерь:\n",
    "  - это negative log likelihood loss if reduction=‘mean’, т.е.\n",
    "  - среднее по предсказанным вероятностям следующих фактических токенов (символов)\n",
    "    - если все вероятности 1, то минимальная обратная функция правдоподобия (с усреднением) = 0\n",
    "    - но тут обр.логарифм вероятности, т.е. обратные вероятности, поэтому значение функции потерь снижиется с 4 (средняя вероятность 0.25) до 1 (вероятность 1), т.е. близкое к идеальному узнавание классов (в данном случае символов)\n",
    "    - $ logit = \\ln \\frac{p}{1-p}, p = \\frac {1}{1 + e^{-L}} $ - это как-то связано с этим\n",
    "  - минимизация градиентным спуском обратной функции правдоподобия это есть максимизация функции правдоподобия"
   ]
  },
  {
   "cell_type": "code",
   "execution_count": 17,
   "metadata": {
    "ExecuteTime": {
     "end_time": "2019-11-05T18:21:23.521061Z",
     "start_time": "2019-11-05T18:21:12.302892Z"
    }
   },
   "outputs": [
    {
     "data": {
      "image/png": "[encoded data removed]",
      "text/plain": [
       "<Figure size 432x288 with 1 Axes>"
      ]
     },
     "metadata": {
      "needs_background": "light"
     },
     "output_type": "display_data"
    }
   ],
   "source": [
    "for i in range(1000):\n",
    "    batch_ix = to_matrix(sample(names, 32), token_to_id, max_len=MAX_NAME_LENGTH)    # размер батча 32\n",
    "    batch_ix = torch.tensor(batch_ix, dtype=torch.int64)\n",
    "\n",
    "    logp_seq = rnn_loop(char_rnn, batch_ix)\n",
    "    \n",
    "    # compute loss\n",
    "    predictions_logp = logp_seq[:, :-1]\n",
    "    actual_next_tokens = batch_ix[:, 1:]\n",
    "\n",
    "    loss = -torch.mean(torch.gather(predictions_logp, dim=2, index=actual_next_tokens[:,:,None]))###YOUR CODE\n",
    "    \n",
    "    # train with backprop\n",
    "    loss.backward()             # градиент функции потерь inplace\n",
    "    opt.step()                  # шаг по градиенту\n",
    "    opt.zero_grad()             # не сохранять этот градиент, потому что будет новый\n",
    "    \n",
    "    # visualizing training process\n",
    "    history.append(loss.data.numpy())\n",
    "    if (i + 1) % 100 == 0:\n",
    "        clear_output(True)\n",
    "        plt.plot(history,label='loss')\n",
    "        plt.legend()\n",
    "        plt.show()\n",
    "\n",
    "assert np.mean(history[:10]) > np.mean(history[-10:]), \"RNN didn't converge.\""
   ]
  },
  {
   "cell_type": "markdown",
   "metadata": {},
   "source": [
    "### RNN: генерация имен\n",
    "\n",
    "Для этого нам, всего лишь, нужно несколько раз сделать forward pass в цикле, предсказать несколько символов и сконкатенировать их в одно слово. "
   ]
  },
  {
   "cell_type": "code",
   "execution_count": 18,
   "metadata": {
    "ExecuteTime": {
     "end_time": "2019-11-05T18:21:23.540765Z",
     "start_time": "2019-11-05T18:21:23.524503Z"
    }
   },
   "outputs": [],
   "source": [
    "def generate_sample(char_rnn, seed_phrase=' ', max_length=MAX_NAME_LENGTH, temperature=1.0):\n",
    "    '''\n",
    "    The function generates text given a phrase of length at least SEQ_LENGTH.\n",
    "    :param seed_phrase: prefix characters. The RNN is asked to continue the phrase\n",
    "    :param max_length: maximum output length, including seed_phrase\n",
    "    :param temperature: coefficient for sampling.  higher temperature produces more chaotic outputs,\n",
    "                        smaller temperature converges to the single most likely output\n",
    "    '''\n",
    "    \n",
    "    x_sequence = [token_to_id[token] for token in seed_phrase]\n",
    "    x_sequence = torch.tensor([x_sequence], dtype=torch.int64)\n",
    "    hid_state = char_rnn.initial_state(batch_size=1)\n",
    "    \n",
    "    #feed the seed phrase, if any\n",
    "    for i in range(len(seed_phrase) - 1):\n",
    "        hid_state, _ = char_rnn(x_sequence[:, i], hid_state)\n",
    "    \n",
    "    #start generating\n",
    "    for _ in range(max_length - len(seed_phrase)):\n",
    "        hid_state, logp_next = char_rnn(x_sequence[:, -1], hid_state)\n",
    "        p_next = F.softmax(logp_next / temperature, dim=-1).data.numpy()[0]\n",
    "        \n",
    "        # sample next token and push it back into x_sequence\n",
    "        next_ix = np.random.choice(len(tokens), p=p_next)\n",
    "        next_ix = torch.tensor([[next_ix]], dtype=torch.int64)\n",
    "        x_sequence = torch.cat([x_sequence, next_ix], dim=1)\n",
    "        \n",
    "    return ''.join([tokens[ix] for ix in x_sequence.data.numpy()[0]])"
   ]
  },
  {
   "cell_type": "code",
   "execution_count": 19,
   "metadata": {
    "ExecuteTime": {
     "end_time": "2019-11-05T18:21:23.625562Z",
     "start_time": "2019-11-05T18:21:23.544968Z"
    }
   },
   "outputs": [
    {
     "name": "stdout",
     "output_type": "stream",
     "text": [
      "Rosn Lnyajechetoto Harain Eabranov Merkuev Abolinov heyun Madin aelea Baeilovstsky\n"
     ]
    }
   ],
   "source": [
    "print(*[generate_sample(char_rnn).strip() for _ in range(10)])"
   ]
  },
  {
   "cell_type": "markdown",
   "metadata": {},
   "source": [
    "Можем осуществить генерацию имён, которые начинаются с определённого набора символов"
   ]
  },
  {
   "cell_type": "code",
   "execution_count": 20,
   "metadata": {
    "ExecuteTime": {
     "end_time": "2019-11-05T18:21:23.702249Z",
     "start_time": "2019-11-05T18:21:23.629226Z"
    }
   },
   "outputs": [
    {
     "name": "stdout",
     "output_type": "stream",
     "text": [
      "Archinin Aruzov Arelyakyn Ardkev Artzhin ArgakhiBev Arbenov Aronkov Ardazkin Arlumoff\n"
     ]
    }
   ],
   "source": [
    "print(*[generate_sample(char_rnn, seed_phrase=' Ar').strip() for _ in range(10)])"
   ]
  },
  {
   "cell_type": "markdown",
   "metadata": {},
   "source": [
    "Также мы можем менять такой параметр, как **температура**.\n",
    "- Если же мы ставим большую температуру, то наша сеть будет генерировать очень разнообразный выход, но при этом, зачастую, достаточно нелогичный, потому что она могла выучить некоторые странные особенности нашего датасета.\n",
    "- Если мы ставим маленькую температуру, сеть будет генерировать такие фамилии в которых она наиболее уверена.\n",
    "- задача — выбрать такую температуру, которая будет обеспечивать достаточное разнообразие нашего датасета и, при этом, генерировать логичные фамилии и логичные имена.\n",
    "\n",
    "**Температура** – это такой общий полу-эмпирический момент в алгоритмах стохастической оптимизации (например, \"симулированного отжига\"). Этот параметр определяет вклад случайности в результат оптимизации. При высокой температуре скачки решения в случайном направлении более вероятны.\n",
    "\n",
    "\n",
    "Параметр температуры в коде:\n",
    "\n",
    "    p_next = F.softmax(logp_next / temperature, dim=-1).data.numpy()[0]\n",
    "\n",
    "где logp_next - предсказания сети для логарифма правдоподобия следующего символа по всему словарю символов.\n",
    "\n",
    "**Температура в softmax** - параметр, который отвечает за “случайность” итогового распределения. Если устремить температуру к нулю, итоговое распределение вырождается в one-hot (элемент с максимальным значением выбирается с вероятностью 1.0). Такое поведение согласуется и с физическими явлениями. С возрастанием температуры энтропия (мера хаотичности) системы растет, а значит события становятся более случайными (т.е. распределение стремится к равномерному).\n",
    "\n",
    "Получается, чем ниже температура, тем больше будут отличатся вероятности одних символов от других, и наоборот. А символ выбирается далее в следующей строке:\n",
    "\n",
    "    next_ix = np.random.choice(len(tokens), p=p_next)\n",
    "\n",
    "- При температуре, стремящейся к бесконечности, генерация любого символа имеет примерно одинаковую вероятность\n",
    "- При очень маленькой температуре есть вероятность получать каждый раз один и тот же результат\n",
    "- Чем ниже температура генерации, тем выше уверенность модели в сгенерированных результатах и ниже разнообразие сгенерированной выборки"
   ]
  },
  {
   "cell_type": "code",
   "execution_count": 21,
   "metadata": {},
   "outputs": [
    {
     "name": "stdout",
     "output_type": "stream",
     "text": [
      "Arakhanov Arorov Arorov Arolov Aralanov Aranov Arorov Arorov Arovin Arorov\n",
      "AryjUy            c ArMnaHoLh Arjiticv           o ArhiMinich isi Arzv egevz         c ArtBo        v  t ArMutkskyv   ilgicsk Ararkop acf UVkyeli Aru Ti  frkoviscyhlk Arday Ridosoncy  a\n",
      "Arorov Arorov Arorov Arorov Arorov Arorov Arorov Arorov Arorov Arorov\n"
     ]
    }
   ],
   "source": [
    "print(*[generate_sample(char_rnn, seed_phrase=' Ar', temperature=0.2).strip() for _ in range(10)])\n",
    "print(*[generate_sample(char_rnn, seed_phrase=' Ar', temperature=2).strip() for _ in range(10)])\n",
    "print(*[generate_sample(char_rnn, seed_phrase=' Ar', temperature=0.01).strip() for _ in range(10)])"
   ]
  },
  {
   "cell_type": "markdown",
   "metadata": {
    "collapsed": true
   },
   "source": [
    "# Более надежное решение\n",
    "\n",
    "* `nn.RNNCell(emb_size, rnn_num_units)` - шаг RNN. Алгоритм: concat-linear-tanh\n",
    "* `nn.RNN(emb_size, rnn_num_units` - весь rnn_loop.\n",
    "\n",
    "Кроме того, в PyTorch есть `nn.LSTMCell`, `nn.LSTM`, `nn.GRUCell`, `nn.GRU`, etc. etc.\n",
    "\n",
    "Перепишем наш пример с генерацией имен с помощью средств PyTorch."
   ]
  },
  {
   "cell_type": "code",
   "execution_count": 22,
   "metadata": {
    "ExecuteTime": {
     "end_time": "2019-11-05T18:21:23.713285Z",
     "start_time": "2019-11-05T18:21:23.704755Z"
    }
   },
   "outputs": [],
   "source": [
    "class CharRNNLoop(nn.Module):\n",
    "    def __init__(self, num_tokens=num_tokens, emb_size=16, rnn_num_units=64, num_layers=1):\n",
    "        super(self.__class__, self).__init__()\n",
    "        self.emb = nn.Embedding(num_tokens, emb_size)\n",
    "        self.rnn = nn.RNN(emb_size, rnn_num_units, num_layers, batch_first=True)\n",
    "        self.hid_to_logits = nn.Linear(rnn_num_units, num_tokens)\n",
    "        \n",
    "    def forward(self, x):\n",
    "        # assert isinstance(x, Variable) and isinstance(x.data, torch.LongTensor)\n",
    "        h_seq, _ = self.rnn(self.emb(x))\n",
    "        next_logits = self.hid_to_logits(h_seq)\n",
    "        next_logp = F.log_softmax(next_logits, dim=-1)\n",
    "        return next_logp\n",
    "    \n",
    "model = CharRNNLoop()\n",
    "opt = torch.optim.Adam(model.parameters())\n",
    "history = []"
   ]
  },
  {
   "cell_type": "markdown",
   "metadata": {},
   "source": [
    "Проверка работоспособности:\n",
    "- решение более простое, но сирамно нужно пошаманить с размерностями данных (тензоры стали толще не 1 измерение)\n",
    "- начальное состояние тут не нужно, торч сам чето по-умолчанию придумывает...\n",
    "  \n",
    "`Variable` это надстройка над `Tensor`, которая позволяет подсчитывать градиенты для обратного распространения ошибки `.backward()`\n",
    "\n",
    "`Variable API is deprecated!` Теперь тензора включают все из Variable"
   ]
  },
  {
   "cell_type": "code",
   "execution_count": 23,
   "metadata": {
    "ExecuteTime": {
     "end_time": "2019-11-05T18:21:23.790047Z",
     "start_time": "2019-11-05T18:21:23.715167Z"
    }
   },
   "outputs": [],
   "source": [
    "# the model applies over the whole sequence\n",
    "batch_ix = to_matrix(sample(names, 32), token_to_id, max_len=MAX_NAME_LENGTH)\n",
    "batch_ix = torch.LongTensor(batch_ix)   # int64\n",
    "\n",
    "logp_seq = model(batch_ix)\n",
    "\n",
    "# compute loss (!!! тут были перепутаны индексы, логиты данного шага сравниваются со следующими токенами)\n",
    "loss = F.nll_loss(logp_seq[:, :-1].contiguous().view(-1, num_tokens), \n",
    "                  batch_ix[:, 1:].contiguous().view(-1))\n",
    "\n",
    "loss.backward()"
   ]
  },
  {
   "cell_type": "markdown",
   "metadata": {},
   "source": [
    "Почему теперь обучение сходится к 0?\n",
    "- потому что в `F.nll_loss` была какая-то херомантия\n",
    "- теперь ОК\n",
    "- обучение на cpu на 20% быстрее\n",
    "- добавлена cuda (еще в 5 раз быстрее)"
   ]
  },
  {
   "cell_type": "code",
   "execution_count": 24,
   "metadata": {
    "ExecuteTime": {
     "end_time": "2019-11-05T18:21:31.468107Z",
     "start_time": "2019-11-05T18:21:23.792092Z"
    }
   },
   "outputs": [],
   "source": [
    "def copy_data_to_device(data, device):\n",
    "    if torch.is_tensor(data):\n",
    "        return data.to(device)\n",
    "    elif isinstance(data, (list, tuple)):\n",
    "        return [copy_data_to_device(elem, device) for elem in data]\n",
    "    raise ValueError('Недопустимый тип данных {}'.format(type(data)))\n",
    "    \n",
    "\n",
    "def fit(model, data, token_to_id, opt, steps=1000, batch_size=32, draw=True, device=None):\n",
    "    if device is None:\n",
    "        device = 'cuda' if torch.cuda.is_available() else 'cpu'\n",
    "    device = torch.device(device)\n",
    "    model.to(device)\n",
    "\n",
    "    for i in range(steps):\n",
    "        batch_ix = to_matrix(sample(data, batch_size), token_to_id)\n",
    "        batch_ix = Variable(torch.LongTensor(batch_ix))\n",
    "        batch_ix = copy_data_to_device(batch_ix, device)\n",
    "        \n",
    "        logp_seq = model(batch_ix)                                                  # num_tokens вер-тей по кажд.токену в кажд.примере батча\n",
    "        \n",
    "        # compute loss\n",
    "        predictions_logp = logp_seq[:, :-1].contiguous().view(-1, num_tokens)       # предсказанные логиты вероятностей следующих токенов\n",
    "        actual_next_tokens = batch_ix[:, 1:].contiguous().view(-1)                  # фактические следующие токены (целевые)\n",
    "        loss = F.nll_loss(input=predictions_logp, target=actual_next_tokens)        # среднее по логитам целевых токенов\n",
    "        # loss = -torch.mean(torch.gather(predictions_logp, dim=1, index=actual_next_tokens[:, None]))\n",
    "        \n",
    "        # train with backprop\n",
    "        loss.backward()\n",
    "        opt.step()\n",
    "        opt.zero_grad()\n",
    "        \n",
    "        history.append(loss.detach().cpu().numpy())\n",
    "        if draw and (i + 1) % 100 == 0:\n",
    "            clear_output(True)\n",
    "            plt.plot(history, label='loss')\n",
    "            plt.legend()\n",
    "            plt.show()\n",
    "\n",
    "    assert np.mean(history[:25]) > np.mean(history[-25:]), \"RNN didn't converge.\""
   ]
  },
  {
   "cell_type": "code",
   "execution_count": 25,
   "metadata": {},
   "outputs": [
    {
     "data": {
      "image/png": "[encoded data removed]",
      "text/plain": [
       "<Figure size 432x288 with 1 Axes>"
      ]
     },
     "metadata": {
      "needs_background": "light"
     },
     "output_type": "display_data"
    },
    {
     "ename": "KeyboardInterrupt",
     "evalue": "",
     "output_type": "error",
     "traceback": [
      "\u001b[0;31m---------------------------------------------------------------------------\u001b[0m",
      "\u001b[0;31mKeyboardInterrupt\u001b[0m                         Traceback (most recent call last)",
      "\u001b[1;32m/home/user1/projects/stepik.org/DataScience/Нейронные сети и обработка текста/stepik-dl-nlp/task4_RNN_name_generator.ipynb Cell 45'\u001b[0m in \u001b[0;36m<cell line: 1>\u001b[0;34m()\u001b[0m\n\u001b[0;32m----> <a href='vscode-notebook-cell:/home/user1/projects/stepik.org/DataScience/%D0%9D%D0%B5%D0%B9%D1%80%D0%BE%D0%BD%D0%BD%D1%8B%D0%B5%20%D1%81%D0%B5%D1%82%D0%B8%20%D0%B8%20%D0%BE%D0%B1%D1%80%D0%B0%D0%B1%D0%BE%D1%82%D0%BA%D0%B0%20%D1%82%D0%B5%D0%BA%D1%81%D1%82%D0%B0/stepik-dl-nlp/task4_RNN_name_generator.ipynb#ch0000044?line=0'>1</a>\u001b[0m fit(model, names, token_to_id, opt, steps\u001b[39m=\u001b[39;49m\u001b[39m3000\u001b[39;49m)\n",
      "\u001b[1;32m/home/user1/projects/stepik.org/DataScience/Нейронные сети и обработка текста/stepik-dl-nlp/task4_RNN_name_generator.ipynb Cell 44'\u001b[0m in \u001b[0;36mfit\u001b[0;34m(model, data, token_to_id, opt, steps, batch_size, draw, device)\u001b[0m\n\u001b[1;32m     <a href='vscode-notebook-cell:/home/user1/projects/stepik.org/DataScience/%D0%9D%D0%B5%D0%B9%D1%80%D0%BE%D0%BD%D0%BD%D1%8B%D0%B5%20%D1%81%D0%B5%D1%82%D0%B8%20%D0%B8%20%D0%BE%D0%B1%D1%80%D0%B0%D0%B1%D0%BE%D1%82%D0%BA%D0%B0%20%D1%82%D0%B5%D0%BA%D1%81%D1%82%D0%B0/stepik-dl-nlp/task4_RNN_name_generator.ipynb#ch0000043?line=25'>26</a>\u001b[0m \u001b[39m# loss = -torch.mean(torch.gather(predictions_logp, dim=1, index=actual_next_tokens[:, None]))\u001b[39;00m\n\u001b[1;32m     <a href='vscode-notebook-cell:/home/user1/projects/stepik.org/DataScience/%D0%9D%D0%B5%D0%B9%D1%80%D0%BE%D0%BD%D0%BD%D1%8B%D0%B5%20%D1%81%D0%B5%D1%82%D0%B8%20%D0%B8%20%D0%BE%D0%B1%D1%80%D0%B0%D0%B1%D0%BE%D1%82%D0%BA%D0%B0%20%D1%82%D0%B5%D0%BA%D1%81%D1%82%D0%B0/stepik-dl-nlp/task4_RNN_name_generator.ipynb#ch0000043?line=26'>27</a>\u001b[0m \n\u001b[1;32m     <a href='vscode-notebook-cell:/home/user1/projects/stepik.org/DataScience/%D0%9D%D0%B5%D0%B9%D1%80%D0%BE%D0%BD%D0%BD%D1%8B%D0%B5%20%D1%81%D0%B5%D1%82%D0%B8%20%D0%B8%20%D0%BE%D0%B1%D1%80%D0%B0%D0%B1%D0%BE%D1%82%D0%BA%D0%B0%20%D1%82%D0%B5%D0%BA%D1%81%D1%82%D0%B0/stepik-dl-nlp/task4_RNN_name_generator.ipynb#ch0000043?line=27'>28</a>\u001b[0m \u001b[39m# train with backprop\u001b[39;00m\n\u001b[1;32m     <a href='vscode-notebook-cell:/home/user1/projects/stepik.org/DataScience/%D0%9D%D0%B5%D0%B9%D1%80%D0%BE%D0%BD%D0%BD%D1%8B%D0%B5%20%D1%81%D0%B5%D1%82%D0%B8%20%D0%B8%20%D0%BE%D0%B1%D1%80%D0%B0%D0%B1%D0%BE%D1%82%D0%BA%D0%B0%20%D1%82%D0%B5%D0%BA%D1%81%D1%82%D0%B0/stepik-dl-nlp/task4_RNN_name_generator.ipynb#ch0000043?line=28'>29</a>\u001b[0m loss\u001b[39m.\u001b[39mbackward()\n\u001b[0;32m---> <a href='vscode-notebook-cell:/home/user1/projects/stepik.org/DataScience/%D0%9D%D0%B5%D0%B9%D1%80%D0%BE%D0%BD%D0%BD%D1%8B%D0%B5%20%D1%81%D0%B5%D1%82%D0%B8%20%D0%B8%20%D0%BE%D0%B1%D1%80%D0%B0%D0%B1%D0%BE%D1%82%D0%BA%D0%B0%20%D1%82%D0%B5%D0%BA%D1%81%D1%82%D0%B0/stepik-dl-nlp/task4_RNN_name_generator.ipynb#ch0000043?line=29'>30</a>\u001b[0m opt\u001b[39m.\u001b[39;49mstep()\n\u001b[1;32m     <a href='vscode-notebook-cell:/home/user1/projects/stepik.org/DataScience/%D0%9D%D0%B5%D0%B9%D1%80%D0%BE%D0%BD%D0%BD%D1%8B%D0%B5%20%D1%81%D0%B5%D1%82%D0%B8%20%D0%B8%20%D0%BE%D0%B1%D1%80%D0%B0%D0%B1%D0%BE%D1%82%D0%BA%D0%B0%20%D1%82%D0%B5%D0%BA%D1%81%D1%82%D0%B0/stepik-dl-nlp/task4_RNN_name_generator.ipynb#ch0000043?line=30'>31</a>\u001b[0m opt\u001b[39m.\u001b[39mzero_grad()\n\u001b[1;32m     <a href='vscode-notebook-cell:/home/user1/projects/stepik.org/DataScience/%D0%9D%D0%B5%D0%B9%D1%80%D0%BE%D0%BD%D0%BD%D1%8B%D0%B5%20%D1%81%D0%B5%D1%82%D0%B8%20%D0%B8%20%D0%BE%D0%B1%D1%80%D0%B0%D0%B1%D0%BE%D1%82%D0%BA%D0%B0%20%D1%82%D0%B5%D0%BA%D1%81%D1%82%D0%B0/stepik-dl-nlp/task4_RNN_name_generator.ipynb#ch0000043?line=32'>33</a>\u001b[0m history\u001b[39m.\u001b[39mappend(loss\u001b[39m.\u001b[39mdetach()\u001b[39m.\u001b[39mcpu()\u001b[39m.\u001b[39mnumpy())\n",
      "File \u001b[0;32m~/envs/py39/lib/python3.9/site-packages/torch/optim/optimizer.py:88\u001b[0m, in \u001b[0;36mOptimizer._hook_for_profile.<locals>.profile_hook_step.<locals>.wrapper\u001b[0;34m(*args, **kwargs)\u001b[0m\n\u001b[1;32m     <a href='file:///home/user1/envs/py39/lib/python3.9/site-packages/torch/optim/optimizer.py?line=85'>86</a>\u001b[0m profile_name \u001b[39m=\u001b[39m \u001b[39m\"\u001b[39m\u001b[39mOptimizer.step#\u001b[39m\u001b[39m{}\u001b[39;00m\u001b[39m.step\u001b[39m\u001b[39m\"\u001b[39m\u001b[39m.\u001b[39mformat(obj\u001b[39m.\u001b[39m\u001b[39m__class__\u001b[39m\u001b[39m.\u001b[39m\u001b[39m__name__\u001b[39m)\n\u001b[1;32m     <a href='file:///home/user1/envs/py39/lib/python3.9/site-packages/torch/optim/optimizer.py?line=86'>87</a>\u001b[0m \u001b[39mwith\u001b[39;00m torch\u001b[39m.\u001b[39mautograd\u001b[39m.\u001b[39mprofiler\u001b[39m.\u001b[39mrecord_function(profile_name):\n\u001b[0;32m---> <a href='file:///home/user1/envs/py39/lib/python3.9/site-packages/torch/optim/optimizer.py?line=87'>88</a>\u001b[0m     \u001b[39mreturn\u001b[39;00m func(\u001b[39m*\u001b[39;49margs, \u001b[39m*\u001b[39;49m\u001b[39m*\u001b[39;49mkwargs)\n",
      "File \u001b[0;32m~/envs/py39/lib/python3.9/site-packages/torch/autograd/grad_mode.py:28\u001b[0m, in \u001b[0;36m_DecoratorContextManager.__call__.<locals>.decorate_context\u001b[0;34m(*args, **kwargs)\u001b[0m\n\u001b[1;32m     <a href='file:///home/user1/envs/py39/lib/python3.9/site-packages/torch/autograd/grad_mode.py?line=24'>25</a>\u001b[0m \u001b[39m@functools\u001b[39m\u001b[39m.\u001b[39mwraps(func)\n\u001b[1;32m     <a href='file:///home/user1/envs/py39/lib/python3.9/site-packages/torch/autograd/grad_mode.py?line=25'>26</a>\u001b[0m \u001b[39mdef\u001b[39;00m \u001b[39mdecorate_context\u001b[39m(\u001b[39m*\u001b[39margs, \u001b[39m*\u001b[39m\u001b[39m*\u001b[39mkwargs):\n\u001b[1;32m     <a href='file:///home/user1/envs/py39/lib/python3.9/site-packages/torch/autograd/grad_mode.py?line=26'>27</a>\u001b[0m     \u001b[39mwith\u001b[39;00m \u001b[39mself\u001b[39m\u001b[39m.\u001b[39m\u001b[39m__class__\u001b[39m():\n\u001b[0;32m---> <a href='file:///home/user1/envs/py39/lib/python3.9/site-packages/torch/autograd/grad_mode.py?line=27'>28</a>\u001b[0m         \u001b[39mreturn\u001b[39;00m func(\u001b[39m*\u001b[39;49margs, \u001b[39m*\u001b[39;49m\u001b[39m*\u001b[39;49mkwargs)\n",
      "File \u001b[0;32m~/envs/py39/lib/python3.9/site-packages/torch/optim/adam.py:133\u001b[0m, in \u001b[0;36mAdam.step\u001b[0;34m(self, closure)\u001b[0m\n\u001b[1;32m    <a href='file:///home/user1/envs/py39/lib/python3.9/site-packages/torch/optim/adam.py?line=129'>130</a>\u001b[0m             \u001b[39m# record the step after step update\u001b[39;00m\n\u001b[1;32m    <a href='file:///home/user1/envs/py39/lib/python3.9/site-packages/torch/optim/adam.py?line=130'>131</a>\u001b[0m             state_steps\u001b[39m.\u001b[39mappend(state[\u001b[39m'\u001b[39m\u001b[39mstep\u001b[39m\u001b[39m'\u001b[39m])\n\u001b[0;32m--> <a href='file:///home/user1/envs/py39/lib/python3.9/site-packages/torch/optim/adam.py?line=132'>133</a>\u001b[0m     F\u001b[39m.\u001b[39;49madam(params_with_grad,\n\u001b[1;32m    <a href='file:///home/user1/envs/py39/lib/python3.9/site-packages/torch/optim/adam.py?line=133'>134</a>\u001b[0m            grads,\n\u001b[1;32m    <a href='file:///home/user1/envs/py39/lib/python3.9/site-packages/torch/optim/adam.py?line=134'>135</a>\u001b[0m            exp_avgs,\n\u001b[1;32m    <a href='file:///home/user1/envs/py39/lib/python3.9/site-packages/torch/optim/adam.py?line=135'>136</a>\u001b[0m            exp_avg_sqs,\n\u001b[1;32m    <a href='file:///home/user1/envs/py39/lib/python3.9/site-packages/torch/optim/adam.py?line=136'>137</a>\u001b[0m            max_exp_avg_sqs,\n\u001b[1;32m    <a href='file:///home/user1/envs/py39/lib/python3.9/site-packages/torch/optim/adam.py?line=137'>138</a>\u001b[0m            state_steps,\n\u001b[1;32m    <a href='file:///home/user1/envs/py39/lib/python3.9/site-packages/torch/optim/adam.py?line=138'>139</a>\u001b[0m            amsgrad\u001b[39m=\u001b[39;49mgroup[\u001b[39m'\u001b[39;49m\u001b[39mamsgrad\u001b[39;49m\u001b[39m'\u001b[39;49m],\n\u001b[1;32m    <a href='file:///home/user1/envs/py39/lib/python3.9/site-packages/torch/optim/adam.py?line=139'>140</a>\u001b[0m            beta1\u001b[39m=\u001b[39;49mbeta1,\n\u001b[1;32m    <a href='file:///home/user1/envs/py39/lib/python3.9/site-packages/torch/optim/adam.py?line=140'>141</a>\u001b[0m            beta2\u001b[39m=\u001b[39;49mbeta2,\n\u001b[1;32m    <a href='file:///home/user1/envs/py39/lib/python3.9/site-packages/torch/optim/adam.py?line=141'>142</a>\u001b[0m            lr\u001b[39m=\u001b[39;49mgroup[\u001b[39m'\u001b[39;49m\u001b[39mlr\u001b[39;49m\u001b[39m'\u001b[39;49m],\n\u001b[1;32m    <a href='file:///home/user1/envs/py39/lib/python3.9/site-packages/torch/optim/adam.py?line=142'>143</a>\u001b[0m            weight_decay\u001b[39m=\u001b[39;49mgroup[\u001b[39m'\u001b[39;49m\u001b[39mweight_decay\u001b[39;49m\u001b[39m'\u001b[39;49m],\n\u001b[1;32m    <a href='file:///home/user1/envs/py39/lib/python3.9/site-packages/torch/optim/adam.py?line=143'>144</a>\u001b[0m            eps\u001b[39m=\u001b[39;49mgroup[\u001b[39m'\u001b[39;49m\u001b[39meps\u001b[39;49m\u001b[39m'\u001b[39;49m])\n\u001b[1;32m    <a href='file:///home/user1/envs/py39/lib/python3.9/site-packages/torch/optim/adam.py?line=144'>145</a>\u001b[0m \u001b[39mreturn\u001b[39;00m loss\n",
      "File \u001b[0;32m~/envs/py39/lib/python3.9/site-packages/torch/optim/_functional.py:94\u001b[0m, in \u001b[0;36madam\u001b[0;34m(params, grads, exp_avgs, exp_avg_sqs, max_exp_avg_sqs, state_steps, amsgrad, beta1, beta2, lr, weight_decay, eps)\u001b[0m\n\u001b[1;32m     <a href='file:///home/user1/envs/py39/lib/python3.9/site-packages/torch/optim/_functional.py?line=91'>92</a>\u001b[0m     denom \u001b[39m=\u001b[39m (max_exp_avg_sqs[i]\u001b[39m.\u001b[39msqrt() \u001b[39m/\u001b[39m math\u001b[39m.\u001b[39msqrt(bias_correction2))\u001b[39m.\u001b[39madd_(eps)\n\u001b[1;32m     <a href='file:///home/user1/envs/py39/lib/python3.9/site-packages/torch/optim/_functional.py?line=92'>93</a>\u001b[0m \u001b[39melse\u001b[39;00m:\n\u001b[0;32m---> <a href='file:///home/user1/envs/py39/lib/python3.9/site-packages/torch/optim/_functional.py?line=93'>94</a>\u001b[0m     denom \u001b[39m=\u001b[39m (exp_avg_sq\u001b[39m.\u001b[39;49msqrt() \u001b[39m/\u001b[39m math\u001b[39m.\u001b[39msqrt(bias_correction2))\u001b[39m.\u001b[39madd_(eps)\n\u001b[1;32m     <a href='file:///home/user1/envs/py39/lib/python3.9/site-packages/torch/optim/_functional.py?line=95'>96</a>\u001b[0m step_size \u001b[39m=\u001b[39m lr \u001b[39m/\u001b[39m bias_correction1\n\u001b[1;32m     <a href='file:///home/user1/envs/py39/lib/python3.9/site-packages/torch/optim/_functional.py?line=97'>98</a>\u001b[0m param\u001b[39m.\u001b[39maddcdiv_(exp_avg, denom, value\u001b[39m=\u001b[39m\u001b[39m-\u001b[39mstep_size)\n",
      "\u001b[0;31mKeyboardInterrupt\u001b[0m: "
     ]
    }
   ],
   "source": [
    "fit(model, names, token_to_id, opt, steps=3000)"
   ]
  },
  {
   "cell_type": "markdown",
   "metadata": {},
   "source": [
    "Генератор тоже надо чуть поправить, т.к. размерности тут другие"
   ]
  },
  {
   "cell_type": "code",
   "execution_count": null,
   "metadata": {},
   "outputs": [],
   "source": [
    "def generate_sample(model, seed_phrase=' ', max_length=MAX_NAME_LENGTH, temperature=1.0):\n",
    "    '''\n",
    "    The function generates text given a phrase of length at least SEQ_LENGTH.\n",
    "    :param seed_phrase: prefix characters. The RNN is asked to continue the phrase\n",
    "    :param max_length: maximum output length, including seed_phrase\n",
    "    :param temperature: coefficient for sampling.  higher temperature produces more chaotic outputs,\n",
    "                        smaller temperature converges to the single most likely output\n",
    "    '''\n",
    "    \n",
    "    model.to(torch.device(\"cpu\"))   # модель и ее данные должны быть на одном устройстве\n",
    "    \n",
    "    x_sequence = [token_to_id[token] for token in seed_phrase]\n",
    "    x_sequence = torch.LongTensor([x_sequence])\n",
    "\n",
    "    #start generating\n",
    "    for _ in range(max_length - len(seed_phrase)):\n",
    "        logp_next = model.forward(x_sequence)\n",
    "        p_next = F.softmax(logp_next / temperature, dim=-1).data.numpy()[0, -1]\n",
    "        \n",
    "        next_ix = np.random.choice(len(tokens), p=p_next)\n",
    "        next_ix = torch.tensor([[next_ix]], dtype=torch.int64)\n",
    "        x_sequence = torch.cat([x_sequence, next_ix], dim=1)\n",
    "        \n",
    "    return ''.join([tokens[ix] for ix in x_sequence.data.numpy()[0]])"
   ]
  },
  {
   "cell_type": "code",
   "execution_count": null,
   "metadata": {},
   "outputs": [
    {
     "name": "stdout",
     "output_type": "stream",
     "text": [
      "Dedzuly n Vernmitovnev Geryakhiv Chukunov Baibesrinh Shokhanufb A'vchev Dagaluk Maretnin Milolatofn\n"
     ]
    }
   ],
   "source": [
    "\n",
    "print(*[generate_sample(model).strip() for _ in range(10)])"
   ]
  },
  {
   "cell_type": "markdown",
   "metadata": {},
   "source": [
    "# Домашнее задание: мотивационные лозунги"
   ]
  },
  {
   "cell_type": "markdown",
   "metadata": {},
   "source": [
    "# 1 слой"
   ]
  },
  {
   "cell_type": "markdown",
   "metadata": {},
   "source": [
    "Данные и словарь"
   ]
  },
  {
   "cell_type": "code",
   "execution_count": null,
   "metadata": {
    "ExecuteTime": {
     "end_time": "2019-11-05T18:21:31.570320Z",
     "start_time": "2019-11-05T18:21:31.528673Z"
    }
   },
   "outputs": [
    {
     "name": "stdout",
     "output_type": "stream",
     "text": [
      "MAX_QUOTE_LENGTH=409\n",
      "num_tokens=85\n",
      "mean_len=131.5381169639154\n",
      "std_len=73.02224087402179\n",
      "\n",
      " If you live to be a hundred, I want to live to be a hundred minus one day so I never have to live without you.\n",
      " Promise me you'll always remember: You're braver than you believe, and stronger than you seem, and smarter than you think.\n",
      " Did you ever stop to think, and forget to start again?\n",
      " Organizing is what you do before you do something, so that when you do it, it is not all mixed up.\n",
      " Weeds are flowers too, once you get to know them.\n"
     ]
    }
   ],
   "source": [
    "with open('./datasets/author_quotes.txt') as input_file:\n",
    "    quotes = input_file.read()[:-1].split('\\n')\n",
    "    quotes = [' ' + line for line in quotes]\n",
    "\n",
    "tokens = list(set(''.join(quotes)))\n",
    "token_to_id = {token: idx for idx, token in enumerate(tokens)}\n",
    "num_tokens = len(tokens)\n",
    "\n",
    "\n",
    "MAX_QUOTE_LENGTH = max(map(len, quotes))\n",
    "\n",
    "lens = np.array(list(map(len, quotes)))\n",
    "mean_len = lens.mean()\n",
    "std_len = lens.std()\n",
    "\n",
    "print(f\"{MAX_QUOTE_LENGTH=}\\n{num_tokens=}\\n{mean_len=}\\n{std_len=}\\n\", *quotes[:5], sep=\"\\n\")"
   ]
  },
  {
   "cell_type": "markdown",
   "metadata": {},
   "source": [
    "Модель и обучение (5 минут)\n",
    "\n",
    "- emb_size - размерность векторного представления последовательности (по идее должна быть больше среднего размера элемента в обучающей выборки)\n",
    "- rnn_num_units - количество ячеек в слое RNN (аналог объема памяти)"
   ]
  },
  {
   "cell_type": "code",
   "execution_count": null,
   "metadata": {},
   "outputs": [],
   "source": [
    "model_quotes = CharRNNLoop(num_tokens=num_tokens, emb_size=16, rnn_num_units=64, num_layers=1)\n",
    "opt = torch.optim.Adam(model_quotes.parameters())\n",
    "history = []\n",
    "\n",
    "# test\n",
    "batch_ix = to_matrix(sample(quotes, 16), token_to_id)\n",
    "batch_ix = torch.LongTensor(batch_ix)   # int64\n",
    "\n",
    "logp_seq = model_quotes(batch_ix)\n",
    "\n",
    "# compute loss (!!! тут были перепутаны индексы, логиты данного шага сравниваются со следующими токенами)\n",
    "loss = F.nll_loss(logp_seq[:, :-1].contiguous().view(-1, num_tokens), \n",
    "                  batch_ix[:, 1:].contiguous().view(-1))\n",
    "\n",
    "loss.backward()"
   ]
  },
  {
   "cell_type": "code",
   "execution_count": null,
   "metadata": {},
   "outputs": [
    {
     "data": {
      "image/png": "[encoded data removed]",
      "text/plain": [
       "<Figure size 432x288 with 1 Axes>"
      ]
     },
     "metadata": {
      "needs_background": "light"
     },
     "output_type": "display_data"
    }
   ],
   "source": [
    "fit(model_quotes, quotes, token_to_id, opt, steps=2000)"
   ]
  },
  {
   "cell_type": "markdown",
   "metadata": {},
   "source": [
    "- результат"
   ]
  },
  {
   "cell_type": "code",
   "execution_count": null,
   "metadata": {},
   "outputs": [
    {
     "name": "stdout",
     "output_type": "stream",
     "text": [
      "->   Whe mu, woetige that min't and to punest that scrooly? of thathig, Betle id:ime. Me dihing bothated bedyine farn dondssions. Endolk\n",
      "->   I've. Yor singly.                                                                                                                          \n",
      "->   There ibrells thit unow stashion diss: we I gruald and lomece to was. I can make just filu think Bild.                                \n",
      "->   In't then whot dies an versec tromed, sforsyop as opt litn't was o youres.                                                            \n",
      "->   I rorked the dowtry-can ane wordman my partorixo. It's a low the in unlody tha cart afpast ofbort are with. It worker in to b\n",
      "->   I do dewsowing dosting to aljuctFor much and the erligiat to I'm being and rewrent to nealline in ang samat sspreacan a bact in vase, a.\n",
      "->   I mover tive the fore couls masguideens lifutile given neurc there ame the goevel, mocative frolores cering.                               \n",
      "->   I side tind a deavid quil try difel then boop ifceenchaby of  I michoot.t yepparkthort se to one myherl kenst wome of stame thos.  \n",
      "->   The loty arusine, it ha juse for hark one's a do iste weirs ald exenatiarenthing to inboed to shisition loved wrod no prectiobze to bring t\n",
      "->   Wost love cay juat.                                                                                                  \n"
     ]
    }
   ],
   "source": [
    "for _ in range(10):\n",
    "    li = round(np.random.randn() * np.sqrt(std_len) + mean_len)\n",
    "    print('-> ', generate_sample(model_quotes, max_length=li))"
   ]
  },
  {
   "cell_type": "markdown",
   "metadata": {},
   "source": [
    "# Больше слоев"
   ]
  },
  {
   "cell_type": "code",
   "execution_count": null,
   "metadata": {},
   "outputs": [
    {
     "data": {
      "image/png": "[encoded data removed]",
      "text/plain": [
       "<Figure size 432x288 with 1 Axes>"
      ]
     },
     "metadata": {
      "needs_background": "light"
     },
     "output_type": "display_data"
    }
   ],
   "source": [
    "model_quotes2 = CharRNNLoop(num_tokens=num_tokens, emb_size=32, rnn_num_units=128, num_layers=2)\n",
    "opt = torch.optim.Adam(model_quotes2.parameters())\n",
    "history = []\n",
    "\n",
    "fit(model_quotes2, quotes, token_to_id, opt, steps=2000)"
   ]
  },
  {
   "cell_type": "code",
   "execution_count": null,
   "metadata": {},
   "outputs": [
    {
     "name": "stdout",
     "output_type": "stream",
     "text": [
      "->   The been than this own such goes great mean an - the that we don't not acchiounding a graces.                        \n",
      "->   We addient.                                                                                                                                       \n",
      "->   Jool clange your had new them't can main tomen't are son baggible that whach a writiin, And larditiv. I jook an all a sicualle midtent\n",
      "->   Gomen've to fut of by that asAgicandaliath his otherse with You're to truther: one for get Jeils.                                           \n",
      "->   Stute everyudure, and be some a are youse that's a ride to to just scational, know than Everybody withers.                             \n",
      "->   Goundia ofter anysole the was of gron you go apporce of the going to more in the right days get times with the noint wh\n",
      "->   I think, we ait's eiving to really, by hark he Vear, blay so scullard the is dewint it of always everysting mandious with it. I made throug\n",
      "->   When they paged basures read.                                                                                           \n",
      "->   Lurped epportabies to the satriets.                                                                                                 \n",
      "->   He, one's while contereas bistication it is looking it ean, and I fareled.                                                                    \n"
     ]
    }
   ],
   "source": [
    "for _ in range(10):\n",
    "    li = round(np.random.randn() * np.sqrt(std_len) + mean_len)\n",
    "    print('-> ', generate_sample(model_quotes2, max_length=li))"
   ]
  },
  {
   "cell_type": "markdown",
   "metadata": {},
   "source": [
    "# Еще больше слоев\n"
   ]
  },
  {
   "cell_type": "code",
   "execution_count": null,
   "metadata": {},
   "outputs": [
    {
     "data": {
      "image/png": "[encoded data removed]",
      "text/plain": [
       "<Figure size 432x288 with 1 Axes>"
      ]
     },
     "metadata": {
      "needs_background": "light"
     },
     "output_type": "display_data"
    }
   ],
   "source": [
    "model_quotes3 = CharRNNLoop(num_tokens=num_tokens, emb_size=64, rnn_num_units=512, num_layers=3)\n",
    "opt = torch.optim.Adam(model_quotes3.parameters())\n",
    "history = []\n",
    "\n",
    "fit(model_quotes3, quotes, token_to_id, opt, steps=1000)"
   ]
  },
  {
   "cell_type": "code",
   "execution_count": null,
   "metadata": {},
   "outputs": [
    {
     "name": "stdout",
     "output_type": "stream",
     "text": [
      "->   The most to me it is films to stereform of them tryord Aumins pocephonic worts.                                                     \n",
      "->   Our government.                                                                                                                            \n",
      "->   I prefer good trying to wish reverved.                                                                                       \n",
      "->   The answer awasts and years try to relevel next on the choos of Yor. They time as a lew their right.          \n",
      "->   Sicate abrects is novelier is the day is sends omemin - live matter of virst disegre.                                                         \n",
      "->   How work because I'm event. What I give contrums, but changes of our not kill street to repossiblling prossss. Any and people \n",
      "->   A mother when I can tell a teath Danning, prissed having ccrose., charbed light which see its perfice. Anvest something in the bess or disa\n",
      "->   There's a little where actually guncter or acceptation guids by got as a brandances. By worp us from the control and fagh fund having\n",
      "->   Every too happy with when The dnew-I can be achieve.                                                                        \n",
      "->   Whenever me some.                                                                                                              \n"
     ]
    }
   ],
   "source": [
    "for _ in range(10):\n",
    "    li = round(np.random.randn() * np.sqrt(std_len) + mean_len)\n",
    "    print('-> ', generate_sample(model_quotes3, max_length=li))"
   ]
  },
  {
   "cell_type": "markdown",
   "metadata": {},
   "source": [
    "### Что еще можно генерировать?\n",
    "С помощью кода из этого семинара можно генерировать не только имена, но и:\n",
    "\n",
    "* Повести/романы/поэзию/песни любимого автора\n",
    "* Новостные заголовки\n",
    "* Программный код\n",
    "* Молекулы в формате [smiles](https://en.wikipedia.org/wiki/Simplified_molecular-input_line-entry_system)\n",
    "* Музыку\n",
    "* Названия мебели из ИКЕА\n",
    "* Мотивационные лозунги\n",
    "* etc.\n",
    "\n",
    "__Удачи!__"
   ]
  },
  {
   "cell_type": "code",
   "execution_count": null,
   "metadata": {},
   "outputs": [],
   "source": []
  }
 ],
 "metadata": {
  "kernelspec": {
   "display_name": "Python 3",
   "language": "python",
   "name": "python3"
  },
  "language_info": {
   "codemirror_mode": {
    "name": "ipython",
    "version": 3
   },
   "file_extension": ".py",
   "mimetype": "text/x-python",
   "name": "python",
   "nbconvert_exporter": "python",
   "pygments_lexer": "ipython3",
   "version": "3.9.11"
  },
  "latex_envs": {
   "LaTeX_envs_menu_present": true,
   "autoclose": false,
   "autocomplete": true,
   "bibliofile": "biblio.bib",
   "cite_by": "apalike",
   "current_citInitial": 1,
   "eqLabelWithNumbers": true,
   "eqNumInitial": 1,
   "hotkeys": {
    "equation": "Ctrl-E",
    "itemize": "Ctrl-I"
   },
   "labels_anchors": false,
   "latex_user_defs": false,
   "report_style_numbering": false,
   "user_envs_cfg": false
  },
  "toc": {
   "base_numbering": 1,
   "nav_menu": {},
   "number_sections": true,
   "sideBar": true,
   "skip_h1_title": false,
   "title_cell": "Table of Contents",
   "title_sidebar": "Contents",
   "toc_cell": false,
   "toc_position": {},
   "toc_section_display": true,
   "toc_window_display": false
  }
 },
 "nbformat": 4,
 "nbformat_minor": 1
}
