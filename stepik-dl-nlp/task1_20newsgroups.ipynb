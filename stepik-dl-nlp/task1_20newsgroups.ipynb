{
 "cells": [
  {
   "cell_type": "markdown",
   "metadata": {},
   "source": [
    "# Тематическая классификация длинных текстов - TFIDF и LogReg"
   ]
  },
  {
   "cell_type": "code",
   "execution_count": 1,
   "metadata": {},
   "outputs": [],
   "source": [
    "# Если Вы запускаете ноутбук на colab или kaggle,\n",
    "# выполните следующие строчки, чтобы подгрузить библиотеку dlnlputils:\n",
    "\n",
    "# !git clone https://github.com/Samsung-IT-Academy/stepik-dl-nlp.git && pip install -r stepik-dl-nlp/requirements.txt\n",
    "# import sys; sys.path.append('./stepik-dl-nlp')"
   ]
  },
  {
   "cell_type": "code",
   "execution_count": 1,
   "metadata": {
    "ExecuteTime": {
     "end_time": "2019-09-12T12:42:57.265628Z",
     "start_time": "2019-09-12T12:42:55.188211Z"
    }
   },
   "outputs": [],
   "source": [
    "import warnings\n",
    "warnings.filterwarnings('ignore')\n",
    "\n",
    "import os\n",
    "import pickle\n",
    "\n",
    "from sklearn.datasets import fetch_20newsgroups\n",
    "from sklearn.metrics import accuracy_score\n",
    "\n",
    "import numpy as np\n",
    "\n",
    "import matplotlib.pyplot as plt\n",
    "%matplotlib inline\n",
    "\n",
    "import collections\n",
    "\n",
    "import torch\n",
    "from torch import nn\n",
    "from torch.nn import functional as F\n",
    "\n",
    "import dlnlputils       # самописная библиотека от авторов курса\n",
    "from dlnlputils.data import tokenize_text_simple_regex, tokenize_corpus, build_vocabulary, \\\n",
    "    vectorize_texts, SparseFeaturesDataset\n",
    "from dlnlputils.pipeline import train_eval_loop, predict_with_model, init_random_seed\n",
    "\n",
    "init_random_seed()"
   ]
  },
  {
   "cell_type": "markdown",
   "metadata": {},
   "source": [
    "\\*) на видеокарте инициализация сидов не будет приводить к одинаковым результатам..."
   ]
  },
  {
   "cell_type": "markdown",
   "metadata": {},
   "source": [
    "## Предобработка текстов и подготовка признаков\n",
    "\n",
    "Примерно 18 тысяч текстов суммарно, из них примерно две трети содержатся в обучающей выборке, а треть в — тестовой.\n",
    "\n",
    "Длина текста — это несколько предложений плюс какая-то мета-информация. \n",
    "\n",
    "Классы в этом датасете обозначаются числами от 0 до 19."
   ]
  },
  {
   "cell_type": "code",
   "execution_count": 2,
   "metadata": {
    "ExecuteTime": {
     "end_time": "2019-09-12T12:42:57.847399Z",
     "start_time": "2019-09-12T12:42:57.268037Z"
    }
   },
   "outputs": [
    {
     "name": "stdout",
     "output_type": "stream",
     "text": [
      "Количество обучающих текстов 11314\n",
      "Количество тестовых текстов 7532\n",
      "\n",
      "From: lerxst@wam.umd.edu (where's my thing)\n",
      "Subject: WHAT car is this!?\n",
      "Nntp-Posting-Host: rac3.wam.umd.edu\n",
      "Organization: University of Maryland, College Park\n",
      "Lines: 15\n",
      "\n",
      " I was wondering if anyone out there could enlighten me on this car I saw\n",
      "the other day. It was a 2-door sports car, looked to be from the late 60s/\n",
      "early 70s. It was called a Bricklin. The doors were really small. In addition,\n",
      "the front bumper was separate from the rest of the body. This is \n",
      "all I know. If anyone can tellme a model name, engine specs, years\n",
      "of production, where this car is made, history, or whatever info you\n",
      "have on this funky looking car, please e-mail.\n",
      "\n",
      "Thanks,\n",
      "- IL\n",
      "   ---- brought to you by your neighborhood Lerxst ----\n",
      "\n",
      "Метка 7\n"
     ]
    }
   ],
   "source": [
    "train_source = fetch_20newsgroups(subset='train')\n",
    "test_source = fetch_20newsgroups(subset='test')\n",
    "\n",
    "print('Количество обучающих текстов', len(train_source['data']))\n",
    "print('Количество тестовых текстов', len(test_source['data']))\n",
    "print()\n",
    "print(train_source['data'][0].strip())\n",
    "\n",
    "print()\n",
    "print('Метка', train_source['target'][0])"
   ]
  },
  {
   "cell_type": "markdown",
   "metadata": {},
   "source": [
    "### Подготовка \n",
    "\n",
    "В результате подготовки признаков мы получим две прямоугольные матрицы (из обучающей и тестовой выборок), строки которых соответствуют текстам, а столбцы — признакам.\n",
    "\n",
    "Первый шаг почти для всех задач обработки текстов — это **токенизация** — разбиение исходного текста на базовые лексические элементы, токены. Для этого используется простейшая самописная библиотека, где собраны несложные методы разбора текстов регулярками.\n",
    "\n",
    "После токенизации у нас остались только последовательности, состоящие из букв и цифр."
   ]
  },
  {
   "cell_type": "code",
   "execution_count": 3,
   "metadata": {
    "ExecuteTime": {
     "end_time": "2019-09-12T12:43:00.294422Z",
     "start_time": "2019-09-12T12:42:57.849386Z"
    }
   },
   "outputs": [
    {
     "name": "stdout",
     "output_type": "stream",
     "text": [
      "from lerxst where thing subject what this nntp posting host rac3 organization university maryland college park lines wondering anyone there could enlighten this other door sports looked from late early called bricklin doors were really small addition front bumper separate from rest body this know anyone tellme model name engine specs years production where this made history whatever info have this funky looking please mail thanks brought your neighborhood lerxst\n"
     ]
    }
   ],
   "source": [
    "train_tokenized = tokenize_corpus(train_source['data'])\n",
    "test_tokenized = tokenize_corpus(test_source['data'])\n",
    "\n",
    "print(' '.join(train_tokenized[0]))"
   ]
  },
  {
   "cell_type": "markdown",
   "metadata": {},
   "source": [
    "Создание словаря (отображение из строкового представления токена в его номер):\n",
    "- нумеруем все токены и затем в датасете строки заменяем на соответствующие им числа \n",
    "- для построения словаря мы используем только обучающую подвыборку\n",
    "- частоты мы будем хранить в словаре со значением по умолчанию\n",
    "- когда мы подсчитали частоты токенов, мы удаляем из словаря те токены, которые мы считаем неинформативными (слишком высоко- и низкочастотные по распределению Ципфа)\n",
    "- добавляем в список наших токенов фиктивный токен, причём добавляем его мы в начало. Мы делаем это для того, чтобы он получил идентификатор \"0\"\n",
    "\n",
    "С учётом фильтрации по частоте у нас получилось примерно 20 тысяч уникальных токенов — это достаточно много, на самом деле, для такого датасета"
   ]
  },
  {
   "cell_type": "code",
   "execution_count": 4,
   "metadata": {
    "ExecuteTime": {
     "end_time": "2019-09-12T12:43:00.825372Z",
     "start_time": "2019-09-12T12:43:00.297392Z"
    }
   },
   "outputs": [
    {
     "name": "stdout",
     "output_type": "stream",
     "text": [
      "Количество уникальных токенов 21628\n",
      "[('that', 0), ('this', 1), ('have', 2), ('with', 3), ('writes', 4), ('article', 5), ('posting', 6), ('host', 7), ('nntp', 8), ('there', 9)]\n"
     ]
    }
   ],
   "source": [
    "MAX_DF = 0.8        # токены, имеющиеся в >80% документов не нужны\n",
    "MIN_COUNT = 5       # токеты, встретившиеся 5 и менее раз не нужны\n",
    "vocabulary, word_doc_freq = build_vocabulary(train_tokenized, max_doc_freq=MAX_DF, min_count=MIN_COUNT)\n",
    "UNIQUE_WORDS_N = len(vocabulary)\n",
    "print('Количество уникальных токенов', UNIQUE_WORDS_N)\n",
    "print(list(vocabulary.items())[:10])"
   ]
  },
  {
   "cell_type": "markdown",
   "metadata": {},
   "source": [
    "Кроме словаря наша функция `build_vocabulary` возвращает ещё вектор весов — \"word_to_frequency\". Этот вектор содержит относительные частоты всех токенов в нашем датасете. Этот вектор нам понадобится на этапе формирования матрицы признаков. "
   ]
  },
  {
   "cell_type": "code",
   "execution_count": 5,
   "metadata": {
    "ExecuteTime": {
     "end_time": "2019-09-12T12:43:01.524600Z",
     "start_time": "2019-09-12T12:43:00.829107Z"
    }
   },
   "outputs": [
    {
     "data": {
      "image/png": "[encoded data removed]",
      "text/plain": [
       "<Figure size 432x288 with 1 Axes>"
      ]
     },
     "metadata": {
      "needs_background": "light"
     },
     "output_type": "display_data"
    }
   ],
   "source": [
    "plt.hist(word_doc_freq, bins=20)\n",
    "plt.title('Распределение относительных частот слов')\n",
    "plt.yscale('log');"
   ]
  },
  {
   "cell_type": "markdown",
   "metadata": {},
   "source": [
    "Датасет мы токенизировали, словарь построили, можно перейти и к построению матрицы признаков. Для построения матрицы признаков по методу мешка слов мы будем использовать нашу функцию `vectorize_texts`:\n",
    "\n",
    "- строим прямоугольную матрицу, в которой количество строк соответствует количеству текстов, а количество столбцов соответствует количеству уникальных токенов (счётчики: сколько каждый токен встретился в каждом документе)\n",
    "- матрица счётчиков будет крайне разреженная (можем использовать разреженные матрицы из библиотеки scipy)\n",
    "- реализуем процедуру взвешивания. По умолчанию, в этой функции реализовано 4 алгоритма взвешивания (`{'tfidf', 'idf', 'tf', 'bin'}`)\n",
    "- используем мин-макс-стандартизацию*\n",
    "- переводим нашу разреженную матрицу в формат, ориентированный на эффективную работу со строками ([CSR, Compressed Sparse Row matrix](https://docs.scipy.org/doc/scipy/reference/generated/scipy.sparse.csr_matrix.html)), потому, что алгоритмы машинного обучения, которые мы далее будем использовать, читают документы один за другим и настраивают свои веса, то есть нам нужно уметь эффективно брать отдельный документ.\n",
    "\n",
    "\n",
    "\\*) Часто используется приведение к нормальному распределению с мат.ожиданием в нуле и единичной дисперсией. Но такой подход нам здесь не подходит... Потому что у нас матрица разреженная, и если мы сдвинем эту матрицу на её мат.ожидание, то мы получим не разреженную матрицу, и, скорее всего, она у нас для нормального датасета даже в память не влезет.\n",
    "\n",
    "**Для векторизации и обучающей, и тестовой выборки, используется один и тот же набор параметров, то есть один и тот же словарь, один и тот же вектор частот и один и тот же режим векторизации.**"
   ]
  },
  {
   "cell_type": "code",
   "execution_count": 6,
   "metadata": {},
   "outputs": [],
   "source": [
    "def get_vectorized_texts(name, *args, **kwargs):\n",
    "    path_to_obj = os.getcwd() + \"/data/\" + name + \"_20news_vectorized.pkl\"\n",
    "\n",
    "    if os.path.exists(path_to_obj):\n",
    "        with open(path_to_obj, 'rb') as fp:\n",
    "            return pickle.load(fp)\n",
    "    else:\n",
    "        result = vectorize_texts(*args, **kwargs)\n",
    "        with open(path_to_obj, 'wb') as fp:\n",
    "            pickle.dump(result, fp)\n",
    "        return result"
   ]
  },
  {
   "cell_type": "code",
   "execution_count": 7,
   "metadata": {
    "ExecuteTime": {
     "end_time": "2019-09-12T12:44:16.094816Z",
     "start_time": "2019-09-12T12:43:01.526554Z"
    }
   },
   "outputs": [
    {
     "name": "stdout",
     "output_type": "stream",
     "text": [
      "Размерность матрицы признаков обучающей выборки (11314, 21628)\n",
      "Размерность матрицы признаков тестовой выборки (7532, 21628)\n",
      "\n",
      "Количество ненулевых элементов в обучающей выборке 1126792\n",
      "Процент заполненности матрицы признаков 0.46%\n",
      "\n",
      "Количество ненулевых элементов в тестовой выборке 721529\n",
      "Процент заполненности матрицы признаков 0.44%\n"
     ]
    }
   ],
   "source": [
    "VECTORIZATION_MODE = 'tfidf'\n",
    "train_vectors = get_vectorized_texts(\"train\", train_tokenized, vocabulary, word_doc_freq, mode=VECTORIZATION_MODE)\n",
    "test_vectors = get_vectorized_texts(\"test\", test_tokenized, vocabulary, word_doc_freq, mode=VECTORIZATION_MODE)\n",
    "\n",
    "print('Размерность матрицы признаков обучающей выборки', train_vectors.shape)\n",
    "print('Размерность матрицы признаков тестовой выборки', test_vectors.shape)\n",
    "print()\n",
    "print('Количество ненулевых элементов в обучающей выборке', train_vectors.nnz)\n",
    "print('Процент заполненности матрицы признаков {:.2f}%'.format(train_vectors.nnz * 100 / (train_vectors.shape[0] * train_vectors.shape[1])))\n",
    "print()\n",
    "print('Количество ненулевых элементов в тестовой выборке', test_vectors.nnz)\n",
    "print('Процент заполненности матрицы признаков {:.2f}%'.format(test_vectors.nnz * 100 / (test_vectors.shape[0] * test_vectors.shape[1])))"
   ]
  },
  {
   "cell_type": "code",
   "execution_count": 8,
   "metadata": {
    "ExecuteTime": {
     "end_time": "2019-09-12T12:44:16.857114Z",
     "start_time": "2019-09-12T12:44:16.098773Z"
    }
   },
   "outputs": [
    {
     "data": {
      "image/png": "[encoded data removed]",
      "text/plain": [
       "<Figure size 432x288 with 1 Axes>"
      ]
     },
     "metadata": {
      "needs_background": "light"
     },
     "output_type": "display_data"
    }
   ],
   "source": [
    "plt.hist(train_vectors.data, bins=20)\n",
    "plt.title('Распределение весов признаков')\n",
    "plt.yscale('log');"
   ]
  },
  {
   "cell_type": "markdown",
   "metadata": {},
   "source": [
    "### Распределение классов\n",
    "\n",
    "У нас всего 20 классов — классы распределены практически равномерно в обучающей выборке (мы можем смело использовать accuracy (или долю правильных предсказаний) как рабочую метрику). Если бы распределение классов было скошенным, эта метрика было бы уже неподходящей, она бы давала сильно завышенные оценки."
   ]
  },
  {
   "cell_type": "code",
   "execution_count": 9,
   "metadata": {
    "ExecuteTime": {
     "end_time": "2019-09-12T12:44:16.864960Z",
     "start_time": "2019-09-12T12:44:16.859476Z"
    }
   },
   "outputs": [
    {
     "name": "stdout",
     "output_type": "stream",
     "text": [
      "Количество уникальных меток 20\n"
     ]
    }
   ],
   "source": [
    "UNIQUE_LABELS_N = len(set(train_source['target']))\n",
    "print('Количество уникальных меток', UNIQUE_LABELS_N)"
   ]
  },
  {
   "cell_type": "code",
   "execution_count": 10,
   "metadata": {
    "ExecuteTime": {
     "end_time": "2019-09-12T12:44:17.106036Z",
     "start_time": "2019-09-12T12:44:16.867310Z"
    }
   },
   "outputs": [
    {
     "data": {
      "image/png": "[encoded data removed]",
      "text/plain": [
       "<Figure size 432x288 with 1 Axes>"
      ]
     },
     "metadata": {
      "needs_background": "light"
     },
     "output_type": "display_data"
    }
   ],
   "source": [
    "plt.hist(train_source['target'], bins=np.arange(0, 21))\n",
    "plt.title('Распределение меток в обучающей выборке');"
   ]
  },
  {
   "cell_type": "code",
   "execution_count": 11,
   "metadata": {
    "ExecuteTime": {
     "end_time": "2019-09-12T12:44:17.312198Z",
     "start_time": "2019-09-12T12:44:17.109884Z"
    },
    "scrolled": true
   },
   "outputs": [
    {
     "data": {
      "image/png": "[encoded data removed]",
      "text/plain": [
       "<Figure size 432x288 with 1 Axes>"
      ]
     },
     "metadata": {
      "needs_background": "light"
     },
     "output_type": "display_data"
    }
   ],
   "source": [
    "plt.hist(test_source['target'], bins=np.arange(0, 21))\n",
    "plt.title('Распределение меток в тестовой выборке');"
   ]
  },
  {
   "cell_type": "markdown",
   "metadata": {},
   "source": [
    "### PyTorch Dataset\n",
    "\n",
    "Обернём наши матрицы признаков в \"Dataset\" — это специальная идиома в pytorch, которая призвана повысить удобство подключения различных датасетов, которые могут подгружаться с жёсткого диска, из памяти; загружаться сразу все — в память, или читаться по чуть-чуть... \n",
    "\n",
    "Особенность в том, что \"features\" — это разреженная матрица, а `pytorch` НЕ умеет работать с разреженными матрицами\n",
    "\n",
    "Здесь мы используем `SparseFeaturesDataset`. Он описан в наши библиотечке - это очень простой класс, который принимает на вход в конструктор две матрицы — это матрица признаков, которая разрежена, и матрица меток:\n",
    "\n",
    "- храним весь dataset в разреженном виде, но, когда нам нужно выбрать один пример из датасета, мы выбираем только его из разреженной матрицы, конвертируем в плотное представление и заворачиваем в `torch.Tensor` \n",
    "- аналогично поступаем и с метками\n",
    "- метод \"len\" должен возвращать длину датасета, то есть количество примеров в нём \n",
    "- метод \"get item\" должен возвращать один обучающий пример, то есть, в случае нашего семинара — это вектор признаков и метка\n"
   ]
  },
  {
   "cell_type": "code",
   "execution_count": 12,
   "metadata": {
    "ExecuteTime": {
     "end_time": "2019-09-12T12:44:17.319292Z",
     "start_time": "2019-09-12T12:44:17.315074Z"
    }
   },
   "outputs": [],
   "source": [
    "train_dataset = SparseFeaturesDataset(train_vectors, train_source['target'])\n",
    "test_dataset = SparseFeaturesDataset(test_vectors, test_source['target'])"
   ]
  },
  {
   "cell_type": "markdown",
   "metadata": {},
   "source": [
    "## Обучение модели на PyTorch\n",
    "\n",
    "Наша модель — это **логистическая регрессия** (т.е. линейная регрессия, выход который сжимается в диапазон от нуля до единицы с помощью логистической функции - сигмоиды). \n",
    "\n",
    "Т.о. сама модель состоит всего лишь из одного слоя — это линейный слой, у которого количество входов соответствует количеству уникальных токенов, то есть размеру словаря, и количество выходов соответствует количеству меток в датасете. \n",
    "\n",
    "Эту нашу модель мы обучаем с помощью САМОПИСНОЙ функции `train_eval_loop`, которая реализует цикл обучения нейросети. Это функция общего назначения, сюда можно подавать модели не только для классификации, не только текстов, в ней реализованы некоторые стандартные фишки, которые используются при обучении нейросетей.\n",
    "\n",
    "- принимает целую кучу параметров, но среди этих параметров есть четыре главных: \n",
    "    - экземпляр модели\n",
    "    - обучающий датасет\n",
    "    - валидационный датасет \n",
    "    - функция потерь\n",
    "\n",
    "Порядок работы `train_eval_loop`:\n",
    "\n",
    "- переносим нашу модель на то устройство, на котором мы будем производить вычисления (CPU / GPU) \n",
    "- создаём оптимизатор, то есть — говорим, как именно мы должны делать градиентный шаг на каждой итерации \n",
    "- опционально, настраиваем расписание изменения скорости обучения (переменный шаг градиентного спуска — это часто хорошая идея, которая приводит к получению лучших значений метрик и функции потерь) \n",
    "- берём Dataset-ы, которые умеют возвращать обучающий пример по индексу (как мы только что рассмотрели), и передаём эти \"Dataset\" в \"DataLoader\" — это объект из `pytorch`, который умеет в многопоточном режиме собирать батчи примеров (цель - всегда загружать видеокарты на 100%)\n",
    "- определяем набор переменных, которые позволят нам, в ходе обучения, выбрать лучшую модель \n",
    "    - процесс обучения — стохастический, и модель может как улучшаться в ходе обучения, так и ухудшаться, и не всегда нужно брать последнюю модель \n",
    "    - хорошая практика для выбора лучшей модели в процессе обучения заключается в том, чтобы иметь отложенную выборку, состоящую из некоторого количества примеров, не входящих в обучающих выборку. И, после некоторого количества шагов по обучающей выборке, оценивать качество модели на валидационной выборке (то есть на этой отложенной выборке) и сравнивать качество моделей именно по значениям метрик, вычисленных на отложенной выборке. \n",
    "\n",
    "- начинается цикл обучения - состоит из нескольких эпох*, включающих:\n",
    "- цикл, реализующий одну эпоху обучения \n",
    "    - заданное количество градиентных шагов по обучающей выборке, на каждом шаге мы берём батч примеров — DataLoader нам возвращает уже не отдельные примеры, а целые пачки примеров\n",
    "    - переменная \"batch_x\" — это прямоугольная матрица, в которой количество строк равно количеству примеров в батче, то есть размеру батча, а количество столбцов — это количество признаков\n",
    "    - копируем данные на то же, устройство на котором была и модель, выполняем прямой проход по модели, получаем предсказания\n",
    "    - находим значение критерия (то есть значение функции потерь)\n",
    "    - очищаем оценки градиента с предыдущего шага, находим новое значение градиентов, и делаем градиентный шаг\n",
    "    - запоминаем среднее значение функции потерь на эпохе. Это полезно для **мониторинга процесса обучения**\n",
    "    \n",
    "\\*) Эпоха, в данном случае, носит условный характер — это некоторое количество градиентных шагов. Не обязательно эпоха — это полный проход по датасету. Наша эпоха начинается с того, что мы переводим модель в режим обучения.\n",
    "\n",
    "*Geforce 760GTX (3 сек./эпоха) примерно в 4-5 раз быстрее CPU i5-4440 (14 сек./эпоха)*"
   ]
  },
  {
   "cell_type": "code",
   "execution_count": 13,
   "metadata": {
    "ExecuteTime": {
     "end_time": "2019-09-12T12:46:22.371272Z",
     "start_time": "2019-09-12T12:44:17.322178Z"
    },
    "scrolled": false
   },
   "outputs": [
    {
     "name": "stdout",
     "output_type": "stream",
     "text": [
      "Эпоха 0\n",
      "Эпоха: 354 итераций, 3.79 сек\n",
      "Среднее значение функции потерь на обучении 2.2252567908858176\n",
      "Среднее значение функции потерь на валидации 2.113699447805599\n",
      "Новая лучшая модель!\n",
      "\n",
      "Эпоха 1\n",
      "Эпоха: 354 итераций, 3.19 сек\n",
      "Среднее значение функции потерь на обучении 0.9165917320103295\n",
      "Среднее значение функции потерь на валидации 1.6821936944783744\n",
      "Новая лучшая модель!\n",
      "\n",
      "Эпоха 2\n",
      "Эпоха: 354 итераций, 3.38 сек\n",
      "Среднее значение функции потерь на обучении 0.46601735728945437\n",
      "Среднее значение функции потерь на валидации 1.4643886998548346\n",
      "Новая лучшая модель!\n",
      "\n",
      "Эпоха 3\n",
      "Эпоха: 354 итераций, 3.11 сек\n",
      "Среднее значение функции потерь на обучении 0.28363620691885383\n",
      "Среднее значение функции потерь на валидации 1.3450367127434681\n",
      "Новая лучшая модель!\n",
      "\n",
      "Эпоха 4\n",
      "Эпоха: 354 итераций, 3.23 сек\n",
      "Среднее значение функции потерь на обучении 0.19072449459867963\n",
      "Среднее значение функции потерь на валидации 1.2602410271006115\n",
      "Новая лучшая модель!\n",
      "\n",
      "Эпоха 5\n",
      "Эпоха: 354 итераций, 3.06 сек\n",
      "Среднее значение функции потерь на обучении 0.13643478652683355\n",
      "Среднее значение функции потерь на валидации 1.2005355231842751\n",
      "Новая лучшая модель!\n",
      "\n",
      "Эпоха 6\n",
      "Эпоха: 354 итераций, 3.15 сек\n",
      "Среднее значение функции потерь на обучении 0.10175166213832333\n",
      "Среднее значение функции потерь на валидации 1.154382390491033\n",
      "Новая лучшая модель!\n",
      "\n",
      "Эпоха 7\n",
      "Эпоха: 354 итераций, 2.95 сек\n",
      "Среднее значение функции потерь на обучении 0.07793643180870236\n",
      "Среднее значение функции потерь на валидации 1.1209708641646272\n",
      "Новая лучшая модель!\n",
      "\n",
      "Эпоха 8\n",
      "Эпоха: 354 итераций, 2.94 сек\n",
      "Среднее значение функции потерь на обучении 0.06176978719583844\n",
      "Среднее значение функции потерь на валидации 1.0886679420531806\n",
      "Новая лучшая модель!\n",
      "\n",
      "Эпоха 9\n",
      "Эпоха: 354 итераций, 2.89 сек\n",
      "Среднее значение функции потерь на обучении 0.049217752096806205\n",
      "Среднее значение функции потерь на валидации 1.0575781093310501\n",
      "Новая лучшая модель!\n",
      "\n",
      "Эпоха 10\n",
      "Эпоха: 354 итераций, 2.87 сек\n",
      "Среднее значение функции потерь на обучении 0.040086780887854806\n",
      "Среднее значение функции потерь на валидации 1.0522272642386161\n",
      "Новая лучшая модель!\n",
      "\n",
      "Эпоха 11\n",
      "Эпоха: 354 итераций, 2.84 сек\n",
      "Среднее значение функции потерь на обучении 0.033054498271585186\n",
      "Среднее значение функции потерь на валидации 1.0252127043776593\n",
      "Новая лучшая модель!\n",
      "\n",
      "Эпоха 12\n",
      "Эпоха: 354 итераций, 2.83 сек\n",
      "Среднее значение функции потерь на обучении 0.027422093115431274\n",
      "Среднее значение функции потерь на валидации 1.0233973603127366\n",
      "Новая лучшая модель!\n",
      "\n",
      "Эпоха 13\n",
      "Эпоха: 354 итераций, 2.87 сек\n",
      "Среднее значение функции потерь на обучении 0.02306580696370726\n",
      "Среднее значение функции потерь на валидации 1.0005421087903492\n",
      "Новая лучшая модель!\n",
      "\n",
      "Эпоха 14\n",
      "Эпоха: 354 итераций, 2.92 сек\n",
      "Среднее значение функции потерь на обучении 0.019530132435272726\n",
      "Среднее значение функции потерь на валидации 0.9915608245942552\n",
      "Новая лучшая модель!\n",
      "\n",
      "Эпоха 15\n",
      "Эпоха: 354 итераций, 2.86 сек\n",
      "Среднее значение функции потерь на обучении 0.016497745108922237\n",
      "Среднее значение функции потерь на валидации 0.9758768220574169\n",
      "Новая лучшая модель!\n",
      "\n",
      "Эпоха 16\n",
      "Эпоха: 354 итераций, 2.83 сек\n",
      "Среднее значение функции потерь на обучении 0.013959736680996072\n",
      "Среднее значение функции потерь на валидации 0.9762127609071085\n",
      "\n",
      "Эпоха 17\n",
      "Эпоха: 354 итераций, 2.90 сек\n",
      "Среднее значение функции потерь на обучении 0.012367763126724121\n",
      "Среднее значение функции потерь на валидации 0.9614301899732169\n",
      "Новая лучшая модель!\n",
      "\n",
      "Эпоха 18\n",
      "Эпоха: 354 итераций, 2.84 сек\n",
      "Среднее значение функции потерь на обучении 0.01055141772988047\n",
      "Среднее значение функции потерь на валидации 0.953693501272444\n",
      "Новая лучшая модель!\n",
      "\n",
      "Эпоха 19\n",
      "Эпоха: 354 итераций, 2.88 сек\n",
      "Среднее значение функции потерь на обучении 0.009276748799303241\n",
      "Среднее значение функции потерь на валидации 0.9553875873907137\n",
      "\n",
      "Эпоха 20\n",
      "Эпоха: 354 итераций, 2.85 сек\n",
      "Среднее значение функции потерь на обучении 0.008060228267005818\n",
      "Среднее значение функции потерь на валидации 0.9670810795436471\n",
      "\n",
      "Эпоха 21\n",
      "Эпоха: 354 итераций, 2.86 сек\n",
      "Среднее значение функции потерь на обучении 0.007328638883891626\n",
      "Среднее значение функции потерь на валидации 0.9403597160668696\n",
      "Новая лучшая модель!\n",
      "\n",
      "Эпоха 22\n",
      "Эпоха: 354 итераций, 2.88 сек\n",
      "Среднее значение функции потерь на обучении 0.006772735545156513\n",
      "Среднее значение функции потерь на валидации 0.9329077365287279\n",
      "Новая лучшая модель!\n",
      "\n",
      "Эпоха 23\n",
      "Эпоха: 354 итераций, 2.86 сек\n",
      "Среднее значение функции потерь на обучении 0.005589817580569662\n",
      "Среднее значение функции потерь на валидации 0.9329817854499413\n",
      "\n",
      "Эпоха 24\n",
      "Эпоха: 354 итераций, 2.89 сек\n",
      "Среднее значение функции потерь на обучении 0.0052566111611010305\n",
      "Среднее значение функции потерь на валидации 0.9690112267005242\n",
      "\n",
      "Эпоха 25\n",
      "Эпоха: 354 итераций, 2.94 сек\n",
      "Среднее значение функции потерь на обучении 0.004769204510803371\n",
      "Среднее значение функции потерь на валидации 0.9437598108740176\n",
      "\n",
      "Эпоха 26\n",
      "Эпоха: 354 итераций, 2.91 сек\n",
      "Среднее значение функции потерь на обучении 0.004408715462994809\n",
      "Среднее значение функции потерь на валидации 0.9343394120618448\n",
      "\n",
      "Эпоха 27\n",
      "Эпоха: 354 итераций, 3.04 сек\n",
      "Среднее значение функции потерь на обучении 0.004121565064816541\n",
      "Среднее значение функции потерь на валидации 0.9609657656085693\n",
      "\n",
      "Эпоха 28\n",
      "Эпоха: 354 итераций, 3.23 сек\n",
      "Среднее значение функции потерь на обучении 0.0041649071825273585\n",
      "Среднее значение функции потерь на валидации 0.9498733855405096\n",
      "Epoch    29: reducing learning rate of group 0 to 5.0000e-02.\n",
      "\n",
      "Эпоха 29\n",
      "Эпоха: 354 итераций, 3.25 сек\n",
      "Среднее значение функции потерь на обучении 0.0032320495637819056\n",
      "Среднее значение функции потерь на валидации 0.9344273266398301\n",
      "\n",
      "Эпоха 30\n",
      "Эпоха: 354 итераций, 2.97 сек\n",
      "Среднее значение функции потерь на обучении 0.002957672628542503\n",
      "Среднее значение функции потерь на валидации 0.9425019538503582\n",
      "\n",
      "Эпоха 31\n",
      "Эпоха: 354 итераций, 3.28 сек\n",
      "Среднее значение функции потерь на обучении 0.0028751809854556326\n",
      "Среднее значение функции потерь на валидации 0.9348612670171059\n",
      "\n",
      "Эпоха 32\n",
      "Эпоха: 354 итераций, 3.26 сек\n",
      "Среднее значение функции потерь на обучении 0.002601808519102633\n",
      "Среднее значение функции потерь на валидации 0.9306303299332069\n",
      "Новая лучшая модель!\n",
      "\n",
      "Эпоха 33\n",
      "Эпоха: 354 итераций, 3.25 сек\n",
      "Среднее значение функции потерь на обучении 0.002713249549059208\n",
      "Среднее значение функции потерь на валидации 0.9447256854530108\n",
      "\n",
      "Эпоха 34\n",
      "Эпоха: 354 итераций, 3.20 сек\n",
      "Среднее значение функции потерь на обучении 0.002534757855056922\n",
      "Среднее значение функции потерь на валидации 0.9425583542403528\n",
      "\n",
      "Эпоха 35\n",
      "Эпоха: 354 итераций, 3.22 сек\n",
      "Среднее значение функции потерь на обучении 0.002610650506067237\n",
      "Среднее значение функции потерь на валидации 0.9399352367904227\n",
      "\n",
      "Эпоха 36\n",
      "Эпоха: 354 итераций, 3.05 сек\n",
      "Среднее значение функции потерь на обучении 0.0024109303134958533\n",
      "Среднее значение функции потерь на валидации 0.9386613392981432\n",
      "\n",
      "Эпоха 37\n",
      "Эпоха: 354 итераций, 3.26 сек\n",
      "Среднее значение функции потерь на обучении 0.0023538259098994925\n",
      "Среднее значение функции потерь на валидации 0.9419014562489623\n",
      "\n",
      "Эпоха 38\n",
      "Эпоха: 354 итераций, 3.16 сек\n",
      "Среднее значение функции потерь на обучении 0.0023111243744441284\n",
      "Среднее значение функции потерь на валидации 0.9422714688767821\n",
      "Epoch    39: reducing learning rate of group 0 to 2.5000e-02.\n",
      "\n",
      "Эпоха 39\n",
      "Эпоха: 354 итераций, 3.09 сек\n",
      "Среднее значение функции потерь на обучении 0.0019421875612901677\n",
      "Среднее значение функции потерь на валидации 0.9435697473206762\n",
      "\n",
      "Эпоха 40\n",
      "Эпоха: 354 итераций, 3.11 сек\n",
      "Среднее значение функции потерь на обучении 0.0018815696267013196\n",
      "Среднее значение функции потерь на валидации 0.9396212088354563\n",
      "\n",
      "Эпоха 41\n",
      "Эпоха: 354 итераций, 3.08 сек\n",
      "Среднее значение функции потерь на обучении 0.0018609639291393724\n",
      "Среднее значение функции потерь на валидации 0.9446353304941776\n",
      "\n",
      "Эпоха 42\n",
      "Эпоха: 354 итераций, 3.14 сек\n",
      "Среднее значение функции потерь на обучении 0.0018222656524884855\n",
      "Среднее значение функции потерь на валидации 0.9422192992800373\n",
      "\n",
      "Эпоха 43\n",
      "Эпоха: 354 итераций, 3.06 сек\n",
      "Среднее значение функции потерь на обучении 0.001788782024487069\n",
      "Среднее значение функции потерь на валидации 0.9431632204075991\n",
      "Модель не улучшилась за последние 10 эпох, прекращаем обучение\n"
     ]
    }
   ],
   "source": [
    "model = nn.Linear(UNIQUE_WORDS_N, UNIQUE_LABELS_N)\n",
    "\n",
    "scheduler = lambda optim: \\\n",
    "    torch.optim.lr_scheduler.ReduceLROnPlateau(optim, patience=5, factor=0.5, verbose=True)\n",
    "\n",
    "best_val_loss, best_model = train_eval_loop(model=model,\n",
    "                                            train_dataset=train_dataset,\n",
    "                                            val_dataset=test_dataset,\n",
    "                                            criterion=F.cross_entropy,\n",
    "                                            lr=1e-1,\n",
    "                                            epoch_n=200,\n",
    "                                            batch_size=32,\n",
    "                                            l2_reg_alpha=0,\n",
    "                                            lr_scheduler_ctor=scheduler)"
   ]
  },
  {
   "cell_type": "markdown",
   "metadata": {},
   "source": [
    "По **характеру изменения функции потерь** от эпохи к эпохе мы иногда можем понять, что не так с процессом обучения, мы можем увидеть, что модель вообще не сходится или — она очень быстро достигает определённой точки и дальше не учится, или значение функции потерь изменяется практически случайно, с большой дисперсией. Это важный диагностический показатель, поэтому мы выводим резюме по каждой эпохе. \n",
    "\n",
    "Для этого в той же самописной `train_eval_loop`:\n",
    "1. переводим модель в режим \"eval\" (то есть, в режим предсказания) и объявляем переменные для оценки среднего значения функции потерь на отложенной выборке\n",
    "2. повторяем практически те же самые действия, что и делали при обучении, но не делаем сам градиентный шаг — мы только получаем предсказание модели и оцениваем значение функции потерь\n",
    "    - важный момент, который позволит сэкономить память на видеокарте — это включить режим \"torch no_grad\". Когда этот режим включён, pytorch не сохраняет промежуточные данные, необходимые для вычисления градиентов\n",
    "3. сравниваем среднее значение функции потерь на валидации на последней эпохе и лучшее значение функции потерь, полученное аналогичным образом на предыдущих эпохах, и если новое среднее значение функции потерь — лучше, то мы сохраняем текущий вариант модели\n",
    "    - делаем это с помощью стандартной функции `copy.deepcopy()`\n",
    "    - если улучшить значение функции потерь на отложенной выборке после этой эпохи не получилось, то мы проверяем — а как давно у нас вообще получалось улучшить модель, если давно (по умолчанию 10 эпох) - то конец обучения\n",
    "    - если пользователь задал расписание изменения скорости обучения, то мы обновляем скорость обучения с учётом нового значения функции потерь\n",
    "\n",
    "Тело этого цикла мы обернули в `try-except` и добавили обработку двух видов исключений. Первое — это \"interrupt\", то есть — чтобы пользователь мог досрочно остановить обучение, нажав \"Ctrl-C\" в Jupyter ноутбуке. И второй обработчик ловит вообще все исключения и печатает их в удобоваримой виде.\n",
    "\n",
    "**Return**\n",
    "\n",
    "`train_eval_loop` возвращает 2 объекта:\n",
    "- лучшее значение функции потерь \n",
    "- модель с лучшими весами"
   ]
  },
  {
   "cell_type": "markdown",
   "metadata": {},
   "source": [
    "Полезные детали реализации основного цикла обучения:\n",
    "\n",
    "1. Изменение шага градиентного спуска:\n",
    "    - менять длину градиентного шага (увеличить) тогда, когда в течение пяти эпох значение функции потерь на валидации не улучшилось\n",
    "2. Функцию потерь мы используем CrossEntropy из pytorch\n",
    "    - позволяет нам убрать сигмоиду из самой модели и сделать процесс вычислений чуть более численно стабильным, то есть избежать слишком больших чисел или слишком маленьких. Это должно положительно сказаться на точности вычислений. *В данном конкретном случае это не требуется, просто хорошая практика*\n",
    "\n",
    "3. Вычисления ограничены: 200 проходов по датасету, то есть 200 эпох, размер батча 32\n",
    "    - на 28 и 38 эпохах уменьшается шаг обучения\n",
    "    - на 43 эпохе пришли к тому, что 10 последних эпох изменение функции потерь меньше порога и обучения закончено.\n",
    "    - данные цифры варьируются в небольших пределах в зависимости от сидов (+/-5-10 эпох)"
   ]
  },
  {
   "cell_type": "markdown",
   "metadata": {},
   "source": [
    "## Оценка качества\n",
    "\n",
    "Для удобства написали специальную функцию `predict_with_model`:\n",
    "\n",
    "- принимает на вход модель, датасет, идентификатор устройства (на котором необходимо производить вычисления), размер батча\n",
    "- в цикле, идёт по этому датасету, применяет модель и сохраняет результаты в список, а потом этот список преобразовывает в матрицу\n",
    "- на выходе у нас получается матрица, в которой количество строк соответствует количеству элементов в нашем датасете (количеству примеров в нашем датасете), а количество столбцов соответствует количеству классов\n",
    "- вычисляем значение функции потерь на обучающей выборке, а также оцениваем \"accuracy\", то есть долю верных ответов"
   ]
  },
  {
   "cell_type": "code",
   "execution_count": 14,
   "metadata": {
    "ExecuteTime": {
     "end_time": "2019-09-12T12:46:25.105663Z",
     "start_time": "2019-09-12T12:46:22.373012Z"
    }
   },
   "outputs": [
    {
     "name": "stderr",
     "output_type": "stream",
     "text": [
      "100%|██████████| 354/353.5625 [00:02<00:00, 123.50it/s]\n"
     ]
    },
    {
     "name": "stdout",
     "output_type": "stream",
     "text": [
      "Среднее значение функции потерь на обучении 0.0022322197910398245\n",
      "Доля верных ответов 0.9994696835778681\n",
      "\n"
     ]
    },
    {
     "name": "stderr",
     "output_type": "stream",
     "text": [
      "236it [00:01, 124.94it/s]                             \n"
     ]
    },
    {
     "name": "stdout",
     "output_type": "stream",
     "text": [
      "Среднее значение функции потерь на валидации 0.9289424419403076\n",
      "Доля верных ответов 0.76805629314923\n"
     ]
    }
   ],
   "source": [
    "train_pred = predict_with_model(best_model, train_dataset)\n",
    "\n",
    "train_loss = F.cross_entropy(torch.from_numpy(train_pred),\n",
    "                             torch.from_numpy(train_source['target']).long())\n",
    "\n",
    "print('Среднее значение функции потерь на обучении', float(train_loss))\n",
    "print('Доля верных ответов', accuracy_score(train_source['target'], train_pred.argmax(-1)))\n",
    "print()\n",
    "\n",
    "\n",
    "\n",
    "test_pred = predict_with_model(best_model, test_dataset)\n",
    "\n",
    "test_loss = F.cross_entropy(torch.from_numpy(test_pred),\n",
    "                            torch.from_numpy(test_source['target']).long())\n",
    "\n",
    "print('Среднее значение функции потерь на валидации', float(test_loss))\n",
    "print('Доля верных ответов', accuracy_score(test_source['target'], test_pred.argmax(-1)))"
   ]
  },
  {
   "cell_type": "markdown",
   "metadata": {},
   "source": [
    "**Что мы видим** \n",
    "\n",
    "\n",
    "- Модель очень хорошо работает на обучающей выборке и гораздо хуже - на валидационной.\n",
    "- Модель выделила случайные закономерности, не существующие в процессах реального мира, породивших обучающую выборку.\n",
    "\n",
    "Обучающую выборку модель практически запомнила — она идеально работает на обучающей выборке. Но на валидационной выборке она даёт верные ответы только в 77% случаев. Значение функции потерь на обучении — порядка нескольких тысячных, а на валидации — почти 1, то есть, значение функции потерь на валидации на два порядка больше, чем значение функции потерь на обучении. Это верный сигнал к тому, что наша модель **переобучилась**. Но даже, несмотря на такое сильное переобучение, в целом, доля верных ответов не такая плохая."
   ]
  },
  {
   "cell_type": "markdown",
   "metadata": {},
   "source": [
    "# Альтернативная реализация на scikit-learn\n",
    "\n",
    "Все вышеприведенное реализуется сайкит-слёрмом в 5 строчек.\n",
    "\n",
    "- задаём параметры алгоритма векторизации текстов\n",
    "- указываем токенизатор\n",
    "- задаём те же параметры для фильтрации токенов по частоте\n",
    "- говорим, что мы будем использовать логистическую регрессию \n",
    "- обучаем"
   ]
  },
  {
   "cell_type": "code",
   "execution_count": 15,
   "metadata": {
    "ExecuteTime": {
     "end_time": "2019-09-12T12:46:31.791405Z",
     "start_time": "2019-09-12T12:46:25.107897Z"
    },
    "scrolled": false
   },
   "outputs": [],
   "source": [
    "from sklearn.feature_extraction.text import TfidfVectorizer\n",
    "from sklearn.pipeline import Pipeline\n",
    "from sklearn.linear_model import LogisticRegression\n",
    "\n",
    "sklearn_pipeline = Pipeline((('vect', TfidfVectorizer(tokenizer=tokenize_text_simple_regex,\n",
    "                                                      max_df=MAX_DF,\n",
    "                                                      min_df=MIN_COUNT)),\n",
    "                             ('cls', LogisticRegression())))\n",
    "sklearn_pipeline.fit(train_source['data'], train_source['target']);"
   ]
  },
  {
   "cell_type": "markdown",
   "metadata": {},
   "source": [
    "## Оценка качества"
   ]
  },
  {
   "cell_type": "code",
   "execution_count": 16,
   "metadata": {
    "ExecuteTime": {
     "end_time": "2019-09-12T12:46:35.454567Z",
     "start_time": "2019-09-12T12:46:31.792832Z"
    }
   },
   "outputs": [
    {
     "name": "stdout",
     "output_type": "stream",
     "text": [
      "Среднее значение функции потерь на обучении 2.4954788918582493\n",
      "Доля верных ответов 0.9716280714159449\n",
      "\n",
      "Среднее значение функции потерь на валидации 2.6539022582340466\n",
      "Доля верных ответов 0.8190387679235263\n"
     ]
    }
   ],
   "source": [
    "sklearn_train_pred = sklearn_pipeline.predict_proba(train_source['data'])\n",
    "sklearn_train_loss = F.cross_entropy(torch.from_numpy(sklearn_train_pred),\n",
    "                                                 torch.from_numpy(train_source['target']))\n",
    "print('Среднее значение функции потерь на обучении', float(sklearn_train_loss))\n",
    "print('Доля верных ответов', accuracy_score(train_source['target'], sklearn_train_pred.argmax(-1)))\n",
    "print()\n",
    "\n",
    "sklearn_test_pred = sklearn_pipeline.predict_proba(test_source['data'])\n",
    "sklearn_test_loss = F.cross_entropy(torch.from_numpy(sklearn_test_pred),\n",
    "                                                torch.from_numpy(test_source['target']))\n",
    "print('Среднее значение функции потерь на валидации', float(sklearn_test_loss))\n",
    "print('Доля верных ответов', accuracy_score(test_source['target'], sklearn_test_pred.argmax(-1)))"
   ]
  },
  {
   "cell_type": "markdown",
   "metadata": {},
   "source": [
    "- Доля верных ответов на обучающей выборке — поменьше, то есть наша реализация давала accuracy 0.99, реализация scikit-learn даёт 0.96\n",
    "- На валидации, реализация scikit-learn работает лучше на 4%\n",
    "- Об этом же говорит и гораздо меньший разброс значения функции потерь"
   ]
  },
  {
   "cell_type": "markdown",
   "metadata": {},
   "source": [
    "# Выводы\n",
    "\n",
    "- познакомились с одной из самых базовых моделей текста — **методом мешка слов**, а также, с одной из базовых моделей машинного обучения — **логистической регрессией**\n",
    "\n",
    "- рассмотрели все этапы подготовки текстов для того, чтобы подавать их в **нейросети**\n",
    "\n",
    "- рассмотрели некоторые универсальные компоненты, которые можно использовать для разных задач — не только для тематической классификации и даже не только для текстов:\n",
    "\n",
    "    - токенизацию, \n",
    "    - построение словаря, \n",
    "    - фильтрацию словаря, \n",
    "    - построение матрицы, \n",
    "    - использование pytorch Dataset, \n",
    "    - основной цикл обучения и валидации, \n",
    "    - выбор лучшей модели в процессе обучения, \n",
    "    - оценку качества"
   ]
  },
  {
   "cell_type": "markdown",
   "metadata": {},
   "source": [
    "# До.за.\n",
    "\n",
    "Предлагаем Вам поэкспериментировать с кодом этого семинара, чтобы попробовать улучшить качество на отложенной выборке. Что можно попробовать сделать:\n",
    "\n",
    "    - изменить способ взвешивания признаков\n",
    "    - реализовать взвешивание признаков с помощью точечной взаимной информации (PMI)\n",
    "    - изменить способ стандартизации данных (см. начиная с 4:25 на шаге 6), например, запоминая сдвиг и масштаб с обучающей выборки и применяя эти параметры для стандартизации тестовой выборки; и/или стандартизируя каждый столбец по отдельности\n",
    "    добавить регуляризацию\n",
    "    - извлекать признаки не через токены, а через N-граммы\n",
    "    - добавить стемминг или простую лемматизацию\n",
    "    - изменить архитектуру нейросети, например, сделав два слоя вместо одного\n",
    "    - проанализировать, как сильно падает качество классификации с уменьшением размера словаря (для фильтрации словаря можно использовать разные эвристики, например, тот же PMI)\n",
    "\n",
    "\n",
    "Подробно, как-нибудь потом, наверное. \n",
    "\n",
    "Подбор гиперпараметров по сетке - долго и скучно. Пока просто потыкаем имеющиеся опции по-отдельности по сравнению с базовым вариантом:\n",
    "\n",
    "- добавление L2-регуляризации с любой значимой величиной лямбды (>0.0001):\n",
    "    -  застревание в бесполезном локальном минимуме - точность **0,05** (лажа)\n",
    "- уменьшение объема подвыборки (`batch_size`):\n",
    "    - точность 0,76 (почти не меняется)\n",
    "- тип векторизации (отображения слов в вещественные вектора):\n",
    "    - `idf` - точность 0,75 (-1%)\n",
    "    - `tf` - точность 0,81 (+5%)\n",
    "    - `bin` - точность 0.72 (-4%)\n",
    "- масштабирование признаков:\n",
    "    - отключили - точность 0.66 (-10%)\n",
    "- токенизация:\n",
    "    - исключили менее редкие и более частотные токены - сузили словарь почти в 2 раза (21тыс. -> 12тыс.) - точность 0.78 (+2%)\n",
    "\n",
    "Лучшие вместе:\n",
    "- еще сильнее сузили словарь (до 9,5 тыс. слов)\n",
    "- векторизация токенов `tf`\n",
    "\n",
    "**0,79 (+3%)**"
   ]
  },
  {
   "cell_type": "code",
   "execution_count": 17,
   "metadata": {},
   "outputs": [
    {
     "name": "stdout",
     "output_type": "stream",
     "text": [
      "Количество уникальных токенов 9497\n",
      "[('that', 0), ('this', 1), ('have', 2), ('with', 3), ('writes', 4), ('article', 5), ('posting', 6), ('host', 7), ('nntp', 8), ('there', 9)]\n"
     ]
    }
   ],
   "source": [
    "MAX_DF = 0.75       # токены, имеющиеся в >75% документов не нужны\n",
    "MIN_COUNT = 15      # токены, встретившиеся 10 и менее раз не нужны\n",
    "vocabulary, word_doc_freq = build_vocabulary(train_tokenized, max_doc_freq=MAX_DF, min_count=MIN_COUNT)\n",
    "UNIQUE_WORDS_N = len(vocabulary)\n",
    "print('Количество уникальных токенов', UNIQUE_WORDS_N)\n",
    "print(list(vocabulary.items())[:10])"
   ]
  },
  {
   "cell_type": "code",
   "execution_count": 18,
   "metadata": {},
   "outputs": [],
   "source": [
    "VECTORIZATION_MODE = 'tf'        # {'tfidf', 'idf', 'tf', 'bin'}\n",
    "train_vectors = get_vectorized_texts(\"train2\", train_tokenized, vocabulary, word_doc_freq, mode=VECTORIZATION_MODE, scale=True)\n",
    "test_vectors = get_vectorized_texts(\"test2\", test_tokenized, vocabulary, word_doc_freq, mode=VECTORIZATION_MODE, scale=True)\n",
    "\n",
    "train_dataset = SparseFeaturesDataset(train_vectors, train_source['target'])\n",
    "test_dataset = SparseFeaturesDataset(test_vectors, test_source['target'])"
   ]
  },
  {
   "cell_type": "code",
   "execution_count": 19,
   "metadata": {},
   "outputs": [
    {
     "name": "stdout",
     "output_type": "stream",
     "text": [
      "Эпоха 0\n",
      "Эпоха: 354 итераций, 2.87 сек\n",
      "Среднее значение функции потерь на обучении 1.0285664128381653\n",
      "Среднее значение функции потерь на валидации 1.0335667519751242\n",
      "Новая лучшая модель!\n",
      "\n",
      "Эпоха 1\n",
      "Эпоха: 354 итераций, 2.84 сек\n",
      "Среднее значение функции потерь на обучении 0.16352276093626428\n",
      "Среднее значение функции потерь на валидации 0.8858465251781172\n",
      "Новая лучшая модель!\n",
      "\n",
      "Эпоха 2\n",
      "Эпоха: 354 итераций, 2.94 сек\n",
      "Среднее значение функции потерь на обучении 0.06637607571684707\n",
      "Среднее значение функции потерь на валидации 0.8403291975037527\n",
      "Новая лучшая модель!\n",
      "\n",
      "Эпоха 3\n",
      "Эпоха: 354 итераций, 3.07 сек\n",
      "Среднее значение функции потерь на обучении 0.0368096472058803\n",
      "Среднее значение функции потерь на валидации 0.8068118878340317\n",
      "Новая лучшая модель!\n",
      "\n",
      "Эпоха 4\n",
      "Эпоха: 354 итераций, 2.72 сек\n",
      "Среднее значение функции потерь на обучении 0.02524110681961401\n",
      "Среднее значение функции потерь на валидации 0.7851940952872826\n",
      "Новая лучшая модель!\n",
      "\n",
      "Эпоха 5\n",
      "Эпоха: 354 итераций, 3.01 сек\n",
      "Среднее значение функции потерь на обучении 0.018184219634339298\n",
      "Среднее значение функции потерь на валидации 0.7737967207775278\n",
      "Новая лучшая модель!\n",
      "\n",
      "Эпоха 6\n",
      "Эпоха: 354 итераций, 2.81 сек\n",
      "Среднее значение функции потерь на обучении 0.013836085068924869\n",
      "Среднее значение функции потерь на валидации 0.7707274246771457\n",
      "Новая лучшая модель!\n",
      "\n",
      "Эпоха 7\n",
      "Эпоха: 354 итераций, 2.76 сек\n",
      "Среднее значение функции потерь на обучении 0.01158452840879728\n",
      "Среднее значение функции потерь на валидации 0.7564980599839809\n",
      "Новая лучшая модель!\n",
      "\n",
      "Эпоха 8\n",
      "Эпоха: 354 итераций, 2.75 сек\n",
      "Среднее значение функции потерь на обучении 0.009705640824174898\n",
      "Среднее значение функции потерь на валидации 0.7557246725438005\n",
      "Новая лучшая модель!\n",
      "\n",
      "Эпоха 9\n",
      "Эпоха: 354 итераций, 2.78 сек\n",
      "Среднее значение функции потерь на обучении 0.008006792084056105\n",
      "Среднее значение функции потерь на валидации 0.7627309747671677\n",
      "\n",
      "Эпоха 10\n",
      "Эпоха: 354 итераций, 2.80 сек\n",
      "Среднее значение функции потерь на обучении 0.007199045983643013\n",
      "Среднее значение функции потерь на валидации 0.7553496241443238\n",
      "Новая лучшая модель!\n",
      "\n",
      "Эпоха 11\n",
      "Эпоха: 354 итераций, 2.77 сек\n",
      "Среднее значение функции потерь на обучении 0.00674729150822544\n",
      "Среднее значение функции потерь на валидации 0.7536700602810261\n",
      "Новая лучшая модель!\n",
      "\n",
      "Эпоха 12\n",
      "Эпоха: 354 итераций, 2.83 сек\n",
      "Среднее значение функции потерь на обучении 0.005146661591466179\n",
      "Среднее значение функции потерь на валидации 0.7620817599028854\n",
      "\n",
      "Эпоха 13\n",
      "Эпоха: 354 итераций, 2.81 сек\n",
      "Среднее значение функции потерь на обучении 0.005216624212877477\n",
      "Среднее значение функции потерь на валидации 0.778899110474829\n",
      "\n",
      "Эпоха 14\n",
      "Эпоха: 354 итераций, 2.79 сек\n",
      "Среднее значение функции потерь на обучении 0.004941274974650393\n",
      "Среднее значение функции потерь на валидации 0.7580741076903829\n",
      "\n",
      "Эпоха 15\n",
      "Эпоха: 354 итераций, 2.79 сек\n",
      "Среднее значение функции потерь на обучении 0.005152250058839813\n",
      "Среднее значение функции потерь на валидации 0.7787272203397952\n",
      "\n",
      "Эпоха 16\n",
      "Эпоха: 354 итераций, 2.77 сек\n",
      "Среднее значение функции потерь на обучении 0.00361867104857597\n",
      "Среднее значение функции потерь на валидации 0.8039913684508558\n",
      "\n",
      "Эпоха 17\n",
      "Эпоха: 354 итераций, 2.76 сек\n",
      "Среднее значение функции потерь на обучении 0.003996672386160163\n",
      "Среднее значение функции потерь на валидации 0.7895796547122931\n",
      "Epoch    18: reducing learning rate of group 0 to 5.0000e-02.\n",
      "\n",
      "Эпоха 18\n",
      "Эпоха: 354 итераций, 2.76 сек\n",
      "Среднее значение функции потерь на обучении 0.003014268353252572\n",
      "Среднее значение функции потерь на валидации 0.7634335905944897\n",
      "\n",
      "Эпоха 19\n",
      "Эпоха: 354 итераций, 2.82 сек\n",
      "Среднее значение функции потерь на обучении 0.00207442205233531\n",
      "Среднее значение функции потерь на валидации 0.7634712529005641\n",
      "\n",
      "Эпоха 20\n",
      "Эпоха: 354 итераций, 2.77 сек\n",
      "Среднее значение функции потерь на обучении 0.0023288605554656803\n",
      "Среднее значение функции потерь на валидации 0.7783406739896637\n",
      "\n",
      "Эпоха 21\n",
      "Эпоха: 354 итераций, 2.76 сек\n",
      "Среднее значение функции потерь на обучении 0.0020043157737591635\n",
      "Среднее значение функции потерь на валидации 0.7627703686386852\n",
      "\n",
      "Эпоха 22\n",
      "Эпоха: 354 итераций, 2.80 сек\n",
      "Среднее значение функции потерь на обучении 0.002039788273757713\n",
      "Среднее значение функции потерь на валидации 0.7850575347320509\n",
      "Модель не улучшилась за последние 10 эпох, прекращаем обучение\n"
     ]
    }
   ],
   "source": [
    "model_plus = nn.Linear(UNIQUE_WORDS_N, UNIQUE_LABELS_N)\n",
    "\n",
    "scheduler = lambda optim: \\\n",
    "    torch.optim.lr_scheduler.ReduceLROnPlateau(optim, patience=5, factor=0.5, verbose=True)\n",
    "\n",
    "best_val_loss, best_model = train_eval_loop(model=model_plus,\n",
    "                                            train_dataset=train_dataset,\n",
    "                                            val_dataset=test_dataset,\n",
    "                                            criterion=F.cross_entropy,\n",
    "                                            lr=1e-1,\n",
    "                                            epoch_n=200,\n",
    "                                            batch_size=32,\n",
    "                                            l2_reg_alpha=0,\n",
    "                                            lr_scheduler_ctor=scheduler)"
   ]
  },
  {
   "cell_type": "code",
   "execution_count": 20,
   "metadata": {},
   "outputs": [
    {
     "name": "stderr",
     "output_type": "stream",
     "text": [
      "100%|██████████| 354/353.5625 [00:02<00:00, 150.27it/s]\n"
     ]
    },
    {
     "name": "stdout",
     "output_type": "stream",
     "text": [
      "Среднее значение функции потерь на обучении 0.00460641598328948\n",
      "Доля верных ответов 0.9993812975075128\n",
      "\n"
     ]
    },
    {
     "name": "stderr",
     "output_type": "stream",
     "text": [
      "236it [00:01, 151.36it/s]                             "
     ]
    },
    {
     "name": "stdout",
     "output_type": "stream",
     "text": [
      "Среднее значение функции потерь на валидации 0.753052294254303\n",
      "Доля верных ответов 0.7900955921402018\n"
     ]
    },
    {
     "name": "stderr",
     "output_type": "stream",
     "text": [
      "\n"
     ]
    }
   ],
   "source": [
    "train_pred = predict_with_model(best_model, train_dataset)\n",
    "\n",
    "train_loss = F.cross_entropy(torch.from_numpy(train_pred),\n",
    "                             torch.from_numpy(train_source['target']).long())\n",
    "\n",
    "print('Среднее значение функции потерь на обучении', float(train_loss))\n",
    "print('Доля верных ответов', accuracy_score(train_source['target'], train_pred.argmax(-1)))\n",
    "print()\n",
    "\n",
    "\n",
    "\n",
    "test_pred = predict_with_model(best_model, test_dataset)\n",
    "\n",
    "test_loss = F.cross_entropy(torch.from_numpy(test_pred),\n",
    "                            torch.from_numpy(test_source['target']).long())\n",
    "\n",
    "print('Среднее значение функции потерь на валидации', float(test_loss))\n",
    "print('Доля верных ответов', accuracy_score(test_source['target'], test_pred.argmax(-1)))"
   ]
  }
 ],
 "metadata": {
  "kernelspec": {
   "display_name": "Python 3",
   "language": "python",
   "name": "python3"
  },
  "language_info": {
   "codemirror_mode": {
    "name": "ipython",
    "version": 3
   },
   "file_extension": ".py",
   "mimetype": "text/x-python",
   "name": "python",
   "nbconvert_exporter": "python",
   "pygments_lexer": "ipython3",
   "version": "3.9.11"
  },
  "latex_envs": {
   "LaTeX_envs_menu_present": true,
   "autoclose": false,
   "autocomplete": true,
   "bibliofile": "biblio.bib",
   "cite_by": "apalike",
   "current_citInitial": 1,
   "eqLabelWithNumbers": true,
   "eqNumInitial": 1,
   "hotkeys": {
    "equation": "Ctrl-E",
    "itemize": "Ctrl-I"
   },
   "labels_anchors": false,
   "latex_user_defs": false,
   "report_style_numbering": false,
   "user_envs_cfg": false
  },
  "toc": {
   "base_numbering": 1,
   "nav_menu": {},
   "number_sections": true,
   "sideBar": true,
   "skip_h1_title": false,
   "title_cell": "Table of Contents",
   "title_sidebar": "Contents",
   "toc_cell": false,
   "toc_position": {},
   "toc_section_display": true,
   "toc_window_display": true
  }
 },
 "nbformat": 4,
 "nbformat_minor": 2
}
