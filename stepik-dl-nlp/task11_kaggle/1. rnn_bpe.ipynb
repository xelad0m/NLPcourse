{
 "cells": [
  {
   "cell_type": "markdown",
   "metadata": {},
   "source": [
    "# Попробуем генерацию последовательностей на RNN\n",
    "- это задача суммаизации, обычно решается seq2seq методами\n",
    "- интересно, что даст просто RNN"
   ]
  },
  {
   "cell_type": "markdown",
   "metadata": {},
   "source": [
    "## Импорты модулей"
   ]
  },
  {
   "cell_type": "code",
   "execution_count": 23,
   "metadata": {},
   "outputs": [
    {
     "name": "stdout",
     "output_type": "stream",
     "text": [
      "The autoreload extension is already loaded. To reload it, use:\n",
      "  %reload_ext autoreload\n"
     ]
    }
   ],
   "source": [
    "%load_ext autoreload    \n",
    "%autoreload 2\n",
    "\n",
    "import os\n",
    "import torch\n",
    "import torch.nn as nn\n",
    "import torch.optim as optim\n",
    "import torch.nn.functional as F\n",
    "\n",
    "from torch.utils.data import Dataset, DataLoader\n",
    "\n",
    "from torchtext.data.metrics import bleu_score\n",
    "\n",
    "from transformers.utils import logging\n",
    "from helpers.utils import count_parameters, epoch_time\n",
    "\n",
    "import youtokentome as yttm\n",
    "\n",
    "import time\n",
    "import math\n",
    "import pandas as pd\n",
    "import numpy as np\n",
    "import matplotlib.pyplot as plt\n",
    "from IPython.display import clear_output\n",
    "from tqdm.notebook import tqdm"
   ]
  },
  {
   "cell_type": "code",
   "execution_count": 24,
   "metadata": {},
   "outputs": [],
   "source": [
    "logging.set_verbosity_error()\n",
    "device = torch.device('cuda') if torch.cuda.is_available() else torch.device('cpu')\n",
    "torch.backends.cudnn.deterministic = True   # avoid some rnn issues on some cuDNN versions"
   ]
  },
  {
   "cell_type": "code",
   "execution_count": 25,
   "metadata": {},
   "outputs": [],
   "source": [
    "MODEL_NAME = 'models/lstm_bpe_baseline.pt'"
   ]
  },
  {
   "cell_type": "markdown",
   "metadata": {},
   "source": [
    "# Датасеты\n",
    "\n",
    "- жаль, что yttm не умеет сериализоваться"
   ]
  },
  {
   "cell_type": "code",
   "execution_count": 26,
   "metadata": {},
   "outputs": [],
   "source": [
    "QUICK_RUN = False\n",
    "\n",
    "DICT_SIZE = 300 if QUICK_RUN else 3000\n",
    "\n",
    "TRAIN_FILE = f\"{'./cache/' if QUICK_RUN else './datasets/'}train.csv\"\n",
    "FIN_TEST_FILE = f\"{'./cache/' if QUICK_RUN else './datasets/'}test.csv\""
   ]
  },
  {
   "cell_type": "code",
   "execution_count": 27,
   "metadata": {},
   "outputs": [
    {
     "name": "stdout",
     "output_type": "stream",
     "text": [
      "Reading data...\n"
     ]
    },
    {
     "data": {
      "text/plain": [
       "('<eoa>', ['hello world!', 'gnu is not unix :((( #sometag'])"
      ]
     },
     "execution_count": 27,
     "metadata": {},
     "output_type": "execute_result"
    }
   ],
   "source": [
    "class BPEncoder():\n",
    "    def __init__(self, path_to_data, dict_size=1000):\n",
    "        \"\"\"YouTokenToMe - работает только через внешний файл\"\"\"\n",
    "        \n",
    "        self.eoa = \"<eoa>\"\n",
    "        self.train_file = \"./cache/input_file.txt\"\n",
    "        self.model_file = MODEL_NAME + \".yttm\"\n",
    "        self.dict_size = dict_size\n",
    "\n",
    "        print(\"Reading data...\")\n",
    "        self.train_data = pd.read_csv(path_to_data)\n",
    "        with open(\"./cache/input_file.txt\", 'w') as f:\n",
    "            f.writelines((self.train_data[\"abstract\"] + self.eoa + self.train_data[\"title\"] + \"\\n\").to_list())\n",
    "\n",
    "        if not os.path.isfile(self.model_file):\n",
    "            print(\"Train tokenizer...\")\n",
    "            yttm.BPE.train(data=self.train_file, vocab_size=self.dict_size, model=self.model_file)\n",
    "\n",
    "        self.tokenizer = yttm.BPE(self.model_file)\n",
    "    \n",
    "    def encode(self, texts):\n",
    "        texts = [t.lower() for t in texts]\n",
    "        encodings = self.tokenizer.encode(texts, output_type=yttm.OutputType.ID, bos=2, eos=3)\n",
    "        length = list(map(len, encodings))\n",
    "        return {\"input_ids\": encodings, \"length\": length}\n",
    "    \n",
    "    def tokenize(self, texts):\n",
    "        return self.tokenizer.encode(texts, output_type=yttm.OutputType.SUBWORD, bos=2, eos=3)\n",
    "\n",
    "    def padded_encode(self, texts, dtype='int32', batch_first = True):\n",
    "        vectors = self.tokenizer.encode(texts, output_type=yttm.OutputType.ID, bos=2, eos=3)\n",
    "\n",
    "        max_batch_len = max(map(len, vectors))\n",
    "        data_ix = np.zeros([len(texts), max_batch_len], dtype)\n",
    "        \n",
    "        for i in range(len(texts)):\n",
    "            data_ix[i, :len(vectors[i])] = vectors[i]\n",
    "        \n",
    "        if not batch_first:                                     # [batch, token] -> [token, batch] (не используется)\n",
    "            data_ix = np.transpose(data_ix)\n",
    "\n",
    "        return {\"input_ids\": data_ix}\n",
    "\n",
    "    def decode(self, vectors, drop_special_tokens=True):\n",
    "        return self.tokenizer.decode(vectors, \n",
    "                                     ignore_ids=[0,1,2,3] if drop_special_tokens else None)\n",
    "\n",
    "bpe = BPEncoder(TRAIN_FILE, dict_size=DICT_SIZE)\n",
    "bpe.tokenizer.id_to_subword(bpe.tokenizer.subword_to_id(bpe.eoa)), \\\n",
    "bpe.decode(bpe.encode([\"Hello world!\", \"GNU is not Unix :((( #sometag\"])[\"input_ids\"])"
   ]
  },
  {
   "cell_type": "code",
   "execution_count": 28,
   "metadata": {},
   "outputs": [],
   "source": [
    "class ArXivBPE(Dataset):\n",
    "    def __init__(self, path, tokenizer, drop_long=True):\n",
    "        \"\"\"Добавлен спец.токен для разделения аннотации и заголовка, \n",
    "        чтоб НС запоминала такие места:\n",
    "        - предполагается, что также он будет добавлен к стартовой последовательности \n",
    "        при генерации\n",
    "        - весь датасет кодируется без паддинга, чтоб добавить паддинг уже в батчи\n",
    "        - не включаем длинные последовательности (больше 1200 символов, 75% квантиль)\"\"\"\n",
    "\n",
    "        print(\"Reading data...\")\n",
    "        self.data = pd.read_csv(path)\n",
    "        self.data.drop_duplicates(inplace=True, ignore_index=True)\n",
    "        if drop_long:\n",
    "            self.data = self.data[self.data.applymap(lambda x: len(str(x))).abstract < 1200].reset_index(drop=True)\n",
    "        \n",
    "        self.tokenizer = tokenizer\n",
    "        self.sequences = self.data[\"abstract\"] + self.tokenizer.eoa + self.data[\"title\"]\n",
    "\n",
    "        print(\"Encoding data...\")\n",
    "        self.encodings = self.tokenizer.encode(self.sequences.tolist())\n",
    "\n",
    "    def __getitem__(self, idx):\n",
    "        item = {key: val[idx] for key, val in self.encodings.items()}\n",
    "        item[\"sequence\"] = self.sequences[idx]\n",
    "        item[\"length\"] = self.encodings[\"length\"][idx]\n",
    "        return item\n",
    "\n",
    "    def __len__(self):\n",
    "        return len(self.sequences)\n",
    "\n",
    "    def split(self, split=0.7, split_ratio=None):\n",
    "        \"\"\" Выделение тестовой/валидационной выборки\n",
    "        - принимает либо долю тренировочной выборки, либо список долей любой длины\n",
    "        - все делать руками, это и есть новый подход torchtext вместо legacy Dataset?\"\"\"\n",
    "        size = len(self)\n",
    "        split_ratio = split_ratio if split_ratio else [split, 1 - split]\n",
    "        split_size = [int(r * size) for r in split_ratio]\n",
    "        split_size[-1] = size - sum(split_size[:-1])\n",
    "        return torch.utils.data.random_split(self, split_size)"
   ]
  },
  {
   "cell_type": "code",
   "execution_count": 29,
   "metadata": {},
   "outputs": [
    {
     "name": "stdout",
     "output_type": "stream",
     "text": [
      "Reading data...\n",
      "Encoding data...\n"
     ]
    }
   ],
   "source": [
    "all_train_dataset = ArXivBPE(TRAIN_FILE, tokenizer=bpe)  # Dataset"
   ]
  },
  {
   "cell_type": "markdown",
   "metadata": {},
   "source": [
    "- тренировочный, валидационный и тестовый датасеты (`Subset`)"
   ]
  },
  {
   "cell_type": "code",
   "execution_count": 30,
   "metadata": {},
   "outputs": [
    {
     "data": {
      "text/plain": [
       "[76783, 783, 785]"
      ]
     },
     "execution_count": 30,
     "metadata": {},
     "output_type": "execute_result"
    }
   ],
   "source": [
    "train_dataset, val_dataset, test_dataset = all_train_dataset.split(split_ratio=[0.98, 0.01, 0.01])  # Subset\n",
    "\n",
    "list(map(len, (train_dataset, val_dataset, test_dataset)))"
   ]
  },
  {
   "cell_type": "markdown",
   "metadata": {},
   "source": [
    "- данные для итогового скоринга"
   ]
  },
  {
   "cell_type": "code",
   "execution_count": 31,
   "metadata": {},
   "outputs": [],
   "source": [
    "fin_test_src = pd.read_csv(FIN_TEST_FILE).abstract.to_list()    # итоговые тестовые резюме статей"
   ]
  },
  {
   "cell_type": "markdown",
   "metadata": {},
   "source": [
    "- что получается"
   ]
  },
  {
   "cell_type": "code",
   "execution_count": 32,
   "metadata": {},
   "outputs": [
    {
     "name": "stdout",
     "output_type": "stream",
     "text": [
      "{'input_ids': [2, 81, 4, 46, 142, 251, 476, 46, 2254, 2446, 129, 75, 2301, 475, 133, 755, 502, 93, 75, 514, 93, 623, 296, 25, 750, 431, 149, 81, 235, 7, 454, 151, 465, 368, 153, 849, 183, 559, 97, 81, 623, 93, 81, 735, 262, 735, 766, 129, 75, 2301, 1483, 649, 235, 7, 454, 151, 465, 296, 25, 750, 184, 1380, 129, 819, 650, 362, 881, 262, 2135, 923, 2700, 732, 1996, 372, 296, 25, 750, 428, 1921, 117, 649, 1388, 164, 1957, 235, 7, 454, 151, 465, 2446, 162, 2412, 240, 1249, 887, 849, 445, 163, 2697, 183, 93, 1065, 129, 881, 262, 2135, 2446, 202, 240, 1249, 2805, 184, 1927, 129, 1628, 483, 4, 46, 1810, 1675, 46, 1242, 162, 240, 1249, 2805, 184, 732, 2134, 129, 400, 93, 81, 296, 25, 750, 1852, 224, 138, 7, 454, 151, 465, 296, 25, 750, 129, 75, 2301, 475, 1020, 107, 285, 371, 1378, 111, 2135, 3], 'length': 158, 'sequence': \"the 'standard' confidence interval for a poisson parameter is only one of a number of estimation intervals based on the chi-square distribution that may be used in the estimation of the mean or mean rate for a poisson model. other chi-square intervals are available for experimenters using bayesian or structural inference methods. exploring these intervals also leads to other alternate approximate chi-square intervals. although coverage probability may not always be of interest for bayesian or structural intervals, coverage probabilities are useful for validating 'objective' priors. coverage probabilities are explored for all of the intervals considered.<eoa>chi-square intervals for a poisson parameter - bayes, classical and   structural\"}\n"
     ]
    },
    {
     "data": {
      "text/plain": [
       "[\"the 'standard' confidence interval for a poisson parameter is only one of a number of estimation intervals based on the chi-square distribution that may be used in the estimation of the mean or mean rate for a poisson model. other chi-square intervals are available for experimenters using bayesian or structural inference methods. exploring these intervals also leads to other alternate approximate chi-square intervals. although coverage probability may not always be of interest for bayesian or structural intervals, coverage probabilities are useful for validating 'objective' priors. coverage probabilities are explored for all of the intervals considered.<eoa>chi-square intervals for a poisson parameter - bayes, classical and structural\"]"
      ]
     },
     "execution_count": 32,
     "metadata": {},
     "output_type": "execute_result"
    }
   ],
   "source": [
    "print(train_dataset[0])\n",
    "bpe.decode(train_dataset[0][\"input_ids\"])"
   ]
  },
  {
   "cell_type": "markdown",
   "metadata": {},
   "source": [
    "# Итераторы данных"
   ]
  },
  {
   "cell_type": "code",
   "execution_count": 33,
   "metadata": {},
   "outputs": [],
   "source": [
    "def collate_batch(batch):\n",
    "   \"\"\"Дополняем батч паддингом до размера максимального в батче, чтобы не гонять \n",
    "   максимальный по корпусу паддинг:\n",
    "   - все делать руками, это и есть новый подход torchtext вместо legacy Field ?\"\"\" \n",
    "   \n",
    "   res = {}\n",
    "   for key in batch[0].keys():\n",
    "      if key == 'length':\n",
    "         tuple_of_seqs = tuple(map(lambda x: x[key], batch))\n",
    "         res[key] = torch.LongTensor(tuple_of_seqs)\n",
    "      elif key != \"sequence\":\n",
    "         tuple_of_seqs = tuple(map(lambda x: torch.LongTensor(x[key]), batch))\n",
    "         res[key] = torch.nn.utils.rnn.pad_sequence(tuple_of_seqs, padding_value=0, \n",
    "                                                                  batch_first=True)\n",
    "\n",
    "   return res"
   ]
  },
  {
   "cell_type": "code",
   "execution_count": 34,
   "metadata": {},
   "outputs": [],
   "source": [
    "def data_loader(dataset, batch_size, shuffle=True, **kwargs):\n",
    "    return DataLoader(dataset, \n",
    "                      batch_size=batch_size, \n",
    "                      shuffle=shuffle, \n",
    "                      collate_fn=collate_batch, \n",
    "                      **kwargs)"
   ]
  },
  {
   "cell_type": "markdown",
   "metadata": {},
   "source": [
    "- что получилось"
   ]
  },
  {
   "cell_type": "code",
   "execution_count": 35,
   "metadata": {},
   "outputs": [
    {
     "data": {
      "text/plain": [
       "{'input_ids': tensor([[   2,   81,  501, 1973,   99,  922,  892,   80, 1335,   75, 1985,   77,\n",
       "            27, 2074,   99,  111,  461,  801,  846, 2359,  200,   82,   90,   76,\n",
       "           167,   90,  205,  104,   27,  562,   76,  328,   35,  558,    5, 1844,\n",
       "          2226, 1529,  184, 2178, 2353,  159,   75, 2173,  217,   93, 2205,  110,\n",
       "            93, 1511, 1674,  254, 2450, 2122,  140,  214,  237, 2917,  142,  352,\n",
       "           255,  392, 2435,  758,   81, 2226, 2424,  171,   26, 1624, 2122,  140,\n",
       "           214,  110, 1978,  136,  233,  117,   75, 2649, 1010, 1962, 1768, 1195,\n",
       "            26,   97,  898, 1973,  202,   81, 2122,  140,  214,  237, 2917,  142,\n",
       "           352,  255,  392, 2435,  482,  643,   81, 2100,  517,  129,   81,  328,\n",
       "            35,  558,    5, 2226,  117,  183,  787, 1253,  715,  728,  456,  643,\n",
       "           152,  134,  668,  162,   81, 1423, 1862,  922, 1136,  139,  117, 2702,\n",
       "            17,  111, 1097,  185, 2916, 2740,   93,   81, 1985,   77,   26,  243,\n",
       "           133, 1171,  153,   81, 1844, 2226, 1529,  129,   81,  128,  337,  143,\n",
       "           298,  174,  187,   15,   23,   16, 2613,   85,  356,  181, 1503,   15,\n",
       "            33, 2672,  219,   93,   88,   23,  266,   25,  164,  117,  128,  283,\n",
       "           164,  264,  183, 2914,  123,  237,  200, 2122,  140,  214,  110,   93,\n",
       "          2917,  142,  352,  255,  187, 2640, 1036,   93,   82,  124,    7,  171,\n",
       "           235,   13,   90,  971,   27,   82,  124,    7,  171,  107,  236,  971,\n",
       "            27,  973,  688,  171,  235,   13,   90,  971,  111,  230,   92,  121,\n",
       "           434,  342, 1751,  178,   26, 1194, 1231, 2914,  430,   93,   81,  128,\n",
       "            16,   15, 2672,  219,   93,  128,  283,  164,  117,   88,   23,  266,\n",
       "            25,  164,  133, 2610,  129, 2122,  140,  214,  237,   82,  124,    7,\n",
       "           171,  235,   13,   90,  174,  714,  728, 2163,   11,  117,  183,  413,\n",
       "          2411, 2891, 1647,   93,   81, 2122,  140,  214,  237,  392, 2435,  649,\n",
       "           628, 2917,  142,  352,  255,  706, 1945,  188,  430,   93,  328,   35,\n",
       "           558,    5, 2226, 1529,  200, 2917,  142,  352,  255, 2100,  517, 2122,\n",
       "           140,  214,  110,   47, 1561,  149,  796,  592,   93, 2122,  140,  214,\n",
       "           237, 2100,  272,    3],\n",
       "         [   2,   81, 1170,  902,  111,  899,   12,  158,   93,    4,  677,  790,\n",
       "          1835,  970, 2682,  129,  447,  182,  108,  821,  102, 1996,  111,  490,\n",
       "            27,  261, 1672,  620,  157,  447,  182,  108, 2352,    5,  111,  354,\n",
       "          1022,   26,  131, 1688,   81,  429,   93,  864,  588, 2136, 1544,  821,\n",
       "           102, 1996,   93, 2620,  790,  393, 2842,  134, 2162,  162,  131,  692,\n",
       "            75,  824, 1220,  781,  562,  447,  182,  108, 1991,  184,  100, 1361,\n",
       "           200, 2477,  106,   81, 1260,  181,  337,  981,  354, 2158, 1415,  111,\n",
       "          2315, 1797,   93,  447,  182,  108, 1544,  162, 2596,   27,  797,   81,\n",
       "           354, 1161,  764,   27,   81,  706,  454, 2180,  753,  387,   93,  354,\n",
       "          1544,   11,  111, 1272, 2199,  277,  739,  821,  102, 1996,  137, 1057,\n",
       "           131,  221,    5,   29,  105,  864, 2881,  113, 1272, 1829,  153, 2000,\n",
       "            11,   81, 1908,  447,  182,  108, 2352,    5,  623,  129,  400, 1544,\n",
       "            11,   93,   81,  354,   26,   81,  864, 1272,  868,  133,   81,  761,\n",
       "            93,   75,  892,  358,  807,  387,  429,   60,  811,   27,  286,   87,\n",
       "          1412, 1509,  106,  133, 2121,   99,  117, 2000,   75, 1413,   93,  447,\n",
       "           182,  108, 1530,  129,  739,  354, 1544,   26,  131, 2487,  320,  488,\n",
       "           362,  654, 1059, 1840, 2529,  113,   41,  259, 1411,  706,  454, 2180,\n",
       "           388,  129,  864,  447,  182,  108,  821,  102, 1996, 1118,  354, 1544,\n",
       "          1272,    3,    0,    0,    0,    0,    0,    0,    0,    0,    0,    0,\n",
       "             0,    0,    0,    0,    0,    0,    0,    0,    0,    0,    0,    0,\n",
       "             0,    0,    0,    0,    0,    0,    0,    0,    0,    0,    0,    0,\n",
       "             0,    0,    0,    0,    0,    0,    0,    0,    0,    0,    0,    0,\n",
       "             0,    0,    0,    0,    0,    0,    0,    0,    0,    0,    0,    0,\n",
       "             0,    0,    0,    0,    0,    0,    0,    0,    0,    0,    0,    0,\n",
       "             0,    0,    0,    0,    0,    0,    0,    0,    0,    0,    0,    0,\n",
       "             0,    0,    0,    0,    0,    0,    0,    0,    0,    0,    0,    0,\n",
       "             0,    0,    0,    0,    0,    0,    0,    0,    0,    0,    0,    0,\n",
       "             0,    0,    0,    0]]),\n",
       " 'length': tensor([328, 218])}"
      ]
     },
     "execution_count": 35,
     "metadata": {},
     "output_type": "execute_result"
    }
   ],
   "source": [
    "next(iter(data_loader(train_dataset, batch_size=2)))"
   ]
  },
  {
   "cell_type": "markdown",
   "metadata": {},
   "source": [
    "# Модель - генератор последовательностей на RNN"
   ]
  },
  {
   "cell_type": "code",
   "execution_count": 36,
   "metadata": {},
   "outputs": [],
   "source": [
    "from torch.nn.utils.rnn import pack_padded_sequence, pad_packed_sequence\n",
    "\n",
    "class LSTMLoop(nn.Module):\n",
    "    def __init__(self, dict_size, emb_size, rnn_num_units, num_layers, dropout):\n",
    "        super().__init__()\n",
    "        self.emb = nn.Embedding(dict_size, emb_size)\n",
    "        self.dropout = nn.Dropout(dropout)\n",
    "        self.lstm = nn.LSTM(emb_size, rnn_num_units, num_layers, batch_first=True)\n",
    "        self.hid_to_logits = nn.Linear(rnn_num_units, dict_size)\n",
    "        \n",
    "    def forward(self, x, src_len):                          # BatchSize X InLen\n",
    "        \"\"\"src_len - параметр для упаковки эмбеддингов\"\"\"\n",
    "        embeddings = self.dropout(self.emb(x))              # BatchSize X InLen X EmbSize\n",
    "\n",
    "        packed_emb = pack_padded_sequence(embeddings, src_len, batch_first=True, enforce_sorted=False)\n",
    "        packed_h_seq, _ = self.lstm(packed_emb)           # BatchSize X InLen X EmbSize (if no pack)\n",
    "        h_seq, _ = pad_packed_sequence(packed_h_seq, batch_first=True) \n",
    "\n",
    "        next_logits = self.hid_to_logits(h_seq)             # BatchSize X InLen X VocSize\n",
    "        next_logp = F.log_softmax(next_logits, dim=-1)      # BatchSize X InLen X VocSize\n",
    "        return next_logp"
   ]
  },
  {
   "cell_type": "code",
   "execution_count": 37,
   "metadata": {},
   "outputs": [
    {
     "name": "stdout",
     "output_type": "stream",
     "text": [
      "Loaded...\n",
      "+----------------------+-----+------------+------------+---------------+---------+\n",
      "|   Modules/Tensors    | GPU |   Shape    | Parameters |      Type     | DataMem |\n",
      "+----------------------+-----+------------+------------+---------------+---------+\n",
      "|      emb.weight      |     | 3001 x 128 |   384128   | torch.float32 | 1536512 |\n",
      "|  lstm.weight_ih_l0   |     | 512 x 128  |   65536    | torch.float32 |  262144 |\n",
      "|  lstm.weight_hh_l0   |     | 512 x 128  |   65536    | torch.float32 |  262144 |\n",
      "|   lstm.bias_ih_l0    |     |    512     |    512     | torch.float32 |   2048  |\n",
      "|   lstm.bias_hh_l0    |     |    512     |    512     | torch.float32 |   2048  |\n",
      "|  lstm.weight_ih_l1   |     | 512 x 128  |   65536    | torch.float32 |  262144 |\n",
      "|  lstm.weight_hh_l1   |     | 512 x 128  |   65536    | torch.float32 |  262144 |\n",
      "|   lstm.bias_ih_l1    |     |    512     |    512     | torch.float32 |   2048  |\n",
      "|   lstm.bias_hh_l1    |     |    512     |    512     | torch.float32 |   2048  |\n",
      "| hid_to_logits.weight |     | 3001 x 128 |   384128   | torch.float32 | 1536512 |\n",
      "|  hid_to_logits.bias  |     |    3001    |    3001    | torch.float32 |  12004  |\n",
      "+----------------------+-----+------------+------------+---------------+---------+\n",
      "Total Trainable Params: 1035449\n",
      "Total memory (min): 4,044.72 KB\n"
     ]
    },
    {
     "data": {
      "text/plain": [
       "1035449"
      ]
     },
     "execution_count": 37,
     "metadata": {},
     "output_type": "execute_result"
    }
   ],
   "source": [
    "INPUT_DIM = bpe.tokenizer.vocab_size() + 1      # +1 for <EOA>\n",
    "OUTPUT_DIM = bpe.tokenizer.vocab_size() + 1     # +1 for <EOA>\n",
    "EMB_DIM = 128\n",
    "HID_DIM = 128\n",
    "NUM_LAYERS = 2\n",
    "DROPOUT = 0.8\n",
    "\n",
    "model = LSTMLoop(INPUT_DIM, EMB_DIM, HID_DIM, NUM_LAYERS, DROPOUT)\n",
    "\n",
    "if not QUICK_RUN:\n",
    "    model.load_state_dict(torch.load(MODEL_NAME, map_location=device))\n",
    "    print(\"Loaded...\")\n",
    "\n",
    "count_parameters(model)"
   ]
  },
  {
   "cell_type": "code",
   "execution_count": 38,
   "metadata": {},
   "outputs": [],
   "source": [
    "param_optimizer = list(model.named_parameters())\n",
    "no_decay = ['bias', 'gamma', 'beta']\n",
    "optimizer_grouped_parameters = [\n",
    "    {'params': [p for n, p in param_optimizer if not any(nd in n for nd in no_decay)],\n",
    "     'weight_decay_rate': 0.01},\n",
    "    {'params': [p for n, p in param_optimizer if any(nd in n for nd in no_decay)],\n",
    "     'weight_decay_rate': 0.0}\n",
    "]\n",
    "\n",
    "optimizerW = optim.AdamW(optimizer_grouped_parameters, lr=5e-3)\n",
    "\n",
    "optimizer = optim.Adam(optimizer_grouped_parameters, lr=5e-2)"
   ]
  },
  {
   "cell_type": "markdown",
   "metadata": {},
   "source": [
    "### Тест одного шага"
   ]
  },
  {
   "cell_type": "code",
   "execution_count": 39,
   "metadata": {},
   "outputs": [],
   "source": [
    "# lstm = nn.LSTM(EMB_DIM, HID_DIM, 2, batch_first=True)\n",
    "# emb = nn.Embedding(INPUT_DIM, EMB_DIM)\n",
    "# hid_to_logits = nn.Linear(HID_DIM, INPUT_DIM)\n",
    "\n",
    "# lstm.to(device), emb.to(device), hid_to_logits.to(device), \n",
    "\n",
    "# for batch in data_loader(train_dataset, 4):\n",
    "    \n",
    "#     # получение эмбеддингов\n",
    "#     print(f\"{batch['input_ids'].shape=}\")\n",
    "#     e = emb(batch[\"input_ids\"].to(device))\n",
    "#     print(f\"{e.shape=}\")\n",
    "\n",
    "#     # упаковка эмбеддингов (все потомки nn.Module понимают этот формат)\n",
    "#     print(f\"{batch['length']=}\")\n",
    "#     packed_embedded = nn.utils.rnn.pack_padded_sequence(e, batch[\"length\"], batch_first=True, enforce_sorted=False)\n",
    "\n",
    "#     # последнее, остальные состояния RNN (упакованные)\n",
    "#     packed_h_seq, _ = lstm.forward(packed_embedded)\n",
    "#     print(f\"{packed_h_seq.data.shape=}\")\n",
    "\n",
    "#     # распаковка ответа RNN\n",
    "#     h_seq, _ = nn.utils.rnn.pad_packed_sequence(packed_h_seq, batch_first=True) \n",
    "#     print(f\"{h_seq.shape=}\")\n",
    "    \n",
    "#     # последнее состояние - в логиты каждого токена\n",
    "#     next_logits = hid_to_logits(h_seq)\n",
    "#     print(f\"{next_logits.shape=}\")\n",
    "\n",
    "#     # логиты - в логарифмы шансов\n",
    "#     next_logp = F.log_softmax(next_logits, dim=-1)\n",
    "#     print(f\"{next_logp.shape=}\")\n",
    "\n",
    "#     # сдвинутые на 1 относительно друг друга логарифмы шансов токенов и реальные токены\n",
    "#     pred_logp_next_tokens = next_logp[:, :-1].contiguous().view(-1, INPUT_DIM)  # (BatchSize * InLen) X VocSize \n",
    "#     actual_next_tokens = batch[\"input_ids\"][:, 1:].contiguous().view(-1)        # (BatchSize * InLen)\n",
    "#     print(f\"{pred_logp_next_tokens.shape=}, {actual_next_tokens.shape=}\")\n",
    "\n",
    "#     # наскольно не угадали\n",
    "#     loss = F.nll_loss(input=pred_logp_next_tokens.to(device), \n",
    "#                       target=actual_next_tokens.to(device))                     # scalar\n",
    "#     print(f\"{loss=}\")\n",
    "\n",
    "#     # расчет градиентов функции потерь\n",
    "#     loss.backward()\n",
    "\n",
    "#     # шаг по антиградиенту\n",
    "#     optimizer.step()\n",
    "\n",
    "#     # обнулить градиенты, чтобы не складывались с пред.шагом\n",
    "#     optimizer.zero_grad()\n",
    "\n",
    "#     break"
   ]
  },
  {
   "cell_type": "markdown",
   "metadata": {},
   "source": [
    "# Обучение"
   ]
  },
  {
   "cell_type": "code",
   "execution_count": 40,
   "metadata": {},
   "outputs": [],
   "source": [
    "SKIP = True\n",
    "N_EPOCHS = 3\n",
    "BATCH_SIZE = 24"
   ]
  },
  {
   "cell_type": "code",
   "execution_count": 41,
   "metadata": {},
   "outputs": [],
   "source": [
    "def train(model, iterator, optimizer, steps=None, draw=True, draw_step=10, draw_win=None):\n",
    "    model.to(device)\n",
    "    model.train()\n",
    "\n",
    "    history = []\n",
    "\n",
    "    for i, batch in enumerate(iterator):\n",
    "        \n",
    "        next_logp = model.forward(batch[\"input_ids\"].to(device), batch[\"length\"])   # BatchSize X InLen X VocSize\n",
    "\n",
    "        pred_logp_next_tokens = next_logp[:, :-1].contiguous().view(-1, INPUT_DIM)  # (BatchSize * InLen) X VocSize \n",
    "        actual_next_tokens = batch[\"input_ids\"][:, 1:].contiguous().view(-1)        # (BatchSize * InLen)\n",
    "\n",
    "        loss = F.nll_loss(input=pred_logp_next_tokens.to(device), \n",
    "                          target=actual_next_tokens.to(device))                     # scalar\n",
    "\n",
    "        loss.backward()\n",
    "        torch.nn.utils.clip_grad_norm_(model.parameters(), 1.0)\n",
    "\n",
    "        optimizer.step()\n",
    "        optimizer.zero_grad()\n",
    "        \n",
    "        history.append(loss.detach().cpu().tolist())\n",
    "        if draw and (i + 1) % draw_step == 0:\n",
    "            clear_output(True)\n",
    "            start = max(0, len(history) - draw_win) if draw_win else 0\n",
    "            x_labels = list(range(start, len(history)))\n",
    "            plt.plot(x_labels, history[start:], label='loss')\n",
    "            plt.legend()\n",
    "            plt.show()\n",
    "        \n",
    "        if steps and i == steps:\n",
    "            break\n",
    "            \n",
    "    return sum(history) / len(history)\n"
   ]
  },
  {
   "cell_type": "code",
   "execution_count": 42,
   "metadata": {},
   "outputs": [
    {
     "data": {
      "image/png": "[encoded data removed]",
      "text/plain": [
       "<Figure size 432x288 with 1 Axes>"
      ]
     },
     "metadata": {
      "needs_background": "light"
     },
     "output_type": "display_data"
    },
    {
     "data": {
      "text/plain": [
       "4.1158391461514015"
      ]
     },
     "execution_count": 42,
     "metadata": {},
     "output_type": "execute_result"
    }
   ],
   "source": [
    "train_loader = data_loader(train_dataset, batch_size=BATCH_SIZE)\n",
    "\n",
    "train(model, train_loader, optimizerW, steps=100)"
   ]
  },
  {
   "cell_type": "code",
   "execution_count": 43,
   "metadata": {},
   "outputs": [],
   "source": [
    "def evaluate(model, iterator):\n",
    "    model.eval()\n",
    "    epoch_loss = 0\n",
    "\n",
    "    with torch.no_grad():\n",
    "        for i, batch in enumerate(iterator):                         \n",
    "            next_logp = model.forward(batch[\"input_ids\"].to(device), batch[\"length\"])   # BatchSize X InLen X VocSize\n",
    "            pred_logp_next_tokens = next_logp[:, :-1].contiguous().view(-1, INPUT_DIM)  # (BatchSize * InLen) X VocSize \n",
    "            actual_next_tokens = batch[\"input_ids\"][:, 1:].contiguous().view(-1)        # (BatchSize * InLen)\n",
    "\n",
    "            loss = F.nll_loss(input=pred_logp_next_tokens.to(device), \n",
    "                            target=actual_next_tokens.to(device))                       # scalar\n",
    "\n",
    "            epoch_loss += loss.detach().cpu().tolist()\n",
    "        \n",
    "    return epoch_loss / len(iterator)                                                   # средняя на батч"
   ]
  },
  {
   "cell_type": "code",
   "execution_count": 44,
   "metadata": {},
   "outputs": [],
   "source": [
    "train_loader = data_loader(train_dataset, BATCH_SIZE)\n",
    "val_loader = data_loader(val_dataset, BATCH_SIZE, shuffle=False)\n",
    "\n",
    "train_history = []\n",
    "valid_history = []\n",
    "\n",
    "best_valid_loss = float('inf')\n",
    "\n",
    "if not SKIP:\n",
    "    for epoch in range(N_EPOCHS):\n",
    "        \n",
    "        start_time = time.time()\n",
    "        \n",
    "        train_loss = train(model, train_loader, optimizerW, draw=False)\n",
    "        valid_loss = evaluate(model, val_loader)\n",
    "        \n",
    "        end_time = time.time()\n",
    "        \n",
    "        epoch_mins, epoch_secs = epoch_time(start_time, end_time)\n",
    "        \n",
    "        if valid_loss < best_valid_loss:\n",
    "            best_valid_loss = valid_loss\n",
    "            torch.save(model.state_dict(), MODEL_NAME)\n",
    "            \n",
    "            \n",
    "        train_history.append(train_loss)\n",
    "        valid_history.append(valid_loss)\n",
    "        \n",
    "        print(f'Epoch: {epoch+1:02} | Time: {epoch_mins}m {epoch_secs}s')\n",
    "        print(f'\\tTrain Loss: {train_loss:.3f} | Train PPL: {math.exp(train_loss):7.3f}')\n",
    "        print(f'\\t Val. Loss: {valid_loss:.3f} |  Val. PPL: {math.exp(valid_loss):7.3f}')\n",
    "\n",
    "    plt.plot(list(range(N_EPOCHS)), train_history, label='train loss')\n",
    "    plt.legend()\n",
    "    plt.show()"
   ]
  },
  {
   "cell_type": "code",
   "execution_count": 45,
   "metadata": {},
   "outputs": [
    {
     "name": "stdout",
     "output_type": "stream",
     "text": [
      "| Test Loss: 4.264 | Test PPL:  71.065 |\n"
     ]
    }
   ],
   "source": [
    "model.load_state_dict(torch.load(MODEL_NAME, map_location=device))\n",
    "\n",
    "test_loader = data_loader(test_dataset, BATCH_SIZE, shuffle=False)\n",
    "\n",
    "test_loss = evaluate(model, test_loader)\n",
    "\n",
    "print(f'| Test Loss: {test_loss:.3f} | Test PPL: {math.exp(test_loss):7.3f} |')"
   ]
  },
  {
   "cell_type": "markdown",
   "metadata": {},
   "source": [
    "# Генерация заголовков\n",
    "- жадная генерация - не вариант"
   ]
  },
  {
   "cell_type": "code",
   "execution_count": 46,
   "metadata": {},
   "outputs": [],
   "source": [
    "import numpy as np \n",
    "\n",
    "def generate(model, tokenizer, abstract, length=100):\n",
    "    model.eval()   # перевести в режим прогноза\n",
    "    \n",
    "    # к стартовой последовательности добавляется токен конца аннотации\n",
    "    x_sequence = tokenizer.encode([abstract])[\"input_ids\"][:-1] + [tokenizer.tokenizer.subword_to_id(tokenizer.eoa)]\n",
    "    seq_len = len(x_sequence)\n",
    "    x_sequence = torch.LongTensor([x_sequence]).to(device)               \n",
    "    \n",
    "    answer = []\n",
    "    for _ in range(length):\n",
    "        logp_next = model.forward(x_sequence, src_len=[seq_len]).detach().cpu()\n",
    "        p_next = F.softmax(logp_next, dim=-1).data.numpy()[0, -1]\n",
    "        \n",
    "        next_ix = np.argmax(np.array(p_next))       \n",
    "        answer.append(next_ix)\n",
    "        \n",
    "        next_ix = torch.tensor([[next_ix]], dtype=torch.int64).to(device)\n",
    "        x_sequence = torch.cat([x_sequence, next_ix], dim=1).to(device)\n",
    "    \n",
    "    return tokenizer.decode([answer])[0]"
   ]
  },
  {
   "cell_type": "code",
   "execution_count": 47,
   "metadata": {},
   "outputs": [
    {
     "name": "stdout",
     "output_type": "stream",
     "text": [
      "Reference:\tlogarithmic components of the vacant set for random walk on a discrete   torus\n",
      "Candidate:\t\n",
      "\n",
      "----------------------------------------------------------------------------------------------------\n",
      "Reference:\tglobal regularity of wave maps iv. absence of stationary or self-similar   solutions in the energy class\n",
      "Candidate:\t\n",
      "\n",
      "----------------------------------------------------------------------------------------------------\n",
      "Reference:\tmoment estimators of the extreme value index for randomly censored data   in the weibull domain of attraction\n",
      "Candidate:\t\n",
      "\n",
      "----------------------------------------------------------------------------------------------------\n"
     ]
    }
   ],
   "source": [
    "N = 3\n",
    "idx = np.random.choice(len(all_train_dataset.data), N)\n",
    "abstracts, titles = np.array(all_train_dataset.data.abstract)[idx], np.array(all_train_dataset.data.title)[idx]\n",
    "\n",
    "for abstract, title in zip(abstracts, titles):\n",
    "    print(f\"Reference:\\t{title}\\nCandidate:\\t{generate(model, bpe, abstract)}\\n\", end=\"\\n\"+\"-\"*100 + \"\\n\")"
   ]
  },
  {
   "cell_type": "markdown",
   "metadata": {},
   "source": [
    "- лучевой поиск"
   ]
  },
  {
   "cell_type": "code",
   "execution_count": 48,
   "metadata": {},
   "outputs": [
    {
     "name": "stdout",
     "output_type": "stream",
     "text": [
      "Reference:\tclades and clans: a comparison study of two evolutionary models\n",
      "Candidate:\tthe yule-harding-kingman (yhk) model and the proportional to distinguishable arrangements (pda) model are two binary tree generating models that are widely used in evolutionary biology. understanding the distributions of clade sizes under these two models provides valuable insights into macro-evolutionary processes, and is important in hypothesis testing and bayesian analyses in phylogenetics. here we show that these distributions are log-convex, which implies that very large clades or very small clades are more likely to occur under these two models. moreover, we prove that there exists a critical value $\\kappa(n)$ for each $n\\geqslant 4$ such that for a given clade with size $k$, the probability that this clade is contained in a random tree with $n$ leaves generated under the yhk model is higher than that under the pda model if $1<k<\\kappa(n)$, and lower if $\\kappa(n)<k<n$. finally, we extend our results to binary unrooted trees, and obtain similar results for the distributions of clan sizes. the the the the the the the the the the the the the the the the the the the the the the the the the the the the the the the the the the the the the the the the the the the the the the the the the the the the the the the the the the the the the the the the the the the the the the the the the the the the the the the the the the the the the the the the the the the the the the the the the the the the\n",
      "score=16.36\n",
      "----------------------------------------------------------------------------------------------------\n",
      "Reference:\tshape optimization of compliant pressure actuated cellular structures\n",
      "Candidate:\tbiologically inspired pressure actuated cellular structures can alter their shape through pressure variations. previous work introduced a computational framework for pressure actuated cellular structures which was limited to two cell rows and central cell corner hinges. this article rigorously extends these results by taking into account an arbitrary number of cell rows, a more complicated cell kinematics that includes hinge eccentricities and varying side lengths as well as rotational and axial cell side springs. the nonlinear effects of arbitrary cell deformations are fully considered. furthermore, the optimization is considerably improved by using a second-order approach. the presented framework enables the design of compliant pressure actuated cellular structures that can change their form from one shape to another within a set of one-dimensional c1 continuous functions. the the the the the the the the the the the the the the the the the the the the the the the the the the the the the the the the the the the the the the the the the the the the the the the the the the the the the the the the the the the the the the the the the the the the the the the the the the the the the the the the the the the the the the the the the the the the the the the the the the the the\n",
      "score=18.00\n",
      "----------------------------------------------------------------------------------------------------\n",
      "Reference:\timplementing homomorphic encryption based secure feedback control for   physical systems\n",
      "Candidate:\tthis paper is about an encryption based approach to the secure implementation of feedback controllers for physical systems. specifically, paillier's homomorphic encryption is used to digitally implement a class of linear dynamic controllers, which includes the commonplace static gain and pid type feedback control laws as special cases. the developed implementation is amenable to field programmable gate array (fpga) realization. experimental results, including timing analysis and resource usage characteristics for different encryption key lengths, are presented for the realization of an inverted pendulum controller; as this is an unstable plant, the control is necessarily fast. the the the the the the the the the the the the the the the the the the the the the the the the the the the the the the the the the the the the the the the the the the the the the the the the the the the the the the the the the the the the the the the the the the the the the the the the the the the the the the the the the the the the the the the the the the the the the the the the the the the the\n",
      "score=19.40\n",
      "----------------------------------------------------------------------------------------------------\n",
      "Reference:\tcross-diffusion modeling in macroeconomics\n",
      "Candidate:\tthis paper deals with the stability properties of a closed market, where capital and labour force are acting like a predator-prey system in population-dynamics. the spatial movement of the capital and labour force are taken into account by cross-diffusion effect. first, we are showing two possible ways for modeling this system in only one country's market (applying a simple functional response and a holling-type ratio-dependent response as well), examining the conditions of their stability properties. we extend the ratio-dependent model into two countries common market where two kind of cross-diffusion effects are present, and find those additional conditions, whose are necessary for the stability of the global common market besides the stability of each countries local markets. our four-dimensional model highlights that a hectic movement of the capital toward labour force can cause a turing instability. the the the the the the the the the the the the the the the the the the the the the the the the the the the the the the the the the the the the the the the the the the the the the the the the the the the the the the the the the the the the the the the the the the the the the the the the the the the the the the the the the the the the the the the the the the the the the the the the the the the the\n",
      "score=17.61\n",
      "----------------------------------------------------------------------------------------------------\n",
      "Reference:\ton the minimum number of transmissions in single-hop wireless coding   networks\n",
      "Candidate:\tthe advent of network coding presents promising opportunities in many areas of communication and networking. it has been recently shown that network coding technique can significantly increase the overall throughput of wireless networks by taking advantage of their broadcast nature. in wireless networks, each transmitted packet is broadcasted within a certain area and can be overheard by the neighboring nodes. when a node needs to transmit packets, it employs the opportunistic coding approach that uses the knowledge of what the node's neighbors have heard in order to reduce the number of transmissions. with this approach, each transmitted packet is a linear combination of the original packets over a certain finite field. in this paper, we focus on the fundamental problem of finding the optimal encoding for the broadcasted packets that minimizes the overall number of transmissions. we show that this problem is np-complete over gf(2) and establish several fundamental properties of the optimal solution. we also propose a simple heuristic solution for the problem based on graph coloring and present some empirical results for random settings. the the the the the the the the the the the the the the the the the the the the the the the the the the the the the the the the the the the the the the the the the the the the the the the the the the the the the the the the the the the the the the the the the the the the the the the the the the the the the the the the the the the the the the the the the the the the the the the the the the the the\n",
      "score=16.43\n",
      "----------------------------------------------------------------------------------------------------\n"
     ]
    }
   ],
   "source": [
    "from helpers.poetry import BeamGenerator\n",
    "\n",
    "beam_generate = BeamGenerator(model, bpe)\n",
    "\n",
    "def gen(seed_text, beamsize=5, return_hypotheses_n=1):\n",
    "    score, source_candidate = beam_generate(seed_text, beamsize=beamsize, return_hypotheses_n=return_hypotheses_n)[0]\n",
    "    candidate = source_candidate.split(\"<eoa>\")[-1]\n",
    "    return score, candidate\n",
    "\n",
    "N = 5\n",
    "idx = np.random.choice(len(all_train_dataset.data), N)\n",
    "abstracts, titles = np.array(all_train_dataset.data.abstract)[idx], np.array(all_train_dataset.data.title)[idx]\n",
    "\n",
    "for abstract, title in zip(abstracts, titles):\n",
    "    score, candidate = gen(abstract)\n",
    "    print(f\"Reference:\\t{title}\\nCandidate:\\t{candidate}\\n{score=:.2f}\", end=\"\\n\"+\"-\"*100 + \"\\n\")"
   ]
  },
  {
   "cell_type": "markdown",
   "metadata": {},
   "source": [
    "С такой генерацией дальше нет смылса считать.\n",
    "- общая тематика улавливается (улавливалась, но модель не сохранилась), но конкретно референсные заголовки не выходят"
   ]
  },
  {
   "cell_type": "markdown",
   "metadata": {},
   "source": [
    "# BLEU-score\n",
    "\n",
    "- слабый baseline: 0.28204"
   ]
  },
  {
   "cell_type": "code",
   "execution_count": 49,
   "metadata": {},
   "outputs": [],
   "source": [
    "# n_gram_weights = [0.3334, 0.3333, 0.3333]\n",
    "\n",
    "\n",
    "# sources, targets = all_train_dataset.data.abstract, all_train_dataset.data.title    # pd.Series\n",
    "\n",
    "# macro_bleu = 0\n",
    "# for i, src in enumerate(tqdm(sources)):\n",
    "#     candidate = generate(model, bpe, src).split()\n",
    "#     reference = targets.loc[i].split()\n",
    "#     macro_bleu += bleu_score([candidate], [reference], max_n=3, weights=n_gram_weights)\n",
    "\n",
    "# macro_bleu /= len(sources)\n",
    "\n",
    "# print(f'Macro-average BLEU (LSTM): {macro_bleu}')"
   ]
  },
  {
   "cell_type": "markdown",
   "metadata": {},
   "source": [
    "# submission в Kaggle"
   ]
  },
  {
   "cell_type": "markdown",
   "metadata": {},
   "source": [
    "Генерация заголовков для тестовых данных:"
   ]
  },
  {
   "cell_type": "code",
   "execution_count": 50,
   "metadata": {},
   "outputs": [],
   "source": [
    "# SUBMISSION_NAME = \"my2\"\n",
    "\n",
    "# titles = []\n",
    "# for abstract in tqdm(fin_test_src):\n",
    "#     title = generate(model, bpe, abstract).split()\n",
    "#     title = title if title else \"na\"\n",
    "#     titles.append(title)"
   ]
  },
  {
   "cell_type": "markdown",
   "metadata": {},
   "source": [
    "Записываем полученные заголовки в файл формата `<abstract>,<title>`:"
   ]
  },
  {
   "cell_type": "code",
   "execution_count": 51,
   "metadata": {},
   "outputs": [],
   "source": [
    "# submission_df = pd.DataFrame({'abstract': fin_test_src, 'title': titles})\n",
    "\n",
    "# submission_df.to_csv(f\"./submission/{SUBMISSION_NAME}_submission/predicted_titles.csv\", index=False)"
   ]
  },
  {
   "cell_type": "markdown",
   "metadata": {},
   "source": [
    "С помощью скрипта `generate_csv` приводим файл `submission_prediction.csv` в формат, необходимый для посылки в соревнование на Kaggle:"
   ]
  },
  {
   "cell_type": "code",
   "execution_count": 52,
   "metadata": {},
   "outputs": [],
   "source": [
    "# from helpers.create_submission import generate_csv\n",
    "\n",
    "# generate_csv(input_file=f'./submission/{SUBMISSION_NAME}_submission/predicted_titles.csv', \n",
    "#              output_file=f'./submission/{SUBMISSION_NAME}_submission/submission.csv', \n",
    "#              voc_file=f'./datasets/vocs.pkl')"
   ]
  }
 ],
 "metadata": {
  "interpreter": {
   "hash": "75291dc0307ea48294888123147845d2e15abd18d38848ca6ac05a6fe8c88425"
  },
  "kernelspec": {
   "display_name": "Python 3.9.11 ('py39')",
   "language": "python",
   "name": "python3"
  },
  "language_info": {
   "codemirror_mode": {
    "name": "ipython",
    "version": 3
   },
   "file_extension": ".py",
   "mimetype": "text/x-python",
   "name": "python",
   "nbconvert_exporter": "python",
   "pygments_lexer": "ipython3",
   "version": "3.9.11"
  },
  "orig_nbformat": 4
 },
 "nbformat": 4,
 "nbformat_minor": 2
}
