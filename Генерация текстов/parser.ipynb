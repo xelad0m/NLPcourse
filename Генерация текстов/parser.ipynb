{
 "cells": [
  {
   "cell_type": "markdown",
   "metadata": {},
   "source": [
    "Беглым поиском нашелся только [минимальный датасет](https://huggingface.co/huggingartists/vladimir-vysotsky) на 47 произведений, включая явно посторонние произведения.\n",
    "- нужен парсер"
   ]
  },
  {
   "cell_type": "code",
   "execution_count": 8,
   "metadata": {},
   "outputs": [
    {
     "data": {
      "text/plain": [
       "47"
      ]
     },
     "execution_count": 8,
     "metadata": {},
     "output_type": "execute_result"
    }
   ],
   "source": [
    "import json\n",
    "\n",
    "with open(\"./datasets/vysotskiy.txt\") as f:\n",
    "    texts = json.load(f)\n",
    "\n",
    "len(texts[\"train\"])"
   ]
  },
  {
   "cell_type": "markdown",
   "metadata": {},
   "source": [
    "# Парсер\n",
    "\n",
    "- http://vysotskiy-lit.ru/vysotskiy/stihi/stihi-all.htm\n",
    "- собрано 764 произведений (поэзия)"
   ]
  },
  {
   "cell_type": "code",
   "execution_count": 9,
   "metadata": {},
   "outputs": [],
   "source": [
    "import os\n",
    "import time\n",
    "from tqdm import tqdm\n",
    "\n",
    "from selenium import webdriver\n",
    "from selenium.webdriver.common.by import By\n",
    "from selenium.common.exceptions import NoSuchElementException"
   ]
  },
  {
   "cell_type": "code",
   "execution_count": 10,
   "metadata": {},
   "outputs": [],
   "source": [
    "LYRICS_DUMP = \"./datasets/vysotskiy_all.json\"\n",
    "\n",
    "def parse_lyrics(link):\n",
    "    xpath_song_link = \"//*[@id='main_text_box']//li/a\"\n",
    "    xpath_lyrics = \"(//*[@id='main_text_box']//p)[last()-1]\"\n",
    "    xpath_year = \"(//*[@id='main_text_box']//p)[last()]\"\n",
    "    \n",
    "    # смотрим что уже скачалось\n",
    "    if os.path.isfile(LYRICS_DUMP):\n",
    "        with open(LYRICS_DUMP) as f:\n",
    "            songs = json.load(f)\n",
    "    else:\n",
    "        songs = {}\n",
    "\n",
    "    with webdriver.Chrome() as driver:\n",
    "        driver.get(link)\n",
    "        names_urls = driver.find_elements(By.XPATH, xpath_song_link)\n",
    "        \n",
    "        # фильтр уже скачанных\n",
    "        names_urls = [(s.text, s.get_attribute('href')) for s in names_urls]\n",
    "        names_urls = [n_u for n_u in names_urls if not songs.get(n_u[1], False) or not songs[n_u[1]].get(\"done\", False)]\n",
    "        print(f\"Resume from: {names_urls[0]}\")\n",
    "\n",
    "        for song in tqdm(names_urls):\n",
    "            name, url = song\n",
    "            songs[url] = {\"name\": name, \"done\": False}\n",
    "\n",
    "            driver.get(url)\n",
    "            try:\n",
    "                songs[url][\"lyrics\"] = driver.find_element(By.XPATH, xpath_lyrics).text\n",
    "                songs[url][\"year\"] = driver.find_element(By.XPATH, xpath_year).text\n",
    "            except NoSuchElementException:\n",
    "                print(f\"SKIP\\tError parsing: {name} - {url}\")\n",
    "                continue\n",
    "\n",
    "            songs[url][\"done\"] = True\n",
    "            time.sleep(3)\n",
    "                 \n",
    "            # обновить дамп, если спарсилось ОК\n",
    "            if songs[url].get(\"done\", False):\n",
    "                with open(LYRICS_DUMP, \"w\") as f:\n",
    "                    json.dump(songs, f)\n",
    "\n",
    "\n",
    "link = \"http://vysotskiy-lit.ru/vysotskiy/stihi/stihi-all.htm\"\n",
    "\n",
    "# parse_lyrics(link)"
   ]
  },
  {
   "cell_type": "code",
   "execution_count": 11,
   "metadata": {},
   "outputs": [
    {
     "name": "stdout",
     "output_type": "stream",
     "text": [
      "total=764\n",
      "done=764\n",
      "errors=0\n"
     ]
    }
   ],
   "source": [
    "with open(LYRICS_DUMP) as f:\n",
    "    texts = json.load(f)\n",
    "\n",
    "done = sum([v[\"done\"] for k, v in texts.items()])\n",
    "total = len(texts.keys())\n",
    "\n",
    "print(f\"{total=}\\n{done=}\\nerrors={total-done}\")"
   ]
  }
 ],
 "metadata": {
  "interpreter": {
   "hash": "75291dc0307ea48294888123147845d2e15abd18d38848ca6ac05a6fe8c88425"
  },
  "kernelspec": {
   "display_name": "Python 3.9.11 ('py39')",
   "language": "python",
   "name": "python3"
  },
  "language_info": {
   "codemirror_mode": {
    "name": "ipython",
    "version": 3
   },
   "file_extension": ".py",
   "mimetype": "text/x-python",
   "name": "python",
   "nbconvert_exporter": "python",
   "pygments_lexer": "ipython3",
   "version": "3.9.11"
  },
  "orig_nbformat": 4
 },
 "nbformat": 4,
 "nbformat_minor": 2
}
