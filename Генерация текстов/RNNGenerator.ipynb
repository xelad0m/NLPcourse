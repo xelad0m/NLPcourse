{
 "cells": [
  {
   "cell_type": "markdown",
   "metadata": {},
   "source": [
    "Попробуем собрать какой-никакой генератор текстов\n",
    "\n",
    "# FIXED\n",
    "- модельки работают, чето генерят\n"
   ]
  },
  {
   "cell_type": "code",
   "execution_count": 1,
   "metadata": {},
   "outputs": [],
   "source": [
    "import pickle\n",
    "import json\n",
    "import re\n",
    "import gc\n",
    "\n",
    "import numpy as np\n",
    "import pandas as pd\n",
    "import matplotlib.pyplot as plt\n",
    "\n",
    "import torch \n",
    "import torch.nn as nn\n",
    "import torch.nn.functional as F\n",
    "\n",
    "import youtokentome as yttm\n",
    "\n",
    "from IPython.display import clear_output\n",
    "from prettytable import PrettyTable\n",
    "from random import sample\n",
    "\n",
    "# загрузить готовые модели, не обновлять ничего, кроме тестовых прогонов\n",
    "QUICK_RUN = True"
   ]
  },
  {
   "cell_type": "markdown",
   "metadata": {},
   "source": [
    "Загрузка и подготовка данных\n",
    "- ведущий пробел, чтобы RNN узнавала начало последовательности с пробела как начало любой последовательности\n",
    "- ведущий пробел - очень плохая идея, но это стало понятно толко потом"
   ]
  },
  {
   "cell_type": "code",
   "execution_count": 2,
   "metadata": {},
   "outputs": [
    {
     "data": {
      "text/plain": [
       "' Ababko'"
      ]
     },
     "execution_count": 2,
     "metadata": {},
     "output_type": "execute_result"
    }
   ],
   "source": [
    "NAMES_DUMP = \"./datasets/russian_names.txt\"\n",
    "QUOTES_DUMP = \"./datasets/author_quotes.txt\"\n",
    "LYRICS_DUMP = \"./datasets/vysotskiy_all.json\"\n",
    "\n",
    "with open(NAMES_DUMP) as f:\n",
    "    names = f.read().split(\"\\n\")\n",
    "    names = [\" \" + n for n in names]    # чтобы принимало пустой (пробельный) сид\n",
    "\n",
    "with open(QUOTES_DUMP) as f:\n",
    "    quotes = f.read().split(\"\\n\")\n",
    "    quotes = [\" \" + q for q in quotes]  # чтобы принимало пустой (пробельный) сид\n",
    "\n",
    "with open(LYRICS_DUMP) as f:\n",
    "    lyrics_json = json.load(f)\n",
    "\n",
    "names[0]"
   ]
  },
  {
   "cell_type": "code",
   "execution_count": 3,
   "metadata": {},
   "outputs": [
    {
     "name": "stdout",
     "output_type": "stream",
     "text": [
      "131.53450754852625\n"
     ]
    },
    {
     "data": {
      "text/plain": [
       "' If you live to be a hundred, I want to live to be a hundred minus one day so I never have to live without you.'"
      ]
     },
     "execution_count": 3,
     "metadata": {},
     "output_type": "execute_result"
    }
   ],
   "source": [
    "print(np.mean(list(map(len, quotes))))\n",
    "quotes[0]"
   ]
  },
  {
   "cell_type": "code",
   "execution_count": 4,
   "metadata": {},
   "outputs": [
    {
     "data": {
      "text/plain": [
       "' А люди всё роптали и роптали...\\n\\n\\n\\nА люди всё роптали и роптали,\\nА люди справедливости хотят:\\n\"Мы в очереди первыми стояли,\\nА те, кто сзади нас, уже едят!\"\\n\\nИм объяснили, чтобы не ругаться:\\n\"Мы просим вас, уйдите, дорогие!\\nТе, кто едят, — ведь это иностранцы,\\nА вы, прошу прощенья, кто такие?\"\\n\\nА люди всё кричали и кричали,\\nА люди справедливости хотят:\\n\"Ну как же так?! Мы в очереди первыми стояли,\\nА те, кто сзади нас, уже едят!\"\\n\\nНо снова объяснил администратор:\\n\"Я вас прошу, уйдите, дорогие!\\nТе, кто едят, — ведь это ж делегаты,\\nА вы, прошу прощенья, кто такие?\"\\n\\nА люди всё кричали и кричали —\\nНаверно, справедливости хотят:\\n\"Ну как же так?! Ведь мы ещё...\\nНу как же так?! Ну ещё...\\nВедь мы в очереди первыми стояли,\\nА те, кто сзади нас, уже едят!\"'"
      ]
     },
     "execution_count": 4,
     "metadata": {},
     "output_type": "execute_result"
    }
   ],
   "source": [
    "df = pd.DataFrame.from_dict(lyrics_json).T\n",
    "df[\"len\"] = df[\"lyrics\"].apply(lambda x: len(x))\n",
    "\n",
    "drop_above = 2000\n",
    "df = df[df[\"len\"] < drop_above]\n",
    "\n",
    "MAX_LEN = df[\"len\"].max()\n",
    "MEAN_LEN = df[\"len\"].mean()\n",
    "STD_LEN = df[\"len\"].std()\n",
    "\n",
    "df[\"text\"] = \" \" + df[\"name\"] + \"\\n\\n\\n\\n\" + df[\"lyrics\"]   # а вдруг начнет узнавать названия?\n",
    "lyrics = df[\"text\"].to_list()\n",
    "lyrics[0]"
   ]
  },
  {
   "cell_type": "code",
   "execution_count": 5,
   "metadata": {},
   "outputs": [
    {
     "data": {
      "text/plain": [
       "count     706.000000\n",
       "mean      845.920680\n",
       "std       501.474469\n",
       "min        45.000000\n",
       "25%       444.250000\n",
       "50%       821.500000\n",
       "75%      1212.750000\n",
       "max      1982.000000\n",
       "Name: len, dtype: float64"
      ]
     },
     "execution_count": 5,
     "metadata": {},
     "output_type": "execute_result"
    }
   ],
   "source": [
    "df[\"len\"].describe()"
   ]
  },
  {
   "cell_type": "markdown",
   "metadata": {},
   "source": [
    "# Вспомогательные полезности"
   ]
  },
  {
   "cell_type": "code",
   "execution_count": 6,
   "metadata": {},
   "outputs": [],
   "source": [
    "# функция для оценки параметров модели\n",
    "def count_parameters(model):\n",
    "    table = PrettyTable([\"Modules/Tensors\", \"GPU\", \"Dims\", \"Parameters\", \"Type\", \"Memory\"])\n",
    "    total_params, total_mem = 0, 0\n",
    "    for name, parameter in model.named_parameters():\n",
    "        if not parameter.requires_grad: continue\n",
    "        params = parameter.numel()\n",
    "        dims =  \" x \".join(map(str,  parameter.size()))\n",
    "        cuda = \"+\" if parameter.is_cuda else \" \"\n",
    "        t = parameter.dtype\n",
    "        mem = parameter.dtype.__sizeof__() * params\n",
    "        table.add_row([name, cuda, dims, params, t, mem])\n",
    "        total_params += params\n",
    "        total_mem += mem\n",
    "    print(table)\n",
    "    print(f\"Total Trainable Params: {total_params}\\nTotal memory: {total_mem/1024/1024:.2f} Mb\")\n",
    "    return total_params"
   ]
  },
  {
   "cell_type": "code",
   "execution_count": 7,
   "metadata": {},
   "outputs": [
    {
     "name": "stdout",
     "output_type": "stream",
     "text": [
      "+------+-----+------+------------+------+--------+\n",
      "| Kind | GPU | Dims | Parameters | Type | Memory |\n",
      "+------+-----+------+------------+------+--------+\n",
      "+------+-----+------+------------+------+--------+\n",
      "Total 0 objects with 0 params\n",
      "Total GPU / CPU memory: 0.00 / 0.00 Mb\n"
     ]
    },
    {
     "name": "stderr",
     "output_type": "stream",
     "text": [
      "/home/user1/envs/py39/lib/python3.9/site-packages/torch/distributed/distributed_c10d.py:170: UserWarning: torch.distributed.reduce_op is deprecated, please use torch.distributed.ReduceOp instead\n",
      "  warnings.warn(\n"
     ]
    }
   ],
   "source": [
    "def dump_tensors():\n",
    "\t\"\"\"Prints a list of the Tensors being tracked by the garbage collector.\"\"\"\n",
    "\timport gc\n",
    "\ttable = PrettyTable([\"Kind\", \"GPU\", \"Dims\", \"Parameters\", \"Type\", \"Memory\"])\n",
    "\tcount, total_params, total_gpu_mem, total_cpu_mem = 0, 0, 0, 0\n",
    "\n",
    "\tfor obj in gc.get_objects():\n",
    "\t\ttry:\n",
    "\t\t\tif torch.is_tensor(obj) or (hasattr(obj, \"data\") and torch.is_tensor(obj.data)):\n",
    "\t\t\t\tkind = type(obj).__name__\n",
    "\t\t\t\tcuda = \"+\" if obj.is_cuda else \" \"\n",
    "\t\t\t\tdims =  \" x \".join(map(str,  obj.size()))\n",
    "\t\t\t\tparams = obj.numel()\n",
    "\t\t\t\tt = obj.dtype\n",
    "\t\t\t\tmem = obj.dtype.__sizeof__() * params\n",
    "\t\t\t\t# print([kind, cuda, dims, params, t, mem])\n",
    "\t\t\t\ttable.add_row([kind, cuda, dims, params, t, mem])\n",
    "\t\t\t\tcount += 1\n",
    "\t\t\t\ttotal_params += params\n",
    "\t\t\t\ttotal_gpu_mem += mem if obj.is_cuda else 0\n",
    "\t\t\t\ttotal_cpu_mem += mem if not obj.is_cuda else 0\n",
    "\t\texcept Exception:\n",
    "\t\t\tpass \n",
    "\tprint(table)\n",
    "\tprint(f\"Total {count} objects with {total_params} params\")\n",
    "\tprint(f\"Total GPU / CPU memory: {total_gpu_mem/1024/1024:.2f} / {total_cpu_mem/1024/1024:.2f} Mb\")\n",
    "\n",
    "dump_tensors()"
   ]
  },
  {
   "cell_type": "markdown",
   "metadata": {},
   "source": [
    "# Соберем все наброски в классы"
   ]
  },
  {
   "cell_type": "markdown",
   "metadata": {},
   "source": [
    "**Тривиальный энкодер**\n",
    "- составляет словарь по текстовому корпусу\n",
    "- кодирует текст в цифровое представление (НЕ эмбеддинги)\n",
    "- декодирует прогноз нейросети в текст"
   ]
  },
  {
   "cell_type": "code",
   "execution_count": 8,
   "metadata": {},
   "outputs": [],
   "source": [
    "class CharEncoder():\n",
    "    \"\"\"Простейший энкодер, каждый символ в корпусе - это токен\"\"\"\n",
    "    def __init__(self, texts_corpus, pad=\"<pad>\"):\n",
    "        self.PAD = pad  # символ-заполнитель для 0 значения векторного представления\n",
    "        self.tokens = [self.PAD] + list(set(''.join(texts_corpus))) \n",
    "        self.token_to_id = {token: idx for idx, token in enumerate(self.tokens)}\n",
    "        self.token_to_id[self.PAD] = 0   \n",
    "        self.dict_size = len(self.tokens)                       # max input <= (embedding_dim - 1)\n",
    "\n",
    "    def encode(self, texts, dtype='int32', batch_first = True):\n",
    "        max_batch_len = max(map(len, texts))\n",
    "        data_ix = np.zeros([len(texts), max_batch_len], dtype)\n",
    "\n",
    "        for i in range(len(texts)):\n",
    "            line_ix = [self.token_to_id[c] for c in texts[i]]\n",
    "            data_ix[i, :len(line_ix)] = line_ix\n",
    "        \n",
    "        if not batch_first:                                     # [batch, token] -> [token, batch] (не используется)\n",
    "            data_ix = np.transpose(data_ix)\n",
    "\n",
    "        return data_ix\n",
    "\n",
    "    def decode(self, vector):\n",
    "        raw = ''.join([self.tokens[ix] for ix in vector])\n",
    "        p = re.compile(f\"({self.PAD})+\") \n",
    "        res = p.sub(\" \", raw)\n",
    "        return res"
   ]
  },
  {
   "cell_type": "markdown",
   "metadata": {},
   "source": [
    "Тест энкодера"
   ]
  },
  {
   "cell_type": "code",
   "execution_count": 9,
   "metadata": {},
   "outputs": [
    {
     "data": {
      "text/plain": [
       "52"
      ]
     },
     "execution_count": 9,
     "metadata": {},
     "output_type": "execute_result"
    }
   ],
   "source": [
    "e = CharEncoder(names)\n",
    "assert all([e.token_to_id[e.tokens[i]] == i for i in range(e.dict_size - 1)])\n",
    "\n",
    "e.decode(e.encode(names[:2])[0])    # ровно 1 последовательность\n",
    "e.encode(names[:2])                 # произвольный батч -> batch X max_batch_len\n",
    "e.tokens, e.token_to_id\n",
    "e.dict_size"
   ]
  },
  {
   "cell_type": "markdown",
   "metadata": {},
   "source": [
    "**Byte-pair encoder**\n",
    "\n",
    "Попробованы:\n",
    "- пакет bpe (сырое нерабочее)\n",
    "- tokenizer (не осилил)\n",
    "- youtokentome\n",
    "\n",
    "Пакет bpe (чей-то учебный проект)\n",
    "  - невнятное описание, не умеет без lowercase, делит по \" \" и это захардкодено, не понимает ведущего пробела, проглатывает переносы строки\n",
    "  - костыление приводит к UB, которое муторно отлавливать\n",
    "  - в общем, как набудь потом"
   ]
  },
  {
   "cell_type": "code",
   "execution_count": 10,
   "metadata": {},
   "outputs": [
    {
     "name": "stderr",
     "output_type": "stream",
     "text": [
      "Training parameters\n",
      "  input: ./datasets/russian_names.txt\n",
      "  model: ./datasets/russian_names.txt.yttm\n",
      "  vocab_size: 300\n",
      "  n_threads: 4\n",
      "  character_coverage: 1\n",
      "  pad: 0\n",
      "  unk: 1\n",
      "  bos: 2\n",
      "  eos: 3\n",
      "\n",
      "reading file...\n",
      "learning bpe...\n",
      "number of unique characters in the training data: 50\n",
      "number of deleted characters: 0\n",
      "number of unique characters left: 50\n",
      "model saved to: ./datasets/russian_names.txt.yttm\n"
     ]
    },
    {
     "data": {
      "text/plain": [
       "'Ababko Abaev'"
      ]
     },
     "execution_count": 10,
     "metadata": {},
     "output_type": "execute_result"
    }
   ],
   "source": [
    "class BPEncoder():\n",
    "    def __init__(self, train_file, model_file, dict_size=1000):\n",
    "        \"\"\"YouTokenToMe - работает только через внешний файл\"\"\"\n",
    "        self.train_file = train_file\n",
    "        self.model_file = model_file\n",
    "        self.dict_size = dict_size\n",
    "        yttm.BPE.train(data=self.train_file, vocab_size=self.dict_size, model=self.model_file)\n",
    "        self.tokenizer = yttm.BPE(self.model_file)\n",
    "    \n",
    "    def encode(self, texts, dtype='int32', batch_first = True):\n",
    "        vectors = self.tokenizer.encode(texts)\n",
    "\n",
    "        max_batch_len = max(map(len, vectors))\n",
    "        data_ix = np.zeros([len(texts), max_batch_len], dtype)\n",
    "        \n",
    "        for i in range(len(texts)):\n",
    "            data_ix[i, :len(vectors[i])] = vectors[i]\n",
    "        \n",
    "        if not batch_first:                                     # [batch, token] -> [token, batch] (не используется)\n",
    "            data_ix = np.transpose(data_ix)\n",
    "\n",
    "        return data_ix\n",
    "\n",
    "    def decode(self, vector):\n",
    "        \"\"\"Одна или более последовательностей -> в одну строку\"\"\"\n",
    "        vector = vector.tolist()\n",
    "        decoded = self.tokenizer.decode(vector)\n",
    "        decoded = \" \".join(decoded)\n",
    "        decoded = decoded.replace(f\"{self.tokenizer.vocab()[0]}\", \"\")\n",
    "        return decoded\n",
    "\n",
    "train_file = \"./datasets/russian_names.txt\"\n",
    "model_file = \"./datasets/russian_names.txt.yttm\"\n",
    "bpe = BPEncoder(train_file, model_file, dict_size=300)\n",
    "\n",
    "bpe.encode(names[5:12])                     # произвольный батч -> batch X max_len\n",
    "bpe.dict_size, len(bpe.tokenizer.vocab()), bpe.tokenizer.vocab()\n",
    "bpe.decode(bpe.encode(names[5:12]))\n",
    "bpe.decode(bpe.encode(['Iva']))         \n",
    "bpe.decode(bpe.encode(names[:2]))           # 1 или более последовательностей -> в одну строку"
   ]
  },
  {
   "cell_type": "markdown",
   "metadata": {},
   "source": [
    "RNN class"
   ]
  },
  {
   "cell_type": "code",
   "execution_count": 11,
   "metadata": {},
   "outputs": [],
   "source": [
    "class CharRNNLoop(nn.Module):\n",
    "    def __init__(self, dict_size, emb_size=16, rnn_num_units=64, num_layers=1):\n",
    "        super(self.__class__, self).__init__()\n",
    "        self.emb = nn.Embedding(dict_size, emb_size)\n",
    "        self.rnn = nn.RNN(emb_size, rnn_num_units, num_layers, batch_first=True)\n",
    "        self.hid_to_logits = nn.Linear(rnn_num_units, dict_size)\n",
    "        \n",
    "    def forward(self, x):\n",
    "        embeddings = self.emb(x)\n",
    "        h_seq, _ = self.rnn(embeddings)\n",
    "        next_logits = self.hid_to_logits(h_seq)\n",
    "        next_logp = F.log_softmax(next_logits, dim=-1)\n",
    "        return next_logp"
   ]
  },
  {
   "cell_type": "markdown",
   "metadata": {},
   "source": [
    "GRU class"
   ]
  },
  {
   "cell_type": "code",
   "execution_count": 12,
   "metadata": {},
   "outputs": [],
   "source": [
    "class CharGRULoop(nn.Module):\n",
    "    def __init__(self, dict_size, emb_size=16, rnn_num_units=64, num_layers=1):\n",
    "        super(self.__class__, self).__init__()\n",
    "        self.emb = nn.Embedding(dict_size, emb_size)\n",
    "        self.gru = nn.GRU(emb_size, rnn_num_units, num_layers, batch_first=True)\n",
    "        self.hid_to_logits = nn.Linear(rnn_num_units, dict_size)\n",
    "        \n",
    "    def forward(self, x):\n",
    "        embeddings = self.emb(x)\n",
    "        h_seq, _ = self.gru(embeddings)\n",
    "        next_logits = self.hid_to_logits(h_seq)\n",
    "        next_logp = F.log_softmax(next_logits, dim=-1)\n",
    "        return next_logp"
   ]
  },
  {
   "cell_type": "markdown",
   "metadata": {},
   "source": [
    "LSTM class"
   ]
  },
  {
   "cell_type": "code",
   "execution_count": 13,
   "metadata": {},
   "outputs": [],
   "source": [
    "class CharLSTMLoop(nn.Module):\n",
    "    def __init__(self, dict_size, emb_size=16, rnn_num_units=64, num_layers=1):\n",
    "        super(self.__class__, self).__init__()\n",
    "        self.emb = nn.Embedding(dict_size, emb_size)\n",
    "        self.lstm = nn.LSTM(emb_size, rnn_num_units, num_layers, batch_first=True)\n",
    "        self.hid_to_logits = nn.Linear(rnn_num_units, dict_size)\n",
    "        \n",
    "    def forward(self, x):\n",
    "        embeddings = self.emb(x)\n",
    "        h_seq, _ = self.lstm(embeddings)\n",
    "        next_logits = self.hid_to_logits(h_seq)\n",
    "        next_logp = F.log_softmax(next_logits, dim=-1)\n",
    "        return next_logp"
   ]
  },
  {
   "cell_type": "markdown",
   "metadata": {},
   "source": [
    "Тест: энкодер + рекуррентная НС"
   ]
  },
  {
   "cell_type": "code",
   "execution_count": 14,
   "metadata": {},
   "outputs": [
    {
     "name": "stdout",
     "output_type": "stream",
     "text": [
      "batch_ix.shape=torch.Size([4, 11])\n",
      "logp_seq.shape=torch.Size([4, 11, 52])\n",
      "loss=tensor(4.0003, grad_fn=<NllLossBackward0>)\n",
      "\n",
      "batch_ix.shape=torch.Size([4, 10])\n",
      "logp_seq.shape=torch.Size([4, 10, 52])\n",
      "loss=tensor(3.9978, grad_fn=<NllLossBackward0>)\n",
      "\n",
      "batch_ix.shape=torch.Size([4, 13])\n",
      "logp_seq.shape=torch.Size([4, 13, 52])\n",
      "loss=tensor(3.9341, grad_fn=<NllLossBackward0>)\n",
      "\n"
     ]
    },
    {
     "data": {
      "text/plain": [
       "0"
      ]
     },
     "execution_count": 14,
     "metadata": {},
     "output_type": "execute_result"
    }
   ],
   "source": [
    "def test(model, enc=e):\n",
    "    model = model(enc.dict_size, emb_size=8, rnn_num_units=16, num_layers=2)\n",
    "    batch_ix = enc.encode(sample(names, 4))\n",
    "    batch_ix = torch.LongTensor(batch_ix)\n",
    "    logp_seq = model.forward(batch_ix)\n",
    "    loss = F.nll_loss(logp_seq[:, :-1].contiguous().view(-1, enc.dict_size), \n",
    "                      batch_ix[:, 1:].contiguous().view(-1))\n",
    "    loss.backward()\n",
    "                                    # CharEncoder(names):\n",
    "    print(f\"{batch_ix.shape=}\")     # [8, 21] = [batch, max_len]\n",
    "    print(f\"{logp_seq.shape=}\")     # [8, 21, 52] = [batch, max_len, dict_size]\n",
    "    print(f\"{loss=}\\n\")             # scalar\n",
    "\n",
    "test(CharRNNLoop)\n",
    "test(CharLSTMLoop)\n",
    "test(CharGRULoop)\n",
    "\n",
    "gc.collect()                        # память GPU свободна"
   ]
  },
  {
   "cell_type": "markdown",
   "metadata": {},
   "source": [
    "Генератор текста"
   ]
  },
  {
   "cell_type": "code",
   "execution_count": 15,
   "metadata": {},
   "outputs": [],
   "source": [
    "class TextGenerator():\n",
    "    def __init__(self, name_prefix, encoder, device=None, model=CharRNNLoop, **model_params):\n",
    "        if device is None:\n",
    "            device = 'cuda' if torch.cuda.is_available() else 'cpu'\n",
    "        self.device = torch.device(device)\n",
    "        \n",
    "        self.history = []        \n",
    "        self.encoder = encoder\n",
    "        self.dict_size = encoder.dict_size\n",
    "        self.model = model(self.dict_size, **model_params)\n",
    "        self.model.to(self.device)\n",
    "        self.name_prefix = f\"{name_prefix}-{self.model._get_name()}\"\n",
    "\n",
    "    def train(self, texts, steps=1000, batch_size=32, \n",
    "                          optimizer=None, lr=0.001,\n",
    "                          draw=True, draw_step=100, draw_win=None,\n",
    "                          check_convergence=False):\n",
    "        \n",
    "        if optimizer is None:\n",
    "            optimizer = torch.optim.Adam(self.model.parameters(), lr=lr) \n",
    "        self.model.train()  # перевести в режим обучения\n",
    "\n",
    "        for i in range(steps):\n",
    "            batch_ix = self.encoder.encode(sample(texts, batch_size))\n",
    "            batch_ix = torch.LongTensor(batch_ix).to(self.device)\n",
    "            \n",
    "            logp_seq = self.model.forward(batch_ix)                                     # batch_size X max_batch_len X dict_size\n",
    "\n",
    "            # compute loss\n",
    "            predictions_logp = logp_seq[:, :-1].contiguous().view(-1, self.dict_size)   # предсказанные логиты вероятностей следующих токенов (кроме последней)\n",
    "            actual_next_tokens = batch_ix[:, 1:].contiguous().view(-1)                  # фактические следующие токены (целевые) (кроме первого)\n",
    "            loss = F.nll_loss(input=predictions_logp, target=actual_next_tokens)        # среднее по логитам целевых токенов\n",
    "            # loss = -torch.mean(torch.gather(predictions_logp, dim=1, index=actual_next_tokens[:, None]))\n",
    "            \n",
    "            # train with backprop\n",
    "            loss.backward()\n",
    "            optimizer.step()\n",
    "            optimizer.zero_grad()\n",
    "            \n",
    "            self.history.append(loss.detach().cpu().tolist())\n",
    "            if draw and (i + 1) % draw_step == 0:\n",
    "                clear_output(True)\n",
    "                start = max(0, len(self.history) - draw_win) if draw_win else 0\n",
    "                x_labels = list(range(start, len(self.history)))\n",
    "                plt.plot(x_labels, self.history[start:], label='loss')\n",
    "                plt.legend()\n",
    "                plt.show()\n",
    "\n",
    "        if check_convergence:\n",
    "            assert np.mean(self.history[:steps//4]) > np.mean(self.history[-(steps//4):]), \"RNN didn't converge.\"\n",
    "    \n",
    "    def generate(self, seed_phrase=\" \", length=100, temperature=1.0):\n",
    "        self.model.eval()   # перевести в режим прогноза\n",
    "        \n",
    "        x_sequence = self.encoder.encode([seed_phrase])[:, :len(seed_phrase)]   # [[x1, ..., xn, 0, ..., 0]] -> [[x1, ..., xn]]\n",
    "        x_sequence = torch.LongTensor(x_sequence).to(self.device)               # 1 X seed_len\n",
    "\n",
    "        #start generating\n",
    "        for _ in range(length - len(seed_phrase)):\n",
    "            logp_next = self.model.forward(x_sequence).detach().cpu()\n",
    "\n",
    "            p_next = F.softmax(logp_next / temperature, dim=-1).data.numpy()[0, -1]\n",
    "            next_ix = np.random.choice(self.dict_size, p=p_next)\n",
    "            next_ix = torch.tensor([[next_ix]], dtype=torch.int64).to(self.device)\n",
    "            x_sequence = torch.cat([x_sequence, next_ix], dim=1).to(self.device)\n",
    "            \n",
    "        x_sequence = x_sequence.data.detach().cpu().numpy()[0]\n",
    "        \n",
    "        return self.encoder.decode(x_sequence)\n",
    "\n",
    "    def save(self, yttm=False):\n",
    "        if not yttm:\n",
    "            with open(f\"./models/{self.name_prefix}-encoder.pkl\", \"wb\") as f:\n",
    "                pickle.dump(self.encoder, f)\n",
    "        np.save(f\"./models/{self.name_prefix}-history.npy\", self.history)\n",
    "        torch.save(self.model.state_dict(), f\"./models/{self.name_prefix}-model.pth\")\n",
    "    \n",
    "    def load(self, yttm=False):\n",
    "        try:\n",
    "            if not yttm:\n",
    "                with open(f\"./models/{self.name_prefix}-encoder.pkl\", \"rb\") as f:\n",
    "                    self.encoder = pickle.load(f)\n",
    "            self.dict_size = self.encoder.dict_size\n",
    "            \n",
    "            self.history = np.load(f\"./models/{self.name_prefix}-history.npy\")\n",
    "            self.model.load_state_dict(torch.load(f\"./models/{self.name_prefix}-model.pth\", \n",
    "                                            map_location=self.device))\n",
    "        except:\n",
    "            raise ValueError(\"Model NOT loaded. Either no dumps or model parameters of dumps mismatch.\")"
   ]
  },
  {
   "cell_type": "markdown",
   "metadata": {},
   "source": [
    "**Че такое эмбеддинг?**"
   ]
  },
  {
   "cell_type": "code",
   "execution_count": 16,
   "metadata": {},
   "outputs": [
    {
     "data": {
      "text/plain": [
       "(tensor([[[ 0.7960, -1.4435,  1.1900],\n",
       "          [ 0.0561, -0.4360, -1.5682],\n",
       "          [ 0.0561, -0.4360, -1.5682]],\n",
       " \n",
       "         [[ 0.0561, -0.4360, -1.5682],\n",
       "          [ 0.7960, -1.4435,  1.1900],\n",
       "          [ 0.0561, -0.4360, -1.5682]]], grad_fn=<EmbeddingBackward0>),\n",
       " tensor([[ 0.7960, -1.4435,  1.1900],\n",
       "         [ 0.0561, -0.4360, -1.5682],\n",
       "         [ 0.0561, -0.4360, -1.5682]], grad_fn=<IndexBackward0>))"
      ]
     },
     "execution_count": 16,
     "metadata": {},
     "output_type": "execute_result"
    }
   ],
   "source": [
    "dict_size, emb_size = 2, 3\n",
    "\n",
    "# матрица весов эмбеддингов, если не грузится готовая (например pretrained для некоторых токенов),\n",
    "# то прост инициализируется стандартным нормальным шумом\n",
    "emb = nn.Embedding(dict_size, emb_size)     \n",
    "\n",
    "x1 = [1,0,0]  # текст 1\n",
    "x2 = [0,1,0]  # текст 2\n",
    "\n",
    "x = torch.tensor([x1, x2])  # пакет текстов (батч)\n",
    "\n",
    "emb(x), emb.weight[x1]      # это прост выборка по индексам текстов из матрицы весов"
   ]
  },
  {
   "cell_type": "markdown",
   "metadata": {},
   "source": [
    "## Потестим на именах\n",
    "\n",
    "- Создание\n",
    "- Обучение\n",
    "- Сохранение\n",
    "- Генерация\n",
    "\n",
    "Параметр `rnn_num_units` - количество скрытых слоев в сети в случае RNN означает глубину памяти, насколько длинные входные последовательности будут обрабатываться НС как единое целое, т.е. это максимальная длина последовательности для которых НС будет подбирать связи.\n",
    "\n",
    "Параметр `emb_size` - размерность векторного представления токенов (обучаемое (но не в данном случае) векторное представление объекта), характеризует количество степеней свободы, в которых может быть оценено сходство текстов\n",
    "\n",
    "Параметр `num_layers` - количество слоев НС, характеризует степень обобщения входных данных, сложность отыскиваемых закономерностей (степень кривизны разделяющей классы поверхности)"
   ]
  },
  {
   "cell_type": "code",
   "execution_count": 17,
   "metadata": {},
   "outputs": [
    {
     "data": {
      "image/png": "[encoded data removed]",
      "text/plain": [
       "<Figure size 432x288 with 1 Axes>"
      ]
     },
     "metadata": {
      "needs_background": "light"
     },
     "output_type": "display_data"
    },
    {
     "name": "stdout",
     "output_type": "stream",
     "text": [
      "Ivatyon  Ivanov  Ivaziiif  Ivanmochov  Ivahompov  Ivankolov  Iva  Ivakon  Ivah  Ivanky \n"
     ]
    }
   ],
   "source": [
    "names_encoder = CharEncoder(names)\n",
    "\n",
    "names_generator = TextGenerator(name_prefix=\"names\",\n",
    "                                      encoder=names_encoder, \n",
    "                                      model=CharRNNLoop, \n",
    "                                      emb_size=8, rnn_num_units=16, num_layers=1)\n",
    "\n",
    "names_generator.train(names, steps=1000)\n",
    "names_generator.save()\n",
    "\n",
    "print(*[names_generator.generate(seed_phrase=\"Iva\", length=20) for _ in range(10)])"
   ]
  },
  {
   "cell_type": "markdown",
   "metadata": {},
   "source": [
    "- загрузка\n",
    "- генерация"
   ]
  },
  {
   "cell_type": "code",
   "execution_count": 18,
   "metadata": {},
   "outputs": [
    {
     "name": "stdout",
     "output_type": "stream",
     "text": [
      " Vatelion i   Vinrov   Stien u   TupovovD on   Ananov   Areftte o  Borwan ss   Chadezya   Veroven   B,eruna \n"
     ]
    }
   ],
   "source": [
    "names_generator1 = TextGenerator(name_prefix=\"names\", \n",
    "                                encoder=names_encoder,\n",
    "                                model=CharRNNLoop, \n",
    "                                emb_size=8, rnn_num_units=16, num_layers=1) # для загрузки эти параметры должны совпадать\n",
    "names_generator1.load()\n",
    "print(*[names_generator1.generate(length=20) for _ in range(10)])"
   ]
  },
  {
   "cell_type": "markdown",
   "metadata": {},
   "source": [
    "- доучивание\n",
    "- сохранение\n",
    "- генерация"
   ]
  },
  {
   "cell_type": "code",
   "execution_count": 19,
   "metadata": {},
   "outputs": [
    {
     "data": {
      "image/png": "[encoded data removed]",
      "text/plain": [
       "<Figure size 432x288 with 1 Axes>"
      ]
     },
     "metadata": {
      "needs_background": "light"
     },
     "output_type": "display_data"
    },
    {
     "name": "stdout",
     "output_type": "stream",
     "text": [
      " Ebeomyav   Yadilov   Janonkov   Vuhonfs   Myamenshav   Maloryev   Jakhanu   Kamimugashov   ashulniiy   Jomag \n"
     ]
    }
   ],
   "source": [
    "names_generator.train(names, batch_size=128, steps=1000, lr=0.001 * 0.5,\n",
    "                             draw_step= 50, draw_win=1000)\n",
    "names_generator.save()\n",
    "\n",
    "print(*[names_generator.generate(length=20) for _ in range(10)])"
   ]
  },
  {
   "cell_type": "code",
   "execution_count": 20,
   "metadata": {},
   "outputs": [],
   "source": [
    "del names_encoder, names_generator, names_generator1\n",
    "gc.collect()\n",
    "torch.cuda.empty_cache()    # память GPU свободна"
   ]
  },
  {
   "cell_type": "markdown",
   "metadata": {},
   "source": [
    "BPE"
   ]
  },
  {
   "cell_type": "code",
   "execution_count": 21,
   "metadata": {},
   "outputs": [
    {
     "data": {
      "image/png": "[encoded data removed]",
      "text/plain": [
       "<Figure size 432x288 with 1 Axes>"
      ]
     },
     "metadata": {
      "needs_background": "light"
     },
     "output_type": "display_data"
    },
    {
     "name": "stdout",
     "output_type": "stream",
     "text": [
      "Ivaukovgkin Ivadinov Ivao Ivairoffl Ivaovskyovskyas Ivaoranuhimov Iva Ivaushinoko Ivaonohovskyk Ivaor\n"
     ]
    }
   ],
   "source": [
    "train_file = \"./datasets/russian_names.txt\"\n",
    "model_file = \"./datasets/russian_names.txt.yttm\"\n",
    "bpe_names_encoder = BPEncoder(train_file, model_file, dict_size=300)\n",
    "\n",
    "bpe_names_generator = TextGenerator(name_prefix=\"names-bpe\",\n",
    "                                      encoder=bpe_names_encoder, \n",
    "                                      model=CharRNNLoop, \n",
    "                                      emb_size=8, rnn_num_units=16, num_layers=1)\n",
    "\n",
    "bpe_names_generator.train(names, steps=1000)\n",
    "bpe_names_generator.save(yttm=True)\n",
    "\n",
    "bpe_names_generator1 = TextGenerator(name_prefix=\"names-bpe\", \n",
    "                                encoder=bpe_names_encoder,\n",
    "                                model=CharRNNLoop, \n",
    "                                emb_size=8, rnn_num_units=16, num_layers=1) # для загрузки эти параметры должны совпадать\n",
    "bpe_names_generator1.load(yttm=True)\n",
    "\n",
    "print(*[bpe_names_generator1.generate(seed_phrase=\"Iva\", length=20) for _ in range(10)])\n",
    "\n",
    "del bpe_names_encoder, bpe_names_generator, bpe_names_generator1\n",
    "gc.collect()\n",
    "torch.cuda.empty_cache()    # память GPU свободна"
   ]
  },
  {
   "cell_type": "markdown",
   "metadata": {},
   "source": [
    "# Генерация лозунгов\n",
    "\n",
    "#### Цитаты RNN\n",
    "\n",
    "- 3 мин. 20 сек."
   ]
  },
  {
   "cell_type": "code",
   "execution_count": 22,
   "metadata": {},
   "outputs": [
    {
     "name": "stdout",
     "output_type": "stream",
     "text": [
      "+----------------------+-----+-----------+------------+---------------+---------+\n",
      "|   Modules/Tensors    | GPU |    Dims   | Parameters |      Type     |  Memory |\n",
      "+----------------------+-----+-----------+------------+---------------+---------+\n",
      "|      emb.weight      |  +  |  86 x 16  |    1376    | torch.float32 |  121088 |\n",
      "|   rnn.weight_ih_l0   |  +  |  128 x 16 |    2048    | torch.float32 |  180224 |\n",
      "|   rnn.weight_hh_l0   |  +  | 128 x 128 |   16384    | torch.float32 | 1441792 |\n",
      "|    rnn.bias_ih_l0    |  +  |    128    |    128     | torch.float32 |  11264  |\n",
      "|    rnn.bias_hh_l0    |  +  |    128    |    128     | torch.float32 |  11264  |\n",
      "|   rnn.weight_ih_l1   |  +  | 128 x 128 |   16384    | torch.float32 | 1441792 |\n",
      "|   rnn.weight_hh_l1   |  +  | 128 x 128 |   16384    | torch.float32 | 1441792 |\n",
      "|    rnn.bias_ih_l1    |  +  |    128    |    128     | torch.float32 |  11264  |\n",
      "|    rnn.bias_hh_l1    |  +  |    128    |    128     | torch.float32 |  11264  |\n",
      "| hid_to_logits.weight |  +  |  86 x 128 |   11008    | torch.float32 |  968704 |\n",
      "|  hid_to_logits.bias  |  +  |     86    |     86     | torch.float32 |   7568  |\n",
      "+----------------------+-----+-----------+------------+---------------+---------+\n",
      "Total Trainable Params: 64182\n",
      "Total memory: 5.39 Mb\n"
     ]
    },
    {
     "data": {
      "text/plain": [
       "64182"
      ]
     },
     "execution_count": 22,
     "metadata": {},
     "output_type": "execute_result"
    }
   ],
   "source": [
    "SKIP = QUICK_RUN\n",
    "\n",
    "quotes_encoder = CharEncoder(quotes)\n",
    "quotes_generator = TextGenerator(name_prefix=\"quotes\",\n",
    "                                 encoder=quotes_encoder, \n",
    "                                 model=CharRNNLoop, \n",
    "                                 emb_size=16, rnn_num_units=128, num_layers=2)\n",
    "\n",
    "count_parameters(quotes_generator.model)"
   ]
  },
  {
   "cell_type": "code",
   "execution_count": 23,
   "metadata": {},
   "outputs": [],
   "source": [
    "if SKIP:\n",
    "    quotes_generator.load()\n",
    "else:\n",
    "    quotes_generator.train(quotes, steps=1000)\n",
    "    quotes_generator.save()"
   ]
  },
  {
   "cell_type": "markdown",
   "metadata": {},
   "source": [
    "Доучивание\n",
    "- увеличим размер пакета + уменьшим шаг -> увеличим точность градиентного шага -> уменьшим дисперсию ошибки функции потерь"
   ]
  },
  {
   "cell_type": "code",
   "execution_count": 24,
   "metadata": {},
   "outputs": [],
   "source": [
    "if not SKIP:\n",
    "    quotes_generator.train(quotes, batch_size=128, steps=1000, lr = 0.001 * 0.2, \n",
    "                                   draw_step=50, draw_win=1000)\n",
    "    quotes_generator.save()"
   ]
  },
  {
   "cell_type": "markdown",
   "metadata": {},
   "source": [
    "Результат"
   ]
  },
  {
   "cell_type": "code",
   "execution_count": 25,
   "metadata": {},
   "outputs": [
    {
     "name": "stdout",
     "output_type": "stream",
     "text": [
      "->   And alst who sare psomething place or the been not maron. \n",
      "->   Meliends, I have that. What beligate mestrying of story. There ow mistanding. \n",
      "->   There I fan pail wishes, Hlander its, usway, and Ammone that's live world are 'Ding man with the think the receste than ozsting cotalucative than im wants o\n",
      "->   Dich in scopdess acpriges; I Coursule. Neging firs, things on was the griters to burets qursliticl, ant. \n",
      "->   The ullise our but for the am, the of read. It's not more a because houth But world goseonters of as sing oun't alone who are in you hone a lu\n",
      "->   You netde undiess ippresels hise grangs iutver alward to lichtent in to brrone oy. There or about, and everybods where as be. \n",
      "->   It's mary to standing betoring to make this. \n",
      "->   Sto the mover, batbor and tum beader world, I dan Littly the trajkt soriin, Te one lo:e. \n",
      "->   I appon, bestand of charking it cazled in Roliction from. \n",
      "->   Playres and a verict alwer has lust find creatirity hissert, at. Un eded so take thoultes comal. I ket and you aw myself insedision, and I suder in peo\n"
     ]
    }
   ],
   "source": [
    "for _ in range(10):\n",
    "    length = round(np.random.randn() * np.sqrt(100) + 150)\n",
    "    print('-> ', quotes_generator.generate(length=length))"
   ]
  },
  {
   "cell_type": "markdown",
   "metadata": {},
   "source": [
    "#### Цитаты на GRU\n",
    "\n",
    "- 4 мин."
   ]
  },
  {
   "cell_type": "code",
   "execution_count": 26,
   "metadata": {},
   "outputs": [],
   "source": [
    "del quotes_generator\n",
    "gc.collect()\n",
    "torch.cuda.empty_cache()    # память GPU свободна"
   ]
  },
  {
   "cell_type": "code",
   "execution_count": 27,
   "metadata": {},
   "outputs": [
    {
     "name": "stdout",
     "output_type": "stream",
     "text": [
      "+----------------------+-----+-----------+------------+---------------+---------+\n",
      "|   Modules/Tensors    | GPU |    Dims   | Parameters |      Type     |  Memory |\n",
      "+----------------------+-----+-----------+------------+---------------+---------+\n",
      "|      emb.weight      |  +  |  86 x 16  |    1376    | torch.float32 |  121088 |\n",
      "|   gru.weight_ih_l0   |  +  |  384 x 16 |    6144    | torch.float32 |  540672 |\n",
      "|   gru.weight_hh_l0   |  +  | 384 x 128 |   49152    | torch.float32 | 4325376 |\n",
      "|    gru.bias_ih_l0    |  +  |    384    |    384     | torch.float32 |  33792  |\n",
      "|    gru.bias_hh_l0    |  +  |    384    |    384     | torch.float32 |  33792  |\n",
      "|   gru.weight_ih_l1   |  +  | 384 x 128 |   49152    | torch.float32 | 4325376 |\n",
      "|   gru.weight_hh_l1   |  +  | 384 x 128 |   49152    | torch.float32 | 4325376 |\n",
      "|    gru.bias_ih_l1    |  +  |    384    |    384     | torch.float32 |  33792  |\n",
      "|    gru.bias_hh_l1    |  +  |    384    |    384     | torch.float32 |  33792  |\n",
      "| hid_to_logits.weight |  +  |  86 x 128 |   11008    | torch.float32 |  968704 |\n",
      "|  hid_to_logits.bias  |  +  |     86    |     86     | torch.float32 |   7568  |\n",
      "+----------------------+-----+-----------+------------+---------------+---------+\n",
      "Total Trainable Params: 167606\n",
      "Total memory: 14.07 Mb\n"
     ]
    },
    {
     "data": {
      "text/plain": [
       "167606"
      ]
     },
     "execution_count": 27,
     "metadata": {},
     "output_type": "execute_result"
    }
   ],
   "source": [
    "SKIP = QUICK_RUN\n",
    "\n",
    "quotes_generator = TextGenerator(name_prefix=\"quotes\",\n",
    "                                 encoder=quotes_encoder, \n",
    "                                 model=CharGRULoop, \n",
    "                                 emb_size=16, rnn_num_units=128, num_layers=2)\n",
    "\n",
    "count_parameters(quotes_generator.model)"
   ]
  },
  {
   "cell_type": "code",
   "execution_count": 28,
   "metadata": {},
   "outputs": [],
   "source": [
    "if SKIP:\n",
    "    quotes_generator.load()\n",
    "else:\n",
    "    quotes_generator.train(quotes, steps=1000)\n",
    "    quotes_generator.train(quotes, batch_size=128, steps=1000, lr = 0.001 * 0.2, \n",
    "                                   draw_step=50, draw_win=1000)\n",
    "    quotes_generator.save()"
   ]
  },
  {
   "cell_type": "code",
   "execution_count": 29,
   "metadata": {},
   "outputs": [
    {
     "name": "stdout",
     "output_type": "stream",
     "text": [
      "->   My that there's a cistion? \n",
      "->   Whough for the every Vill beauctional finalos, luck to gover. \n",
      "->   S rever her trafre, I lot in a hove to rodied on that atting for, to a got delemagise is classer. \n",
      "->   In my charic aremearned out histases and have pulon mark that get mave a commin and the stycafes in can sount by qayion wheakem, but Allcurals thking\n",
      "->   Snow are who yeurk only as part on Terming froppe in thoower be geirm, not a mothers for at have know drastrood of person. You do not who really iveration that def\n",
      "->   Those liking from taderish todaid. It's make up in a late intelletion; I, everychind wonder greatest hums; of inmenta. \n",
      "->   Look was the groung to expectic frans of posmilituse your of spiair, you don't know you never people. It's theper but enadies the trughted oning to me\n",
      "->   Peoligian and I camerely the octumment of maske worsed becauges. When I want to wate bling mort that jusmine bown's who always don't really preshed hurts. \n",
      "->   If I was a believe been look and could be in boundod that a phoblever, the too me at the innow age, engear some time, sprames sued that they hea ne what\n",
      "->   The acales gapper impertally poosiness and that insicted in leading to alweaeving atting this best appould lise me-time, and I have that saed from \n"
     ]
    }
   ],
   "source": [
    "for _ in range(10):\n",
    "    length = round(np.random.randn() * np.sqrt(100) + 150)\n",
    "    print('-> ', quotes_generator.generate(length=length))"
   ]
  },
  {
   "cell_type": "markdown",
   "metadata": {},
   "source": [
    "#### Цитаты на LSTM\n",
    "\n",
    "- 4 мин. 15 сек."
   ]
  },
  {
   "cell_type": "code",
   "execution_count": 30,
   "metadata": {},
   "outputs": [],
   "source": [
    "del quotes_generator\n",
    "gc.collect()\n",
    "torch.cuda.empty_cache()    # память GPU свободна"
   ]
  },
  {
   "cell_type": "code",
   "execution_count": 31,
   "metadata": {},
   "outputs": [],
   "source": [
    "SKIP = QUICK_RUN\n",
    "\n",
    "quotes_generator = TextGenerator(name_prefix=\"quotes\",\n",
    "                                 encoder=quotes_encoder, \n",
    "                                 model=CharLSTMLoop, \n",
    "                                 emb_size=16, rnn_num_units=128, num_layers=2)\n",
    "\n",
    "if SKIP:\n",
    "    quotes_generator.load()\n",
    "else:\n",
    "    quotes_generator.train(quotes, steps=1000)\n",
    "    quotes_generator.train(quotes, batch_size=128, steps=1000, lr = 0.001 * 0.2, \n",
    "                                   draw_step=50, draw_win=1000)\n",
    "    quotes_generator.save()"
   ]
  },
  {
   "cell_type": "code",
   "execution_count": 32,
   "metadata": {},
   "outputs": [
    {
     "name": "stdout",
     "output_type": "stream",
     "text": [
      "->   My that he laiblis anther trick. It Every to den. \n",
      "->   The beacalwalds and the so get done the sgest, we frot abaudion ikigraraiple wrage they is now ever notresting the 2bseen., These charse seem b\n",
      "->   Haen a grea pid colldent of me chighs edever if be these because that there well. \n",
      "->   I'm fine Affiration socar, it Nown't an Dares, I have nement of veron?. \n",
      "->   Their the firtor wren livery onou, you stime. \n",
      "->   Anty am to out citso all griably to never in a somofley reat all yound's like I'm bly afry lainously precately you. \n",
      "->   Sugther feregpuoce had will hard; is igeland to my storthory what paroks to ose mears. \n",
      "->   In Sake have or ploamrates. \n",
      "->   My the mode-sionity and bejust that, ald nabsulid the matic the dicditiove. They feem us Giple you but wite for whire give. \n",
      "->   I'm lating exfed I so aluytry at oudtosny, bower outhiely. \n"
     ]
    }
   ],
   "source": [
    "for _ in range(10):\n",
    "    length = round(np.random.randn() * np.sqrt(100) + 150)\n",
    "    print('-> ', quotes_generator.generate(length=length))"
   ]
  },
  {
   "cell_type": "markdown",
   "metadata": {},
   "source": [
    "# Высоцкий\n"
   ]
  },
  {
   "cell_type": "code",
   "execution_count": 33,
   "metadata": {},
   "outputs": [],
   "source": [
    "del quotes_generator\n",
    "gc.collect()\n",
    "torch.cuda.empty_cache()    # память GPU свободна"
   ]
  },
  {
   "cell_type": "code",
   "execution_count": 34,
   "metadata": {},
   "outputs": [
    {
     "name": "stdout",
     "output_type": "stream",
     "text": [
      "+----------------------+-----+------------+------------+---------------+----------+\n",
      "|   Modules/Tensors    | GPU |    Dims    | Parameters |      Type     |  Memory  |\n",
      "+----------------------+-----+------------+------------+---------------+----------+\n",
      "|      emb.weight      |  +  |  132 x 32  |    4224    | torch.float32 |  371712  |\n",
      "|  lstm.weight_ih_l0   |  +  | 1024 x 32  |   32768    | torch.float32 | 2883584  |\n",
      "|  lstm.weight_hh_l0   |  +  | 1024 x 256 |   262144   | torch.float32 | 23068672 |\n",
      "|   lstm.bias_ih_l0    |  +  |    1024    |    1024    | torch.float32 |  90112   |\n",
      "|   lstm.bias_hh_l0    |  +  |    1024    |    1024    | torch.float32 |  90112   |\n",
      "|  lstm.weight_ih_l1   |  +  | 1024 x 256 |   262144   | torch.float32 | 23068672 |\n",
      "|  lstm.weight_hh_l1   |  +  | 1024 x 256 |   262144   | torch.float32 | 23068672 |\n",
      "|   lstm.bias_ih_l1    |  +  |    1024    |    1024    | torch.float32 |  90112   |\n",
      "|   lstm.bias_hh_l1    |  +  |    1024    |    1024    | torch.float32 |  90112   |\n",
      "|  lstm.weight_ih_l2   |  +  | 1024 x 256 |   262144   | torch.float32 | 23068672 |\n",
      "|  lstm.weight_hh_l2   |  +  | 1024 x 256 |   262144   | torch.float32 | 23068672 |\n",
      "|   lstm.bias_ih_l2    |  +  |    1024    |    1024    | torch.float32 |  90112   |\n",
      "|   lstm.bias_hh_l2    |  +  |    1024    |    1024    | torch.float32 |  90112   |\n",
      "| hid_to_logits.weight |  +  | 132 x 256  |   33792    | torch.float32 | 2973696  |\n",
      "|  hid_to_logits.bias  |  +  |    132     |    132     | torch.float32 |  11616   |\n",
      "+----------------------+-----+------------+------------+---------------+----------+\n",
      "Total Trainable Params: 1387780\n",
      "Total memory: 116.47 Mb\n"
     ]
    },
    {
     "data": {
      "text/plain": [
       "1387780"
      ]
     },
     "execution_count": 34,
     "metadata": {},
     "output_type": "execute_result"
    }
   ],
   "source": [
    "SKIP = QUICK_RUN\n",
    "\n",
    "lyrics_encoder = CharEncoder(lyrics)\n",
    "lyrics_generator = TextGenerator(name_prefix=\"lyrics\",\n",
    "                                 encoder=lyrics_encoder, \n",
    "                                 model=CharLSTMLoop, \n",
    "                                 emb_size=32, rnn_num_units=256, num_layers=3)\n",
    "\n",
    "count_parameters(lyrics_generator.model)"
   ]
  },
  {
   "cell_type": "code",
   "execution_count": 35,
   "metadata": {},
   "outputs": [],
   "source": [
    "if SKIP:\n",
    "    lyrics_generator.load()\n",
    "else:\n",
    "    lyrics_generator.train(lyrics, batch_size=10, steps=1000, draw_step=10)\n",
    "    lyrics_generator.save()"
   ]
  },
  {
   "cell_type": "code",
   "execution_count": 36,
   "metadata": {},
   "outputs": [],
   "source": [
    "if not SKIP:\n",
    "    lyrics_generator.train(lyrics, batch_size=10, steps=1000, lr = 0.001 * 0.5, draw_step=10)\n",
    "    lyrics_generator.save()"
   ]
  },
  {
   "cell_type": "code",
   "execution_count": 37,
   "metadata": {},
   "outputs": [],
   "source": [
    "if not SKIP:\n",
    "    lyrics_generator.train(lyrics, batch_size=10, steps=1000, lr = 0.001 * 0.1, draw_step=10)\n",
    "    lyrics_generator.save()"
   ]
  },
  {
   "cell_type": "code",
   "execution_count": 38,
   "metadata": {},
   "outputs": [
    {
     "name": "stdout",
     "output_type": "stream",
     "text": [
      "Привет стране (Вылюзил я навезде вдруг цезплечей...\n",
      "\n",
      "\n",
      "\n",
      "Не жара, — я, Зажем плечи,\n",
      "На Потере, один боюм?\n",
      "\n",
      "А это поредственный трайство души?\n",
      "Тресам обиз забрызы n\n",
      "Схланя всех Страется вдоров,\n",
      "Что сказождю оспотипели\n",
      "Лицо молчаю,\n",
      "Но все, ещё, что угодню.\n",
      "Надеюшь, молла заповеграньня, —\n",
      "Хоть всё обновать, то шафаров шверь,\n",
      "Что охоит вернаспор хоть, бог.  \n",
      "----------------------------------------------------------------------------------------------------\n",
      "\n"
     ]
    }
   ],
   "source": [
    "res = []\n",
    "for _ in range(5 if not SKIP else 1):\n",
    "    length = round(np.random.randn() * np.sqrt(500) + 800)\n",
    "    res.append(lyrics_generator.generate(seed_phrase=\"Привет\", temperature=1.0, length=length))\n",
    "    print(res[-1], \"\\n\" + \"-\"*100 + \"\\n\")"
   ]
  },
  {
   "cell_type": "code",
   "execution_count": 39,
   "metadata": {},
   "outputs": [],
   "source": [
    "with open(\"./lyrics.txt\", \"a\") as f:\n",
    "    for lines in res:\n",
    "        f.write(\"\\n\")\n",
    "        f.write(lines)\n",
    "        f.write(\"\\n\"+ \"-\"*100 + \"\\n\")"
   ]
  },
  {
   "cell_type": "code",
   "execution_count": 40,
   "metadata": {},
   "outputs": [],
   "source": [
    "del lyrics_generator, lyrics_encoder\n",
    "gc.collect()\n",
    "torch.cuda.empty_cache()"
   ]
  },
  {
   "cell_type": "markdown",
   "metadata": {},
   "source": [
    "# Высоцкий. BPE\n",
    "\n",
    "Энкодер"
   ]
  },
  {
   "cell_type": "code",
   "execution_count": 41,
   "metadata": {},
   "outputs": [],
   "source": [
    "# сначала обработанные тексты в обучающий файл\n",
    "# with open(\"./datasets/vysotskiy_all.txt\", \"w\") as f:\n",
    "#     f.writelines(lyrics)\n",
    "SKIP = QUICK_RUN"
   ]
  },
  {
   "cell_type": "code",
   "execution_count": 42,
   "metadata": {},
   "outputs": [
    {
     "name": "stderr",
     "output_type": "stream",
     "text": [
      "Training parameters\n",
      "  input: ./datasets/vysotskiy_all.txt\n",
      "  model: ./datasets/vysotskiy_all.txt.yttm\n",
      "  vocab_size: 500\n",
      "  n_threads: 4\n",
      "  character_coverage: 1\n",
      "  pad: 0\n",
      "  unk: 1\n",
      "  bos: 2\n",
      "  eos: 3\n",
      "\n",
      "reading file...\n",
      "learning bpe...\n",
      "number of unique characters in the training data: 129\n",
      "number of deleted characters: 0\n",
      "number of unique characters left: 129\n",
      "model saved to: ./datasets/vysotskiy_all.txt.yttm\n"
     ]
    }
   ],
   "source": [
    "train_file = \"./datasets/vysotskiy_all.txt\"\n",
    "model_file = train_file + '.yttm'\n",
    "dict_size = 500\n",
    "\n",
    "bpe_lyrics_encoder = BPEncoder(train_file, model_file, dict_size=dict_size)"
   ]
  },
  {
   "cell_type": "code",
   "execution_count": 43,
   "metadata": {},
   "outputs": [
    {
     "name": "stdout",
     "output_type": "stream",
     "text": [
      "+----------------------+-----+-----------+------------+---------------+----------+\n",
      "|   Modules/Tensors    | GPU |    Dims   | Parameters |      Type     |  Memory  |\n",
      "+----------------------+-----+-----------+------------+---------------+----------+\n",
      "|      emb.weight      |  +  |  500 x 32 |   16000    | torch.float32 | 1408000  |\n",
      "|   gru.weight_ih_l0   |  +  |  768 x 32 |   24576    | torch.float32 | 2162688  |\n",
      "|   gru.weight_hh_l0   |  +  | 768 x 256 |   196608   | torch.float32 | 17301504 |\n",
      "|    gru.bias_ih_l0    |  +  |    768    |    768     | torch.float32 |  67584   |\n",
      "|    gru.bias_hh_l0    |  +  |    768    |    768     | torch.float32 |  67584   |\n",
      "|   gru.weight_ih_l1   |  +  | 768 x 256 |   196608   | torch.float32 | 17301504 |\n",
      "|   gru.weight_hh_l1   |  +  | 768 x 256 |   196608   | torch.float32 | 17301504 |\n",
      "|    gru.bias_ih_l1    |  +  |    768    |    768     | torch.float32 |  67584   |\n",
      "|    gru.bias_hh_l1    |  +  |    768    |    768     | torch.float32 |  67584   |\n",
      "|   gru.weight_ih_l2   |  +  | 768 x 256 |   196608   | torch.float32 | 17301504 |\n",
      "|   gru.weight_hh_l2   |  +  | 768 x 256 |   196608   | torch.float32 | 17301504 |\n",
      "|    gru.bias_ih_l2    |  +  |    768    |    768     | torch.float32 |  67584   |\n",
      "|    gru.bias_hh_l2    |  +  |    768    |    768     | torch.float32 |  67584   |\n",
      "| hid_to_logits.weight |  +  | 500 x 256 |   128000   | torch.float32 | 11264000 |\n",
      "|  hid_to_logits.bias  |  +  |    500    |    500     | torch.float32 |  44000   |\n",
      "+----------------------+-----+-----------+------------+---------------+----------+\n",
      "Total Trainable Params: 1156724\n",
      "Total memory: 97.08 Mb\n"
     ]
    },
    {
     "data": {
      "text/plain": [
       "1156724"
      ]
     },
     "execution_count": 43,
     "metadata": {},
     "output_type": "execute_result"
    }
   ],
   "source": [
    "bpe_lyrics_generator = TextGenerator(name_prefix=\"lyrics-bpe\",\n",
    "                                    encoder=bpe_lyrics_encoder, \n",
    "                                    model=CharGRULoop, \n",
    "                                    emb_size=32, rnn_num_units=256, num_layers=3)\n",
    "\n",
    "count_parameters(bpe_lyrics_generator.model)"
   ]
  },
  {
   "cell_type": "markdown",
   "metadata": {},
   "source": [
    "Недоученная модель, просто посмотреть"
   ]
  },
  {
   "cell_type": "code",
   "execution_count": 44,
   "metadata": {},
   "outputs": [],
   "source": [
    "if SKIP:\n",
    "    bpe_lyrics_generator.load(yttm=True)\n",
    "else:\n",
    "    bpe_lyrics_generator.train(lyrics, batch_size=10, steps=1000, draw_step=10)\n",
    "    bpe_lyrics_generator.save(yttm=True)"
   ]
  },
  {
   "cell_type": "code",
   "execution_count": 45,
   "metadata": {},
   "outputs": [
    {
     "name": "stdout",
     "output_type": "stream",
     "text": [
      "Приветим пекает и зальны до тбортик... Холоды на кавай устовою за порочной! Эй, до икет! Спью и одинёт? Эсет похором, Всто как! Отперь, ты лучше крупскибю. Расживой карку у дорога... Екрым, не меня, с дяшались в тридней. Но старыночно всёныно в коне, Что но срептанести, как ничего, не поторой, Но они в друр назад на так В мимноражиет устал насовациднишель: За ми не без гровой, В \"кеозкамнув, серы не пукякаться-кроисаоцо — А друг зат! Говорьного рён — Ты, вонаманная-под. Вот что видел они нек: Или ждут — рцуть, надлько ником: Не от-дижал-чена, где кудаланных Я — чуд, вслимися — первых кро. И реллупым тону будет: Там, на друста — На роратра чаль, Ведь реды сказалитсят день под жижаным кольн. Ах, как во так его в другу! А судьхо мне что поесте — Малонлями... Вегтый Юмо счачает я и ударичь, Но вот понялся за голов. Кубы, как стролея! Как... Криданные Для однищ меня конщию в натезд. А на кони на себя и встанции вновья да оствое иль: Бертёца, попыла на сказцми: \"Стистрик\"-то!\" Если цетелась косвеми, как припадке: Мы до дохалього — тьлотному. В ляпнкае пути есй, — На виковю слови, Подшётся, из Му,огохатся слазу мала... Жазях на дым пигальнестиет взглястам! Роловой часи Баждаю непрятыли Вищийся не квогам запывать... Вот тишише кто время — и-мести не однобра. Не не грядом под продёт уволи в ломи Не палютка тебе доразише. Еши не знаю саноть — Была по нела безбийся И совсем приетна. В страмах топслова, слубол, Зногодо зала взльно. Но вот не ход свонали не лдает, А веселетыты и предсётращем-ны. Хоть недом — тряёл без задивается. ...Ох, в конён не сстататься \n",
      "----------------------------------------------------------------------------------------------------\n",
      "\n"
     ]
    }
   ],
   "source": [
    "res = []\n",
    "for _ in range(2 if not SKIP else 1):\n",
    "    length = round(np.random.randn() * np.sqrt(500) + 800)\n",
    "    res.append(bpe_lyrics_generator.generate(seed_phrase=\"Привет\", temperature=1.0, length=length))\n",
    "    print(res[-1], \"\\n\" + \"-\"*100 + \"\\n\")"
   ]
  },
  {
   "cell_type": "code",
   "execution_count": 46,
   "metadata": {},
   "outputs": [],
   "source": [
    "with open(\"./lyrics.txt\", \"a\") as f:\n",
    "    for lines in res:\n",
    "        f.write(\"\\n\")\n",
    "        f.write(lines)\n",
    "        f.write(\"\\n\"+ \"-\"*100 + \"\\n\")"
   ]
  }
 ],
 "metadata": {
  "interpreter": {
   "hash": "75291dc0307ea48294888123147845d2e15abd18d38848ca6ac05a6fe8c88425"
  },
  "kernelspec": {
   "display_name": "Python 3.9.11 ('py39')",
   "language": "python",
   "name": "python3"
  },
  "language_info": {
   "codemirror_mode": {
    "name": "ipython",
    "version": 3
   },
   "file_extension": ".py",
   "mimetype": "text/x-python",
   "name": "python",
   "nbconvert_exporter": "python",
   "pygments_lexer": "ipython3",
   "version": "3.9.11"
  },
  "orig_nbformat": 4
 },
 "nbformat": 4,
 "nbformat_minor": 2
}
